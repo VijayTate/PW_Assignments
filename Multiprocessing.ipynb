{
 "cells": [
  {
   "cell_type": "markdown",
   "id": "b843f527-b122-45c8-a2e8-eda7ef77ce65",
   "metadata": {},
   "source": [
    "Q1. What is multiprocessing in python? Why is it useful?"
   ]
  },
  {
   "cell_type": "markdown",
   "id": "160ffea0-74e6-4249-9dcc-dcb9150f1505",
   "metadata": {},
   "source": [
    "Multiprocessing in Python refers to the capability of running multiple processes concurrently to achieve parallel execution. It allows programs to utilize multiple processors or cores of a system to perform tasks simultaneously, thereby improving performance and efficiency.\n",
    "\n",
    "Multiprocessing is useful for several reasons:\n",
    "\n",
    "(1) Improved Performance: By utilizing multiple processes, multiprocessing can take advantage of the available CPU cores, leading to improved performance and faster execution of tasks. It is particularly beneficial for computationally intensive or CPU-bound tasks.\n",
    "\n",
    "(2) Parallel Execution: With multiprocessing, tasks can be executed in parallel, where different processes perform independent operations simultaneously. This parallelism increases overall efficiency and reduces the time required to complete tasks.\n",
    "\n",
    "(3) Resource Utilization: Multiprocessing allows for efficient utilization of system resources, including CPU cores, memory, and I/O. It enables efficient distribution of work across multiple processes, maximizing resource utilization and system throughput.\n",
    "\n",
    "(4) Handling Blocking Operations: Multiprocessing can be beneficial when dealing with tasks involving blocking operations, such as I/O operations or network requests. By running these operations in separate processes, the main program can continue execution without waiting for the completion of each operation.\n",
    "\n",
    "(5) Fault Isolation: Each process in multiprocessing operates independently, running in its own memory space. This isolation provides robustness and fault tolerance, as a crash or exception in one process does not affect the execution of other processes. It enhances the stability and reliability of the overall system."
   ]
  },
  {
   "cell_type": "code",
   "execution_count": null,
   "id": "4532adc8-cad0-4eb3-b523-8cc6ada8a9be",
   "metadata": {},
   "outputs": [],
   "source": []
  },
  {
   "cell_type": "code",
   "execution_count": null,
   "id": "fec0b60d-d93c-4678-b87a-155a229fd1f9",
   "metadata": {},
   "outputs": [],
   "source": []
  },
  {
   "cell_type": "markdown",
   "id": "b629449b-2533-4254-93ca-c15e15ca120c",
   "metadata": {},
   "source": [
    "Q2. What are the differences between multiprocessing and multithreading?"
   ]
  },
  {
   "cell_type": "markdown",
   "id": "95de769e-207c-4506-b768-4bb7674b43e4",
   "metadata": {},
   "source": [
    "The main differences between multiprocessing and multithreading in Python are as follows:\n",
    "\n",
    "Concept: In multiprocessing, multiple processes are created and run concurrently, each with its own memory space and resources. In multithreading, multiple threads are created within a single process and share the same memory space.\n",
    "\n",
    "Execution: In multiprocessing, processes can run on different CPU cores or processors, achieving true parallelism. In multithreading, threads run within the same process and share the resources of that process, executing concurrently but not in parallel.\n",
    "\n",
    "Isolation: Each process in multiprocessing has its own memory space, which provides strong isolation between processes. In multithreading, threads share the same memory space, making it easier to share data between threads but also increasing the risk of race conditions and synchronization issues.\n",
    "\n",
    "Resource Consumption: Multiprocessing typically consumes more system resources, such as memory, compared to multithreading. Creating and managing processes require more overhead compared to threads.\n",
    "\n",
    "Communication: Inter-process communication (IPC) is used for communication between processes in multiprocessing. This can include mechanisms like pipes, queues, and shared memory. In multithreading, threads can communicate directly by sharing data within the same memory space.\n",
    "\n",
    "Complexity: Multiprocessing can be more complex to implement and manage compared to multithreading due to the need for synchronization mechanisms and handling shared resources. Multithreading is generally simpler to implement and has lower overhead.\n",
    "\n",
    "Fault Isolation: In multiprocessing, if one process crashes or encounters an error, it does not affect other processes. In multithreading, if one thread crashes or encounters an error, it can potentially crash the entire process.\n",
    "\n",
    "The choice between multiprocessing and multithreading depends on the specific requirements of the application. Multiprocessing is well-suited for CPU-intensive tasks that can benefit from true parallelism, while multithreading is suitable for I/O-bound tasks and scenarios where sharing data between threads is necessary."
   ]
  },
  {
   "cell_type": "code",
   "execution_count": null,
   "id": "2db4c36e-a03e-4ec1-8bb1-f8b93efa3641",
   "metadata": {},
   "outputs": [],
   "source": []
  },
  {
   "cell_type": "code",
   "execution_count": null,
   "id": "e35c686f-1fad-48cc-9f2c-6128b75815eb",
   "metadata": {},
   "outputs": [],
   "source": []
  },
  {
   "cell_type": "markdown",
   "id": "c49d5a62-1ba1-453b-b0af-090de78c080b",
   "metadata": {},
   "source": [
    "Q3. Write a python code to create a process using the multiprocessing module."
   ]
  },
  {
   "cell_type": "code",
   "execution_count": 1,
   "id": "83edb7ea-df1e-4a7c-9c0f-cf49a9d3d2f8",
   "metadata": {},
   "outputs": [
    {
     "name": "stdout",
     "output_type": "stream",
     "text": [
      "The square of 5 is 25\n"
     ]
    }
   ],
   "source": [
    "import multiprocessing\n",
    "\n",
    "def worker(num):\n",
    "       result = num * num\n",
    "       print(f\"The square of {num} is {result}\")\n",
    "\n",
    "if __name__ == \"__main__\":\n",
    "    process = multiprocessing.Process(target=worker, args=(5,))\n",
    "\n",
    "    process.start()\n",
    "    process.join()"
   ]
  },
  {
   "cell_type": "code",
   "execution_count": null,
   "id": "55542989-c293-4626-aa7a-4ac15c27f6c6",
   "metadata": {},
   "outputs": [],
   "source": []
  },
  {
   "cell_type": "code",
   "execution_count": null,
   "id": "5374a874-a060-464c-be67-29803072bca5",
   "metadata": {},
   "outputs": [],
   "source": []
  },
  {
   "cell_type": "markdown",
   "id": "c6a302f5-5228-47e5-b0cf-e9335320ffed",
   "metadata": {},
   "source": [
    "Q4. What is a multiprocessing pool in python? Why is it used?"
   ]
  },
  {
   "cell_type": "markdown",
   "id": "a2e2d8cf-2afd-4323-9cc9-0ab9c20f5df9",
   "metadata": {},
   "source": [
    "In Python, a multiprocessing pool is a feature provided by the multiprocessing module that allows you to efficiently distribute tasks across multiple processes. It provides a way to parallelize the execution of a function by creating a pool of worker processes that can execute tasks concurrently.\n",
    "\n",
    "A multiprocessing pool is useful in scenarios where you need to perform a large number of independent tasks that can be executed in parallel. \n",
    "\n",
    "The key advantages of multiprocessing pool are:\n",
    "\n",
    "Parallel Execution: By utilizing multiple processes, a pool allows tasks to be executed in parallel, which can significantly speed up the overall execution time when dealing with CPU-bound or computationally intensive tasks.\n",
    "\n",
    "Task Distribution: The pool automatically distributes the tasks among the available processes, ensuring efficient utilization of system resources. It handles the task scheduling and process management internally, making it easier to work with parallelism.\n",
    "\n",
    "Simplified API: The multiprocessing pool provides a high-level API that simplifies the process of parallelizing tasks. It abstracts away the complexities of managing individual processes and provides a more intuitive interface for submitting and retrieving results from the pool.\n"
   ]
  },
  {
   "cell_type": "code",
   "execution_count": null,
   "id": "62c77546-06a2-45c9-8d8f-dc570ed807ef",
   "metadata": {},
   "outputs": [],
   "source": []
  },
  {
   "cell_type": "code",
   "execution_count": null,
   "id": "0503e366-e8b5-4e17-966a-31efe7d39e04",
   "metadata": {},
   "outputs": [],
   "source": []
  },
  {
   "cell_type": "markdown",
   "id": "fd0d723b-e900-4f9d-83a6-96f780030c42",
   "metadata": {},
   "source": [
    "Q5. How can we create a pool of worker processes in python using the multiprocessing module?"
   ]
  },
  {
   "cell_type": "markdown",
   "id": "4fed2a5a-7483-43b3-bce6-b7ab33896a55",
   "metadata": {},
   "source": [
    "In Python, you can create a pool of worker processes using the multiprocessing.Pool class from the multiprocessing module. The Pool class provides a convenient way to parallelize the execution of tasks by managing a pool of worker processes.\n",
    "Example:"
   ]
  },
  {
   "cell_type": "code",
   "execution_count": 7,
   "id": "3b8bb34d-778a-4416-971c-627dc395574c",
   "metadata": {},
   "outputs": [
    {
     "name": "stdout",
     "output_type": "stream",
     "text": [
      "[1, 4, 9, 16, 25]\n"
     ]
    }
   ],
   "source": [
    "import multiprocessing\n",
    "\n",
    "def square(number):\n",
    "    return number * number\n",
    "\n",
    "if __name__ == \"__main__\":\n",
    "    # Create a multiprocessing pool with 4 worker processes\n",
    "    pool = multiprocessing.Pool(processes=4)\n",
    "\n",
    "    # Generate a list of numbers\n",
    "    numbers = [1, 2, 3, 4, 5]\n",
    "\n",
    "    # Apply the square function to each number in parallel using the pool\n",
    "    results = pool.map(square, numbers)\n",
    "\n",
    "    # Print the results\n",
    "    print(results)\n",
    "    "
   ]
  },
  {
   "cell_type": "code",
   "execution_count": null,
   "id": "134b0fee-9af1-474b-bea6-4e826a02b6cc",
   "metadata": {},
   "outputs": [],
   "source": []
  },
  {
   "cell_type": "code",
   "execution_count": null,
   "id": "3604d8a8-d916-463d-878d-8f3287ed41c6",
   "metadata": {},
   "outputs": [],
   "source": []
  },
  {
   "cell_type": "markdown",
   "id": "7dd58e7c-0ebd-47e0-92ad-07d7e608977f",
   "metadata": {},
   "source": [
    "Q6. Write a python program to create 4 processes, each process should print a different number using the\n",
    "multiprocessing module in python."
   ]
  },
  {
   "cell_type": "code",
   "execution_count": 8,
   "id": "06ed1779-c8f8-4f2a-9031-8cebf6d2fdc2",
   "metadata": {},
   "outputs": [
    {
     "name": "stdout",
     "output_type": "stream",
     "text": [
      "Process 0: My number is 0\n",
      "Process 1: My number is 1\n",
      "Process 2: My number is 2\n",
      "Process 3: My number is 3\n"
     ]
    }
   ],
   "source": [
    "import multiprocessing\n",
    "\n",
    "def print_number(number):\n",
    "    print(f\"Process {number}: My number is {number}\")\n",
    "\n",
    "if __name__ == \"__main__\":\n",
    "    processes = []\n",
    "\n",
    "    for i in range(4):\n",
    "        process = multiprocessing.Process(target=print_number, args=(i,))\n",
    "        processes.append(process)\n",
    "        process.start()\n",
    "        process.join()"
   ]
  }
 ],
 "metadata": {
  "kernelspec": {
   "display_name": "Python 3 (ipykernel)",
   "language": "python",
   "name": "python3"
  },
  "language_info": {
   "codemirror_mode": {
    "name": "ipython",
    "version": 3
   },
   "file_extension": ".py",
   "mimetype": "text/x-python",
   "name": "python",
   "nbconvert_exporter": "python",
   "pygments_lexer": "ipython3",
   "version": "3.10.8"
  }
 },
 "nbformat": 4,
 "nbformat_minor": 5
}
