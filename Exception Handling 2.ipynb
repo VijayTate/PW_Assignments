{
 "cells": [
  {
   "cell_type": "markdown",
   "id": "53a498c1-fd09-4ddf-a6e6-8eca0acbea62",
   "metadata": {},
   "source": [
    "Q1. Explain why we have to use the Exception class while creating a Custom Exception.\n",
    "Note: Here Exception class refers to the base class for all the exceptions."
   ]
  },
  {
   "cell_type": "markdown",
   "id": "034220a7-a341-4b8e-9ce2-4566f1ce4d60",
   "metadata": {},
   "source": [
    "In Python, the Exception class serves as the base class for all exceptions. When creating a custom exception, it is important to inherit from the Exception class to ensure that the custom exception inherits all the essential properties and behaviors of an exception.\n",
    "We use the Exception class as the base class for custom exceptions for the following reasons:\n",
    "\n",
    "(1) Consistency: By inheriting from the Exception class, ensures consistency in the way exceptions are defined and handled throughout the codebase.\n",
    "\n",
    "(2) Error Handling: The Exception class provides a set of common methods and attributes that are useful for handling and propagating exceptions. By inheriting from the Exception class, our custom exception inherits these methods and attributes, making it easier to handle and process exceptions consistently.\n",
    "\n",
    "(3) Exception Hierarchy: The Exception class is part of the larger exception hierarchy in Python, which includes more specific exception classes like ValueError, TypeError, FileNotFoundError, etc. By inheriting from the Exception class, our custom exception becomes a part of this hierarchy, allowing us to catch and handle it alongside other related exceptions if needed.\n",
    "\n",
    "(4) Compatibility: Inheriting from the Exception class ensures compatibility with existing exception handling mechanisms and libraries in Python. It allows our custom exception to be caught and handled by generic except blocks, specific exception types, or even custom exception handlers."
   ]
  },
  {
   "cell_type": "code",
   "execution_count": null,
   "id": "5c55972a-4d97-49a0-ba66-dcd7759ab49b",
   "metadata": {},
   "outputs": [],
   "source": []
  },
  {
   "cell_type": "code",
   "execution_count": null,
   "id": "d0fe4a60-0d75-4c7e-9534-effc58159564",
   "metadata": {},
   "outputs": [],
   "source": []
  },
  {
   "cell_type": "markdown",
   "id": "68a7a025-6f8b-4808-8a87-691f5e5bfeb5",
   "metadata": {},
   "source": [
    "Q2. Write a python program to print Python Exception Hierarchy."
   ]
  },
  {
   "cell_type": "code",
   "execution_count": null,
   "id": "937d4c9c-3635-4fc3-8b9f-75f8638290c7",
   "metadata": {},
   "outputs": [],
   "source": [
    "def print_exception_hierarchy(exception_class, level=0):\n",
    "    indent = ' ' * level\n",
    "    print(f'{indent}{exception_class.__name__}')\n",
    "    for subclass in exception_class.__subclasses__():\n",
    "        print_exception_hierarchy(subclass, level + 1)\n",
    "\n",
    "\n",
    "print_exception_hierarchy(Exception)"
   ]
  },
  {
   "cell_type": "code",
   "execution_count": null,
   "id": "e9cdcde7-b133-4baf-9dca-4a6975913f9b",
   "metadata": {},
   "outputs": [],
   "source": []
  },
  {
   "cell_type": "code",
   "execution_count": null,
   "id": "81e64991-ea2d-4734-8cfd-e281da0effb0",
   "metadata": {},
   "outputs": [],
   "source": []
  },
  {
   "cell_type": "markdown",
   "id": "7219c574-dcbf-4e34-8670-95c0af163312",
   "metadata": {},
   "source": [
    "Q3. What errors are defined in the ArithmeticError class? Explain any two with an example."
   ]
  },
  {
   "cell_type": "markdown",
   "id": "9b68d758-7e7d-4200-9135-42b3b1837085",
   "metadata": {},
   "source": [
    "The ArithmeticError class is a base class for arithmetic-related exceptions in Python. It encompasses various errors that can occur during arithmetic operations. \n",
    "Example:\n",
    "\n",
    "(1) ZeroDivisionError: This error occurs when division or modulo operation is performed with zero as the divisor. "
   ]
  },
  {
   "cell_type": "code",
   "execution_count": 2,
   "id": "c1c2a61a-1e97-4374-a428-e8fb15ee7975",
   "metadata": {},
   "outputs": [
    {
     "name": "stdout",
     "output_type": "stream",
     "text": [
      "Error: Division by zero!\n"
     ]
    }
   ],
   "source": [
    "try:\n",
    "    result = 10 / 0\n",
    "except ZeroDivisionError:\n",
    "    print(\"Error: Division by zero!\")"
   ]
  },
  {
   "cell_type": "markdown",
   "id": "9f4cc69d-bad8-4514-9896-9f7c1546d740",
   "metadata": {},
   "source": [
    "(2) OverflowError: This error occurs when an arithmetic operation exceeds the maximum representable value for a numeric type. "
   ]
  },
  {
   "cell_type": "code",
   "execution_count": 4,
   "id": "d191835f-5809-41fb-8b12-5ceb4d6d9a93",
   "metadata": {},
   "outputs": [],
   "source": [
    "import sys\n",
    "\n",
    "try:\n",
    "    result = sys.maxsize ** 10\n",
    "except OverflowError:\n",
    "    print(\"Error: Arithmetic operation resulted in overflow!\")"
   ]
  },
  {
   "cell_type": "code",
   "execution_count": null,
   "id": "5ee0c12a-c347-4a70-b31a-d05098c90247",
   "metadata": {},
   "outputs": [],
   "source": []
  },
  {
   "cell_type": "code",
   "execution_count": null,
   "id": "ab78b80c-ea75-4770-a0a6-68cb0048be01",
   "metadata": {},
   "outputs": [],
   "source": []
  },
  {
   "cell_type": "markdown",
   "id": "66ffd4f8-8e3e-422b-98f9-537e7f687ca6",
   "metadata": {},
   "source": [
    "Q4. Why LookupError class is used? Explain with an example KeyError and IndexError."
   ]
  },
  {
   "cell_type": "markdown",
   "id": "47656b2c-c9bf-4182-8e03-031cd6622d35",
   "metadata": {},
   "source": [
    "The LookupError class in Python is a base class for exceptions related to lookup operations, particularly when accessing elements or keys in a collection. It serves as a superclass for more specific lookup-related exceptions, such as KeyError and IndexError.\n",
    "\n",
    "(1) KeyError: This error occurs when a dictionary key or a set element is not found during a lookup operation. It indicates that the requested key or element does not exist in the collection.\n",
    "Example:"
   ]
  },
  {
   "cell_type": "code",
   "execution_count": 5,
   "id": "70a74b3f-fa76-403d-b3b8-b771ba86302d",
   "metadata": {},
   "outputs": [
    {
     "name": "stdout",
     "output_type": "stream",
     "text": [
      "Error: Key not found!\n"
     ]
    }
   ],
   "source": [
    "my_dict = {\"apple\": 3, \"banana\": 5, \"orange\": 2}\n",
    "\n",
    "try:\n",
    "    count = my_dict[\"grape\"]\n",
    "except KeyError:\n",
    "    print(\"Error: Key not found!\")"
   ]
  },
  {
   "cell_type": "markdown",
   "id": "2422a453-bc4a-469e-ad5e-0da83bd8f1b5",
   "metadata": {},
   "source": [
    "(2) IndexError: This error occurs when attempting to access a sequence (e.g., list, tuple, string) with an invalid index or slice. It indicates that the requested index is out of range or does not exist in the sequence.\n",
    "Example:"
   ]
  },
  {
   "cell_type": "code",
   "execution_count": 6,
   "id": "2046ed96-08fe-4664-888c-fb7321613d00",
   "metadata": {},
   "outputs": [
    {
     "name": "stdout",
     "output_type": "stream",
     "text": [
      "Error: Index out of range!\n"
     ]
    }
   ],
   "source": [
    "my_list = [1, 2, 3, 4, 5]\n",
    "\n",
    "try:\n",
    "    value = my_list[10]\n",
    "except IndexError:\n",
    "    print(\"Error: Index out of range!\")\n"
   ]
  },
  {
   "cell_type": "code",
   "execution_count": null,
   "id": "f8a2a399-54bd-4a02-b17b-e6dced100489",
   "metadata": {},
   "outputs": [],
   "source": []
  },
  {
   "cell_type": "code",
   "execution_count": null,
   "id": "77833f5e-d9a0-4682-8b5c-b5569ee27a5d",
   "metadata": {},
   "outputs": [],
   "source": []
  },
  {
   "cell_type": "markdown",
   "id": "42580e4b-a70b-4dee-9129-5e5859e2de52",
   "metadata": {},
   "source": [
    "Q5. Explain ImportError. What is ModuleNotFoundError?"
   ]
  },
  {
   "cell_type": "markdown",
   "id": "da72d2ce-bfdc-4482-9e6c-d57eabf485f2",
   "metadata": {},
   "source": [
    "In Python, ImportError and ModuleNotFoundError are both exceptions related to importing modules.\n",
    "\n",
    "(1) ImportError: This exception is raised when an import statement fails to find and import a module. It can occur due to :\n",
    "\n",
    "The module name is misspelled or does not exist.\n",
    "The module is not installed or cannot be located in the Python environment.\n",
    "The module's dependencies are not satisfied.\n",
    "\n",
    "Example:\n"
   ]
  },
  {
   "cell_type": "code",
   "execution_count": 7,
   "id": "f0ffafdc-d2da-4ce8-8c1e-78174cf1cb68",
   "metadata": {},
   "outputs": [
    {
     "name": "stdout",
     "output_type": "stream",
     "text": [
      "Error: Failed to import module!\n"
     ]
    }
   ],
   "source": [
    "try:\n",
    "    import non_existing_module\n",
    "except ImportError:\n",
    "    print(\"Error: Failed to import module!\")"
   ]
  },
  {
   "cell_type": "markdown",
   "id": "d05ed528-fd8f-4b9e-859c-209eaeae0ff3",
   "metadata": {},
   "source": [
    "(2) ModuleNotFoundError: This exception is a subclass of ImportError and is specifically raised when a module cannot be found or imported. \n",
    "Example:"
   ]
  },
  {
   "cell_type": "code",
   "execution_count": 8,
   "id": "5da77c0f-220e-4937-86f9-c6f5b095e6bb",
   "metadata": {},
   "outputs": [
    {
     "name": "stdout",
     "output_type": "stream",
     "text": [
      "Error: Module 'non_existing_module' not found!\n"
     ]
    }
   ],
   "source": [
    "try:\n",
    "    import non_existing_module\n",
    "except ModuleNotFoundError as error:\n",
    "    print(f\"Error: Module '{error.name}' not found!\")"
   ]
  },
  {
   "cell_type": "code",
   "execution_count": null,
   "id": "a12638f0-234b-4ed5-8fbe-a95a0d53ad1e",
   "metadata": {},
   "outputs": [],
   "source": []
  },
  {
   "cell_type": "code",
   "execution_count": null,
   "id": "36607ad3-4302-42b3-8374-a1f74b72c7b4",
   "metadata": {},
   "outputs": [],
   "source": []
  },
  {
   "cell_type": "markdown",
   "id": "bab79da0-bd4a-4db7-8a9a-ca72079aab3a",
   "metadata": {},
   "source": [
    "Q6. List down some best practices for exception handling in python."
   ]
  },
  {
   "cell_type": "markdown",
   "id": "a15a3770-1e49-42c8-b481-d17987349760",
   "metadata": {},
   "source": [
    "(1) Be specific with exception handling: Avoid using a broad except clause that catches all exceptions, as it can hide unexpected errors.\n",
    "\n",
    "(2) Use multiple except blocks: If you need to handle different exceptions differently, use multiple except blocks to catch specific exceptions and provide appropriate handling for each.\n",
    "\n",
    "(3) Handle exceptions: When an exception occurs, handle it by providing meaningful error messages or taking appropriate actions to recover from the error. Avoid letting exceptions propagate without any handling, as it can lead to program crashes or undesired behavior.\n",
    "\n",
    "(4) Use finally block for cleanup: Use a finally block to execute cleanup code that should run regardless of whether an exception occurred or not. This is useful for releasing resources, closing files, or cleaning up any allocated memory.\n",
    "\n",
    "(5) Don't catch exceptions silently: Avoid catching exceptions without any handling or logging. If an exception occurs and you choose to catch it, ensure that you log the error.\n",
    "\n",
    "(6) Use specific exception types: Whenever possible, catch specific exception types instead of using generic exceptions. This helps in understanding the type of error that occurred and provides more targeted handling.\n",
    "\n",
    "(7) Avoid excessive exception handling: Do not place try-except blocks around every line of code. Instead, identify the specific areas where exceptions are likely to occur and focus your exception handling there. Overusing exception handling can make the code harder to read and maintain.\n",
    "\n",
    "(8) Log exceptions: Consider logging exceptions using a logging library. Logging exceptions can provide valuable information for debugging and troubleshooting issues in the code.\n",
    "\n",
    "(9) Document exceptions: Document the exceptions that can be raised by your code, including the conditions under which they occur and how they should be handled. This helps other developers who use your code to understand the expected behavior and handle exceptions appropriately.\n",
    "\n",
    "(10) Test exception scenarios: Write unit tests to cover different exception scenarios in your code. Ensure that the code behaves as expected when exceptions are raised and handled."
   ]
  }
 ],
 "metadata": {
  "kernelspec": {
   "display_name": "Python 3 (ipykernel)",
   "language": "python",
   "name": "python3"
  },
  "language_info": {
   "codemirror_mode": {
    "name": "ipython",
    "version": 3
   },
   "file_extension": ".py",
   "mimetype": "text/x-python",
   "name": "python",
   "nbconvert_exporter": "python",
   "pygments_lexer": "ipython3",
   "version": "3.10.8"
  }
 },
 "nbformat": 4,
 "nbformat_minor": 5
}
