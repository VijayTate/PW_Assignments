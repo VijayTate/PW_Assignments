{
 "cells": [
  {
   "cell_type": "markdown",
   "id": "08b15d09-0a47-4808-bdd5-802fb7e1bae3",
   "metadata": {},
   "source": [
    "ASSIGNMENT-2 "
   ]
  },
  {
   "cell_type": "markdown",
   "id": "9ab3f119-feae-43ad-8c21-173e19624544",
   "metadata": {},
   "source": [
    "Q1. How do you comment code in Python? What are the different types of comments?"
   ]
  },
  {
   "cell_type": "markdown",
   "id": "12d2c55d-7115-45e3-becf-0600248f1c06",
   "metadata": {},
   "source": [
    "In Python, comments are used to add explanatory or descriptive text within the code that is not executed as part of the program. They help in improving code readability, documenting code, and making notes. Python supports two types of comments:"
   ]
  },
  {
   "cell_type": "markdown",
   "id": "adf951a5-1882-4e23-adf1-3506bfda2bda",
   "metadata": {},
   "source": [
    "(1) Single-line comments: Single-line comments begin with the # symbol and continue until the end of the line. They are used to comment on a single line of code or provide a brief explanation.\n",
    "\n",
    "Example:"
   ]
  },
  {
   "cell_type": "code",
   "execution_count": 33,
   "id": "9c441f8f-85af-4885-9795-ebc5a5b8dde2",
   "metadata": {},
   "outputs": [],
   "source": [
    "# This is a single-line comment"
   ]
  },
  {
   "cell_type": "markdown",
   "id": "98166055-500c-49ea-a981-504fc7e2d710",
   "metadata": {},
   "source": [
    "(2) Multi-line comments: Multi-line comments, are used to comment on multiple lines of code or provide more detailed explanations by using triple quotes (''' or \"\"\") to create multi-line strings as comments. \n",
    "\n",
    "Example:"
   ]
  },
  {
   "cell_type": "code",
   "execution_count": null,
   "id": "7a4562c1-b777-4a84-8d94-a888b783169e",
   "metadata": {},
   "outputs": [],
   "source": [
    "\"\"\"\n",
    "\n",
    "This is a multi-line comment.\n",
    "These lines are not executed as code.\n",
    "\n",
    "\"\"\""
   ]
  },
  {
   "cell_type": "markdown",
   "id": "aea74505-ce16-4cf8-ae80-1beb3f5feb33",
   "metadata": {},
   "source": [
    "Comments are not executed and do not affect the program's functionality. They are solely for our understanding and communication within the code."
   ]
  },
  {
   "cell_type": "code",
   "execution_count": null,
   "id": "f3a47071-3f80-42f4-ab58-c79c289604fc",
   "metadata": {},
   "outputs": [],
   "source": []
  },
  {
   "cell_type": "code",
   "execution_count": null,
   "id": "0636a9a6-181f-4d59-9dc4-bbdd008b011e",
   "metadata": {},
   "outputs": [],
   "source": []
  },
  {
   "cell_type": "markdown",
   "id": "40ce2e43-2d3a-499f-af58-2d5e35e04560",
   "metadata": {},
   "source": [
    "Q2. What are variables in Python? How do you declare and assign values to variables?"
   ]
  },
  {
   "cell_type": "markdown",
   "id": "eef16309-5cdd-4247-8e63-a78f0f51e1a5",
   "metadata": {},
   "source": [
    "In Python, variables are used to store and manipulate data. They act as containers that hold values, allowing us to access and modify the data throughout the program. Variables can store various types of data, including numbers, strings, lists, or more complex objects.\n",
    "To declare and assign values to variables in Python:\n",
    "\n",
    "(1) Variable declaration: In Python, we can simply assign a value to a variable, and Python will automatically determine its type based on the assigned value.\n",
    "\n",
    "(2) Variable assignment: To assign a value to a variable, use the assignment operator (=). The variable is written on the left side of the operator, and the value to assign is on the right side.\n",
    "\n",
    "Example:"
   ]
  },
  {
   "cell_type": "code",
   "execution_count": 11,
   "id": "be06f91d-db6e-47a0-842a-7133cbf3710d",
   "metadata": {},
   "outputs": [],
   "source": [
    "# Variable declaration and assignment\n",
    "age = 25"
   ]
  },
  {
   "cell_type": "markdown",
   "id": "f28fc4df-00b4-4031-9325-12e4141d7b7f",
   "metadata": {},
   "source": [
    "There are some rules When naming variables in Python:\n",
    "\n",
    "(a) Variable names can consist of letters (a-z, A-Z), digits (0-9), and underscores (_).\n",
    "(b) The first character of a variable name cannot be a digit.\n",
    "(c) Variable names are case-sensitive, so age and Age are considered different variables.\n",
    "(d) Avoid using reserved keywords as variable names (e.g., if, for, while, etc.)."
   ]
  },
  {
   "cell_type": "code",
   "execution_count": null,
   "id": "5841cda0-c4f6-4216-907e-791c2b00ba62",
   "metadata": {},
   "outputs": [],
   "source": []
  },
  {
   "cell_type": "code",
   "execution_count": null,
   "id": "cfd2f323-8679-436c-a0c7-c04c44661132",
   "metadata": {},
   "outputs": [],
   "source": []
  },
  {
   "cell_type": "markdown",
   "id": "9fdad2ab-1aaa-4052-a714-6dd7558a1915",
   "metadata": {},
   "source": [
    "Q3. How do you convert one data type to another in Python?"
   ]
  },
  {
   "cell_type": "markdown",
   "id": "1fec28e9-e033-45b4-b75d-f30d8017d21e",
   "metadata": {},
   "source": [
    "In Python, we can convert one data type to another using type conversion functions or methods. \n",
    "Examples:"
   ]
  },
  {
   "cell_type": "code",
   "execution_count": 12,
   "id": "0dc66956-bb27-4ac6-869e-5f86d3b46567",
   "metadata": {},
   "outputs": [
    {
     "name": "stdout",
     "output_type": "stream",
     "text": [
      "10\n"
     ]
    }
   ],
   "source": [
    "# int(): Converts a value to an integer data type.\n",
    "str = \"10\"\n",
    "int = int(str)\n",
    "print(int) "
   ]
  },
  {
   "cell_type": "code",
   "execution_count": 13,
   "id": "4943deba-55d9-4979-837d-c3f984e87551",
   "metadata": {},
   "outputs": [
    {
     "name": "stdout",
     "output_type": "stream",
     "text": [
      "3.14\n"
     ]
    }
   ],
   "source": [
    "#float(): Converts a value to a floating-point data type.\n",
    "str = \"3.14\"\n",
    "float = float(str)\n",
    "print(float)"
   ]
  },
  {
   "cell_type": "code",
   "execution_count": 21,
   "id": "a2b39e28-ae3e-4176-9286-b54868c1a3a0",
   "metadata": {},
   "outputs": [
    {
     "name": "stdout",
     "output_type": "stream",
     "text": [
      "[1, 2, 3]\n"
     ]
    }
   ],
   "source": [
    "#list(): Converts an iterable (e.g., tuple, string, etc.) to a list.\n",
    "my_tuple = (1, 2, 3)\n",
    "my_list = list(my_tuple)\n",
    "print(my_list)"
   ]
  },
  {
   "cell_type": "code",
   "execution_count": 22,
   "id": "748dd2d6-a0b7-4ef6-81ef-2fc205edf759",
   "metadata": {},
   "outputs": [
    {
     "name": "stdout",
     "output_type": "stream",
     "text": [
      "False\n"
     ]
    }
   ],
   "source": [
    "#bool(): Converts a value to a boolean data type.\n",
    "num = 0\n",
    "is_valid = bool(num)\n",
    "print(is_valid)"
   ]
  },
  {
   "cell_type": "code",
   "execution_count": null,
   "id": "8d776c9e-4465-4a5b-9e66-cfed5cfed1ac",
   "metadata": {},
   "outputs": [],
   "source": []
  },
  {
   "cell_type": "code",
   "execution_count": null,
   "id": "fdbde250-86ac-4f1f-aad8-c90ab179049e",
   "metadata": {},
   "outputs": [],
   "source": []
  },
  {
   "cell_type": "markdown",
   "id": "a8ee33cb-9166-4c8f-a3cc-b245019221ef",
   "metadata": {},
   "source": [
    "Q.4 How do you write and execute a Python script from the command line?"
   ]
  },
  {
   "cell_type": "markdown",
   "id": "65f15b3d-f463-4bb9-a6b1-84715d178e91",
   "metadata": {},
   "source": [
    "Follow these steps To write and execute a Python script from the command line:\n",
    "\n",
    "(1) Open a text editor and write a Python script. For example, create a file called myscript.py and add the following code:"
   ]
  },
  {
   "cell_type": "code",
   "execution_count": null,
   "id": "eb521b0b-4567-4f7b-a7d0-5a825fa67c85",
   "metadata": {},
   "outputs": [],
   "source": [
    "print(\"Hello, world!\")"
   ]
  },
  {
   "cell_type": "markdown",
   "id": "6932a6b2-b9a5-4191-92fa-2dc2304257a1",
   "metadata": {},
   "source": [
    "(2) Save the file with a .py extension. In this case, save it as myscript.py.\n",
    "\n",
    "(3) Open the command prompt or terminal on your computer.\n",
    "\n",
    "(4) Navigate to the directory where you saved your Python script using the cd command. \n",
    "\n",
    "(5) Once you are in the correct directory, you can execute the Python script by typing python followed by the script's filename.\n",
    "\n",
    "(6) This will execute the Python script, and you should see the output in the command prompt or terminal:"
   ]
  },
  {
   "cell_type": "code",
   "execution_count": null,
   "id": "044096de-1b63-42b5-aa87-80bc8b6aaa49",
   "metadata": {},
   "outputs": [],
   "source": []
  },
  {
   "cell_type": "code",
   "execution_count": null,
   "id": "a70f1274-8662-4bb7-92fd-59aa668914e7",
   "metadata": {},
   "outputs": [],
   "source": []
  },
  {
   "cell_type": "markdown",
   "id": "1b13a763-5515-4a89-8c77-a95341fbeae8",
   "metadata": {},
   "source": [
    "Q.5 Given a list my_list = [1, 2, 3, 4, 5], write the code to slice the list and obtain the sub-list [2, 3]."
   ]
  },
  {
   "cell_type": "code",
   "execution_count": 24,
   "id": "aa8fd025-8a7a-4efd-97d1-f65c5f935717",
   "metadata": {},
   "outputs": [
    {
     "name": "stdout",
     "output_type": "stream",
     "text": [
      "[2, 3]\n"
     ]
    }
   ],
   "source": [
    "my_list = [1,2,3,4,5]\n",
    "print(my_list[1:3])"
   ]
  },
  {
   "cell_type": "code",
   "execution_count": null,
   "id": "d7968559-f4dc-4b5c-a2fd-918269515713",
   "metadata": {},
   "outputs": [],
   "source": []
  },
  {
   "cell_type": "code",
   "execution_count": null,
   "id": "804292d9-ec29-4e8e-a0a7-a428a3d88a27",
   "metadata": {},
   "outputs": [],
   "source": []
  },
  {
   "cell_type": "markdown",
   "id": "02b46cdf-73c8-4435-9694-7ab4e8214893",
   "metadata": {},
   "source": [
    "Q6. What is a complex number in mathematics, and how is it represented in Python?"
   ]
  },
  {
   "cell_type": "markdown",
   "id": "d3c7b62e-3d7d-4751-9ddc-9e3a3e3f429d",
   "metadata": {},
   "source": [
    "In mathematics, a complex number is a number that comprises a real part and an imaginary part. It is represented in the form \"a + bi\", where \"a\" is the real part, \"b\" is the imaginary part, and \"i\" is the imaginary unit (i.e., the square root of -1). Complex numbers are used to represent quantities that involve both real and imaginary components.\n",
    "\n",
    "In Python, complex numbers are also supported as a built-in data type. They can be represented using the complex() function or by directly specifying the real and imaginary parts. The imaginary part is represented by \"j\" in python.\n",
    "\n",
    "Examples of complex numbers in Python:"
   ]
  },
  {
   "cell_type": "code",
   "execution_count": 25,
   "id": "ed4ea71e-fade-4c33-bc5f-7c1a7f3ce96e",
   "metadata": {},
   "outputs": [
    {
     "data": {
      "text/plain": [
       "complex"
      ]
     },
     "execution_count": 25,
     "metadata": {},
     "output_type": "execute_result"
    }
   ],
   "source": [
    "z = 4 + 2j\n",
    "type(z)"
   ]
  },
  {
   "cell_type": "code",
   "execution_count": null,
   "id": "8aea8a80-056b-4fe1-aa33-e2eae509763e",
   "metadata": {},
   "outputs": [],
   "source": []
  },
  {
   "cell_type": "code",
   "execution_count": null,
   "id": "7329ca2c-bc8d-449a-a935-4e0912303ad9",
   "metadata": {},
   "outputs": [],
   "source": []
  },
  {
   "cell_type": "markdown",
   "id": "6eedcccf-024f-423c-b351-27b95b900d60",
   "metadata": {},
   "source": [
    "Q7. What is the correct way to declare a variable named age and assign the value 25 to it?"
   ]
  },
  {
   "cell_type": "code",
   "execution_count": 26,
   "id": "87c2b40d-4282-44bf-8f8d-bf5438335a0e",
   "metadata": {},
   "outputs": [
    {
     "name": "stdout",
     "output_type": "stream",
     "text": [
      "25\n"
     ]
    }
   ],
   "source": [
    "age = 25\n",
    "print(age)"
   ]
  },
  {
   "cell_type": "code",
   "execution_count": null,
   "id": "19986c2e-b791-4bca-b1bf-2c7ef0e47e44",
   "metadata": {},
   "outputs": [],
   "source": []
  },
  {
   "cell_type": "code",
   "execution_count": null,
   "id": "fc834611-db24-4b56-af13-b329a7792ad2",
   "metadata": {},
   "outputs": [],
   "source": []
  },
  {
   "cell_type": "markdown",
   "id": "aacf2695-b5ad-4c3c-96ac-695e62190b2d",
   "metadata": {},
   "source": [
    "Q8. Declare a variable named price and assign the value 9.99 to it. What data type does this variable\n",
    "belong to?"
   ]
  },
  {
   "cell_type": "code",
   "execution_count": 27,
   "id": "38e77680-4525-46c9-a593-5e069bde9e05",
   "metadata": {},
   "outputs": [
    {
     "data": {
      "text/plain": [
       "float"
      ]
     },
     "execution_count": 27,
     "metadata": {},
     "output_type": "execute_result"
    }
   ],
   "source": [
    "price = 9.99\n",
    "type(price)"
   ]
  },
  {
   "cell_type": "code",
   "execution_count": null,
   "id": "fbffae65-65c4-4b7f-9489-73de84f5412a",
   "metadata": {},
   "outputs": [],
   "source": []
  },
  {
   "cell_type": "code",
   "execution_count": null,
   "id": "ff321713-e04b-4ee9-a7da-d4bd7080df07",
   "metadata": {},
   "outputs": [],
   "source": []
  },
  {
   "cell_type": "markdown",
   "id": "af3890a3-d65f-4589-a053-9a2044e64b1f",
   "metadata": {},
   "source": [
    "Q9. Create a variable named name and assign your full name to it as a string. How would you print the\n",
    "value of this variable?"
   ]
  },
  {
   "cell_type": "code",
   "execution_count": 28,
   "id": "cad429ac-e14c-4864-8498-08a02d04893d",
   "metadata": {},
   "outputs": [
    {
     "name": "stdout",
     "output_type": "stream",
     "text": [
      "Vijay Tate\n"
     ]
    }
   ],
   "source": [
    "name = \"Vijay Tate\"\n",
    "print(name)"
   ]
  },
  {
   "cell_type": "code",
   "execution_count": null,
   "id": "3de0c7eb-2dc4-4c28-a414-dfbdf885f408",
   "metadata": {},
   "outputs": [],
   "source": []
  },
  {
   "cell_type": "code",
   "execution_count": null,
   "id": "cbf60964-14cb-4b27-a3bf-0d24213ca1be",
   "metadata": {},
   "outputs": [],
   "source": []
  },
  {
   "cell_type": "markdown",
   "id": "17447039-63ee-492c-b872-256c197ae299",
   "metadata": {},
   "source": [
    "Q10. Given the string \"Hello, World!\", extract the substring \"World\"."
   ]
  },
  {
   "cell_type": "code",
   "execution_count": 29,
   "id": "3be6d16f-8903-4d4d-9425-d5a2a5788a38",
   "metadata": {},
   "outputs": [
    {
     "name": "stdout",
     "output_type": "stream",
     "text": [
      "World\n"
     ]
    }
   ],
   "source": [
    "string = \"Hello, World!\"\n",
    "print(string[7:12])"
   ]
  },
  {
   "cell_type": "code",
   "execution_count": null,
   "id": "92344936-1180-4465-9865-905d3d979f7d",
   "metadata": {},
   "outputs": [],
   "source": []
  },
  {
   "cell_type": "code",
   "execution_count": null,
   "id": "18d74f08-b0d6-4814-8bad-a84c776792f0",
   "metadata": {},
   "outputs": [],
   "source": []
  },
  {
   "cell_type": "markdown",
   "id": "623cf3c1-ac06-49ff-a807-06d4ec1a44ca",
   "metadata": {},
   "source": [
    "Q11. Create a variable named \"is_student\" and assign it a boolean value indicating whether you are\n",
    "currently a student or not."
   ]
  },
  {
   "cell_type": "code",
   "execution_count": 30,
   "id": "3cc31103-c16c-4efa-9e26-365525a41322",
   "metadata": {},
   "outputs": [],
   "source": [
    "is_student = True"
   ]
  },
  {
   "cell_type": "code",
   "execution_count": null,
   "id": "954faadc-78bc-4f24-bee3-ed204278b8ef",
   "metadata": {},
   "outputs": [],
   "source": []
  }
 ],
 "metadata": {
  "kernelspec": {
   "display_name": "Python 3 (ipykernel)",
   "language": "python",
   "name": "python3"
  },
  "language_info": {
   "codemirror_mode": {
    "name": "ipython",
    "version": 3
   },
   "file_extension": ".py",
   "mimetype": "text/x-python",
   "name": "python",
   "nbconvert_exporter": "python",
   "pygments_lexer": "ipython3",
   "version": "3.10.8"
  }
 },
 "nbformat": 4,
 "nbformat_minor": 5
}
