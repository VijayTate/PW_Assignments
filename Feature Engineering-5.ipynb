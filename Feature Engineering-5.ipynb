{
 "cells": [
  {
   "cell_type": "markdown",
   "id": "e351588f-c295-4e35-8834-6ee958110c9c",
   "metadata": {},
   "source": [
    "#### Q1. What is the difference between Ordinal Encoding and Label Encoding? Provide an example of when you might choose one over the other."
   ]
  },
  {
   "cell_type": "markdown",
   "id": "3a9bf4bb-5319-43b8-8e47-93c6edb8bc55",
   "metadata": {},
   "source": [
    "Ordinal Encoding and Label Encoding are both techniques used to convert categorical data into numerical format, but they are applied in different scenarios and have distinct characteristics:\n",
    "\n",
    "1. Ordinal Encoding:\n",
    "   - Ordinal Encoding is used when the categorical data has an inherent order or ranking among its categories. In other words, the categories have a meaningful order, and the numerical representation should reflect this order.\n",
    "   - It assigns integer values to categories based on their rank or order, starting from 1 or 0 and incrementing by 1 for each subsequent category.\n",
    "   - Ordinal Encoding preserves the ordinal relationship between categories but does not assume any specific magnitude or distance between the categories.\n",
    "   - It is useful when dealing with ordinal features like ratings (low, medium, high), education levels (elementary, high school, college, etc.), or income levels (low, medium, high).\n",
    "\n",
    "2. Label Encoding:\n",
    "   - Label Encoding is used when the categorical data has no inherent order or ranking among its categories, and they are just labels or names.\n",
    "   - It assigns unique integer values to each category without any implied order. The values may start from 0 or 1, depending on the implementation.\n",
    "   - Label Encoding is appropriate for nominal features where there is no meaningful order between categories.\n",
    "   - It is commonly used when dealing with machine learning models that require numerical input, as it efficiently converts the categorical data to numerical format.\n",
    "\n",
    "Example:\n",
    "Suppose you have a dataset of educational qualifications, and the \"education\" column contains the categories \"High School,\" \"Bachelor's Degree,\" \"Master's Degree,\" and \"Ph.D.\" The categories have a clear order from least to most advanced education. In this case, you would use Ordinal Encoding to preserve the meaningful order while converting the categories to numerical values.\n",
    "\n",
    "On the other hand, if you have a dataset of car brands, and the \"brand\" column contains categories like \"Toyota,\" \"Honda,\" \"Ford,\" etc., there is no inherent order among the brands. In this scenario, you would use Label Encoding to convert the car brands to numerical values without implying any ranking or order between them."
   ]
  },
  {
   "cell_type": "code",
   "execution_count": null,
   "id": "53c943c1-7fdd-4476-8f29-44a44ac2d253",
   "metadata": {},
   "outputs": [],
   "source": []
  },
  {
   "cell_type": "code",
   "execution_count": null,
   "id": "9c05ade2-58d3-4c44-96ff-35ef45a8f6fb",
   "metadata": {},
   "outputs": [],
   "source": []
  },
  {
   "cell_type": "markdown",
   "id": "ac3f47bc-551e-4a0a-9b80-41fee1933b9b",
   "metadata": {},
   "source": [
    "#### Q2. Explain how Target Guided Ordinal Encoding works and provide an example of when you might use it in a machine learning project."
   ]
  },
  {
   "cell_type": "markdown",
   "id": "0f370754-e8d5-4604-8348-036a45cd1fc7",
   "metadata": {},
   "source": [
    "Target Guided Ordinal Encoding is a technique used to encode categorical variables based on their relationship with the target variable in a regression or classification problem. It assigns ordinal values to the categories based on the target variable's mean, median, or other statistical metrics. The idea is to create a monotonic relationship between the categorical variable and the target variable, which can potentially improve the predictive power of the model.\n",
    "\n",
    "The steps to perform Target Guided Ordinal Encoding are as follows:\n",
    "\n",
    "- For each category in the categorical variable, calculate the mean (or median) of the target variable for that category.\n",
    "- Sort the categories based on their corresponding mean (or median) values.\n",
    "- Assign ordinal values to the categories based on their order in the sorted list.\n",
    "\n",
    "Example of Target Guided Ordinal Encoding:\n",
    "\n",
    "Suppose we have a dataset of student performance with a categorical variable \"grade\" (e.g., \"A,\" \"B,\" \"C,\" \"D\") and a target variable \"score\" representing the student's performance in an exam. We want to encode the \"grade\" variable using Target Guided Ordinal Encoding."
   ]
  },
  {
   "cell_type": "code",
   "execution_count": 2,
   "id": "37e5a141-8492-4d6a-9c07-c89ff77d76c3",
   "metadata": {},
   "outputs": [
    {
     "data": {
      "text/html": [
       "<div>\n",
       "<style scoped>\n",
       "    .dataframe tbody tr th:only-of-type {\n",
       "        vertical-align: middle;\n",
       "    }\n",
       "\n",
       "    .dataframe tbody tr th {\n",
       "        vertical-align: top;\n",
       "    }\n",
       "\n",
       "    .dataframe thead th {\n",
       "        text-align: right;\n",
       "    }\n",
       "</style>\n",
       "<table border=\"1\" class=\"dataframe\">\n",
       "  <thead>\n",
       "    <tr style=\"text-align: right;\">\n",
       "      <th></th>\n",
       "      <th>grade</th>\n",
       "      <th>score</th>\n",
       "      <th>grade_encoded</th>\n",
       "    </tr>\n",
       "  </thead>\n",
       "  <tbody>\n",
       "    <tr>\n",
       "      <th>0</th>\n",
       "      <td>A</td>\n",
       "      <td>90</td>\n",
       "      <td>3</td>\n",
       "    </tr>\n",
       "    <tr>\n",
       "      <th>1</th>\n",
       "      <td>B</td>\n",
       "      <td>80</td>\n",
       "      <td>2</td>\n",
       "    </tr>\n",
       "    <tr>\n",
       "      <th>2</th>\n",
       "      <td>C</td>\n",
       "      <td>70</td>\n",
       "      <td>1</td>\n",
       "    </tr>\n",
       "    <tr>\n",
       "      <th>3</th>\n",
       "      <td>A</td>\n",
       "      <td>95</td>\n",
       "      <td>3</td>\n",
       "    </tr>\n",
       "    <tr>\n",
       "      <th>4</th>\n",
       "      <td>D</td>\n",
       "      <td>60</td>\n",
       "      <td>0</td>\n",
       "    </tr>\n",
       "    <tr>\n",
       "      <th>5</th>\n",
       "      <td>B</td>\n",
       "      <td>85</td>\n",
       "      <td>2</td>\n",
       "    </tr>\n",
       "    <tr>\n",
       "      <th>6</th>\n",
       "      <td>C</td>\n",
       "      <td>75</td>\n",
       "      <td>1</td>\n",
       "    </tr>\n",
       "    <tr>\n",
       "      <th>7</th>\n",
       "      <td>A</td>\n",
       "      <td>92</td>\n",
       "      <td>3</td>\n",
       "    </tr>\n",
       "    <tr>\n",
       "      <th>8</th>\n",
       "      <td>A</td>\n",
       "      <td>88</td>\n",
       "      <td>3</td>\n",
       "    </tr>\n",
       "    <tr>\n",
       "      <th>9</th>\n",
       "      <td>B</td>\n",
       "      <td>82</td>\n",
       "      <td>2</td>\n",
       "    </tr>\n",
       "  </tbody>\n",
       "</table>\n",
       "</div>"
      ],
      "text/plain": [
       "  grade  score  grade_encoded\n",
       "0     A     90              3\n",
       "1     B     80              2\n",
       "2     C     70              1\n",
       "3     A     95              3\n",
       "4     D     60              0\n",
       "5     B     85              2\n",
       "6     C     75              1\n",
       "7     A     92              3\n",
       "8     A     88              3\n",
       "9     B     82              2"
      ]
     },
     "execution_count": 2,
     "metadata": {},
     "output_type": "execute_result"
    }
   ],
   "source": [
    "import pandas as pd\n",
    "\n",
    "# Sample data\n",
    "data = {\n",
    "    'grade': ['A', 'B', 'C', 'A', 'D', 'B', 'C', 'A', 'A', 'B'],\n",
    "    'score': [90, 80, 70, 95, 60, 85, 75, 92, 88, 82]\n",
    "}\n",
    "\n",
    "# Create DataFrame\n",
    "df = pd.DataFrame(data)\n",
    "\n",
    "# Calculate mean score for each grade\n",
    "grade_scores = df.groupby('grade')['score'].mean().sort_values()\n",
    "\n",
    "# Create a mapping dictionary based on the order of mean scores\n",
    "ordinal_mapping = {grade: i for i, grade in enumerate(grade_scores.index)}\n",
    "\n",
    "# Apply Target Guided Ordinal Encoding\n",
    "df['grade_encoded'] = df['grade'].map(ordinal_mapping)\n",
    "\n",
    "df=pd.DataFrame(df)\n",
    "df"
   ]
  },
  {
   "cell_type": "markdown",
   "id": "a9b42601-9041-4e1a-980a-981ebc3d0a8c",
   "metadata": {},
   "source": [
    "In this example, we have encoded the \"grade\" variable using Target Guided Ordinal Encoding based on the mean \"score\" for each grade. The resulting \"grade_encoded\" column now represents the ordinal values for the \"grade\" variable, creating a monotonic relationship between \"grade\" and \"score.\" This encoding can be useful when there is an ordinal relationship between the categories, and we want to leverage the target information to improve the model's performance."
   ]
  },
  {
   "cell_type": "code",
   "execution_count": null,
   "id": "125f420f-5ce7-44ad-be56-f309d4dd4a56",
   "metadata": {},
   "outputs": [],
   "source": []
  },
  {
   "cell_type": "code",
   "execution_count": null,
   "id": "10eaed34-125a-4dea-8a2b-4860cb6f1c2b",
   "metadata": {},
   "outputs": [],
   "source": []
  },
  {
   "cell_type": "markdown",
   "id": "b77c5289-a945-40b5-a199-cf4dfa8e83e0",
   "metadata": {},
   "source": [
    "#### Q3. Define covariance and explain why it is important in statistical analysis. How is covariance calculated?"
   ]
  },
  {
   "cell_type": "markdown",
   "id": "2c2a3b56-ac6e-482d-a2af-135daa021272",
   "metadata": {},
   "source": [
    "Covariance is a statistical measure that quantifies the degree of joint variability between two random variables. It indicates how two variables change together. In simple terms, covariance tells us whether two variables increase or decrease together (positive covariance), move in opposite directions (negative covariance), or have no apparent relationship (zero covariance).\n",
    "\n",
    "Importance of Covariance in Statistical Analysis:\n",
    "\n",
    "- Relationship Assessment: Covariance helps to assess the direction and strength of the relationship between two variables. A positive covariance indicates a positive relationship, a negative covariance indicates a negative relationship, and zero covariance indicates no linear relationship.\n",
    "\n",
    "- Portfolio Diversification: In finance, covariance is crucial for building diversified investment portfolios. It helps investors understand how different assets' returns move in relation to each other. Assets with low covariance are preferred to minimize risk in a portfolio.\n",
    "\n",
    "- Linear Regression: Covariance is used in calculating the coefficients of a linear regression model, which describes the relationship between the dependent variable and one or more independent variables.\n",
    "\n",
    "Calculation of Covariance:\n",
    "\n",
    "For two random variables X and Y with n data points (x1, y1), (x2, y2), ..., (xn, yn), the covariance is calculated using the following formula:"
   ]
  },
  {
   "cell_type": "code",
   "execution_count": 7,
   "id": "080c26fb-cc83-4372-8483-a94534411f85",
   "metadata": {},
   "outputs": [],
   "source": [
    "# cov(X, Y) = Σ[(xi - mean(X)) * (yi - mean(Y))] / (n - 1)\n",
    "\n",
    "# where:\n",
    "\n",
    "# Σ represents the sum over all data points.\n",
    "# xi and yi are the individual data points of X and Y, respectively.\n",
    "# mean(X) and mean(Y) are the means of X and Y, respectively.\n",
    "# n is the number of data points.\n",
    "# Note that the denominator is (n - 1) rather than n in order to make the covariance an unbiased estimator of the population covariance."
   ]
  },
  {
   "cell_type": "markdown",
   "id": "01b8cdce-762f-4d74-8ed6-c39f168827ee",
   "metadata": {},
   "source": [
    "If the covariance is positive, it indicates that the variables tend to increase together. If the covariance is negative, it indicates that the variables tend to move in opposite directions. If the covariance is close to zero, it suggests little to no linear relationship between the variables.\n",
    "\n",
    "\n",
    "\n",
    "\n",
    "\n"
   ]
  },
  {
   "cell_type": "code",
   "execution_count": null,
   "id": "f59532ca-ebc8-4974-9fe3-c5a8ce90eb76",
   "metadata": {},
   "outputs": [],
   "source": []
  },
  {
   "cell_type": "code",
   "execution_count": null,
   "id": "b95620ce-8805-4d6a-b865-71f544bfc105",
   "metadata": {},
   "outputs": [],
   "source": []
  },
  {
   "cell_type": "markdown",
   "id": "f90333ee-e26c-4733-a1e2-a47b00b95907",
   "metadata": {},
   "source": [
    "#### Q4. For a dataset with the following categorical variables: Color (red, green, blue), Size (small, medium, large), and Material (wood, metal, plastic), perform label encoding using Python's scikit-learn library. Show your code and explain the output."
   ]
  },
  {
   "cell_type": "code",
   "execution_count": 8,
   "id": "5960fbe3-8f08-47ce-bf72-67341c3a6020",
   "metadata": {},
   "outputs": [
    {
     "data": {
      "text/html": [
       "<div>\n",
       "<style scoped>\n",
       "    .dataframe tbody tr th:only-of-type {\n",
       "        vertical-align: middle;\n",
       "    }\n",
       "\n",
       "    .dataframe tbody tr th {\n",
       "        vertical-align: top;\n",
       "    }\n",
       "\n",
       "    .dataframe thead th {\n",
       "        text-align: right;\n",
       "    }\n",
       "</style>\n",
       "<table border=\"1\" class=\"dataframe\">\n",
       "  <thead>\n",
       "    <tr style=\"text-align: right;\">\n",
       "      <th></th>\n",
       "      <th>Color</th>\n",
       "      <th>Size</th>\n",
       "      <th>Material</th>\n",
       "      <th>Color_encoded</th>\n",
       "      <th>Size_encoded</th>\n",
       "      <th>Material_encoded</th>\n",
       "    </tr>\n",
       "  </thead>\n",
       "  <tbody>\n",
       "    <tr>\n",
       "      <th>0</th>\n",
       "      <td>red</td>\n",
       "      <td>medium</td>\n",
       "      <td>wood</td>\n",
       "      <td>2</td>\n",
       "      <td>1</td>\n",
       "      <td>2</td>\n",
       "    </tr>\n",
       "    <tr>\n",
       "      <th>1</th>\n",
       "      <td>green</td>\n",
       "      <td>small</td>\n",
       "      <td>metal</td>\n",
       "      <td>1</td>\n",
       "      <td>2</td>\n",
       "      <td>0</td>\n",
       "    </tr>\n",
       "    <tr>\n",
       "      <th>2</th>\n",
       "      <td>blue</td>\n",
       "      <td>large</td>\n",
       "      <td>plastic</td>\n",
       "      <td>0</td>\n",
       "      <td>0</td>\n",
       "      <td>1</td>\n",
       "    </tr>\n",
       "    <tr>\n",
       "      <th>3</th>\n",
       "      <td>red</td>\n",
       "      <td>medium</td>\n",
       "      <td>wood</td>\n",
       "      <td>2</td>\n",
       "      <td>1</td>\n",
       "      <td>2</td>\n",
       "    </tr>\n",
       "    <tr>\n",
       "      <th>4</th>\n",
       "      <td>blue</td>\n",
       "      <td>small</td>\n",
       "      <td>plastic</td>\n",
       "      <td>0</td>\n",
       "      <td>2</td>\n",
       "      <td>1</td>\n",
       "    </tr>\n",
       "    <tr>\n",
       "      <th>5</th>\n",
       "      <td>green</td>\n",
       "      <td>large</td>\n",
       "      <td>metal</td>\n",
       "      <td>1</td>\n",
       "      <td>0</td>\n",
       "      <td>0</td>\n",
       "    </tr>\n",
       "  </tbody>\n",
       "</table>\n",
       "</div>"
      ],
      "text/plain": [
       "   Color    Size Material  Color_encoded  Size_encoded  Material_encoded\n",
       "0    red  medium     wood              2             1                 2\n",
       "1  green   small    metal              1             2                 0\n",
       "2   blue   large  plastic              0             0                 1\n",
       "3    red  medium     wood              2             1                 2\n",
       "4   blue   small  plastic              0             2                 1\n",
       "5  green   large    metal              1             0                 0"
      ]
     },
     "execution_count": 8,
     "metadata": {},
     "output_type": "execute_result"
    }
   ],
   "source": [
    "from sklearn.preprocessing import LabelEncoder\n",
    "\n",
    "# Sample data\n",
    "data = {\n",
    "    'Color': ['red', 'green', 'blue', 'red', 'blue', 'green'],\n",
    "    'Size': ['medium', 'small', 'large', 'medium', 'small', 'large'],\n",
    "    'Material': ['wood', 'metal', 'plastic', 'wood', 'plastic', 'metal']\n",
    "}\n",
    "\n",
    "# Create DataFrame\n",
    "import pandas as pd\n",
    "df = pd.DataFrame(data)\n",
    "\n",
    "# Initialize LabelEncoder\n",
    "label_encoder = LabelEncoder()\n",
    "\n",
    "# Label encoding for each categorical column\n",
    "df['Color_encoded'] = label_encoder.fit_transform(df['Color'])\n",
    "df['Size_encoded'] = label_encoder.fit_transform(df['Size'])\n",
    "df['Material_encoded'] = label_encoder.fit_transform(df['Material'])\n",
    "\n",
    "df=pd.DataFrame(df)\n",
    "df"
   ]
  },
  {
   "cell_type": "markdown",
   "id": "5dc8b367-8988-4cc7-aec4-be43fd33157a",
   "metadata": {},
   "source": [
    "The code above first creates a DataFrame with the given sample data. Then, it initializes the LabelEncoder object. We then apply label encoding to each categorical column by calling the fit_transform() method of the LabelEncoder on each column. This method transforms the categorical labels into numerical values.\n",
    "\n",
    "In the output DataFrame, you can see three new columns: 'Color_encoded', 'Size_encoded', and 'Material_encoded'. These columns represent the numerical labels assigned to the respective categorical values. The 'Color_encoded' column has 0 for 'blue', 1 for 'green', and 2 for 'red'. Similarly, the 'Size_encoded' column has 0 for 'large', 1 for 'medium', and 2 for 'small'. The 'Material_encoded' column has 0 for 'plastic', 1 for 'metal', and 2 for 'wood'. Now, we can use these numerical labels for further data analysis and modeling tasks."
   ]
  },
  {
   "cell_type": "code",
   "execution_count": null,
   "id": "e36b7715-0b41-42f1-b022-b26cb0a0a712",
   "metadata": {},
   "outputs": [],
   "source": []
  },
  {
   "cell_type": "code",
   "execution_count": null,
   "id": "dcff561f-e080-4fd9-a7bd-ec764b10c16a",
   "metadata": {},
   "outputs": [],
   "source": []
  },
  {
   "cell_type": "markdown",
   "id": "eafa65b0-bcff-4e18-b206-aa9a81a649fb",
   "metadata": {},
   "source": [
    "#### Q5. Calculate the covariance matrix for the following variables in a dataset: Age, Income, and Education level. Interpret the results."
   ]
  },
  {
   "cell_type": "code",
   "execution_count": 10,
   "id": "1b716c98-b3f4-4afe-8d86-d95b648bfc21",
   "metadata": {},
   "outputs": [
    {
     "data": {
      "text/html": [
       "<div>\n",
       "<style scoped>\n",
       "    .dataframe tbody tr th:only-of-type {\n",
       "        vertical-align: middle;\n",
       "    }\n",
       "\n",
       "    .dataframe tbody tr th {\n",
       "        vertical-align: top;\n",
       "    }\n",
       "\n",
       "    .dataframe thead th {\n",
       "        text-align: right;\n",
       "    }\n",
       "</style>\n",
       "<table border=\"1\" class=\"dataframe\">\n",
       "  <thead>\n",
       "    <tr style=\"text-align: right;\">\n",
       "      <th></th>\n",
       "      <th>Age</th>\n",
       "      <th>Income</th>\n",
       "      <th>EducationLevel</th>\n",
       "    </tr>\n",
       "  </thead>\n",
       "  <tbody>\n",
       "    <tr>\n",
       "      <th>Age</th>\n",
       "      <td>62.5</td>\n",
       "      <td>125000.0</td>\n",
       "      <td>30.0</td>\n",
       "    </tr>\n",
       "    <tr>\n",
       "      <th>Income</th>\n",
       "      <td>125000.0</td>\n",
       "      <td>250000000.0</td>\n",
       "      <td>60000.0</td>\n",
       "    </tr>\n",
       "    <tr>\n",
       "      <th>EducationLevel</th>\n",
       "      <td>30.0</td>\n",
       "      <td>60000.0</td>\n",
       "      <td>14.8</td>\n",
       "    </tr>\n",
       "  </tbody>\n",
       "</table>\n",
       "</div>"
      ],
      "text/plain": [
       "                     Age       Income  EducationLevel\n",
       "Age                 62.5     125000.0            30.0\n",
       "Income          125000.0  250000000.0         60000.0\n",
       "EducationLevel      30.0      60000.0            14.8"
      ]
     },
     "execution_count": 10,
     "metadata": {},
     "output_type": "execute_result"
    }
   ],
   "source": [
    "import pandas as pd\n",
    "\n",
    "# Sample data\n",
    "data = {\n",
    "    'Age': [25, 30, 35, 40, 45],\n",
    "    'Income': [50000, 60000, 70000, 80000, 90000],\n",
    "    'EducationLevel': [12, 16, 18, 20, 22]\n",
    "}\n",
    "\n",
    "# Create DataFrame\n",
    "df = pd.DataFrame(data)\n",
    "\n",
    "# Calculate the covariance matrix\n",
    "cov_matrix = df.cov()\n",
    "\n",
    "cov_matrix"
   ]
  },
  {
   "cell_type": "code",
   "execution_count": null,
   "id": "57c9e155-5a86-422b-95af-0866fa4621a4",
   "metadata": {},
   "outputs": [],
   "source": []
  },
  {
   "cell_type": "code",
   "execution_count": null,
   "id": "3fe5a448-1419-4a50-afbf-d0db2ac49523",
   "metadata": {},
   "outputs": [],
   "source": []
  },
  {
   "cell_type": "markdown",
   "id": "145dc0d6-a89c-404d-91eb-1d6d7c6c78aa",
   "metadata": {},
   "source": [
    "#### Q6. You are working on a machine learning project with a dataset containing several categorical variables, including \"Gender\" (Male/Female), \"Education Level\" (High School/Bachelor's/Master's/PhD), and \"Employment Status\" (Unemployed/Part-Time/Full-Time). Which encoding method would you use for each variable, and why?"
   ]
  },
  {
   "cell_type": "markdown",
   "id": "77f0a0a2-b0ca-4fa7-8a9c-31472829ffe3",
   "metadata": {},
   "source": [
    "For the given categorical variables \"Gender,\" \"Education Level,\" and \"Employment Status,\" the appropriate encoding method would depend on the nature of the variables and the machine learning algorithm being used. Here are the recommended encoding methods for each variable:\n",
    "\n",
    "- Gender (Binary Categorical Variable: Male/Female):\n",
    "\n",
    "For binary categorical variables like \"Gender,\" the Label Encoding technique can be used. In this case, we can assign 0 for \"Male\" and 1 for \"Female.\""
   ]
  },
  {
   "cell_type": "code",
   "execution_count": 11,
   "id": "12ea8a60-28ca-4c45-8e6d-8a95f5f102ed",
   "metadata": {},
   "outputs": [
    {
     "data": {
      "text/html": [
       "<div>\n",
       "<style scoped>\n",
       "    .dataframe tbody tr th:only-of-type {\n",
       "        vertical-align: middle;\n",
       "    }\n",
       "\n",
       "    .dataframe tbody tr th {\n",
       "        vertical-align: top;\n",
       "    }\n",
       "\n",
       "    .dataframe thead th {\n",
       "        text-align: right;\n",
       "    }\n",
       "</style>\n",
       "<table border=\"1\" class=\"dataframe\">\n",
       "  <thead>\n",
       "    <tr style=\"text-align: right;\">\n",
       "      <th></th>\n",
       "      <th>Gender</th>\n",
       "      <th>Gender_encoded</th>\n",
       "    </tr>\n",
       "  </thead>\n",
       "  <tbody>\n",
       "    <tr>\n",
       "      <th>0</th>\n",
       "      <td>Male</td>\n",
       "      <td>1</td>\n",
       "    </tr>\n",
       "    <tr>\n",
       "      <th>1</th>\n",
       "      <td>Female</td>\n",
       "      <td>0</td>\n",
       "    </tr>\n",
       "    <tr>\n",
       "      <th>2</th>\n",
       "      <td>Male</td>\n",
       "      <td>1</td>\n",
       "    </tr>\n",
       "    <tr>\n",
       "      <th>3</th>\n",
       "      <td>Female</td>\n",
       "      <td>0</td>\n",
       "    </tr>\n",
       "    <tr>\n",
       "      <th>4</th>\n",
       "      <td>Male</td>\n",
       "      <td>1</td>\n",
       "    </tr>\n",
       "  </tbody>\n",
       "</table>\n",
       "</div>"
      ],
      "text/plain": [
       "   Gender  Gender_encoded\n",
       "0    Male               1\n",
       "1  Female               0\n",
       "2    Male               1\n",
       "3  Female               0\n",
       "4    Male               1"
      ]
     },
     "execution_count": 11,
     "metadata": {},
     "output_type": "execute_result"
    }
   ],
   "source": [
    "# Sample data\n",
    "data = {\n",
    "    'Gender': ['Male', 'Female', 'Male', 'Female', 'Male'],\n",
    "}\n",
    "\n",
    "# Create DataFrame\n",
    "import pandas as pd\n",
    "df = pd.DataFrame(data)\n",
    "\n",
    "# Apply Label Encoding for Gender\n",
    "from sklearn.preprocessing import LabelEncoder\n",
    "label_encoder = LabelEncoder()\n",
    "df['Gender_encoded'] = label_encoder.fit_transform(df['Gender'])\n",
    "\n",
    "df=pd.DataFrame(df)\n",
    "df"
   ]
  },
  {
   "cell_type": "markdown",
   "id": "a43d8643-f9b3-40c0-a694-9806d866670c",
   "metadata": {},
   "source": [
    "- Education Level (Ordinal Categorical Variable: Highschool/Bachelor's/Master's/PhD):\n",
    "\n",
    "Since \"Education Level\" is an ordinal categorical variable with a clear order (Highschool < Bachelor's < Master's < PhD), we can use Ordinal Encoding. This method assigns integer values based on the order of the categories."
   ]
  },
  {
   "cell_type": "code",
   "execution_count": 15,
   "id": "cf0a8653-cc8a-4107-be55-c5e49cc70067",
   "metadata": {},
   "outputs": [
    {
     "data": {
      "text/html": [
       "<div>\n",
       "<style scoped>\n",
       "    .dataframe tbody tr th:only-of-type {\n",
       "        vertical-align: middle;\n",
       "    }\n",
       "\n",
       "    .dataframe tbody tr th {\n",
       "        vertical-align: top;\n",
       "    }\n",
       "\n",
       "    .dataframe thead th {\n",
       "        text-align: right;\n",
       "    }\n",
       "</style>\n",
       "<table border=\"1\" class=\"dataframe\">\n",
       "  <thead>\n",
       "    <tr style=\"text-align: right;\">\n",
       "      <th></th>\n",
       "      <th>Education Level</th>\n",
       "      <th>EducationLevel_encoded</th>\n",
       "    </tr>\n",
       "  </thead>\n",
       "  <tbody>\n",
       "    <tr>\n",
       "      <th>0</th>\n",
       "      <td>Highschool</td>\n",
       "      <td>0</td>\n",
       "    </tr>\n",
       "    <tr>\n",
       "      <th>1</th>\n",
       "      <td>Bachelors</td>\n",
       "      <td>1</td>\n",
       "    </tr>\n",
       "    <tr>\n",
       "      <th>2</th>\n",
       "      <td>Masters</td>\n",
       "      <td>2</td>\n",
       "    </tr>\n",
       "    <tr>\n",
       "      <th>3</th>\n",
       "      <td>PhD</td>\n",
       "      <td>3</td>\n",
       "    </tr>\n",
       "    <tr>\n",
       "      <th>4</th>\n",
       "      <td>Bachelors</td>\n",
       "      <td>1</td>\n",
       "    </tr>\n",
       "  </tbody>\n",
       "</table>\n",
       "</div>"
      ],
      "text/plain": [
       "  Education Level  EducationLevel_encoded\n",
       "0      Highschool                       0\n",
       "1       Bachelors                       1\n",
       "2         Masters                       2\n",
       "3             PhD                       3\n",
       "4       Bachelors                       1"
      ]
     },
     "execution_count": 15,
     "metadata": {},
     "output_type": "execute_result"
    }
   ],
   "source": [
    "# Sample data\n",
    "data = {\n",
    "    'Education Level': ['Highschool', \"Bachelors\", \"Masters\", 'PhD', 'Bachelors']\n",
    "                }\n",
    "\n",
    "# Create DataFrame\n",
    "import pandas as pd\n",
    "df = pd.DataFrame(data)\n",
    "\n",
    "# Define the order of the categories\n",
    "education_order = ['Highschool', \"Bachelors\", \"Masters\", 'PhD']\n",
    "\n",
    "# Apply Ordinal Encoding for Education Level\n",
    "df['EducationLevel_encoded'] = df['Education Level'].map(lambda x: education_order.index(x))\n",
    "\n",
    "df=pd.DataFrame(df)\n",
    "df"
   ]
  },
  {
   "cell_type": "markdown",
   "id": "799c8723-7923-4359-b7ca-223170daee78",
   "metadata": {},
   "source": [
    "- Employment Status (Nominal Categorical Variable: Unemployed/Part-Time/Full-Time):\n",
    "\n",
    "For nominal categorical variables like \"Employment Status,\" where there is no inherent order, we can use One-Hot Encoding. This method creates binary columns for each category and indicates the presence of that category with 1 or 0."
   ]
  },
  {
   "cell_type": "code",
   "execution_count": 16,
   "id": "4c2d3509-4d97-4ff2-b5d6-6b2ac1409dc8",
   "metadata": {},
   "outputs": [
    {
     "data": {
      "text/html": [
       "<div>\n",
       "<style scoped>\n",
       "    .dataframe tbody tr th:only-of-type {\n",
       "        vertical-align: middle;\n",
       "    }\n",
       "\n",
       "    .dataframe tbody tr th {\n",
       "        vertical-align: top;\n",
       "    }\n",
       "\n",
       "    .dataframe thead th {\n",
       "        text-align: right;\n",
       "    }\n",
       "</style>\n",
       "<table border=\"1\" class=\"dataframe\">\n",
       "  <thead>\n",
       "    <tr style=\"text-align: right;\">\n",
       "      <th></th>\n",
       "      <th>Employment Status_Full-Time</th>\n",
       "      <th>Employment Status_Part-Time</th>\n",
       "      <th>Employment Status_Unemployed</th>\n",
       "    </tr>\n",
       "  </thead>\n",
       "  <tbody>\n",
       "    <tr>\n",
       "      <th>0</th>\n",
       "      <td>0</td>\n",
       "      <td>0</td>\n",
       "      <td>1</td>\n",
       "    </tr>\n",
       "    <tr>\n",
       "      <th>1</th>\n",
       "      <td>0</td>\n",
       "      <td>1</td>\n",
       "      <td>0</td>\n",
       "    </tr>\n",
       "    <tr>\n",
       "      <th>2</th>\n",
       "      <td>1</td>\n",
       "      <td>0</td>\n",
       "      <td>0</td>\n",
       "    </tr>\n",
       "    <tr>\n",
       "      <th>3</th>\n",
       "      <td>1</td>\n",
       "      <td>0</td>\n",
       "      <td>0</td>\n",
       "    </tr>\n",
       "    <tr>\n",
       "      <th>4</th>\n",
       "      <td>0</td>\n",
       "      <td>1</td>\n",
       "      <td>0</td>\n",
       "    </tr>\n",
       "  </tbody>\n",
       "</table>\n",
       "</div>"
      ],
      "text/plain": [
       "   Employment Status_Full-Time  Employment Status_Part-Time  \\\n",
       "0                            0                            0   \n",
       "1                            0                            1   \n",
       "2                            1                            0   \n",
       "3                            1                            0   \n",
       "4                            0                            1   \n",
       "\n",
       "   Employment Status_Unemployed  \n",
       "0                             1  \n",
       "1                             0  \n",
       "2                             0  \n",
       "3                             0  \n",
       "4                             0  "
      ]
     },
     "execution_count": 16,
     "metadata": {},
     "output_type": "execute_result"
    }
   ],
   "source": [
    "# Sample data\n",
    "data = {\n",
    "    'Employment Status': ['Unemployed', 'Part-Time', 'Full-Time', 'Full-Time', 'Part-Time'],\n",
    "}\n",
    "\n",
    "# Create DataFrame\n",
    "import pandas as pd\n",
    "df = pd.DataFrame(data)\n",
    "\n",
    "# Apply One-Hot Encoding for Employment Status\n",
    "df_encoded = pd.get_dummies(df, columns=['Employment Status'])\n",
    "\n",
    "df=pd.DataFrame(df_encoded)\n",
    "df"
   ]
  },
  {
   "cell_type": "markdown",
   "id": "7ce13f40-65e7-4f01-8f7e-fe1364f84312",
   "metadata": {},
   "source": [
    "In summary, for the given categorical variables:\n",
    "\n",
    "- Use Label Encoding for binary categorical variables like \"Gender.\"\n",
    "- Use Ordinal Encoding for ordinal categorical variables like \"Education Level.\"\n",
    "- Use One-Hot Encoding for nominal categorical variables like \"Employment Status.\""
   ]
  },
  {
   "cell_type": "code",
   "execution_count": null,
   "id": "4a702333-683e-48cc-bc0d-4c2c1320d34d",
   "metadata": {},
   "outputs": [],
   "source": []
  },
  {
   "cell_type": "code",
   "execution_count": null,
   "id": "9440cf2c-3377-47d3-a856-c80708fdbaaa",
   "metadata": {},
   "outputs": [],
   "source": []
  },
  {
   "cell_type": "markdown",
   "id": "099b7357-566c-490f-9e01-6828c21429f8",
   "metadata": {},
   "source": [
    "#### Q7. You are analyzing a dataset with two continuous variables, \"Temperature\" and \"Humidity\", and two categorical variables, \"Weather Condition\" (Sunny/Cloudy/Rainy) and \"Wind Direction\" (North/South/ East/West). Calculate the covariance between each pair of variables and interpret the results."
   ]
  },
  {
   "cell_type": "markdown",
   "id": "c4afd98b-1bd3-427b-9664-b6dd43b39dff",
   "metadata": {},
   "source": [
    "To calculate the covariance between each pair of variables, we need to have a dataset with observations for \"Temperature,\" \"Humidity,\" \"Weather Condition,\" and \"Wind Direction.\" Since the data is not provided, let's assume a small sample dataset for demonstration purposes. Please note that this is a hypothetical example."
   ]
  },
  {
   "cell_type": "code",
   "execution_count": 19,
   "id": "c79bc6fa-f523-423f-ae2d-c2916be6151d",
   "metadata": {},
   "outputs": [
    {
     "name": "stdout",
     "output_type": "stream",
     "text": [
      "Covariance between Temperature and Humidity: -17.5\n"
     ]
    }
   ],
   "source": [
    "import pandas as pd\n",
    "\n",
    "data = {\n",
    "    'Temperature': [25, 28, 22, 30, 26],\n",
    "    'Humidity': [60, 55, 65, 50, 70],\n",
    "    'Weather Condition': ['Sunny', 'Cloudy', 'Rainy', 'Sunny', 'Cloudy'],\n",
    "    'Wind Direction': ['North', 'South', 'East', 'West', 'North']\n",
    "}\n",
    "\n",
    "df = pd.DataFrame(data)\n",
    "\n",
    "covariance_temp_humidity = df['Temperature'].cov(df['Humidity'])\n",
    "print(\"Covariance between Temperature and Humidity:\", covariance_temp_humidity)\n"
   ]
  },
  {
   "cell_type": "markdown",
   "id": "8f628591-f4df-4867-93b4-18ed2ac94035",
   "metadata": {},
   "source": [
    "As for \"Weather Condition\" and \"Wind Direction,\" since they are categorical variables, we cannot calculate the covariance directly. Instead, we can explore the relationship between these categorical variables using techniques like contingency tables and chi-square tests. These methods are more suitable for analyzing the association between categorical variables."
   ]
  }
 ],
 "metadata": {
  "kernelspec": {
   "display_name": "Python 3 (ipykernel)",
   "language": "python",
   "name": "python3"
  },
  "language_info": {
   "codemirror_mode": {
    "name": "ipython",
    "version": 3
   },
   "file_extension": ".py",
   "mimetype": "text/x-python",
   "name": "python",
   "nbconvert_exporter": "python",
   "pygments_lexer": "ipython3",
   "version": "3.10.8"
  }
 },
 "nbformat": 4,
 "nbformat_minor": 5
}
