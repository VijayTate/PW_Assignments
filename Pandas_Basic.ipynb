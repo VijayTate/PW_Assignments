{
 "cells": [
  {
   "cell_type": "markdown",
   "id": "4e99cf0b-7da5-45e7-aec2-45a4a01ce6cb",
   "metadata": {},
   "source": [
    "Q1. Create a Pandas Series that contains the following data: 4, 8, 15, 16, 23, and 42. Then, print the series."
   ]
  },
  {
   "cell_type": "code",
   "execution_count": 19,
   "id": "7f765fa7-b79b-4163-b7d8-3eaefcb8ce16",
   "metadata": {},
   "outputs": [],
   "source": [
    "import pandas as pd"
   ]
  },
  {
   "cell_type": "code",
   "execution_count": 20,
   "id": "30aaa946-92c0-4926-9753-e61bae38afea",
   "metadata": {},
   "outputs": [
    {
     "name": "stdout",
     "output_type": "stream",
     "text": [
      "0     4\n",
      "1     8\n",
      "2    15\n",
      "3    16\n",
      "4    23\n",
      "5    42\n",
      "dtype: int64\n"
     ]
    }
   ],
   "source": [
    "data = [4,8,15,16,23,42]\n",
    "series = pd.Series(data)\n",
    "print(series)"
   ]
  },
  {
   "cell_type": "raw",
   "id": "964052be-100d-4bcc-b2cf-acced5b9df60",
   "metadata": {},
   "source": []
  },
  {
   "cell_type": "code",
   "execution_count": null,
   "id": "3979a360-fc1f-49e1-9e5d-b1dbcd340025",
   "metadata": {},
   "outputs": [],
   "source": []
  },
  {
   "cell_type": "markdown",
   "id": "696c0a92-f196-4f62-ace0-0c3961938ab2",
   "metadata": {},
   "source": [
    "Q2. Create a variable of list type containing 10 elements in it, and apply pandas.Series function on the variable print it."
   ]
  },
  {
   "cell_type": "code",
   "execution_count": 21,
   "id": "73d2cbe7-209b-4511-a953-a6687cb3c4e2",
   "metadata": {},
   "outputs": [
    {
     "name": "stdout",
     "output_type": "stream",
     "text": [
      "0     1\n",
      "1     2\n",
      "2     3\n",
      "3     4\n",
      "4     5\n",
      "5     6\n",
      "6     7\n",
      "7     8\n",
      "8     9\n",
      "9    10\n",
      "dtype: int64\n"
     ]
    }
   ],
   "source": [
    "import pandas as pd\n",
    "\n",
    "my_list = [1, 2, 3, 4, 5, 6, 7, 8, 9, 10]\n",
    "series = pd.Series(my_list)\n",
    "\n",
    "print(series)"
   ]
  },
  {
   "cell_type": "code",
   "execution_count": null,
   "id": "54a0165e-a479-4230-bc03-0864780cb102",
   "metadata": {},
   "outputs": [],
   "source": []
  },
  {
   "cell_type": "code",
   "execution_count": null,
   "id": "c8c60963-0a2d-44c7-bf7e-c04c4c15aa96",
   "metadata": {},
   "outputs": [],
   "source": []
  },
  {
   "cell_type": "markdown",
   "id": "7679844c-f116-48bc-b450-1599befeb23d",
   "metadata": {},
   "source": [
    "Q3. Create a Pandas DataFrame that contains the following data:"
   ]
  },
  {
   "cell_type": "code",
   "execution_count": 40,
   "id": "0946c52e-2092-4f42-817a-b9f264c0072a",
   "metadata": {},
   "outputs": [],
   "source": [
    "import pandas as pd\n",
    "data1 = {'Name':['Alice','Bob','Claire'], 'Age': [25,30,27], 'Gender':['Female','Male','Female']}"
   ]
  },
  {
   "cell_type": "code",
   "execution_count": 68,
   "id": "dd5c9a34-4976-4e79-b869-5420e019e752",
   "metadata": {},
   "outputs": [],
   "source": [
    "df = pd.DataFrame(data1)"
   ]
  },
  {
   "cell_type": "code",
   "execution_count": 69,
   "id": "855bab25-1925-4950-b243-8048e8c105a8",
   "metadata": {},
   "outputs": [
    {
     "data": {
      "text/html": [
       "<div>\n",
       "<style scoped>\n",
       "    .dataframe tbody tr th:only-of-type {\n",
       "        vertical-align: middle;\n",
       "    }\n",
       "\n",
       "    .dataframe tbody tr th {\n",
       "        vertical-align: top;\n",
       "    }\n",
       "\n",
       "    .dataframe thead th {\n",
       "        text-align: right;\n",
       "    }\n",
       "</style>\n",
       "<table border=\"1\" class=\"dataframe\">\n",
       "  <thead>\n",
       "    <tr style=\"text-align: right;\">\n",
       "      <th></th>\n",
       "      <th>Name</th>\n",
       "      <th>Age</th>\n",
       "      <th>Gender</th>\n",
       "    </tr>\n",
       "  </thead>\n",
       "  <tbody>\n",
       "    <tr>\n",
       "      <th>0</th>\n",
       "      <td>Alice</td>\n",
       "      <td>25</td>\n",
       "      <td>Female</td>\n",
       "    </tr>\n",
       "    <tr>\n",
       "      <th>1</th>\n",
       "      <td>Bob</td>\n",
       "      <td>30</td>\n",
       "      <td>Male</td>\n",
       "    </tr>\n",
       "    <tr>\n",
       "      <th>2</th>\n",
       "      <td>Claire</td>\n",
       "      <td>27</td>\n",
       "      <td>Female</td>\n",
       "    </tr>\n",
       "  </tbody>\n",
       "</table>\n",
       "</div>"
      ],
      "text/plain": [
       "     Name  Age  Gender\n",
       "0   Alice   25  Female\n",
       "1     Bob   30    Male\n",
       "2  Claire   27  Female"
      ]
     },
     "execution_count": 69,
     "metadata": {},
     "output_type": "execute_result"
    }
   ],
   "source": [
    "df"
   ]
  },
  {
   "cell_type": "code",
   "execution_count": null,
   "id": "e28e9d7e-c33e-41a7-b725-f5e024398195",
   "metadata": {},
   "outputs": [],
   "source": []
  },
  {
   "cell_type": "code",
   "execution_count": null,
   "id": "48cb03f5-7900-46dc-a280-1f7964f3f656",
   "metadata": {},
   "outputs": [],
   "source": []
  },
  {
   "cell_type": "markdown",
   "id": "877090e0-3e10-4951-8713-a99156046831",
   "metadata": {},
   "source": [
    "Q4. What is ‘DataFrame’ in pandas and how is it different from pandas.series? Explain with an example."
   ]
  },
  {
   "cell_type": "markdown",
   "id": "c21bc1d3-12e1-4c73-b79b-a6fe6d610716",
   "metadata": {},
   "source": [
    "In Pandas, a DataFrame is a two-dimensional tabular data structure that consists of rows and columns, similar to a spreadsheet or a SQL table. It is one of the primary data structures in Pandas and is very versatile for handling and analyzing data. Each column in a DataFrame can be of a different data type (e.g., numeric, string, boolean) and can have a name associated with it.\n",
    "\n",
    "On the other hand, a pandas.Series is a one-dimensional labeled array capable of holding data of any type. It is similar to a list or an array but with additional functionalities and capabilities. A Series has an index that labels each element in the Series, allowing for easy and efficient data access and manipulation."
   ]
  },
  {
   "cell_type": "code",
   "execution_count": 72,
   "id": "1ca83aff-03dd-4d33-9373-606d218d19c5",
   "metadata": {},
   "outputs": [
    {
     "name": "stdout",
     "output_type": "stream",
     "text": [
      "DataFrame:\n",
      "     Name  Age  Gender\n",
      "0   Alice   25  Female\n",
      "1     Bob   30    Male\n",
      "2  Claire   27  Female\n"
     ]
    },
    {
     "data": {
      "text/plain": [
       "Name      object\n",
       "Age        int64\n",
       "Gender    object\n",
       "dtype: object"
      ]
     },
     "execution_count": 72,
     "metadata": {},
     "output_type": "execute_result"
    }
   ],
   "source": [
    "import pandas as pd\n",
    "\n",
    "# Example 1: Creating a DataFrame\n",
    "data = {\n",
    "    'Name': ['Alice', 'Bob', 'Claire'],\n",
    "    'Age': [25, 30, 27],\n",
    "    'Gender': ['Female', 'Male', 'Female']\n",
    "}\n",
    "df = pd.DataFrame(data)\n",
    "print(\"DataFrame:\")\n",
    "print(df)\n",
    "df.dtypes"
   ]
  },
  {
   "cell_type": "code",
   "execution_count": 73,
   "id": "e923327e-5d20-4c8e-99e6-306176932013",
   "metadata": {},
   "outputs": [
    {
     "name": "stdout",
     "output_type": "stream",
     "text": [
      "\n",
      "Series:\n",
      "0    25\n",
      "1    30\n",
      "2    27\n",
      "Name: Age, dtype: int64\n"
     ]
    }
   ],
   "source": [
    "# Example 2: Creating a Series\n",
    "ages = pd.Series([25, 30, 27], name='Age')\n",
    "print(\"\\nSeries:\")\n",
    "print(ages)"
   ]
  },
  {
   "cell_type": "code",
   "execution_count": null,
   "id": "928c4b6e-044b-4d2f-8abf-6af2b51976a2",
   "metadata": {},
   "outputs": [],
   "source": []
  },
  {
   "cell_type": "code",
   "execution_count": null,
   "id": "2386ce85-8e2c-42ea-af44-67d701001b95",
   "metadata": {},
   "outputs": [],
   "source": []
  },
  {
   "cell_type": "markdown",
   "id": "dd79f784-e799-42fb-9d82-b3505aa253e3",
   "metadata": {},
   "source": [
    "Q5. What are some common functions you can use to manipulate data in a Pandas DataFrame? Can you give an example of when you might use one of these functions?"
   ]
  },
  {
   "cell_type": "markdown",
   "id": "ce4faf20-1370-4624-8f09-70287652292d",
   "metadata": {},
   "source": [
    "Pandas provides a wide range of functions for manipulating data in a DataFrame. Some common functions include:\n",
    "\n",
    "(1) head(): Returns the first n rows of the DataFrame. It is useful for quickly inspecting the structure and content of the DataFrame.\n",
    "Example: df.head(5) returns the first 5 rows of the DataFrame.\n",
    "\n",
    "(2) tail(): Returns the last n rows of the DataFrame. It is useful for quickly checking the end of the DataFrame.\n",
    "Example: df.tail(3) returns the last 3 rows of the DataFrame.\n",
    "\n",
    "(3) info(): Provides a concise summary of the DataFrame, including the number of non-null values and the data types of each column. It helps in understanding the overall structure of the DataFrame.\n",
    "Example: df.info() displays the summary information of the DataFrame.\n",
    "\n",
    "(4) describe(): Generates descriptive statistics of the DataFrame, such as count, mean, standard deviation, minimum, maximum, and quartiles. It provides insights into the distribution of numerical data.\n",
    "Example: df.describe() provides the statistical summary of the DataFrame.\n",
    "\n",
    "(5) sort_values(): Sorts the DataFrame by one or more columns. It allows you to arrange the data in a specific order based on column values.\n",
    "Example: df.sort_values('Age') sorts the DataFrame by the 'Age' column in ascending order.\n",
    "\n",
    "(6) groupby(): Groups the DataFrame by one or more columns and allows you to perform aggregate functions on the grouped data. It is useful for data grouping and summarization.\n",
    "Example: df.groupby('Gender')['Age'].mean() calculates the average age for each gender in the DataFrame.\n",
    "\n",
    "(7) drop(): Removes rows or columns from the DataFrame. It is used to eliminate unnecessary or redundant data.\n",
    "Example: df.drop('Gender', axis=1) removes the 'Gender' column from the DataFrame."
   ]
  },
  {
   "cell_type": "code",
   "execution_count": null,
   "id": "aad99970-56ec-4c39-9c5d-d4d50f657152",
   "metadata": {},
   "outputs": [],
   "source": []
  },
  {
   "cell_type": "code",
   "execution_count": null,
   "id": "b97e003b-1e6a-412d-8d8c-489d9116f055",
   "metadata": {},
   "outputs": [],
   "source": []
  },
  {
   "cell_type": "markdown",
   "id": "ba2b15e0-2039-4252-a7a9-544ce2a2ed9f",
   "metadata": {},
   "source": [
    "Q6. Which of the following is mutable in nature Series, DataFrame, Panel?"
   ]
  },
  {
   "cell_type": "markdown",
   "id": "4277325a-e9a7-4df2-a011-953561244fa1",
   "metadata": {},
   "source": [
    "Among the options provided, the mutable nature applies to the DataFrame and Panel in Pandas. The Series object, on the other hand, is immutable.\n",
    "\n",
    "A DataFrame is mutable because it allows modifications to its rows, columns, and values. You can add or remove columns, change column names, modify values, and perform various data manipulations.\n",
    "\n",
    "A Panel is also mutable, similar to a DataFrame. It is a three-dimensional data structure in Pandas that can be modified by adding or removing items, changing values, or performing operations on the data.\n",
    "\n",
    "In contrast, a Series is an immutable data structure in Pandas. Once created, you cannot change the values within a Series directly. You can create a new Series with modified values, but the original Series remains unchanged.\n",
    "\n",
    "So, the correct answer is Series (immutable), DataFrame (mutable), and Panel (mutable)."
   ]
  },
  {
   "cell_type": "code",
   "execution_count": null,
   "id": "5900ca9d-e492-4b8e-862b-1e6cf9ed4ed3",
   "metadata": {},
   "outputs": [],
   "source": []
  },
  {
   "cell_type": "code",
   "execution_count": null,
   "id": "d2280aac-7f42-4d14-a52b-6d8477d7bfab",
   "metadata": {},
   "outputs": [],
   "source": []
  },
  {
   "cell_type": "markdown",
   "id": "dbbf3d1a-6274-4516-a529-00443db5850d",
   "metadata": {},
   "source": [
    "Q7. Create a DataFrame using multiple Series. Explain with an example."
   ]
  },
  {
   "cell_type": "code",
   "execution_count": 75,
   "id": "eab1f7c1-6405-49e0-912b-87646e947b68",
   "metadata": {},
   "outputs": [
    {
     "data": {
      "text/html": [
       "<div>\n",
       "<style scoped>\n",
       "    .dataframe tbody tr th:only-of-type {\n",
       "        vertical-align: middle;\n",
       "    }\n",
       "\n",
       "    .dataframe tbody tr th {\n",
       "        vertical-align: top;\n",
       "    }\n",
       "\n",
       "    .dataframe thead th {\n",
       "        text-align: right;\n",
       "    }\n",
       "</style>\n",
       "<table border=\"1\" class=\"dataframe\">\n",
       "  <thead>\n",
       "    <tr style=\"text-align: right;\">\n",
       "      <th></th>\n",
       "      <th>Name</th>\n",
       "      <th>Age</th>\n",
       "      <th>Gender</th>\n",
       "    </tr>\n",
       "  </thead>\n",
       "  <tbody>\n",
       "    <tr>\n",
       "      <th>0</th>\n",
       "      <td>Alice</td>\n",
       "      <td>25</td>\n",
       "      <td>Female</td>\n",
       "    </tr>\n",
       "    <tr>\n",
       "      <th>1</th>\n",
       "      <td>Bob</td>\n",
       "      <td>30</td>\n",
       "      <td>Male</td>\n",
       "    </tr>\n",
       "    <tr>\n",
       "      <th>2</th>\n",
       "      <td>Claire</td>\n",
       "      <td>27</td>\n",
       "      <td>Female</td>\n",
       "    </tr>\n",
       "  </tbody>\n",
       "</table>\n",
       "</div>"
      ],
      "text/plain": [
       "     Name  Age  Gender\n",
       "0   Alice   25  Female\n",
       "1     Bob   30    Male\n",
       "2  Claire   27  Female"
      ]
     },
     "execution_count": 75,
     "metadata": {},
     "output_type": "execute_result"
    }
   ],
   "source": [
    "import pandas as pd\n",
    "\n",
    "# Create Series objects\n",
    "name_series = pd.Series(['Alice', 'Bob', 'Claire'])\n",
    "age_series = pd.Series([25, 30, 27])\n",
    "gender_series = pd.Series(['Female', 'Male', 'Female'])\n",
    "\n",
    "# Create a DataFrame using the Series\n",
    "data = {'Name': name_series, 'Age': age_series, 'Gender': gender_series}\n",
    "df = pd.DataFrame(data)\n",
    "\n",
    "# Print the DataFrame\n",
    "df"
   ]
  },
  {
   "cell_type": "code",
   "execution_count": null,
   "id": "9a85ed69-d45b-41e2-8725-da6780d1167a",
   "metadata": {},
   "outputs": [],
   "source": []
  }
 ],
 "metadata": {
  "kernelspec": {
   "display_name": "Python 3 (ipykernel)",
   "language": "python",
   "name": "python3"
  },
  "language_info": {
   "codemirror_mode": {
    "name": "ipython",
    "version": 3
   },
   "file_extension": ".py",
   "mimetype": "text/x-python",
   "name": "python",
   "nbconvert_exporter": "python",
   "pygments_lexer": "ipython3",
   "version": "3.10.8"
  }
 },
 "nbformat": 4,
 "nbformat_minor": 5
}
