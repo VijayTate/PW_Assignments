{
 "cells": [
  {
   "cell_type": "markdown",
   "id": "0ea51440-542d-466f-8626-c668cb4f3c2c",
   "metadata": {},
   "source": [
    "Q1. What is Flask Framework? What are the advantages of Flask Framework?"
   ]
  },
  {
   "cell_type": "markdown",
   "id": "fb6f894b-e218-42c1-85db-88e56fd2a60d",
   "metadata": {},
   "source": [
    "Flask is a lightweight and flexible web framework for Python that allows developers to build web applications quickly and efficiently. The advantages of using the Flask framework is as follows:\n",
    "\n",
    "1. Lightweight and Minimalistic: Flask is designed to be minimalistic, providing only the essential components for web development. It allows developers to choose and integrate additional libraries and tools as per their requirements.\n",
    "\n",
    "2. Easy to Learn and Use: Flask has a simple and intuitive API, making it easy for developers to understand and get started with. \n",
    "\n",
    "3. Flexible and Extensible: Flask allows developers to customize and extend its functionality easily. It provides a wide range of extensions and libraries that can be added as needed, such as database integration, authentication, and session management.\n",
    "\n",
    "4. Modular Design: Flask follows a modular design, allowing developers to break their applications into reusable components called \"blueprints.\" This helps in organizing code and promoting code reusability across different projects.\n",
    "\n",
    "5. Large and Active Community: Flask has a large and active community of developers, which means there are plenty of resources, tutorials, and community support available. This makes it easier to find help, share knowledge, and stay updated with the latest developments.\n",
    "\n",
    "6. Integration with Existing Tools: Flask can integrate well with other tools and frameworks, allowing developers to leverage existing libraries and systems. It provides seamless integration with popular databases, templating engines, and authentication mechanisms.\n",
    "\n",
    "7. Scalability: Flask is capable of handling small to medium-sized applications efficiently. It provides a solid foundation for scaling applications by integrating with other tools and frameworks like SQLAlchemy, Celery, and Redis.\n",
    "\n",
    "8. Testing and Debugging: Flask provides built-in support for unit testing and debugging. It includes a test client for simulating HTTP requests and a powerful debugging mode that aids in identifying and fixing issues during development."
   ]
  },
  {
   "cell_type": "code",
   "execution_count": null,
   "id": "9679fcbf-d7d5-4b84-a303-f7b33fe3e040",
   "metadata": {},
   "outputs": [],
   "source": []
  },
  {
   "cell_type": "code",
   "execution_count": null,
   "id": "1dd6f19d-1755-41eb-80cb-acaf9e7b65a3",
   "metadata": {},
   "outputs": [],
   "source": []
  },
  {
   "cell_type": "markdown",
   "id": "79c3a78b-8d9b-4013-9922-5774730e0835",
   "metadata": {},
   "source": [
    "Q2. Create a simple Flask application to display ‘Hello World!!’. Attach the screenshot of the output in\n",
    "Jupyter Notebook."
   ]
  },
  {
   "cell_type": "code",
   "execution_count": null,
   "id": "adaf6c6d-9f74-48fe-917c-3e16b8178455",
   "metadata": {},
   "outputs": [],
   "source": [
    "from flask import Flask\n",
    "from flask import request\n",
    "\n",
    "app = Flask(__name__)\n",
    "\n",
    "@app.route(\"/\")\n",
    "def hello_world():\n",
    "    return \"Hello, World!\""
   ]
  },
  {
   "cell_type": "markdown",
   "id": "1f4593e3-0db0-4c9b-9da3-a8571e1b0652",
   "metadata": {},
   "source": [
    "<img src=\"hello_world.png\" alt=\"My Image\">"
   ]
  },
  {
   "cell_type": "code",
   "execution_count": null,
   "id": "df853baa-8f6a-479f-b923-60b27998d432",
   "metadata": {},
   "outputs": [],
   "source": []
  },
  {
   "cell_type": "code",
   "execution_count": null,
   "id": "8af76b03-a315-44ef-9779-33e0240d379b",
   "metadata": {},
   "outputs": [],
   "source": []
  },
  {
   "cell_type": "markdown",
   "id": "8d149da3-fdd6-4eec-a778-d162e2f03071",
   "metadata": {},
   "source": [
    "Q3. What is App routing in Flask? Why do we use app routes?"
   ]
  },
  {
   "cell_type": "markdown",
   "id": "01445abf-a31c-4656-9e51-56f64830e819",
   "metadata": {},
   "source": [
    "In Flask, app routing refers to the process of mapping URL routes to corresponding functions or view handlers in your Flask application. The main purpose of app routing in Flask is to define the behavior of the application based on the incoming requests. \n",
    "App routes are used in Flask for:\n",
    "\n",
    "1) URL Mapping: App routes allow you to map specific URLs or routes to the corresponding functions or view handlers in your Flask application. This helps in organizing your application's functionality and defining the actions to be taken when a particular route is accessed.\n",
    "\n",
    "2) Request Handling: App routes provide a convenient way to handle different types of HTTP requests (GET, POST, etc.) on different routes. You can define separate functions or methods to handle each type of request on a specific route.\n",
    "\n",
    "3) Modular Design: By using app routes, you can structure your Flask application in a modular manner. Each route can be associated with a specific functionality or feature of your application, making it easier to understand and maintain the codebase.\n",
    "\n",
    "4) Code Reusability: App routes allow you to reuse common functionality across multiple routes. You can define separate functions for common tasks and call them from different routes, promoting code reusability and reducing code duplication."
   ]
  },
  {
   "cell_type": "code",
   "execution_count": null,
   "id": "d91bffd2-3709-4417-a820-468118558a88",
   "metadata": {},
   "outputs": [],
   "source": []
  },
  {
   "cell_type": "code",
   "execution_count": null,
   "id": "9def401a-609e-4dac-8db4-0c84874607e8",
   "metadata": {},
   "outputs": [],
   "source": []
  },
  {
   "cell_type": "markdown",
   "id": "ff655be3-d36a-4591-bb55-5859552e55b0",
   "metadata": {},
   "source": [
    "Q4. Create a “/welcome” route to display the welcome message “Welcome to ABC Corporation” and a “/”\n",
    "route to show the following details:\n",
    "Company Name: ABC Corporation\n",
    "Location: India\n",
    "Contact Detail: 999-999-9999\n",
    "\n",
    "Attach the screenshot of the output in Jupyter Notebook."
   ]
  },
  {
   "cell_type": "markdown",
   "id": "8e7f3ca5-8107-4994-95c9-bd8c942ef3aa",
   "metadata": {},
   "source": [
    "<img src=\"welcome_msg.png\" alt=\"My Image\">"
   ]
  },
  {
   "cell_type": "markdown",
   "id": "1b3ca235-9dc9-4835-804f-daf967d03daa",
   "metadata": {},
   "source": [
    "<img src=\"company_details.png\" alt=\"My Image\">"
   ]
  },
  {
   "cell_type": "code",
   "execution_count": null,
   "id": "08f7530a-c734-41aa-997f-307e711cd39a",
   "metadata": {},
   "outputs": [],
   "source": []
  },
  {
   "cell_type": "code",
   "execution_count": null,
   "id": "69534434-447b-4785-b343-f164ad2f6072",
   "metadata": {},
   "outputs": [],
   "source": []
  },
  {
   "cell_type": "markdown",
   "id": "25dde9fe-3fa2-4328-aba1-1c30b6aa8431",
   "metadata": {},
   "source": [
    "Q5. What function is used in Flask for URL Building? Write a Python code to demonstrate the working of the\n",
    "url_for() function."
   ]
  },
  {
   "cell_type": "markdown",
   "id": "4fd4a3a3-4c95-4b88-b06d-8e9fa35715fd",
   "metadata": {},
   "source": [
    "In Flask, the url_for() function is used for URL building. It generates a URL for a specific route function based on the route's name.\n",
    "Example:"
   ]
  },
  {
   "cell_type": "code",
   "execution_count": null,
   "id": "11ef6d20-1d6e-4aaf-92cf-6ed666ea696a",
   "metadata": {},
   "outputs": [],
   "source": [
    "from flask import Flask, url_for\n",
    "\n",
    "app = Flask(__name__)\n",
    "\n",
    "@app.route('/')\n",
    "def index():\n",
    "    return 'Welcome to the Home Page!'\n",
    "\n",
    "@app.route('/about')\n",
    "def about():\n",
    "    return 'This is the About Page.'\n",
    "\n",
    "@app.route('/contact')\n",
    "def contact():\n",
    "    return 'You can reach us at the Contact Page.'\n",
    "\n",
    "\n",
    "if __name__ == '__main__':\n",
    "    with app.test_request_context():\n",
    "        # Generating URLs using url_for()\n",
    "        home_url = url_for('index')\n",
    "        about_url = url_for('about')\n",
    "        contact_url = url_for('contact')\n",
    "\n",
    "        # Printing the generated URLs\n",
    "        print(f'Home URL: {home_url}')\n",
    "        print(f'About URL: {about_url}')\n",
    "        print(f'Contact URL: {contact_url}')"
   ]
  },
  {
   "cell_type": "markdown",
   "id": "1a7c3ef2-30c2-4dd8-afc1-7545677dc685",
   "metadata": {},
   "source": [
    "The generated URLs are then printed to the console. Running this code will output the respective URLs for each route:"
   ]
  },
  {
   "cell_type": "code",
   "execution_count": null,
   "id": "f6eda0e6-0914-43e1-b15d-941d0152d029",
   "metadata": {},
   "outputs": [],
   "source": [
    "Home URL: /\n",
    "About URL: /about\n",
    "Contact URL: /contact"
   ]
  }
 ],
 "metadata": {
  "kernelspec": {
   "display_name": "Python 3 (ipykernel)",
   "language": "python",
   "name": "python3"
  },
  "language_info": {
   "codemirror_mode": {
    "name": "ipython",
    "version": 3
   },
   "file_extension": ".py",
   "mimetype": "text/x-python",
   "name": "python",
   "nbconvert_exporter": "python",
   "pygments_lexer": "ipython3",
   "version": "3.10.8"
  }
 },
 "nbformat": 4,
 "nbformat_minor": 5
}
