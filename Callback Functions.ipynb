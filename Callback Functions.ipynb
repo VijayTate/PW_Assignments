{
 "cells": [
  {
   "cell_type": "markdown",
   "id": "f5f5c673-e5ce-4b27-b297-84ef51a50613",
   "metadata": {},
   "source": [
    "#### Q1. Install and load the latest versions of TensorFlow and Keras. Print their versions."
   ]
  },
  {
   "cell_type": "code",
   "execution_count": 4,
   "id": "37376c3a-e142-45e0-8422-6b21b04c3a98",
   "metadata": {},
   "outputs": [
    {
     "name": "stdout",
     "output_type": "stream",
     "text": [
      "Requirement already satisfied: tensorflow in /opt/conda/lib/python3.10/site-packages (2.14.0)\n",
      "Requirement already satisfied: tensorflow-io-gcs-filesystem>=0.23.1 in /opt/conda/lib/python3.10/site-packages (from tensorflow) (0.34.0)\n",
      "Requirement already satisfied: typing-extensions>=3.6.6 in /opt/conda/lib/python3.10/site-packages (from tensorflow) (4.4.0)\n",
      "Requirement already satisfied: keras<2.15,>=2.14.0 in /opt/conda/lib/python3.10/site-packages (from tensorflow) (2.14.0)\n",
      "Requirement already satisfied: termcolor>=1.1.0 in /opt/conda/lib/python3.10/site-packages (from tensorflow) (2.3.0)\n",
      "Requirement already satisfied: h5py>=2.9.0 in /opt/conda/lib/python3.10/site-packages (from tensorflow) (3.7.0)\n",
      "Requirement already satisfied: numpy>=1.23.5 in /opt/conda/lib/python3.10/site-packages (from tensorflow) (1.23.5)\n",
      "Requirement already satisfied: wrapt<1.15,>=1.11.0 in /opt/conda/lib/python3.10/site-packages (from tensorflow) (1.14.1)\n",
      "Requirement already satisfied: flatbuffers>=23.5.26 in /opt/conda/lib/python3.10/site-packages (from tensorflow) (23.5.26)\n",
      "Requirement already satisfied: packaging in /opt/conda/lib/python3.10/site-packages (from tensorflow) (22.0)\n",
      "Requirement already satisfied: tensorflow-estimator<2.15,>=2.14.0 in /opt/conda/lib/python3.10/site-packages (from tensorflow) (2.14.0)\n",
      "Requirement already satisfied: libclang>=13.0.0 in /opt/conda/lib/python3.10/site-packages (from tensorflow) (16.0.6)\n",
      "Requirement already satisfied: protobuf!=4.21.0,!=4.21.1,!=4.21.2,!=4.21.3,!=4.21.4,!=4.21.5,<5.0.0dev,>=3.20.3 in /opt/conda/lib/python3.10/site-packages (from tensorflow) (4.21.11)\n",
      "Requirement already satisfied: opt-einsum>=2.3.2 in /opt/conda/lib/python3.10/site-packages (from tensorflow) (3.3.0)\n",
      "Requirement already satisfied: six>=1.12.0 in /opt/conda/lib/python3.10/site-packages (from tensorflow) (1.16.0)\n",
      "Requirement already satisfied: absl-py>=1.0.0 in /opt/conda/lib/python3.10/site-packages (from tensorflow) (2.0.0)\n",
      "Requirement already satisfied: grpcio<2.0,>=1.24.3 in /opt/conda/lib/python3.10/site-packages (from tensorflow) (1.58.0)\n",
      "Requirement already satisfied: gast!=0.5.0,!=0.5.1,!=0.5.2,>=0.2.1 in /opt/conda/lib/python3.10/site-packages (from tensorflow) (0.5.4)\n",
      "Requirement already satisfied: ml-dtypes==0.2.0 in /opt/conda/lib/python3.10/site-packages (from tensorflow) (0.2.0)\n",
      "Requirement already satisfied: google-pasta>=0.1.1 in /opt/conda/lib/python3.10/site-packages (from tensorflow) (0.2.0)\n",
      "Requirement already satisfied: tensorboard<2.15,>=2.14 in /opt/conda/lib/python3.10/site-packages (from tensorflow) (2.14.1)\n",
      "Requirement already satisfied: astunparse>=1.6.0 in /opt/conda/lib/python3.10/site-packages (from tensorflow) (1.6.3)\n",
      "Requirement already satisfied: setuptools in /opt/conda/lib/python3.10/site-packages (from tensorflow) (65.5.1)\n",
      "Requirement already satisfied: wheel<1.0,>=0.23.0 in /opt/conda/lib/python3.10/site-packages (from astunparse>=1.6.0->tensorflow) (0.38.4)\n",
      "Requirement already satisfied: google-auth<3,>=1.6.3 in /opt/conda/lib/python3.10/site-packages (from tensorboard<2.15,>=2.14->tensorflow) (2.23.1)\n",
      "Requirement already satisfied: markdown>=2.6.8 in /opt/conda/lib/python3.10/site-packages (from tensorboard<2.15,>=2.14->tensorflow) (3.4.4)\n",
      "Requirement already satisfied: requests<3,>=2.21.0 in /opt/conda/lib/python3.10/site-packages (from tensorboard<2.15,>=2.14->tensorflow) (2.31.0)\n",
      "Requirement already satisfied: tensorboard-data-server<0.8.0,>=0.7.0 in /opt/conda/lib/python3.10/site-packages (from tensorboard<2.15,>=2.14->tensorflow) (0.7.1)\n",
      "Requirement already satisfied: google-auth-oauthlib<1.1,>=0.5 in /opt/conda/lib/python3.10/site-packages (from tensorboard<2.15,>=2.14->tensorflow) (1.0.0)\n",
      "Requirement already satisfied: werkzeug>=1.0.1 in /opt/conda/lib/python3.10/site-packages (from tensorboard<2.15,>=2.14->tensorflow) (2.3.7)\n",
      "Requirement already satisfied: rsa<5,>=3.1.4 in /opt/conda/lib/python3.10/site-packages (from google-auth<3,>=1.6.3->tensorboard<2.15,>=2.14->tensorflow) (4.9)\n",
      "Requirement already satisfied: urllib3>=2.0.5 in /opt/conda/lib/python3.10/site-packages (from google-auth<3,>=1.6.3->tensorboard<2.15,>=2.14->tensorflow) (2.0.5)\n",
      "Requirement already satisfied: cachetools<6.0,>=2.0.0 in /opt/conda/lib/python3.10/site-packages (from google-auth<3,>=1.6.3->tensorboard<2.15,>=2.14->tensorflow) (5.3.1)\n",
      "Requirement already satisfied: pyasn1-modules>=0.2.1 in /opt/conda/lib/python3.10/site-packages (from google-auth<3,>=1.6.3->tensorboard<2.15,>=2.14->tensorflow) (0.3.0)\n",
      "Requirement already satisfied: requests-oauthlib>=0.7.0 in /opt/conda/lib/python3.10/site-packages (from google-auth-oauthlib<1.1,>=0.5->tensorboard<2.15,>=2.14->tensorflow) (1.3.1)\n",
      "Requirement already satisfied: charset-normalizer<4,>=2 in /opt/conda/lib/python3.10/site-packages (from requests<3,>=2.21.0->tensorboard<2.15,>=2.14->tensorflow) (2.1.1)\n",
      "Requirement already satisfied: idna<4,>=2.5 in /opt/conda/lib/python3.10/site-packages (from requests<3,>=2.21.0->tensorboard<2.15,>=2.14->tensorflow) (3.4)\n",
      "Requirement already satisfied: certifi>=2017.4.17 in /opt/conda/lib/python3.10/site-packages (from requests<3,>=2.21.0->tensorboard<2.15,>=2.14->tensorflow) (2022.12.7)\n",
      "Requirement already satisfied: MarkupSafe>=2.1.1 in /opt/conda/lib/python3.10/site-packages (from werkzeug>=1.0.1->tensorboard<2.15,>=2.14->tensorflow) (2.1.1)\n",
      "Requirement already satisfied: pyasn1<0.6.0,>=0.4.6 in /opt/conda/lib/python3.10/site-packages (from pyasn1-modules>=0.2.1->google-auth<3,>=1.6.3->tensorboard<2.15,>=2.14->tensorflow) (0.5.0)\n",
      "Requirement already satisfied: oauthlib>=3.0.0 in /opt/conda/lib/python3.10/site-packages (from requests-oauthlib>=0.7.0->google-auth-oauthlib<1.1,>=0.5->tensorboard<2.15,>=2.14->tensorflow) (3.2.2)\n",
      "Requirement already satisfied: keras in /opt/conda/lib/python3.10/site-packages (2.14.0)\n",
      "TensorFlow version: 2.14.0\n"
     ]
    },
    {
     "ename": "AttributeError",
     "evalue": "module 'keras.api._v2.keras' has no attribute '__version__'",
     "output_type": "error",
     "traceback": [
      "\u001b[0;31m---------------------------------------------------------------------------\u001b[0m",
      "\u001b[0;31mAttributeError\u001b[0m                            Traceback (most recent call last)",
      "Cell \u001b[0;32mIn[4], line 11\u001b[0m\n\u001b[1;32m      9\u001b[0m \u001b[38;5;66;03m# Print the versions\u001b[39;00m\n\u001b[1;32m     10\u001b[0m \u001b[38;5;28mprint\u001b[39m(\u001b[38;5;124m\"\u001b[39m\u001b[38;5;124mTensorFlow version:\u001b[39m\u001b[38;5;124m\"\u001b[39m, tf\u001b[38;5;241m.\u001b[39m__version__)\n\u001b[0;32m---> 11\u001b[0m \u001b[38;5;28mprint\u001b[39m(\u001b[38;5;124m\"\u001b[39m\u001b[38;5;124mKeras version:\u001b[39m\u001b[38;5;124m\"\u001b[39m, \u001b[43mkeras\u001b[49m\u001b[38;5;241;43m.\u001b[39;49m\u001b[43m__version__\u001b[49m)\n",
      "\u001b[0;31mAttributeError\u001b[0m: module 'keras.api._v2.keras' has no attribute '__version__'"
     ]
    }
   ],
   "source": [
    "# Install TensorFlow and Keras\n",
    "!pip install tensorflow\n",
    "!pip install keras\n",
    "\n",
    "# Import TensorFlow and Keras\n",
    "import tensorflow as tf\n",
    "from tensorflow import keras\n",
    "\n",
    "# Print the versions\n",
    "print(\"TensorFlow version:\", tf.__version__)\n",
    "print(\"Keras version:\", keras.__version__)\n"
   ]
  },
  {
   "cell_type": "code",
   "execution_count": null,
   "id": "803d58ac-47ed-4fa4-85ae-b71d0d2cfc4a",
   "metadata": {},
   "outputs": [],
   "source": []
  },
  {
   "cell_type": "code",
   "execution_count": null,
   "id": "2f12ac86-f543-4d43-bd2e-28ca3e846268",
   "metadata": {},
   "outputs": [],
   "source": []
  },
  {
   "cell_type": "markdown",
   "id": "1e23f77c-9277-44ed-9da1-a7b0cd7db0ff",
   "metadata": {},
   "source": [
    "#### Q2. Load the Wine Quality dataset and explore its dimensions.\n",
    "Dataset link: https://www.kaggle.com/datasets/nareshbhat/wine-quality-binary-classification"
   ]
  },
  {
   "cell_type": "markdown",
   "id": "a4146122-37f8-4d94-9db0-b13489aa09e6",
   "metadata": {},
   "source": [
    "#### Q3. Check for null values, identify categorical variables, and encode them."
   ]
  },
  {
   "cell_type": "markdown",
   "id": "e4715e26-f831-4ef1-a082-6d566a6dfec6",
   "metadata": {},
   "source": [
    "#### Q4. Separate the features and target variables from the dataframe."
   ]
  },
  {
   "cell_type": "markdown",
   "id": "8fd0b66a-fa56-4031-a1bc-ebf5a57534cf",
   "metadata": {},
   "source": [
    "#### Q5. Perform a train-test split and divide the data into training, validation, and test datasets."
   ]
  },
  {
   "cell_type": "markdown",
   "id": "f99093c7-6245-473d-8bcd-e88f9f6c1072",
   "metadata": {},
   "source": [
    "#### Q6. Perform scaling on the dataset."
   ]
  },
  {
   "cell_type": "markdown",
   "id": "218eb7c2-970a-436e-895f-ac3ee351e39b",
   "metadata": {},
   "source": [
    "#### Q7. Create at least 2 hidden layers and an output layer for the binary categorical variables."
   ]
  },
  {
   "cell_type": "markdown",
   "id": "b2fff36f-b3f9-4f08-8fa4-4c0270bda34c",
   "metadata": {},
   "source": [
    "#### Q8. Create a Sequential model and add all the layers to it."
   ]
  },
  {
   "cell_type": "markdown",
   "id": "5165671d-ae1b-46d3-93f9-a204292b845a",
   "metadata": {},
   "source": [
    "#### Q9. Implement a TensorBoard callback to visualize and monitor the model's training process."
   ]
  },
  {
   "cell_type": "markdown",
   "id": "3e5ce985-dc82-4b53-99a0-8c9d791c3365",
   "metadata": {},
   "source": [
    "#### Q10. Use Early Stopping to prevent overfitting by monitoring a chosen metric and stopping the training if no improvement is observed."
   ]
  },
  {
   "cell_type": "markdown",
   "id": "163f8ec5-8cb0-4a9a-8db5-777eacda34ec",
   "metadata": {},
   "source": [
    "#### Q11. Implement a ModelCheckpoint callback to save the best model based on a chosen metric during training."
   ]
  },
  {
   "cell_type": "markdown",
   "id": "24171c4a-768b-4cad-97ce-f1a036eb8b7f",
   "metadata": {},
   "source": [
    "#### Q12. Print the model summary."
   ]
  },
  {
   "cell_type": "markdown",
   "id": "ca5efb12-515f-4576-b7d0-9a93485af5fc",
   "metadata": {},
   "source": [
    "#### Q13. Use binary cross-entropy as the loss function, Adam optimizer, and include the metric ['accuracy']."
   ]
  },
  {
   "cell_type": "markdown",
   "id": "e082aafd-cfe7-48cd-b966-ccac6d437a5b",
   "metadata": {},
   "source": [
    "#### Q14. Compile the model with the specified loss function, optimizer, and metrics."
   ]
  },
  {
   "cell_type": "markdown",
   "id": "a8c5ce2d-cf1a-4127-a380-e553d101a28b",
   "metadata": {},
   "source": [
    "#### Q15. Fit the model to the data, incorporating the TensorBoard, Early Stopping, and ModelCheckpoint callbacks."
   ]
  },
  {
   "cell_type": "markdown",
   "id": "f68b1835-d8f9-469d-9d0e-b16d91c14f6d",
   "metadata": {},
   "source": [
    "#### Q16. Get the model's parameters."
   ]
  },
  {
   "cell_type": "markdown",
   "id": "73bdd0a2-8813-4c9b-ac3d-eeb5a23cbcd1",
   "metadata": {},
   "source": [
    "#### Q17. Store the model's training history as a Pandas DataFrame."
   ]
  },
  {
   "cell_type": "markdown",
   "id": "44cbd0fd-cd74-451e-8169-76afac818335",
   "metadata": {},
   "source": [
    "#### Q18. Plot the model's training history."
   ]
  },
  {
   "cell_type": "markdown",
   "id": "a8cc51d4-1837-469f-b043-f0ebae011328",
   "metadata": {},
   "source": [
    "#### Q19. Evaluate the model's performance using the test data."
   ]
  },
  {
   "cell_type": "code",
   "execution_count": 121,
   "id": "7bd823b9-7000-4a1a-84a1-6d3a5b5076a8",
   "metadata": {},
   "outputs": [],
   "source": [
    "# Load necessary libraries and modules\n",
    "import pandas as pd\n",
    "import numpy as np\n",
    "import tensorflow as tf\n",
    "from tensorflow import keras\n",
    "from sklearn.model_selection import train_test_split\n",
    "from sklearn.preprocessing import StandardScaler\n",
    "from tensorflow.keras.models import Sequential\n",
    "from tensorflow.keras.layers import Dense\n",
    "from tensorflow.keras.callbacks import TensorBoard, EarlyStopping, ModelCheckpoint\n",
    "import datetime\n",
    "import matplotlib.pyplot as plt\n"
   ]
  },
  {
   "cell_type": "code",
   "execution_count": 122,
   "id": "39a225b0-c47f-4766-b1ec-a68c7874629c",
   "metadata": {},
   "outputs": [
    {
     "name": "stdout",
     "output_type": "stream",
     "text": [
      "Dimensions of the dataset: (1599, 12)\n",
      "Null values in the dataset:\n",
      "fixed acidity           0\n",
      "volatile acidity        0\n",
      "citric acid             0\n",
      "residual sugar          0\n",
      "chlorides               0\n",
      "free sulfur dioxide     0\n",
      "total sulfur dioxide    0\n",
      "density                 0\n",
      "pH                      0\n",
      "sulphates               0\n",
      "alcohol                 0\n",
      "quality                 0\n",
      "dtype: int64\n"
     ]
    }
   ],
   "source": [
    "# Load and explore the dataset\n",
    "wine_data = pd.read_csv(\"wine.csv\")\n",
    "print(\"Dimensions of the dataset:\", wine_data.shape)\n",
    "print(\"Null values in the dataset:\")\n",
    "print(wine_data.isnull().sum())\n"
   ]
  },
  {
   "cell_type": "code",
   "execution_count": 125,
   "id": "fc3ea4e6-4f35-458c-bad2-53ee51991de7",
   "metadata": {},
   "outputs": [],
   "source": [
    "# Identify categorical variables and encode them\n",
    "categorical_cols = wine_data.select_dtypes(include=['object']).columns.tolist()\n",
    "label_encoders = {}\n",
    "for col in categorical_cols:\n",
    "    le = LabelEncoder()\n",
    "    wine_data[col] = le.fit_transform(wine_data[col])\n",
    "    label_encoders[col] = le\n",
    "\n",
    "    # Separate features and target variables\n",
    "X = wine_data.drop(columns=['quality'])\n",
    "y = wine_data['quality']\n"
   ]
  },
  {
   "cell_type": "code",
   "execution_count": 126,
   "id": "9b822643-17a1-4a9a-a681-aac8d66c4a4a",
   "metadata": {},
   "outputs": [],
   "source": [
    "# Train-test split\n",
    "X_train, X_temp, y_train, y_temp = train_test_split(X, y, test_size=0.2, random_state=42)\n",
    "X_val, X_test, y_val, y_test = train_test_split(X_temp, y_temp, test_size=0.5, random_state=42)\n",
    "\n",
    "# Scaling\n",
    "scaler = StandardScaler()\n",
    "X_train = scaler.fit_transform(X_train)\n",
    "X_val = scaler.transform(X_val)\n",
    "X_test = scaler.transform(X_test)\n"
   ]
  },
  {
   "cell_type": "code",
   "execution_count": 127,
   "id": "458f732b-499c-47f8-b316-77a0159fcd5d",
   "metadata": {},
   "outputs": [],
   "source": [
    "# Create a Sequential model with hidden layers\n",
    "model = Sequential()\n",
    "model.add(Dense(64, activation='relu', input_shape=(X_train.shape[1],)))\n",
    "model.add(Dense(32, activation='relu'))\n",
    "model.add(Dense(1, activation='sigmoid'))\n",
    "\n",
    "# Compile the model\n",
    "model.compile(optimizer='adam', loss='binary_crossentropy', metrics=['accuracy'])\n"
   ]
  },
  {
   "cell_type": "code",
   "execution_count": 129,
   "id": "9de3d7c0-a6a6-45fd-b21d-b3a26ee83eb1",
   "metadata": {},
   "outputs": [
    {
     "name": "stdout",
     "output_type": "stream",
     "text": [
      "Model: \"sequential_9\"\n",
      "_________________________________________________________________\n",
      " Layer (type)                Output Shape              Param #   \n",
      "=================================================================\n",
      " dense_27 (Dense)            (None, 64)                768       \n",
      "                                                                 \n",
      " dense_28 (Dense)            (None, 32)                2080      \n",
      "                                                                 \n",
      " dense_29 (Dense)            (None, 1)                 33        \n",
      "                                                                 \n",
      "=================================================================\n",
      "Total params: 2881 (11.25 KB)\n",
      "Trainable params: 2881 (11.25 KB)\n",
      "Non-trainable params: 0 (0.00 Byte)\n",
      "_________________________________________________________________\n"
     ]
    }
   ],
   "source": [
    "# Create callbacks\n",
    "log_dir = \"logs/fit/\" + datetime.datetime.now().strftime(\"%Y%m%d-%H%M%S\")\n",
    "tensorboard_callback = TensorBoard(log_dir=log_dir, histogram_freq=1)\n",
    "early_stopping_callback = EarlyStopping(monitor='val_loss', patience=5, restore_best_weights=True)\n",
    "model_checkpoint_callback = ModelCheckpoint(filepath=\"best_model.h5\", monitor='val_accuracy', save_best_only=True)\n",
    "\n",
    "# Print model summary\n",
    "model.summary()\n"
   ]
  },
  {
   "cell_type": "code",
   "execution_count": 130,
   "id": "9b6956cb-7d11-4120-ba94-043c4871b17a",
   "metadata": {},
   "outputs": [
    {
     "name": "stdout",
     "output_type": "stream",
     "text": [
      "Epoch 1/100\n",
      "40/40 [==============================] - 1s 9ms/step - loss: 0.6573 - accuracy: 0.5911 - val_loss: 0.5732 - val_accuracy: 0.6812\n",
      "Epoch 2/100\n",
      "21/40 [==============>...............] - ETA: 0s - loss: 0.5745 - accuracy: 0.7054"
     ]
    },
    {
     "name": "stderr",
     "output_type": "stream",
     "text": [
      "/opt/conda/lib/python3.10/site-packages/keras/src/engine/training.py:3079: UserWarning: You are saving your model as an HDF5 file via `model.save()`. This file format is considered legacy. We recommend using instead the native Keras format, e.g. `model.save('my_model.keras')`.\n",
      "  saving_api.save_model(\n"
     ]
    },
    {
     "name": "stdout",
     "output_type": "stream",
     "text": [
      "40/40 [==============================] - 0s 5ms/step - loss: 0.5496 - accuracy: 0.7185 - val_loss: 0.5565 - val_accuracy: 0.6938\n",
      "Epoch 3/100\n",
      "40/40 [==============================] - 0s 5ms/step - loss: 0.5257 - accuracy: 0.7342 - val_loss: 0.5434 - val_accuracy: 0.7125\n",
      "Epoch 4/100\n",
      "40/40 [==============================] - 0s 4ms/step - loss: 0.5133 - accuracy: 0.7420 - val_loss: 0.5463 - val_accuracy: 0.7000\n",
      "Epoch 5/100\n",
      "40/40 [==============================] - 0s 4ms/step - loss: 0.5051 - accuracy: 0.7522 - val_loss: 0.5461 - val_accuracy: 0.6938\n",
      "Epoch 6/100\n",
      "40/40 [==============================] - 0s 4ms/step - loss: 0.4979 - accuracy: 0.7498 - val_loss: 0.5461 - val_accuracy: 0.6938\n",
      "Epoch 7/100\n",
      "40/40 [==============================] - 0s 4ms/step - loss: 0.4908 - accuracy: 0.7537 - val_loss: 0.5399 - val_accuracy: 0.7063\n",
      "Epoch 8/100\n",
      "40/40 [==============================] - 0s 5ms/step - loss: 0.4879 - accuracy: 0.7654 - val_loss: 0.5321 - val_accuracy: 0.7188\n",
      "Epoch 9/100\n",
      "40/40 [==============================] - 0s 4ms/step - loss: 0.4828 - accuracy: 0.7701 - val_loss: 0.5378 - val_accuracy: 0.7188\n",
      "Epoch 10/100\n",
      "40/40 [==============================] - 0s 4ms/step - loss: 0.4787 - accuracy: 0.7733 - val_loss: 0.5352 - val_accuracy: 0.7125\n",
      "Epoch 11/100\n",
      "40/40 [==============================] - 0s 5ms/step - loss: 0.4732 - accuracy: 0.7748 - val_loss: 0.5335 - val_accuracy: 0.7250\n",
      "Epoch 12/100\n",
      "40/40 [==============================] - 0s 5ms/step - loss: 0.4698 - accuracy: 0.7819 - val_loss: 0.5317 - val_accuracy: 0.7250\n",
      "Epoch 13/100\n",
      "40/40 [==============================] - 0s 4ms/step - loss: 0.4668 - accuracy: 0.7842 - val_loss: 0.5382 - val_accuracy: 0.7125\n",
      "Epoch 14/100\n",
      "40/40 [==============================] - 0s 5ms/step - loss: 0.4601 - accuracy: 0.7850 - val_loss: 0.5320 - val_accuracy: 0.7312\n",
      "Epoch 15/100\n",
      "40/40 [==============================] - 0s 5ms/step - loss: 0.4598 - accuracy: 0.7826 - val_loss: 0.5318 - val_accuracy: 0.7375\n",
      "Epoch 16/100\n",
      "40/40 [==============================] - 0s 4ms/step - loss: 0.4568 - accuracy: 0.7834 - val_loss: 0.5217 - val_accuracy: 0.7250\n",
      "Epoch 17/100\n",
      "40/40 [==============================] - 0s 4ms/step - loss: 0.4532 - accuracy: 0.7858 - val_loss: 0.5348 - val_accuracy: 0.7312\n",
      "Epoch 18/100\n",
      "40/40 [==============================] - 0s 5ms/step - loss: 0.4502 - accuracy: 0.7983 - val_loss: 0.5301 - val_accuracy: 0.7312\n",
      "Epoch 19/100\n",
      "40/40 [==============================] - 0s 4ms/step - loss: 0.4480 - accuracy: 0.7936 - val_loss: 0.5280 - val_accuracy: 0.7312\n",
      "Epoch 20/100\n",
      "40/40 [==============================] - 0s 5ms/step - loss: 0.4487 - accuracy: 0.7866 - val_loss: 0.5339 - val_accuracy: 0.7250\n",
      "Epoch 21/100\n",
      "40/40 [==============================] - 0s 4ms/step - loss: 0.4441 - accuracy: 0.7920 - val_loss: 0.5248 - val_accuracy: 0.7375\n"
     ]
    }
   ],
   "source": [
    "# Fit the model with callbacks\n",
    "history = model.fit(\n",
    "    X_train, y_train,\n",
    "    epochs=100,\n",
    "    validation_data=(X_val, y_val),\n",
    "    callbacks=[tensorboard_callback, early_stopping_callback, model_checkpoint_callback]\n",
    ")\n",
    "\n",
    "# Get model parameters\n",
    "model_params = model.count_params()\n",
    "\n",
    "# Store model training history as a Pandas DataFrame\n",
    "history_df = pd.DataFrame(history.history)\n"
   ]
  },
  {
   "cell_type": "code",
   "execution_count": 131,
   "id": "cda2546a-d8f3-48b3-8474-b131af5b72f6",
   "metadata": {},
   "outputs": [
    {
     "data": {
      "image/png": "[encoded data removed]",
      "text/plain": [
       "<Figure size 1000x600 with 1 Axes>"
      ]
     },
     "metadata": {},
     "output_type": "display_data"
    }
   ],
   "source": [
    "# Plot the model's training history\n",
    "plt.figure(figsize=(10, 6))\n",
    "plt.plot(history_df['loss'], label='Training Loss')\n",
    "plt.plot(history_df['val_loss'], label='Validation Loss')\n",
    "plt.plot(history_df['accuracy'], label='Training Accuracy')\n",
    "plt.plot(history_df['val_accuracy'], label='Validation Accuracy')\n",
    "plt.legend()\n",
    "plt.title('Model Training History')\n",
    "plt.xlabel('Epochs')\n",
    "plt.show()\n"
   ]
  },
  {
   "cell_type": "code",
   "execution_count": 133,
   "id": "a4c77f50-b72d-4c57-8711-a6bce2535152",
   "metadata": {},
   "outputs": [
    {
     "name": "stdout",
     "output_type": "stream",
     "text": [
      "5/5 [==============================] - 0s 2ms/step - loss: 0.4523 - accuracy: 0.7500\n",
      "Test accuracy: 75.00%\n"
     ]
    }
   ],
   "source": [
    "# Evaluate the model on the test data\n",
    "test_loss, test_accuracy = model.evaluate(X_test, y_test)\n",
    "print(f\"Test accuracy: {test_accuracy * 100:.2f}%\")"
   ]
  }
 ],
 "metadata": {
  "kernelspec": {
   "display_name": "Python 3 (ipykernel)",
   "language": "python",
   "name": "python3"
  },
  "language_info": {
   "codemirror_mode": {
    "name": "ipython",
    "version": 3
   },
   "file_extension": ".py",
   "mimetype": "text/x-python",
   "name": "python",
   "nbconvert_exporter": "python",
   "pygments_lexer": "ipython3",
   "version": "3.10.8"
  }
 },
 "nbformat": 4,
 "nbformat_minor": 5
}
