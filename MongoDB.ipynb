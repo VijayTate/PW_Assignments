{
 "cells": [
  {
   "cell_type": "markdown",
   "id": "a2acadb7-0a08-4b58-b81e-dd2270cce8db",
   "metadata": {},
   "source": [
    "Q1. What is MongoDB? Explain non-relational databases in short. In which scenarios it is preferred to use\n",
    "MongoDB over SQL databases?"
   ]
  },
  {
   "cell_type": "markdown",
   "id": "2022a2c6-9b94-41cd-b795-b04be0cbb41f",
   "metadata": {},
   "source": [
    "MongoDB is a popular document-oriented NoSQL database that provides high scalability, flexibility, and performance. It stores data in flexible, JSON-like documents, allowing for dynamic schemas and easy handling of unstructured or semi-structured data.\n",
    "\n",
    "Non-relational databases, including MongoDB, are designed to store and retrieve data in ways that differ from traditional SQL databases. Here are some key characteristics of non-relational databases:\n",
    "\n",
    "(1) **Flexible schema**: Non-relational databases allow for dynamic schemas, meaning that each record can have its own structure, and fields can vary from one document to another.\n",
    "\n",
    "(2) **Scalability**: Non-relational databases are designed to scale horizontally, distributing data across multiple servers and allowing for high-performance data retrieval.\n",
    "\n",
    "(3) **High availability**: Non-relational databases often provide built-in replication and sharding mechanisms to ensure data availability even in the presence of hardware failures.\n",
    "\n",
    "(4) **Fast and efficient**: Non-relational databases optimize for fast read and write operations, making them suitable for use cases with high data volumes and high traffic.\n",
    "\n",
    "MongoDB is preferred over SQL databases in several scenarios, including:\n",
    "\n",
    "(1) **Flexible data models**: When dealing with complex, dynamic, or evolving data structures, MongoDB's flexible schema allows for easy adaptation without the need for extensive schema modifications.\n",
    "\n",
    "(2) **Big data and scalability**: MongoDB's distributed architecture and horizontal scaling capabilities make it well-suited for handling large volumes of data and high traffic loads.\n",
    "\n",
    "(3) **Real-time analytics**: MongoDB's support for indexing and aggregation pipelines enables real-time analytics and reporting on large datasets.\n",
    "\n",
    "(4) **Rapid development and prototyping**: MongoDB's ease of use, quick setup, and ability to handle unstructured data make it a popular choice for rapid development and prototyping, where schema changes and iteration are frequent.\n",
    "\n",
    "The choice between MongoDB and SQL databases depends on specific project requirements, data structure, and the need for transactional integrity or complex querying capabilities."
   ]
  },
  {
   "cell_type": "code",
   "execution_count": null,
   "id": "8b6c7c24-bc3c-4a7c-beb9-2a831e9e1b10",
   "metadata": {},
   "outputs": [],
   "source": []
  },
  {
   "cell_type": "code",
   "execution_count": null,
   "id": "c4774bcf-a373-4b5e-adf0-ca2f53627b32",
   "metadata": {},
   "outputs": [],
   "source": []
  },
  {
   "cell_type": "markdown",
   "id": "04398063-de70-4a22-b0c7-73f30f9fc11a",
   "metadata": {},
   "source": [
    "Q2. State and Explain the features of MongoDB."
   ]
  },
  {
   "cell_type": "markdown",
   "id": "823a09f9-3166-4b74-a97c-67e59fb15be1",
   "metadata": {},
   "source": [
    "MongoDB is a popular NoSQL database that offers a wide range of features, making it suitable for various use cases. Here are some key features of MongoDB:\n",
    "\n",
    "(1) **Document-Oriented**: MongoDB stores data in flexible, JSON-like documents called BSON (Binary JSON). This allows for easy handling of unstructured and semi-structured data, as each document can have its own structure and fields.\n",
    "\n",
    "(2) **High Scalability**: MongoDB is designed to scale horizontally by sharding data across multiple servers. \n",
    "\n",
    "(3) **Flexible Schema**: MongoDB offers a dynamic schema, meaning that documents within a collection can have different structures and fields. \n",
    "\n",
    "(4) **Querying and Indexing**: MongoDB provides a powerful query language with support for a wide range of queries and operators. It allows for complex queries, including filtering, sorting, and aggregation. MongoDB also supports indexing to optimize query performance.\n",
    "\n",
    "(5) **High Availability**: MongoDB ensures high availability through replica sets. A replica set consists of multiple copies of data spread across different servers. If one server fails, another replica takes over, ensuring continuous availability and fault tolerance.\n",
    "\n",
    "(6) **Automatic Sharding**: MongoDB supports automatic sharding, which allows for horizontal partitioning of data across multiple shards. This enables distributing data and load balancing across servers for improved performance and scalability.\n",
    "\n",
    "(7) **Rich Functionality**: MongoDB offers various advanced features such as geospatial indexing and querying, full-text search, transactions (starting from version 4.0), and in-memory storage options. These features enhance the functionality and versatility of MongoDB.\n",
    "\n",
    "(8) **Developer-Friendly**: MongoDB provides drivers and libraries for multiple programming languages, making it easy for developers to work with. It also offers a flexible and intuitive query language, allowing developers to interact with the database effectively.\n",
    "\n",
    "(9) **Community and Ecosystem**: MongoDB has a large and active community, providing extensive documentation, tutorials, and resources. It also integrates well with popular data processing frameworks and tools like Apache Spark, Hadoop, and Elasticsearch."
   ]
  },
  {
   "cell_type": "code",
   "execution_count": null,
   "id": "9e4a2ef8-8e98-4939-8647-ec10d6d3f588",
   "metadata": {},
   "outputs": [],
   "source": []
  },
  {
   "cell_type": "code",
   "execution_count": null,
   "id": "7221b912-0663-439f-ad6a-4a50c88aaa23",
   "metadata": {},
   "outputs": [],
   "source": []
  },
  {
   "cell_type": "markdown",
   "id": "28c6094e-862b-45bc-9b13-894acf99d3e6",
   "metadata": {},
   "source": [
    "Q3. Write a code to connect MongoDB to Python. Also, create a database and a collection in MongoDB."
   ]
  },
  {
   "cell_type": "markdown",
   "id": "d38a33e5-a4c6-4a7e-95a3-0e30e01b92cd",
   "metadata": {},
   "source": [
    "To connect MongoDB to Python, we use the pymongo library. The following code demonstrates how to connect to MongoDB, create a database, and a collection:\n"
   ]
  },
  {
   "cell_type": "code",
   "execution_count": null,
   "id": "6708d82b-11e8-4f2f-80a6-bbc007510057",
   "metadata": {},
   "outputs": [],
   "source": [
    "import pymongo\n",
    "\n",
    "# Connect to MongoDB\n",
    "client = pymongo.MongoClient(\"mongodb://localhost:27017\")\n",
    "\n",
    "# Create a database\n",
    "mydb = client[\"mydatabase\"]\n",
    "\n",
    "# Create a collection\n",
    "mycol = mydb[\"mycollection\"]\n"
   ]
  },
  {
   "cell_type": "code",
   "execution_count": null,
   "id": "7bbce5ba-db3c-4bb5-8470-289f3b542488",
   "metadata": {},
   "outputs": [],
   "source": []
  },
  {
   "cell_type": "code",
   "execution_count": null,
   "id": "c0d28ba0-cba1-4f8f-8c3d-e5a7371d2fea",
   "metadata": {},
   "outputs": [],
   "source": []
  },
  {
   "cell_type": "markdown",
   "id": "8e0fa75a-04f8-43c0-82db-a4c3bad553c8",
   "metadata": {},
   "source": [
    "Q4. Using the database and the collection created in question number 3, write a code to insert one record,\n",
    "and insert many records. Use the find() and find_one() methods to print the inserted record."
   ]
  },
  {
   "cell_type": "code",
   "execution_count": null,
   "id": "0386cac0-3050-4540-9b72-840d4649dffa",
   "metadata": {},
   "outputs": [],
   "source": [
    "import pymongo\n",
    "\n",
    "# Connect to MongoDB\n",
    "client = pymongo.MongoClient(\"mongodb://localhost:27017\")\n",
    "\n",
    "# Access the database and collection\n",
    "mydb = client[\"mydatabase\"]\n",
    "mycol = mydb[\"mycollection\"]\n",
    "\n",
    "# Insert one record\n",
    "record1 = {\"name\": \"John\", \"age\": 30}\n",
    "mycol.insert_one(record1)\n",
    "\n",
    "# Insert multiple records\n",
    "records = [\n",
    "    {\"name\": \"Alice\", \"age\": 25},\n",
    "    {\"name\": \"Bob\", \"age\": 35},\n",
    "    {\"name\": \"Charlie\", \"age\": 28}\n",
    "]\n",
    "mycol.insert_many(records)\n",
    "\n",
    "# Find and print all records\n",
    "for record in mycol.find():\n",
    "    print(record)\n",
    "\n",
    "# Find and print one record\n",
    "one_record = mycol.find_one()\n",
    "print(one_record)"
   ]
  },
  {
   "cell_type": "code",
   "execution_count": null,
   "id": "6942da1c-1b33-4273-8e83-b8bfc1b8f69b",
   "metadata": {},
   "outputs": [],
   "source": []
  },
  {
   "cell_type": "code",
   "execution_count": null,
   "id": "69ed3ae5-3ee9-4472-b0a4-4c27e5f85833",
   "metadata": {},
   "outputs": [],
   "source": []
  },
  {
   "cell_type": "markdown",
   "id": "e6b2e7d0-e142-4ad7-8650-d2fd9fba8853",
   "metadata": {},
   "source": [
    "Q5. Explain how you can use the find() method to query the MongoDB database. Write a simple code to\n",
    "demonstrate this."
   ]
  },
  {
   "cell_type": "markdown",
   "id": "e79c4387-0f09-4d38-bec3-45da96093074",
   "metadata": {},
   "source": [
    "To query the MongoDB database using the find() method, one can specify conditions and criteria to filter the documents one want to retrieve. The find() method returns a cursor object that can iterate over to access the matched documents. Here's an example:\n"
   ]
  },
  {
   "cell_type": "code",
   "execution_count": null,
   "id": "eaebcc23-13ce-415d-98da-36f89444e972",
   "metadata": {},
   "outputs": [],
   "source": [
    "import pymongo\n",
    "\n",
    "# Connect to MongoDB\n",
    "client = pymongo.MongoClient(\"mongodb://localhost:27017\")\n",
    "\n",
    "# Access the database and collection\n",
    "mydb = client[\"mydatabase\"]\n",
    "mycol = mydb[\"mycollection\"]\n",
    "\n",
    "# Query the database using the find() method\n",
    "query = {\"age\": {\"$gt\": 25}}  # Retrieve documents where age is greater than 25\n",
    "results = mycol.find(query)\n",
    "\n",
    "# Print the matched documents\n",
    "for document in results:\n",
    "    print(document)"
   ]
  },
  {
   "cell_type": "code",
   "execution_count": null,
   "id": "742740a2-3121-4e34-bc4a-625b41484052",
   "metadata": {},
   "outputs": [],
   "source": []
  },
  {
   "cell_type": "code",
   "execution_count": null,
   "id": "a7242b64-f616-46df-9a96-1c06ed497bf2",
   "metadata": {},
   "outputs": [],
   "source": []
  },
  {
   "cell_type": "markdown",
   "id": "51146f95-615c-4533-9e18-686139f6cd91",
   "metadata": {},
   "source": [
    "Q6. Explain the sort() method. Give an example to demonstrate sorting in MongoDB."
   ]
  },
  {
   "cell_type": "markdown",
   "id": "82eeae88-1e99-4d92-bc25-3e966c0752c8",
   "metadata": {},
   "source": [
    "The sort() method in MongoDB is used to sort the documents in a collection based on one or more fields."
   ]
  },
  {
   "cell_type": "code",
   "execution_count": null,
   "id": "a5a12935-9eed-48a4-b5cb-a9b724dd49a2",
   "metadata": {},
   "outputs": [],
   "source": [
    "import pymongo\n",
    "\n",
    "# Connect to MongoDB\n",
    "client = pymongo.MongoClient(\"mongodb://localhost:27017\")\n",
    "\n",
    "# Access the database and collection\n",
    "mydb = client[\"mydatabase\"]\n",
    "mycol = mydb[\"mycollection\"]\n",
    "\n",
    "# Insert sample documents\n",
    "mycol.insert_many([\n",
    "    {\"name\": \"John\", \"age\": 30},\n",
    "    {\"name\": \"Alice\", \"age\": 25},\n",
    "    {\"name\": \"Bob\", \"age\": 35}\n",
    "])\n",
    "\n",
    "# Sort the documents by age in ascending order\n",
    "results = mycol.find().sort(\"age\", pymongo.ASCENDING)\n",
    "\n",
    "# Print the sorted documents\n",
    "for document in results:\n",
    "    print(document)"
   ]
  },
  {
   "cell_type": "code",
   "execution_count": null,
   "id": "a15d223e-6b98-42b1-b715-94a3fe632135",
   "metadata": {},
   "outputs": [],
   "source": []
  },
  {
   "cell_type": "code",
   "execution_count": null,
   "id": "2b816f8e-646c-49f0-974c-f0ec78c7d62e",
   "metadata": {},
   "outputs": [],
   "source": []
  },
  {
   "cell_type": "markdown",
   "id": "e3b8f3a9-57a0-4689-b9e4-7e77fc26f3d1",
   "metadata": {},
   "source": [
    "Q7. Explain why delete_one(), delete_many(), and drop() is used."
   ]
  },
  {
   "cell_type": "markdown",
   "id": "3289889f-65c3-40a9-90d0-6859589f3b95",
   "metadata": {},
   "source": [
    "In MongoDB, the delete_one(), delete_many(), and drop() methods are used for deleting documents or collections from a database.\n",
    "\n",
    "(1) delete_one(filter):\n",
    "\n",
    "# This method is used to delete a single document that matches the specified filter criteria.\n",
    "# It takes a filter parameter that specifies the criteria for matching the document to be deleted.\n",
    "# If multiple documents match the filter, only the first matching document will be deleted.\n",
    "\n",
    "(2) delete_many(filter):\n",
    "\n",
    "# This method is used to delete multiple documents that match the specified filter criteria.\n",
    "# It takes a filter parameter that specifies the criteria for matching the documents to be deleted.\n",
    "# All documents that match the filter will be deleted.\n",
    "\n",
    "(3) drop():\n",
    "\n",
    "# This method is used to delete an entire collection from a database.\n",
    "# It does not take any parameters.\n",
    "# After dropping a collection, all the data and indexes associated with the collection are permanently deleted."
   ]
  }
 ],
 "metadata": {
  "kernelspec": {
   "display_name": "Python 3 (ipykernel)",
   "language": "python",
   "name": "python3"
  },
  "language_info": {
   "codemirror_mode": {
    "name": "ipython",
    "version": 3
   },
   "file_extension": ".py",
   "mimetype": "text/x-python",
   "name": "python",
   "nbconvert_exporter": "python",
   "pygments_lexer": "ipython3",
   "version": "3.10.8"
  }
 },
 "nbformat": 4,
 "nbformat_minor": 5
}
