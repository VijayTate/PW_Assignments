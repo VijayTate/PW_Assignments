{
 "cells": [
  {
   "cell_type": "markdown",
   "id": "7e9e409c-8429-446f-b543-d1aed7ca2e48",
   "metadata": {},
   "source": [
    "Q1. Which keyword is used to create a function? Create a function to return a list of odd numbers in the\n",
    "range of 1 to 25."
   ]
  },
  {
   "cell_type": "markdown",
   "id": "c83dfd4f-8416-4d2d-8372-7880ff7db601",
   "metadata": {},
   "source": [
    "The keyword used to create a function in Python is def. The def keyword is followed by the function name, parentheses for the function parameters, and a colon."
   ]
  },
  {
   "cell_type": "code",
   "execution_count": 3,
   "id": "90d2e4e8-9329-4a25-9cfd-8714af2e4abd",
   "metadata": {},
   "outputs": [
    {
     "data": {
      "text/plain": [
       "[1, 3, 5, 7, 9, 11, 13, 15, 17, 19, 21, 23, 25]"
      ]
     },
     "execution_count": 3,
     "metadata": {},
     "output_type": "execute_result"
    }
   ],
   "source": [
    "l = range(1,26)\n",
    "def odd_numbers(a):\n",
    "    n=[]\n",
    "    for i in a:\n",
    "        if i%2!=0:\n",
    "            n.append(i)\n",
    "    return n  \n",
    "odd_numbers(l)"
   ]
  },
  {
   "cell_type": "code",
   "execution_count": null,
   "id": "435d0a3c-462e-450c-8f91-481b12f09faa",
   "metadata": {},
   "outputs": [],
   "source": []
  },
  {
   "cell_type": "code",
   "execution_count": null,
   "id": "3fd2cda5-00bb-4c2a-81b0-2afb3a62765b",
   "metadata": {},
   "outputs": [],
   "source": []
  },
  {
   "cell_type": "markdown",
   "id": "c9344bf3-234b-42c8-b4e0-9905c056a2ba",
   "metadata": {},
   "source": [
    "Q2. Why *args and **kwargs is used in some functions? Create a function each for *args and **kwargs to\n",
    "demonstrate their use."
   ]
  },
  {
   "cell_type": "markdown",
   "id": "f0a20e55-bdb4-47ed-b1a5-84b1760d6fd1",
   "metadata": {},
   "source": [
    "In Python, *args and **kwargs are used in function definitions to handle a variable number of arguments.\n",
    "\n",
    "(1) The *args parameter allows a function to accept any number of positional arguments. It collects the arguments into a tuple within the function. This is useful when the number of arguments passed to a function is uncertain or can vary. Example:"
   ]
  },
  {
   "cell_type": "code",
   "execution_count": 4,
   "id": "a1d823c1-e4fb-41e1-bd05-22faf0359101",
   "metadata": {},
   "outputs": [
    {
     "name": "stdout",
     "output_type": "stream",
     "text": [
      "1\n",
      "2\n",
      "3\n",
      "4\n",
      "5\n"
     ]
    }
   ],
   "source": [
    "def my_function(*args):\n",
    "    for i in args:\n",
    "        print(i)\n",
    "\n",
    "my_function(1, 2, 3, 4, 5)"
   ]
  },
  {
   "cell_type": "markdown",
   "id": "756cec08-760f-412e-ab69-47efd966cf56",
   "metadata": {},
   "source": [
    "(2) The **kwargs parameter allows a function to accept any number of keyword arguments. It collects the arguments into a dictionary within the function. This is useful when you want to pass a variable number of keyword arguments to a function. \n",
    "Example:"
   ]
  },
  {
   "cell_type": "code",
   "execution_count": 5,
   "id": "4c45ed7e-cd19-4a8c-b155-af328bbe802e",
   "metadata": {},
   "outputs": [
    {
     "name": "stdout",
     "output_type": "stream",
     "text": [
      "name John\n",
      "age 30\n",
      "city New York\n"
     ]
    }
   ],
   "source": [
    "def my_function(**kwargs):\n",
    "    for key, value in kwargs.items():\n",
    "        print(key, value)\n",
    "\n",
    "my_function(name=\"John\", age=30, city=\"New York\")"
   ]
  },
  {
   "cell_type": "code",
   "execution_count": null,
   "id": "5e943e1d-1bdb-41ed-9fb3-a32bf3d75bdc",
   "metadata": {},
   "outputs": [],
   "source": []
  },
  {
   "cell_type": "code",
   "execution_count": null,
   "id": "d2cfe5a1-bb94-4fc0-9985-fe5d32b5f116",
   "metadata": {},
   "outputs": [],
   "source": []
  },
  {
   "cell_type": "markdown",
   "id": "29b02608-273d-4b2d-a54e-51e43795861e",
   "metadata": {
    "tags": []
   },
   "source": [
    "Q3. What is an iterator in python? Name the method used to initialise the iterator object and the method\n",
    "used for iteration. Use these methods to print the first five elements of the given list [2, 4, 6, 8, 10, 12, 14, 16,\n",
    "18, 20]."
   ]
  },
  {
   "cell_type": "markdown",
   "id": "92270984-c5c6-4280-9e09-2ad73b8d5677",
   "metadata": {},
   "source": [
    "In Python, an iterator is an object that represents a stream of data. It allows you to iterate over elements or values one at a time, without needing to load the entire sequence into memory.\n",
    "\n",
    "To initialize an iterator object, you can use the iter() method. This method takes an iterable object as an argument and returns an iterator object. The iterator object can then be used for iteration using the next() method."
   ]
  },
  {
   "cell_type": "code",
   "execution_count": 6,
   "id": "d6d552a0-2062-403f-9288-880c60972347",
   "metadata": {},
   "outputs": [
    {
     "name": "stdout",
     "output_type": "stream",
     "text": [
      "2\n",
      "4\n",
      "6\n",
      "8\n",
      "10\n"
     ]
    }
   ],
   "source": [
    "my_list = [2, 4, 6, 8, 10, 12, 14, 16, 18, 20]\n",
    "my_iterator = iter(my_list)\n",
    "\n",
    "for _ in range(5):\n",
    "    print(next(my_iterator))"
   ]
  },
  {
   "cell_type": "code",
   "execution_count": null,
   "id": "a252208d-62bf-44fb-80d3-10283b3cabac",
   "metadata": {},
   "outputs": [],
   "source": []
  },
  {
   "cell_type": "code",
   "execution_count": null,
   "id": "99af66d6-f971-432f-a227-e8742cd62e28",
   "metadata": {},
   "outputs": [],
   "source": []
  },
  {
   "cell_type": "markdown",
   "id": "e9bb9801-1aea-4669-a8e1-5fcc689b1a6a",
   "metadata": {},
   "source": [
    "Q4. What is a generator function in python? Why yield keyword is used? Give an example of a generator\n",
    "function."
   ]
  },
  {
   "cell_type": "markdown",
   "id": "bd4c9c43-7c7b-4aea-9f17-70d1fad2c662",
   "metadata": {},
   "source": [
    "In Python, a generator function is a special type of function that uses the yield keyword to create an iterator. It generates a sequence of values or elements one at a time, on-demand, instead of computing and returning them all at once. The yield keyword is used in a generator function to indicate the point where the function should yield a value. \n",
    "Example:"
   ]
  },
  {
   "cell_type": "code",
   "execution_count": 7,
   "id": "836a4507-741c-4faa-9d9e-3cf8cc385c7d",
   "metadata": {},
   "outputs": [
    {
     "name": "stdout",
     "output_type": "stream",
     "text": [
      "0\n",
      "2\n",
      "4\n",
      "6\n",
      "8\n"
     ]
    }
   ],
   "source": [
    "def generate_even_numbers(n):\n",
    "    for i in range(n):\n",
    "        if i % 2 == 0:\n",
    "            yield i\n",
    "\n",
    "even_numbers = generate_even_numbers(10)\n",
    "\n",
    "for num in even_numbers:\n",
    "    print(num)"
   ]
  },
  {
   "cell_type": "code",
   "execution_count": null,
   "id": "65eba0ab-1b13-4f88-8bbe-150a56aba25b",
   "metadata": {},
   "outputs": [],
   "source": []
  },
  {
   "cell_type": "code",
   "execution_count": null,
   "id": "2a72f266-346f-4ce2-a4e4-ccd30588bf69",
   "metadata": {},
   "outputs": [],
   "source": []
  },
  {
   "cell_type": "markdown",
   "id": "c0eb66d3-39c9-4e1c-9472-a3b5d2b40a5e",
   "metadata": {},
   "source": [
    "Q5. Create a generator function for prime numbers less than 1000. Use the next() method to print the\n",
    "first 20 prime numbers."
   ]
  },
  {
   "cell_type": "code",
   "execution_count": 8,
   "id": "f0c17050-9f85-4795-85e3-b3cfaa2b1a68",
   "metadata": {},
   "outputs": [
    {
     "name": "stdout",
     "output_type": "stream",
     "text": [
      "2\n",
      "3\n",
      "5\n",
      "7\n",
      "11\n",
      "13\n",
      "17\n",
      "19\n",
      "23\n",
      "29\n",
      "31\n",
      "37\n",
      "41\n",
      "43\n",
      "47\n",
      "53\n",
      "59\n",
      "61\n",
      "67\n",
      "71\n"
     ]
    }
   ],
   "source": [
    "def generate_prime_numbers():\n",
    "    primes = []\n",
    "    num = 2\n",
    "\n",
    "    while True:\n",
    "        if all(num % p != 0 for p in primes):\n",
    "            primes.append(num)\n",
    "            yield num\n",
    "        num += 1\n",
    "\n",
    "prime_generator = generate_prime_numbers()\n",
    "\n",
    "for _ in range(20):\n",
    "    print(next(prime_generator))"
   ]
  },
  {
   "cell_type": "code",
   "execution_count": null,
   "id": "a5eb16e3-a09c-4cd1-a8a4-276f76a33416",
   "metadata": {},
   "outputs": [],
   "source": []
  }
 ],
 "metadata": {
  "kernelspec": {
   "display_name": "Python 3 (ipykernel)",
   "language": "python",
   "name": "python3"
  },
  "language_info": {
   "codemirror_mode": {
    "name": "ipython",
    "version": 3
   },
   "file_extension": ".py",
   "mimetype": "text/x-python",
   "name": "python",
   "nbconvert_exporter": "python",
   "pygments_lexer": "ipython3",
   "version": "3.10.8"
  }
 },
 "nbformat": 4,
 "nbformat_minor": 5
}
