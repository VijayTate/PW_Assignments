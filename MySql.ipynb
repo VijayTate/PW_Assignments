{
 "cells": [
  {
   "cell_type": "markdown",
   "id": "240c3522-c4ef-47a2-bcb5-eb03e414215d",
   "metadata": {},
   "source": [
    "Q1. What is a database? Differentiate between SQL and NoSQL databases."
   ]
  },
  {
   "cell_type": "markdown",
   "id": "ec9b29f9-4eb2-4088-86cb-00350ef5d4f9",
   "metadata": {},
   "source": [
    "A database is a structured collection of data that is organized, managed, and accessed electronically. It is designed to efficiently store, retrieve, and manage large amounts of data for various applications.\n",
    "\n",
    "SQL (Structured Query Language) and NoSQL (Not only SQL) are two different types of database management systems that handle data differently:\n",
    "\n",
    "(A) SQL Databases:\n",
    "\n",
    "(1) SQL databases are based on a relational model, where data is organized into tables with predefined schemas.\n",
    "(2) They use structured query language (SQL) for defining and manipulating the data.\n",
    "(3) They enforce strict data consistency and integrity rules through constraints, such as primary keys, foreign keys, and unique constraints.\n",
    "(4) SQL databases are best suited for structured data and complex relationships between tables.\n",
    "(5) Examples of SQL databases include MySQL, Oracle, and Microsoft SQL Server.\n",
    "\n",
    "(B) NoSQL Databases:\n",
    "\n",
    "(1) NoSQL databases are designed to handle unstructured, semi-structured, and structured data, offering more flexibility and scalability.\n",
    "(2) They provide a variety of data models like key-value pairs, document-based, columnar, and graph databases.\n",
    "(3) NoSQL databases do not rely on a fixed schema, allowing for easy scalability and accommodating changing data requirements.\n",
    "(4) They are highly scalable and can handle large amounts of data and high write/read workloads.\n",
    "(5) NoSQL databases are commonly used for big data, real-time analytics, and handling unstructured data.\n",
    "(6) Examples of NoSQL databases include MongoDB, Cassandra, Redis, and Elasticsearch.\n",
    "\n",
    "In summary, the main difference between SQL and NoSQL databases lies in their data model, schema flexibility, and scalability. SQL databases are structured, enforce strict schemas, and are suitable for complex relationships. NoSQL databases are more flexible, scalable, and handle unstructured data effectively."
   ]
  },
  {
   "cell_type": "code",
   "execution_count": null,
   "id": "aea914eb-9a31-4fb9-809c-9688a1c24436",
   "metadata": {},
   "outputs": [],
   "source": []
  },
  {
   "cell_type": "code",
   "execution_count": null,
   "id": "010fc8c0-910b-445d-b0f6-ed9b148a47f9",
   "metadata": {},
   "outputs": [],
   "source": []
  },
  {
   "cell_type": "markdown",
   "id": "d3fa5438-b156-46d4-bfc6-83c310d5a8b7",
   "metadata": {},
   "source": [
    "Q2. What is DDL? Explain why CREATE, DROP, ALTER, and TRUNCATE are used with an example."
   ]
  },
  {
   "cell_type": "markdown",
   "id": "c4cccb03-2761-4a48-99cc-ee1b4433adfa",
   "metadata": {},
   "source": [
    "DDL stands for Data Definition Language, which is a subset of SQL used to define and manage the structure of a database. It includes statements like CREATE, DROP, ALTER, and TRUNCATE, which are used to perform various operations on database objects.\n",
    "\n",
    "(A) CREATE:\n",
    "The CREATE statement is used to create database objects such as tables, views, indexes, or schemas. It defines the structure and properties of the object being created. For example:"
   ]
  },
  {
   "cell_type": "code",
   "execution_count": null,
   "id": "2e28e7c8-5b80-4675-987d-a4cae5a537ad",
   "metadata": {},
   "outputs": [],
   "source": [
    "CREATE TABLE employees (\n",
    "  id INT,\n",
    "  name VARCHAR(50),\n",
    "  age INT\n",
    ");"
   ]
  },
  {
   "cell_type": "markdown",
   "id": "6a5e782f-66ce-4898-8ea8-2feb78d70cdf",
   "metadata": {},
   "source": [
    "(B) DROP:\n",
    "The DROP statement is used to delete an existing database object, such as a table or a view. It completely removes the object from the database. For example:"
   ]
  },
  {
   "cell_type": "code",
   "execution_count": null,
   "id": "fdeeb4cf-6cfb-4056-9d04-76ab4c27b090",
   "metadata": {},
   "outputs": [],
   "source": [
    "DROP TABLE employees;"
   ]
  },
  {
   "cell_type": "markdown",
   "id": "9579d936-a176-42a1-bc7f-51196ce96cef",
   "metadata": {},
   "source": [
    "(C) ALTER:\n",
    "The ALTER statement is used to modify the structure or properties of an existing database object. It can be used to add or remove columns from a table, modify column data types, or change constraints. For example:"
   ]
  },
  {
   "cell_type": "code",
   "execution_count": null,
   "id": "8aa920c6-cfe3-4af6-85ab-0bb3d3bba2c3",
   "metadata": {},
   "outputs": [],
   "source": [
    "ALTER TABLE employees\n",
    "ADD COLUMN email VARCHAR(100);"
   ]
  },
  {
   "cell_type": "markdown",
   "id": "5ed8dbc4-9895-4e83-96af-c81d1938ce6b",
   "metadata": {},
   "source": [
    "(D) TRUNCATE:\n",
    "The TRUNCATE statement is used to delete all data from a table while keeping the table structure intact. Unlike the DROP statement, it does not delete the table itself. It is a faster alternative to deleting all rows using the DELETE statement. For example:"
   ]
  },
  {
   "cell_type": "code",
   "execution_count": null,
   "id": "9138c39e-2fb2-476d-86d7-d38755567645",
   "metadata": {},
   "outputs": [],
   "source": [
    "TRUNCATE TABLE employees;"
   ]
  },
  {
   "cell_type": "code",
   "execution_count": null,
   "id": "6e1a5421-a20d-4ac8-82e8-deb42f83dbe9",
   "metadata": {},
   "outputs": [],
   "source": []
  },
  {
   "cell_type": "code",
   "execution_count": null,
   "id": "e0279722-05cd-49f9-88a1-14e0462cba16",
   "metadata": {},
   "outputs": [],
   "source": []
  },
  {
   "cell_type": "markdown",
   "id": "75e8836d-a1bf-407b-8802-88e0850061c1",
   "metadata": {},
   "source": [
    "Q3. What is DML? Explain INSERT, UPDATE, and DELETE with an example."
   ]
  },
  {
   "cell_type": "markdown",
   "id": "65923cfa-3507-405e-9f87-226e5a2ce338",
   "metadata": {},
   "source": [
    "DML stands for Data Manipulation Language. It is a subset of SQL (Structured Query Language) used to manipulate and retrieve data within a database. \n",
    "\n",
    "(1) INSERT:\n",
    "The INSERT statement is used to insert new rows of data into a table. It specifies the table name and the values to be inserted for each column. For example:"
   ]
  },
  {
   "cell_type": "code",
   "execution_count": null,
   "id": "a27fc841-cbca-4544-8e68-6bfb80814131",
   "metadata": {},
   "outputs": [],
   "source": [
    "INSERT INTO employees (id, name, age) VALUES (1, 'John Doe', 30);"
   ]
  },
  {
   "cell_type": "markdown",
   "id": "a4ad1a3b-2414-4904-9000-f354a193b4ee",
   "metadata": {},
   "source": [
    "(2) UPDATE:\n",
    "The UPDATE statement is used to modify existing data in a table. It specifies the table name, the columns to be updated, and the new values. It also includes a condition to specify which rows to update. For example:"
   ]
  },
  {
   "cell_type": "code",
   "execution_count": null,
   "id": "d0359c27-fe42-418c-a9b1-4991c3e93e45",
   "metadata": {},
   "outputs": [],
   "source": [
    "UPDATE employees SET age = 35 WHERE id = 1;"
   ]
  },
  {
   "cell_type": "markdown",
   "id": "7d5430f0-04fb-4df4-85d3-395c803ec7ef",
   "metadata": {},
   "source": [
    "(3) DELETE:\n",
    "The DELETE statement is used to delete rows from a table. It specifies the table name and includes a condition to specify which rows to delete. For example:"
   ]
  },
  {
   "cell_type": "code",
   "execution_count": null,
   "id": "55a771e6-739e-4671-9a78-160105689095",
   "metadata": {},
   "outputs": [],
   "source": [
    "DELETE FROM employees WHERE id = 1;"
   ]
  },
  {
   "cell_type": "code",
   "execution_count": null,
   "id": "21d18354-f063-482d-9743-cfb80253942e",
   "metadata": {},
   "outputs": [],
   "source": []
  },
  {
   "cell_type": "code",
   "execution_count": null,
   "id": "d77f8c7e-f4a8-48c8-b678-8d9e6b7053a4",
   "metadata": {},
   "outputs": [],
   "source": []
  },
  {
   "cell_type": "markdown",
   "id": "2e892ca3-695d-44cd-b9b4-2d6e73c543b5",
   "metadata": {},
   "source": [
    "Q4. What is DQL? Explain SELECT with an example."
   ]
  },
  {
   "cell_type": "markdown",
   "id": "90b4d22f-d83a-421e-88cf-4a980c5074f6",
   "metadata": {},
   "source": [
    "DQL stands for Data Query Language. It is a subset of SQL (Structured Query Language) used to retrieve data from a database. The most commonly used DQL statement is SELECT, which allows you to query the database and retrieve specific data based on specified conditions. \n",
    "SELECT:\n",
    "The SELECT statement is used to retrieve data from one or more database tables. It allows you to specify the columns you want to retrieve, the table you want to query, and optional conditions to filter the data. Here's the general syntax of the SELECT statement:"
   ]
  },
  {
   "cell_type": "code",
   "execution_count": null,
   "id": "58a8cb31-9e26-4706-94a1-7155618e6c04",
   "metadata": {},
   "outputs": [],
   "source": [
    "SELECT column1, column2, ...\n",
    "FROM table_name\n",
    "WHERE condition;"
   ]
  },
  {
   "cell_type": "markdown",
   "id": "c56610d0-5b2f-4d56-b3a9-d61a6d48dce5",
   "metadata": {},
   "source": [
    "SELECT allows for more advanced queries as well, including joining multiple tables, using aggregate functions (e.g., SUM, AVG), sorting the results (e.g., ORDER BY), and more. It is a powerful statement for retrieving data from a database based on specific criteria."
   ]
  },
  {
   "cell_type": "code",
   "execution_count": null,
   "id": "8f23d05a-1a0a-40b5-88e6-b44c0fb84478",
   "metadata": {},
   "outputs": [],
   "source": []
  },
  {
   "cell_type": "code",
   "execution_count": null,
   "id": "8185bb9e-8308-4e9d-be45-25502985ac18",
   "metadata": {},
   "outputs": [],
   "source": []
  },
  {
   "cell_type": "markdown",
   "id": "fb13e99c-6c0a-4eaa-abd4-646c8a3cc934",
   "metadata": {},
   "source": [
    "Q5. Explain Primary Key and Foreign Key."
   ]
  },
  {
   "cell_type": "markdown",
   "id": "b2b13792-d39c-4c99-9a56-ec80ea729ef1",
   "metadata": {},
   "source": [
    "(A) Primary Key:\n",
    "A primary key is a column or a set of columns in a database table that uniquely identifies each record in that table. It serves as a unique identifier for each row and ensures the uniqueness and integrity of the data in the table. Some key points about primary keys are:\n",
    "\n",
    "(1) Uniqueness: Each value in the primary key column(s) must be unique. No two records can have the same primary key value.\n",
    "\n",
    "(2) Non-nullability: The primary key column(s) cannot have null values. Each record must have a valid value in the primary key column(s).\n",
    "\n",
    "(3) Indexing: Primary keys are often automatically indexed by the database system to improve the performance of data retrieval and enforce uniqueness.\n",
    "\n",
    "(4) Relationship establishment: Primary keys are commonly used to establish relationships between tables. They serve as the basis for foreign keys in related tables.\n",
    "\n",
    "(B) Foreign Key:\n",
    "A foreign key is a column or a set of columns in a database table that refers to the primary key of another table. It establishes a link or relationship between two tables based on the values of the foreign key column(s) and the referenced primary key column(s). Some key points about foreign keys are:\n",
    "\n",
    "(1) Relationship establishment: Foreign keys establish relationships between tables by referencing the primary key column(s) of another table. This allows for the creation of logical connections and associations between related data.\n",
    "\n",
    "(2) Referential integrity: Foreign keys enforce referential integrity, which means that the values in the foreign key column(s) must correspond to valid values in the referenced primary key column(s). This ensures the consistency and accuracy of the data.\n",
    "\n",
    "(3) Cascading actions: Foreign keys can define cascading actions, such as ON DELETE CASCADE or ON UPDATE CASCADE, which specify what should happen to related records when the referenced primary key is modified or deleted.\n",
    "\n",
    "(4) Multiple foreign keys: A table can have multiple foreign keys that reference different tables. This allows for complex relationships and data associations between multiple tables.\n",
    "\n",
    "In summary, a primary key uniquely identifies each record in a table, while a foreign key establishes a relationship between two tables by referencing the primary key of another table. Primary keys ensure uniqueness and integrity, while foreign keys maintain relationships and enforce referential integrity in a database."
   ]
  },
  {
   "cell_type": "code",
   "execution_count": null,
   "id": "d09fda29-0c37-429b-bcac-cb91f214ce68",
   "metadata": {},
   "outputs": [],
   "source": []
  },
  {
   "cell_type": "code",
   "execution_count": null,
   "id": "a39f8ec0-1de4-4994-8aad-90a61b901fad",
   "metadata": {},
   "outputs": [],
   "source": []
  },
  {
   "cell_type": "markdown",
   "id": "b10e775c-125f-449e-b4ef-8d64a66b2a91",
   "metadata": {},
   "source": [
    "Q6. Write a python code to connect MySQL to python. Explain the cursor() and execute() method."
   ]
  },
  {
   "cell_type": "markdown",
   "id": "0d836995-a065-4751-b3a2-505690674833",
   "metadata": {},
   "source": [
    "To connect MySQL to Python, we use the mysql-connector-python library. First, we need to install the library using pip:"
   ]
  },
  {
   "cell_type": "code",
   "execution_count": null,
   "id": "ecb1f47c-d105-4fae-86c7-7d5aeab84f1e",
   "metadata": {},
   "outputs": [],
   "source": [
    "pip install mysql-connector-python"
   ]
  },
  {
   "cell_type": "markdown",
   "id": "7d275902-c7d1-46c2-a053-edd0b853710e",
   "metadata": {},
   "source": [
    "Once installed, we can use the following code to establish a connection to the MySQL database:"
   ]
  },
  {
   "cell_type": "code",
   "execution_count": null,
   "id": "233fb681-9669-4c91-a848-24ebeb9ea060",
   "metadata": {},
   "outputs": [],
   "source": [
    "import mysql.connector\n",
    "\n",
    "# Establish a connection to the database\n",
    "cnx = mysql.connector.connect(\n",
    "    user='your_username',\n",
    "    password='your_password',\n",
    "    host='your_host',\n",
    "    database='your_database'\n",
    ")\n",
    "\n",
    "# Create a cursor object\n",
    "cursor = cnx.cursor()"
   ]
  },
  {
   "cell_type": "markdown",
   "id": "13f8db19-b8bd-4a23-87c6-fb2537b06468",
   "metadata": {},
   "source": [
    "(1) cursor(): \n",
    "The cursor() method creates a cursor object, which is used to execute SQL statements and fetch data from the database. The cursor serves as a handle for interacting with the database.\n",
    "\n",
    "(2) execute(): \n",
    "The execute() method is used to execute SQL statements or queries. It takes an SQL statement as a parameter and executes it on the database server. The executed SQL statement can be a Data Definition Language (DDL) statement (e.g., CREATE, DROP, ALTER), Data Manipulation Language (DML) statement (e.g., INSERT, UPDATE, DELETE), or Data Query Language (DQL) statement (e.g., SELECT)."
   ]
  },
  {
   "cell_type": "code",
   "execution_count": null,
   "id": "fa2b82b7-4b97-4929-9154-dc21118e0493",
   "metadata": {},
   "outputs": [],
   "source": [
    "# Execute an SQL statement\n",
    "cursor.execute(\"SELECT * FROM users\")\n",
    "\n",
    "# Fetch all rows returned by the SELECT query\n",
    "rows = cursor.fetchall()\n",
    "\n",
    "# Iterate over the rows and print the data\n",
    "for row in rows:\n",
    "    print(row)\n",
    "\n",
    "# Close the cursor and the database connection\n",
    "cursor.close()\n",
    "cnx.close()"
   ]
  },
  {
   "cell_type": "code",
   "execution_count": null,
   "id": "b9e38aa9-8813-4f48-83af-fde47f2da6a1",
   "metadata": {},
   "outputs": [],
   "source": []
  },
  {
   "cell_type": "code",
   "execution_count": null,
   "id": "1081095e-893c-4072-b414-9dea3bc4c65c",
   "metadata": {},
   "outputs": [],
   "source": []
  },
  {
   "cell_type": "markdown",
   "id": "ff87b5de-26d0-4f11-bd23-0d44af6dbdda",
   "metadata": {},
   "source": [
    "Q7. Give the order of execution of SQL clauses in an SQL query."
   ]
  },
  {
   "cell_type": "markdown",
   "id": "921d9896-6270-4d67-9007-e2179ab9089d",
   "metadata": {},
   "source": [
    "The order of execution of SQL clauses in an SQL query is as follows:\n",
    "\n",
    "(1) `FROM`: Specifies the table(s) from which to retrieve data.\n",
    "(2) `JOIN`: Performs any necessary joins between tables.\n",
    "(3) `WHERE`: Filters the data based on specified conditions.\n",
    "(4) `GROUP BY`: Groups the data based on specified columns.\n",
    "(5) `HAVING`: Filters the grouped data based on specified conditions.\n",
    "(6) `SELECT`: Retrieves the desired columns or expressions from the data.\n",
    "(7) `DISTINCT`: Removes duplicates from the result set.\n",
    "(8) `ORDER BY`: Sorts the result set based on specified columns or expressions.\n",
    "(9) `LIMIT`/`OFFSET`: Restricts the number of rows returned or skips a certain number of rows.\n",
    "(10) `INSERT`: Inserts data into a table.\n",
    "(11) `UPDATE`: Modifies data in a table.\n",
    "(12) `DELETE`: Deletes data from a table.\n",
    "\n",
    "Not all clauses are required in every SQL query, and the order may vary based on the specific requirements of the query. However, the general order of execution remains consistent."
   ]
  }
 ],
 "metadata": {
  "kernelspec": {
   "display_name": "Python 3 (ipykernel)",
   "language": "python",
   "name": "python3"
  },
  "language_info": {
   "codemirror_mode": {
    "name": "ipython",
    "version": 3
   },
   "file_extension": ".py",
   "mimetype": "text/x-python",
   "name": "python",
   "nbconvert_exporter": "python",
   "pygments_lexer": "ipython3",
   "version": "3.10.8"
  }
 },
 "nbformat": 4,
 "nbformat_minor": 5
}
