{
 "cells": [
  {
   "cell_type": "markdown",
   "id": "3235baab-715d-4ab0-8cb1-033d51868f8b",
   "metadata": {},
   "source": [
    "Q1. Explain GET and POST methods."
   ]
  },
  {
   "cell_type": "markdown",
   "id": "20c6e401-c33a-417a-8821-7c9e45ebc480",
   "metadata": {},
   "source": [
    "The GET and POST methods are two commonly used HTTP methods in web development:\n",
    "\n",
    "(A) GET Method:\n",
    "\n",
    "(1) The GET method is used to retrieve data from a server.\n",
    "(2) It appends the data to the URL in the form of query parameters.\n",
    "(3) GET requests can be cached and bookmarked.\n",
    "(4) It is less secure for sensitive data as the data is visible in the URL.\n",
    "(5) It has length limitations on the amount of data that can be sent.\n",
    "\n",
    "(B) POST Method:\n",
    "\n",
    "(1) The POST method is used to send data to the server to create or update a resource.\n",
    "(2) It sends data in the request body, not visible in the URL.\n",
    "(3) POST requests are not cached or bookmarked.\n",
    "(4) It is more secure for sensitive data as the data is not visible in the URL.\n",
    "(5) It can send larger amounts of data compared to GET requests.\n",
    "\n",
    "In web development, the choice between using the GET or POST method depends on the specific requirements of the application. GET requests are generally used for retrieving data or performing read operations, while POST requests are used for submitting form data, creating new resources, or updating existing resources."
   ]
  },
  {
   "cell_type": "code",
   "execution_count": null,
   "id": "cb45df56-315d-42cf-ab53-0e4ae74026e9",
   "metadata": {},
   "outputs": [],
   "source": []
  },
  {
   "cell_type": "code",
   "execution_count": null,
   "id": "5850b1b3-0f4e-4647-aaad-dcbd58c4865b",
   "metadata": {},
   "outputs": [],
   "source": []
  },
  {
   "cell_type": "markdown",
   "id": "95c9c6b6-8f23-468d-b5fd-5b3a226772f6",
   "metadata": {},
   "source": [
    "Q2. Why is request used in Flask?"
   ]
  },
  {
   "cell_type": "markdown",
   "id": "6ac31135-b75f-4753-be5b-4314943baa6a",
   "metadata": {},
   "source": [
    "In Flask, the request object is used to access and handle incoming HTTP requests made by clients. It provides access to various properties and methods that allow developers to retrieve and manipulate data from the request.\n",
    "\n",
    "The request object is used in Flask for:\n",
    "\n",
    "1) Retrieving Data: The request object allows you to retrieve data sent by the client in the request. This includes accessing query parameters, form data, request headers, cookies, and more. \n",
    "\n",
    "2) Handling Form Submissions: When working with HTML forms, the request object is essential for handling form submissions. It provides methods to retrieve form data, such as request.form or request.get_json(), allowing you to access the submitted values and process them accordingly.\n",
    "\n",
    "3) File Uploads: If your application involves file uploads, the request object provides access to the uploaded files via the request.files attribute. You can retrieve and process the uploaded files for further handling or storage.\n",
    "\n",
    "4) Session Management: The request object is used to manage user sessions in Flask. It allows you to access and manipulate session data stored on the server-side. You can retrieve session variables, set new values, and handle session-related operations using the request object.\n",
    "\n",
    "5) Request Context: The request object is part of the request context in Flask, which provides a way to store and access data during a request. It allows you to share data across different parts of your application within the scope of a request."
   ]
  },
  {
   "cell_type": "code",
   "execution_count": null,
   "id": "7dbd7d04-d44a-4e59-83c9-1a56944f53ca",
   "metadata": {},
   "outputs": [],
   "source": []
  },
  {
   "cell_type": "code",
   "execution_count": null,
   "id": "25c3e863-b620-405a-9040-34322c932992",
   "metadata": {},
   "outputs": [],
   "source": []
  },
  {
   "cell_type": "markdown",
   "id": "7f46280f-f594-48b9-be67-05e1cd2ec7c7",
   "metadata": {},
   "source": [
    "Q3. Why is redirect() used in Flask?"
   ]
  },
  {
   "cell_type": "markdown",
   "id": "06f5e9ea-a925-4ba1-b7f1-14459856d472",
   "metadata": {},
   "source": [
    "The redirect() function in Flask is used to redirect the client's browser to a different URL. It is a convenient way to redirect users to another page or route within your Flask application.\n",
    "\n",
    "The redirect() function is used in Flask for:\n",
    "\n",
    "1) Page Navigation: By using redirect(), you can direct the user's browser to a different URL, allowing them to navigate to another page or route within your application. This is useful when you want to redirect users after they have performed certain actions or when you want to provide a seamless user experience by guiding them to the appropriate pages.\n",
    "\n",
    "2) Post-Redirect-Get (PRG) Pattern: The PRG pattern is a common web development practice that involves redirecting the user after a form submission to avoid resubmitting the form when the user refreshes the page. By using redirect() after a form submission, you can redirect the user to a different route, preventing accidental form resubmissions.\n",
    "\n",
    "3) Route Mapping: In some cases, user may want to define multiple routes that lead to the same or similar content. By using redirect(), user can map different routes to a single destination, making it easier to maintain and organize your routes.\n",
    "\n",
    "4) URL Generation: The redirect() function can also be used with the url_for() function to dynamically generate the URL to redirect to. This is particularly useful when you want to redirect users to a specific route by passing arguments or parameters to the url_for() function."
   ]
  },
  {
   "cell_type": "code",
   "execution_count": null,
   "id": "512cd36b-e6c2-4c35-9851-cecb8a06d9de",
   "metadata": {},
   "outputs": [],
   "source": []
  },
  {
   "cell_type": "code",
   "execution_count": null,
   "id": "66967f93-e3c7-4bdc-9371-cc847d812b81",
   "metadata": {},
   "outputs": [],
   "source": []
  },
  {
   "cell_type": "markdown",
   "id": "287ddaf4-6b65-4ceb-a7a4-173858b51238",
   "metadata": {},
   "source": [
    "Q4. What are templates in Flask? Why is the render_template() function used?"
   ]
  },
  {
   "cell_type": "markdown",
   "id": "fecba964-2930-43e3-ae91-8ff9dbd20b4a",
   "metadata": {},
   "source": [
    "In Flask, templates are files that contain HTML markup with placeholders for dynamic content. Templates allows to dynamically generate HTML pages by combining static HTML code with data provided by the Flask application.\n",
    "\n",
    "The render_template() function is used to render templates in Flask. It takes the name of the template file as an argument and returns the rendered HTML content. The render_template() function looks for template files in a directory called \"templates\" by default.\n",
    "\n",
    "The render_template() function is used in Flask for:\n",
    "\n",
    "1) Dynamic Content: The main purpose of the render_template() function is to combine the template file with the dynamic data provided by the Flask application. It allows you to pass variables, objects, or data structures from your Python code to the template, which can then be used to generate dynamic content in the rendered HTML.\n",
    "\n",
    "2) HTML Generation: The render_template() function helps generate HTML pages by merging the static HTML code in the template file with the dynamic data provided by the application. It allows you to create dynamic web pages that can adapt to different scenarios and user interactions.\n",
    "\n",
    "3) Separation of Concerns: Templates in Flask promote the separation of concerns by separating the presentation logic (HTML markup) from the application logic (Python code). The render_template() function enables this separation by rendering the template file and providing a way to pass data from the Flask application to the template.\n",
    "\n",
    "4) Code Reusability: With templates, you can define reusable components or layouts that can be used across multiple pages in your Flask application. The render_template() function allows you to render these templates easily, reducing code duplication and improving code maintainability."
   ]
  },
  {
   "cell_type": "code",
   "execution_count": null,
   "id": "2573ceba-8636-4159-bd97-46c7ff367db5",
   "metadata": {},
   "outputs": [],
   "source": []
  },
  {
   "cell_type": "code",
   "execution_count": null,
   "id": "ff463de5-b053-4304-8e5f-d19008dabfd4",
   "metadata": {},
   "outputs": [],
   "source": []
  },
  {
   "cell_type": "markdown",
   "id": "eb2c409f-b5e2-4274-a367-090b7f64284c",
   "metadata": {},
   "source": [
    "Q5. Create a simple API. Use Postman to test it. Attach the screenshot of the output in the Jupyter Notebook."
   ]
  },
  {
   "cell_type": "code",
   "execution_count": null,
   "id": "81e4d5ab-2bb5-4fd9-b858-c821b815418b",
   "metadata": {},
   "outputs": [],
   "source": [
    "from flask import Flask, request, jsonify, render_template\n",
    "\n",
    "app = Flask(__name__)\n",
    "\n",
    "@app.route('/postman_action', methods = ['POST'])\n",
    "def math_ops1():\n",
    "    if (request.method == 'POST'):\n",
    "       ops = request.json['operation']\n",
    "       num1 = int(request.json['num1'])\n",
    "       num2 = int(request.json['num2'])\n",
    "       if ops == 'add':\n",
    "            a = num1 + num2\n",
    "            result = \"The sum of \" + str(num1) + \" and \" + str(num2) + \" is \" + str(a)\n",
    "        return jsonify(result)\n",
    "\n",
    "if __name__==\"__main__\":\n",
    "    app.run(host=\"0.0.0.0\")\n",
    "\n"
   ]
  },
  {
   "cell_type": "markdown",
   "id": "b85b8741-83b8-4781-a37e-61d855163038",
   "metadata": {},
   "source": [
    "![Hello World Screenshot](postman_assign.png)"
   ]
  },
  {
   "cell_type": "code",
   "execution_count": null,
   "id": "f3d8d914-648b-44c4-9e9f-1de84d9b0f7a",
   "metadata": {},
   "outputs": [],
   "source": []
  }
 ],
 "metadata": {
  "kernelspec": {
   "display_name": "Python 3 (ipykernel)",
   "language": "python",
   "name": "python3"
  },
  "language_info": {
   "codemirror_mode": {
    "name": "ipython",
    "version": 3
   },
   "file_extension": ".py",
   "mimetype": "text/x-python",
   "name": "python",
   "nbconvert_exporter": "python",
   "pygments_lexer": "ipython3",
   "version": "3.10.8"
  }
 },
 "nbformat": 4,
 "nbformat_minor": 5
}
