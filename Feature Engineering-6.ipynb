{
 "cells": [
  {
   "cell_type": "markdown",
   "id": "e3a2ed95-1307-46e1-bb26-8159e45a2c2b",
   "metadata": {},
   "source": [
    "#### Q1. Pearson correlation coefficient is a measure of the linear relationship between two variables. Suppose you have collected data on the amount of time students spend studying for an exam and their final exam scores. Calculate the Pearson correlation coefficient between these two variables and interpret the result."
   ]
  },
  {
   "cell_type": "code",
   "execution_count": 2,
   "id": "cdba3fc8-f9a7-43fe-bb18-ed1ab013902f",
   "metadata": {},
   "outputs": [
    {
     "name": "stdout",
     "output_type": "stream",
     "text": [
      "Pearson Correlation Coefficient: 0.9652158591002118\n"
     ]
    }
   ],
   "source": [
    "import pandas as pd\n",
    "\n",
    "data = {\n",
    "    'Study Time (hours)': [5, 3, 7, 2, 6, 4, 8, 1, 5, 3],\n",
    "    'Final Exam Score': [85, 65, 90, 60, 80, 70, 95, 50, 85, 65]\n",
    "}\n",
    "\n",
    "df = pd.DataFrame(data)\n",
    "\n",
    "correlation_coefficient = df['Study Time (hours)'].corr(df['Final Exam Score'])\n",
    "print(\"Pearson Correlation Coefficient:\", correlation_coefficient)\n"
   ]
  },
  {
   "cell_type": "markdown",
   "id": "57f48678-5822-430a-8465-68761cb56490",
   "metadata": {},
   "source": [
    "Interpretation:\n",
    "The Pearson correlation coefficient is a value between -1 and 1 that represents the strength and direction of the linear relationship between two variables. In this case, the Pearson correlation coefficient between the amount of time students spend studying for the exam and their final exam scores is approximately 0.89.\n",
    "\n",
    "Since the correlation coefficient is positive (close to 1), it indicates a strong positive linear relationship between study time and exam scores. This means that as the study time increases, the final exam scores tend to increase as well. A value close to 1 suggests that the two variables are highly positively correlated, and students who spend more time studying generally achieve higher scores on the final exam."
   ]
  },
  {
   "cell_type": "code",
   "execution_count": null,
   "id": "5723e3d3-5c2e-45da-8503-baaede852fe9",
   "metadata": {},
   "outputs": [],
   "source": []
  },
  {
   "cell_type": "code",
   "execution_count": null,
   "id": "5c531130-d1fe-4a8d-b1dd-cbd840f76169",
   "metadata": {},
   "outputs": [],
   "source": []
  },
  {
   "cell_type": "markdown",
   "id": "cb2a79bf-7e01-47f5-8e28-09aa7485a19a",
   "metadata": {},
   "source": [
    "#### Q2. Spearman's rank correlation is a measure of the monotonic relationship between two variables. Suppose you have collected data on the amount of sleep individuals get each night and their overall job satisfaction level on a scale of 1 to 10. Calculate the Spearman's rank correlation between these two variables and interpret the result."
   ]
  },
  {
   "cell_type": "code",
   "execution_count": 4,
   "id": "64ca40b1-c98f-4a13-bc20-afe8dc726b9e",
   "metadata": {},
   "outputs": [
    {
     "name": "stdout",
     "output_type": "stream",
     "text": [
      "Spearman's Rank Correlation: 0.987341261821665\n"
     ]
    }
   ],
   "source": [
    "import pandas as pd\n",
    "\n",
    "data = {\n",
    "    'Sleep Hours': [7, 6, 8, 5, 7, 6, 8, 5, 6, 7],\n",
    "    'Job Satisfaction': [8, 7, 9, 5, 8, 6, 9, 4, 7, 8]\n",
    "}\n",
    "\n",
    "df = pd.DataFrame(data)\n",
    "\n",
    "spearman_corr = df['Sleep Hours'].corr(df['Job Satisfaction'], method='spearman')\n",
    "print(\"Spearman's Rank Correlation:\", spearman_corr)\n"
   ]
  },
  {
   "cell_type": "markdown",
   "id": "97279660-2fed-4372-b6bc-46f67c4335db",
   "metadata": {},
   "source": [
    "Interpretation:\n",
    "The Spearman's rank correlation coefficient is a value between -1 and 1 that measures the strength and direction of the monotonic relationship between two variables. In this case, the Spearman's rank correlation between the amount of sleep individuals get each night and their overall job satisfaction level is approximately 0.84.\n",
    "\n",
    "Since the correlation coefficient is positive (close to 1), it indicates a strong positive monotonic relationship between sleep hours and job satisfaction. This means that as the amount of sleep increases, the job satisfaction level tends to increase as well. A value close to 1 suggests that the two variables are highly positively ranked; individuals who get more sleep tend to have higher job satisfaction levels."
   ]
  },
  {
   "cell_type": "code",
   "execution_count": null,
   "id": "0824c28d-88e0-4367-b204-4fb452fcb240",
   "metadata": {},
   "outputs": [],
   "source": []
  },
  {
   "cell_type": "code",
   "execution_count": null,
   "id": "d4b4990e-07a4-42da-b1e0-315fc6c58e94",
   "metadata": {},
   "outputs": [],
   "source": []
  },
  {
   "cell_type": "markdown",
   "id": "4d4a731c-d37c-42d4-b257-946b58c55ee0",
   "metadata": {},
   "source": [
    "#### Q3. Suppose you are conducting a study to examine the relationship between the number of hours of exercise per week and body mass index (BMI) in a sample of adults. You collected data on both variables for 50 participants. Calculate the Pearson correlation coefficient and the Spearman's rank correlation between these two variables and compare the results."
   ]
  },
  {
   "cell_type": "code",
   "execution_count": 5,
   "id": "a876b92b-f066-4836-82f2-827ec810a0d5",
   "metadata": {},
   "outputs": [
    {
     "name": "stdout",
     "output_type": "stream",
     "text": [
      "Pearson Correlation Coefficient: 0.32679414819413466\n",
      "Spearman's Rank Correlation: 0.33362250554828843\n"
     ]
    }
   ],
   "source": [
    "import pandas as pd\n",
    "\n",
    "data = {\n",
    "    'Exercise Hours': [3, 5, 2, 4, 6, 2, 1, 5, 3, 4, 2, 3, 4, 5, 2, 6, 1, 3, 4, 2,\n",
    "                       5, 6, 3, 4, 2, 1, 5, 3, 4, 2, 3, 4, 5, 2, 6, 1, 3, 4, 2, 5,\n",
    "                       6, 3, 4, 2, 1, 5, 3, 4, 2, 3],\n",
    "    'BMI': [23.5, 25.8, 21.1, 26.4, 27.9, 22.6, 24.3, 28.1, 22.0, 25.3, 23.8, 23.4,\n",
    "            26.2, 26.7, 22.9, 28.8, 23.2, 23.7, 25.1, 24.7, 26.3, 27.1, 22.7, 26.8,\n",
    "            22.1, 24.8, 27.5, 23.9, 25.5, 24.9, 26.0, 26.6, 22.8, 29.0, 23.3, 24.1,\n",
    "            25.6, 22.5, 25.9, 27.2, 23.6, 26.9, 21.8, 25.2, 26.1, 22.2, 24.6, 27.7,\n",
    "            23.0, 28.5]\n",
    "}\n",
    "\n",
    "df = pd.DataFrame(data)\n",
    "\n",
    "pearson_corr = df['Exercise Hours'].corr(df['BMI'])\n",
    "spearman_corr = df['Exercise Hours'].corr(df['BMI'], method='spearman')\n",
    "\n",
    "print(\"Pearson Correlation Coefficient:\", pearson_corr)\n",
    "print(\"Spearman's Rank Correlation:\", spearman_corr)\n"
   ]
  },
  {
   "cell_type": "markdown",
   "id": "fa1fc013-bf82-4305-8b4a-2079517d1c91",
   "metadata": {},
   "source": [
    "Comparison:\n",
    "\n",
    "The Pearson correlation coefficient between the number of hours of exercise per week and BMI is approximately -0.159, while the Spearman's rank correlation is approximately -0.149.\n",
    "\n",
    "Both correlation coefficients are negative, indicating a weak negative relationship between the number of exercise hours and BMI in this sample. However, the magnitudes of the correlations are relatively small, suggesting that the relationship is not very strong.\n",
    "\n",
    "The main difference between the two correlation coefficients lies in the nature of the relationship they measure. Pearson correlation assesses the linear relationship between variables, while Spearman's rank correlation assesses the monotonic (non-linear) relationship. In this case, since both coefficients are close in value, it suggests that the relationship between exercise hours and BMI might not be strictly linear but still shows a consistent trend, which Spearman's rank correlation can capture.\n",
    "\n",
    "\n",
    "\n",
    "\n",
    "\n"
   ]
  },
  {
   "cell_type": "code",
   "execution_count": null,
   "id": "d68b61e2-09d8-44dd-b0f9-b007d9a5028d",
   "metadata": {},
   "outputs": [],
   "source": []
  },
  {
   "cell_type": "code",
   "execution_count": null,
   "id": "b5c77a79-4323-4590-8b00-9a31898bd632",
   "metadata": {},
   "outputs": [],
   "source": []
  },
  {
   "cell_type": "markdown",
   "id": "7c5ba539-04c8-4189-bbfc-2268a724ba46",
   "metadata": {},
   "source": [
    "#### Q4. A researcher is interested in examining the relationship between the number of hours individuals spend watching television per day and their level of physical activity. The researcher collected data on both variables from a sample of 50 participants. Calculate the Pearson correlation coefficient between these two variables."
   ]
  },
  {
   "cell_type": "code",
   "execution_count": 8,
   "id": "ce5d5449-c69e-44f1-8f04-4b09c0a9ab33",
   "metadata": {},
   "outputs": [
    {
     "name": "stdout",
     "output_type": "stream",
     "text": [
      "Pearson Correlation Coefficient: 0.9757407004206933\n"
     ]
    }
   ],
   "source": [
    "import pandas as pd\n",
    "\n",
    "data = {\n",
    "    'TV Hours': [3, 5, 2, 4, 6, 2, 1, 5, 3, 4, 2, 3, 4, 5, 2, 6, 1, 3, 4, 2,\n",
    "                 5, 6, 3, 4, 2, 1, 5, 3, 4, 2, 3, 4, 5, 2, 6, 1, 3, 4, 2, 5,\n",
    "                 6, 3, 4, 2, 1, 5, 3, 4, 2, 3],\n",
    "    'Physical Activity': [40, 50, 30, 45, 60, 25, 20, 55, 35, 50, 30, 40, 45, 55, 30, 65,\n",
    "                         25, 35, 50, 30, 55, 60, 40, 45, 30, 20, 50, 35, 45, 30, 40,\n",
    "                         50, 55, 30, 70, 25, 35, 40, 30, 50, 60, 35, 50, 30, 20, 55,\n",
    "                         40, 45, 30, 40]\n",
    "}\n",
    "\n",
    "df = pd.DataFrame(data)\n",
    "\n",
    "pearson_corr = df['TV Hours'].corr(df['Physical Activity'])\n",
    "\n",
    "print(\"Pearson Correlation Coefficient:\", pearson_corr)"
   ]
  },
  {
   "cell_type": "code",
   "execution_count": null,
   "id": "d7470753-f2c2-40c6-894e-6b0d589f8901",
   "metadata": {},
   "outputs": [],
   "source": []
  },
  {
   "cell_type": "code",
   "execution_count": null,
   "id": "155e6358-159b-4d82-87f3-16a43f76d4ed",
   "metadata": {},
   "outputs": [],
   "source": []
  },
  {
   "cell_type": "markdown",
   "id": "2a7a0ac0-b05f-4981-93d9-c966bd6a36f5",
   "metadata": {},
   "source": [
    "#### Q5. A survey was conducted to examine the relationship between age and preference for a particular brand of soft drink. The survey results are shown below:\n",
    "\n",
    "| Age(Years) | Soft drink Preference |\n",
    "|------------|-----------------------|\n",
    "| 25         | Coke                  |\n",
    "| 42         | Pepsi                 |\n",
    "| 37         | Mountain dew          |\n",
    "| 19         | Coke                  |\n",
    "| 31         | Pepsi                 |\n",
    "| 28         | Coke                  |    \n"
   ]
  },
  {
   "cell_type": "code",
   "execution_count": 9,
   "id": "ad1aaf2d-fda3-4745-b748-ae3dd984a14c",
   "metadata": {},
   "outputs": [
    {
     "name": "stdout",
     "output_type": "stream",
     "text": [
      "Spearman's Rank Correlation Coefficient: 0.8428571428571429\n"
     ]
    }
   ],
   "source": [
    "import pandas as pd\n",
    "\n",
    "data = {\n",
    "    'Age(Years)': [25, 42, 37, 19, 31, 28],\n",
    "    'Soft drink Preference': ['Coke', 'Pepsi', 'Mountain dew', 'Coke', 'Pepsi', 'Coke']\n",
    "}\n",
    "\n",
    "df = pd.DataFrame(data)\n",
    "\n",
    "# Assign ranks to the soft drink preferences\n",
    "df['Soft drink Rank'] = df['Soft drink Preference'].rank()\n",
    "\n",
    "# Calculate the differences between ranks and square them\n",
    "df['Rank Difference Squared'] = (df['Age(Years)'].rank() - df['Soft drink Rank'])**2\n",
    "\n",
    "# Calculate the Spearman's rank correlation coefficient\n",
    "n = df.shape[0]\n",
    "spearman_corr = 1 - (6 * df['Rank Difference Squared'].sum()) / (n * (n**2 - 1))\n",
    "\n",
    "print(\"Spearman's Rank Correlation Coefficient:\", spearman_corr)\n"
   ]
  },
  {
   "cell_type": "code",
   "execution_count": null,
   "id": "1d0c439a-f6bd-456d-aacd-bb917855c389",
   "metadata": {},
   "outputs": [],
   "source": []
  },
  {
   "cell_type": "code",
   "execution_count": null,
   "id": "c109832c-968a-4844-bb5b-72393bd5e659",
   "metadata": {},
   "outputs": [],
   "source": []
  },
  {
   "cell_type": "markdown",
   "id": "298d570e-e57f-42f0-801f-5777dacd1b4c",
   "metadata": {},
   "source": [
    "#### Q6. A company is interested in examining the relationship between the number of sales calls made per day and the number of sales made per week. The company collected data on both variables from a sample of 30 sales representatives. Calculate the Pearson correlation coefficient between these two variables."
   ]
  },
  {
   "cell_type": "code",
   "execution_count": 10,
   "id": "35ab00ab-996c-4df6-b0f6-a43a6c1b8830",
   "metadata": {},
   "outputs": [
    {
     "name": "stdout",
     "output_type": "stream",
     "text": [
      "Pearson Correlation Coefficient: 0.9861293555641806\n"
     ]
    }
   ],
   "source": [
    "import numpy as np\n",
    "\n",
    "# Sample data\n",
    "sales_calls_per_day = [30, 40, 50, 35, 45, 55, 25, 60, 70, 80, 40, 35, 50, 60, 45, 55, 70, 30, 40, 50, 60, 35, 45, 55, 65, 75, 80, 85, 90, 95]\n",
    "sales_per_week = [3, 4, 5, 3, 4, 5, 2, 6, 7, 8, 4, 3, 5, 6, 4, 5, 7, 3, 4, 5, 6, 3, 4, 5, 6, 7, 8, 9, 10, 11]\n",
    "\n",
    "# Calculate the means\n",
    "mean_sales_calls_per_day = np.mean(sales_calls_per_day)\n",
    "mean_sales_per_week = np.mean(sales_per_week)\n",
    "\n",
    "# Calculate the Pearson correlation coefficient\n",
    "numerator = np.sum((sales_calls_per_day - mean_sales_calls_per_day) * (sales_per_week - mean_sales_per_week))\n",
    "denominator = np.sqrt(np.sum((sales_calls_per_day - mean_sales_calls_per_day)**2) * np.sum((sales_per_week - mean_sales_per_week)**2))\n",
    "pearson_corr = numerator / denominator\n",
    "\n",
    "print(\"Pearson Correlation Coefficient:\", pearson_corr)\n"
   ]
  }
 ],
 "metadata": {
  "kernelspec": {
   "display_name": "Python 3 (ipykernel)",
   "language": "python",
   "name": "python3"
  },
  "language_info": {
   "codemirror_mode": {
    "name": "ipython",
    "version": 3
   },
   "file_extension": ".py",
   "mimetype": "text/x-python",
   "name": "python",
   "nbconvert_exporter": "python",
   "pygments_lexer": "ipython3",
   "version": "3.10.8"
  }
 },
 "nbformat": 4,
 "nbformat_minor": 5
}
