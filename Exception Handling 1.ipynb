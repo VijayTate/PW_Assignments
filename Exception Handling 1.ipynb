{
 "cells": [
  {
   "cell_type": "markdown",
   "id": "732e8128-6724-4eee-aa86-795e7b661725",
   "metadata": {},
   "source": [
    "Q1. What is an Exception in python? Write the difference between Exceptions and syntax errors."
   ]
  },
  {
   "cell_type": "markdown",
   "id": "419ec42e-18a3-4c99-82f0-de43dd8b0498",
   "metadata": {},
   "source": [
    "In Python, an exception is an error that occurs during the execution of a program. When an exceptional situation arises that disrupts the normal flow of code execution, an exception is raised.\n",
    "The difference between exceptions and syntax errors is as follows:\n",
    "\n",
    "(1) Exceptions: Exceptions occur during the runtime of a program when an error condition is encountered. They can be handled and recovered from using exception handling mechanisms such as try-except blocks. Examples of exceptions include ZeroDivisionError, FileNotFoundError, and ValueError.\n",
    "\n",
    "(2) Syntax Errors: Syntax errors, also known as parsing errors, occur during the compilation of the program when the code violates the language's syntax rules. These errors prevent the program from being executed. They are typically caused by mistakes such as misspelled keywords, missing colons, or incorrect indentation. Examples of syntax errors include invalid syntax, unexpected indent, and name errors.\n"
   ]
  },
  {
   "cell_type": "code",
   "execution_count": null,
   "id": "6b5e5335-0f88-4122-83f9-907f06018290",
   "metadata": {},
   "outputs": [],
   "source": []
  },
  {
   "cell_type": "code",
   "execution_count": null,
   "id": "4c0e5de6-51e3-4a2c-bdca-bae37741cd9d",
   "metadata": {},
   "outputs": [],
   "source": []
  },
  {
   "cell_type": "markdown",
   "id": "ad874f5a-6e75-4b23-9c8f-d535eb11ffce",
   "metadata": {},
   "source": [
    "Q2. What happens when an exception is not handled? Explain with an example."
   ]
  },
  {
   "cell_type": "markdown",
   "id": "cebb58a9-853d-46f3-984c-def54e476e69",
   "metadata": {},
   "source": [
    "When an exception is not handled in Python, it results in an error message being displayed, and the program terminates abruptly.\n",
    "Example:"
   ]
  },
  {
   "cell_type": "code",
   "execution_count": null,
   "id": "22503e15-3cb8-440b-a462-80415e3143a5",
   "metadata": {},
   "outputs": [],
   "source": [
    "def divide_numbers(a):\n",
    "    result = a / 0\n",
    "    return result\n",
    "\n",
    "# Calling the function without handling the ZeroDivisionError\n",
    "result = divide_numbers(10)\n",
    "print(result)"
   ]
  },
  {
   "cell_type": "code",
   "execution_count": null,
   "id": "7e4b1ea6-3079-40fb-8084-0e5d0356fe0f",
   "metadata": {},
   "outputs": [],
   "source": []
  },
  {
   "cell_type": "code",
   "execution_count": null,
   "id": "63493910-a9e5-422e-a235-d635d6249c57",
   "metadata": {},
   "outputs": [],
   "source": []
  },
  {
   "cell_type": "markdown",
   "id": "a1b934c7-0dfb-48a8-ae4d-16665939709a",
   "metadata": {},
   "source": [
    "Q3. Which Python statements are used to catch and handle exceptions? Explain with an example."
   ]
  },
  {
   "cell_type": "markdown",
   "id": "5a04eb08-7388-42e4-bf63-b544b75cc6f2",
   "metadata": {},
   "source": [
    "In Python, the try-except statements are used to catch and handle exceptions. The try block is used to enclose the code that may raise an exception, and the except block is used to specify the actions to be taken if a particular exception is raised.\n",
    "Example:"
   ]
  },
  {
   "cell_type": "code",
   "execution_count": 1,
   "id": "ccbbfc82-8dae-424a-93f0-3df7221d9443",
   "metadata": {},
   "outputs": [
    {
     "name": "stdout",
     "output_type": "stream",
     "text": [
      "Error: Division by zero is not allowed.\n"
     ]
    }
   ],
   "source": [
    "def divide_numbers(a):\n",
    "    try:\n",
    "        result = a / 0\n",
    "        return result\n",
    "    except ZeroDivisionError:\n",
    "        print(\"Error: Division by zero is not allowed.\")\n",
    "        return None\n",
    "\n",
    "# Calling the function with exception handling\n",
    "result = divide_numbers(10)\n",
    "if result is not None:\n",
    "    print(result)"
   ]
  },
  {
   "cell_type": "code",
   "execution_count": null,
   "id": "eee4e409-0b2a-4a0c-9d33-df781b9c3241",
   "metadata": {},
   "outputs": [],
   "source": []
  },
  {
   "cell_type": "code",
   "execution_count": null,
   "id": "d7d813a4-acbd-48cc-be6d-51f90f0e2fb4",
   "metadata": {},
   "outputs": [],
   "source": []
  },
  {
   "cell_type": "markdown",
   "id": "81faff97-3a4e-41d1-a971-28b1fb2e42fd",
   "metadata": {},
   "source": [
    "Q4. Explain with an example:  \n",
    "    a. try and else\n",
    "    b. finally \n",
    "    c. raise"
   ]
  },
  {
   "cell_type": "code",
   "execution_count": null,
   "id": "f605d5d2-03a1-4997-853b-952ed43ba71a",
   "metadata": {},
   "outputs": [],
   "source": []
  },
  {
   "cell_type": "markdown",
   "id": "9b8998bd-03df-4310-bfc2-2f3fb1da5094",
   "metadata": {},
   "source": [
    "(a) try-else:\n",
    "The try-else block is used when you want to specify a piece of code that should run only if no exceptions are raised in the try block.\n",
    "Example:"
   ]
  },
  {
   "cell_type": "code",
   "execution_count": null,
   "id": "95b34d04-18e9-4807-bace-8c512c0dc670",
   "metadata": {},
   "outputs": [],
   "source": [
    "try:\n",
    "    result = num1 / num2\n",
    "except ZeroDivisionError:\n",
    "    print(\"Error: Division by zero is not allowed.\")\n",
    "else:\n",
    "    print(\"The division result is:\", result)"
   ]
  },
  {
   "cell_type": "code",
   "execution_count": null,
   "id": "c7003577-e2c3-4596-a586-4d4bcf0daf08",
   "metadata": {},
   "outputs": [],
   "source": []
  },
  {
   "cell_type": "markdown",
   "id": "3f62311e-5be5-4992-94de-679bc870b191",
   "metadata": {},
   "source": [
    "(b) finally:\n",
    "The finally block is used to specify code that should always be executed, regardless of whether an exception occurred or not. \n",
    "Example:"
   ]
  },
  {
   "cell_type": "code",
   "execution_count": null,
   "id": "42503263-11c8-4a41-9c34-94f0536f7858",
   "metadata": {},
   "outputs": [],
   "source": [
    "try:\n",
    "    file = open(\"example.txt\", \"r\")\n",
    "\n",
    "except FileNotFoundError:\n",
    "    print(\"Error: File not found.\")\n",
    "finally:\n",
    "    file.close()"
   ]
  },
  {
   "cell_type": "code",
   "execution_count": null,
   "id": "6235540e-5842-44d8-85f8-df3052aa118a",
   "metadata": {},
   "outputs": [],
   "source": []
  },
  {
   "cell_type": "markdown",
   "id": "ca5e755f-3434-4fff-a1a7-ed76a512eec2",
   "metadata": {},
   "source": [
    "(c) raise:\n",
    "The raise statement is used to explicitly raise an exception in Python. It allows you to create custom exceptions or raise built-in exceptions in specific situations.\n",
    "Example:"
   ]
  },
  {
   "cell_type": "code",
   "execution_count": 3,
   "id": "fe7f7724-9c2e-47ff-9727-4d8e3d92eb35",
   "metadata": {},
   "outputs": [
    {
     "name": "stdout",
     "output_type": "stream",
     "text": [
      "Invalid age. Must be at least 18 years old.\n"
     ]
    }
   ],
   "source": [
    "def validate_age(age):\n",
    "    if age < 18:\n",
    "        raise ValueError(\"Invalid age. Must be at least 18 years old.\")\n",
    "    else:\n",
    "        print(\"Age is valid.\")\n",
    "\n",
    "try:\n",
    "    validate_age(15)\n",
    "except ValueError as e:\n",
    "    print(e)"
   ]
  },
  {
   "cell_type": "code",
   "execution_count": null,
   "id": "a97292e5-619a-4d89-9f2d-e3f31f5608a1",
   "metadata": {},
   "outputs": [],
   "source": []
  },
  {
   "cell_type": "code",
   "execution_count": null,
   "id": "0870c88e-faaa-4e46-b6ef-8107317ba325",
   "metadata": {},
   "outputs": [],
   "source": []
  },
  {
   "cell_type": "markdown",
   "id": "512ef212-b06f-406f-b844-8e11956e6478",
   "metadata": {},
   "source": [
    "Q5. What are Custom Exceptions in python? Why do we need Custom Exceptions? Explain with an example"
   ]
  },
  {
   "cell_type": "markdown",
   "id": "d7a13044-a5fa-4f36-8452-b97ae1c61377",
   "metadata": {},
   "source": [
    "Custom exceptions in Python are user-defined exceptions that inherit from the built-in Exception class or any of its subclasses. They allow you to define and raise exceptions specific to the problem domain.\n",
    "\n",
    "We need custom exceptions for the following reasons:\n",
    "(1) Improved Readability: By defining custom exceptions, you can give meaningful names to the exceptions that reflect the specific error or condition being encountered in your code. \n",
    "\n",
    "(2) Better Error Handling: Custom exceptions allow you to handle specific errors in a more granular way. You can catch and handle different types of exceptions separately, providing more targeted error messages or performing specific error handling actions based on the exception type.\n",
    "\n",
    "(3) Code Modularity: Custom exceptions help in organizing and modularizing your code. By defining exceptions specific to your application, you can encapsulate the error-handling logic within the relevant modules or functions, making your code more modular and reusable.\n",
    "\n",
    "Example:"
   ]
  },
  {
   "cell_type": "code",
   "execution_count": 4,
   "id": "5f9a5ff6-1fb3-4c00-af44-f3f1beb24726",
   "metadata": {},
   "outputs": [
    {
     "name": "stdout",
     "output_type": "stream",
     "text": [
      "Insufficient funds in the account.\n"
     ]
    }
   ],
   "source": [
    "class InsufficientFundsError(Exception):\n",
    "    pass\n",
    "\n",
    "def withdraw(account_balance, amount):\n",
    "    if amount > account_balance:\n",
    "        raise InsufficientFundsError(\"Insufficient funds in the account.\")\n",
    "    else:\n",
    "        account_balance -= amount\n",
    "        print(\"Withdrawal successful.\")\n",
    "\n",
    "account_balance = 1000\n",
    "withdraw_amount = 1500\n",
    "\n",
    "try:\n",
    "    withdraw(account_balance, withdraw_amount)\n",
    "except InsufficientFundsError as e:\n",
    "    print(e)"
   ]
  },
  {
   "cell_type": "code",
   "execution_count": null,
   "id": "eabd42dc-581a-45f2-89ca-cdd02052e9fe",
   "metadata": {},
   "outputs": [],
   "source": []
  },
  {
   "cell_type": "code",
   "execution_count": null,
   "id": "53408f10-283f-40e2-a2ec-11ba8607073c",
   "metadata": {},
   "outputs": [],
   "source": []
  },
  {
   "cell_type": "markdown",
   "id": "0eb3a29a-e9bf-4580-ba36-3914bbe02f4b",
   "metadata": {},
   "source": [
    "Q6. Create a custom exception class. Use this class to handle an exception."
   ]
  },
  {
   "cell_type": "code",
   "execution_count": 5,
   "id": "fba489db-eb58-4084-b5b7-83b4cb72b378",
   "metadata": {},
   "outputs": [
    {
     "name": "stdin",
     "output_type": "stream",
     "text": [
      "Enter a number:  64\n"
     ]
    },
    {
     "name": "stdout",
     "output_type": "stream",
     "text": [
      "The square root of 64.0 is 8.0.\n"
     ]
    }
   ],
   "source": [
    "class InvalidInputError(Exception):\n",
    "    pass\n",
    "\n",
    "def calculate_square_root(number):\n",
    "    if number < 0:\n",
    "        raise InvalidInputError(\"Input must be a non-negative number.\")\n",
    "    else:\n",
    "        square_root = number ** 0.5\n",
    "        print(f\"The square root of {number} is {square_root}.\")\n",
    "\n",
    "try:\n",
    "    number = float(input(\"Enter a number: \"))\n",
    "    calculate_square_root(number)\n",
    "except InvalidInputError as e:\n",
    "    print(e)"
   ]
  },
  {
   "cell_type": "code",
   "execution_count": null,
   "id": "542e6556-5909-4099-8ea8-5d05ed40323b",
   "metadata": {},
   "outputs": [],
   "source": []
  }
 ],
 "metadata": {
  "kernelspec": {
   "display_name": "Python 3 (ipykernel)",
   "language": "python",
   "name": "python3"
  },
  "language_info": {
   "codemirror_mode": {
    "name": "ipython",
    "version": 3
   },
   "file_extension": ".py",
   "mimetype": "text/x-python",
   "name": "python",
   "nbconvert_exporter": "python",
   "pygments_lexer": "ipython3",
   "version": "3.10.8"
  }
 },
 "nbformat": 4,
 "nbformat_minor": 5
}
