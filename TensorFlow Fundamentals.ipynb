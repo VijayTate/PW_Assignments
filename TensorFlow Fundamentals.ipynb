{
 "cells": [
  {
   "cell_type": "markdown",
   "id": "f596b841-49f5-4547-bc91-1edd8828cbcd",
   "metadata": {},
   "source": [
    "### Part 1: Theoretical Questions:"
   ]
  },
  {
   "cell_type": "markdown",
   "id": "632193b9-923b-45d6-8501-5602425f2181",
   "metadata": {},
   "source": [
    "#### 1. What are the different data structures used in Tensorflow?. Give some examples."
   ]
  },
  {
   "cell_type": "markdown",
   "id": "d2556b79-f6b3-4fee-b864-35aa612687ac",
   "metadata": {},
   "source": [
    "TensorFlow primarily relies on two main data structures:\n",
    "\n",
    "1. **Tensors:** Tensors are multi-dimensional arrays that can hold data of various data types. They are the fundamental building blocks of TensorFlow. Tensors can be scalars (0-dimensional), vectors (1-dimensional), matrices (2-dimensional), or higher-dimensional arrays. Tensors are used to represent input data, intermediate computations, and model parameters. Examples include:\n",
    "\n",
    "   - Scalar: `tf.constant(5)`\n",
    "   - Vector: `tf.constant([1, 2, 3])`\n",
    "   - Matrix: `tf.constant([[1, 2], [3, 4]])`\n",
    "\n",
    "2. **Graphs (Computational Graphs):** TensorFlow uses a computational graph to define and execute operations (ops). A computational graph is a directed acyclic graph (DAG) where nodes represent operations, and edges represent the flow of data (tensors) between operations. The graph defines the structure of a model or computation without performing it until explicitly executed. The `tf.Graph` class is used to create and manage these graphs.\n",
    "\n",
    "   Example:\n",
    "   ```python\n",
    "   import tensorflow as tf\n",
    "\n",
    "   # Create a computational graph\n",
    "   graph = tf.Graph()\n",
    "   with graph.as_default():\n",
    "       a = tf.constant(2)\n",
    "       b = tf.constant(3)\n",
    "       c = tf.add(a, b)\n",
    "\n",
    "   # Execute the graph\n",
    "   with tf.Session(graph=graph) as sess:\n",
    "       result = sess.run(c)\n",
    "       print(result)  # Output: 5\n",
    "   ```\n",
    "\n",
    "In addition to these fundamental data structures, TensorFlow provides higher-level abstractions like `tf.Variable` for trainable variables, `tf.placeholder` for feedable data, and various specialized data structures for handling sequences (e.g., `tf.TensorArray`) and more complex data types. These data structures are used to build and manipulate models for machine learning and deep learning tasks."
   ]
  },
  {
   "cell_type": "code",
   "execution_count": null,
   "id": "44810c68-b4be-409f-8e66-0cacfd33abb0",
   "metadata": {},
   "outputs": [],
   "source": []
  },
  {
   "cell_type": "code",
   "execution_count": null,
   "id": "219819c3-366c-4f43-a301-c24c735559b2",
   "metadata": {},
   "outputs": [],
   "source": []
  },
  {
   "cell_type": "markdown",
   "id": "c65808da-4906-404c-b18b-52b01d96c2ee",
   "metadata": {},
   "source": [
    "#### 2. How does the TensorFlow constant differ from a TensorFlow variable? Explain with an example."
   ]
  },
  {
   "cell_type": "markdown",
   "id": "70eb60b1-5cb6-4dcd-a5ae-15525a856112",
   "metadata": {},
   "source": [
    "In TensorFlow, both constants and variables are used to represent data or values within a computation graph. However, they have key differences:\n",
    "\n",
    "1. **TensorFlow Constants:**\n",
    "   - Constants are tensors whose values cannot be changed once they are defined. They are immutable.\n",
    "   - They are primarily used to represent fixed values, such as hyperparameters, input data, or constants in mathematical operations.\n",
    "   - Constants are typically used for values that remain constant throughout the execution of a TensorFlow program.\n",
    "\n",
    "   Example:\n",
    "   ```python\n",
    "   import tensorflow as tf\n",
    "\n",
    "   # Creating a constant\n",
    "   a = tf.constant(5)\n",
    "   b = tf.constant(3)\n",
    "\n",
    "   # Operations with constants\n",
    "   c = tf.add(a, b)\n",
    "\n",
    "   # Running the computation\n",
    "   with tf.Session() as sess:\n",
    "       result = sess.run(c)\n",
    "       print(result)  # Output: 8\n",
    "   ```\n",
    "\n",
    "2. **TensorFlow Variables:**\n",
    "   - Variables are tensors whose values can be changed during the execution of a TensorFlow program.\n",
    "   - They are primarily used to represent model parameters that need to be updated during training, such as weights and biases in a neural network.\n",
    "   - Variables have an initial value but can be modified using operations like `assign` or `assign_add`.\n",
    "\n",
    "   Example:\n",
    "   ```python\n",
    "   import tensorflow as tf\n",
    "\n",
    "   # Creating a variable\n",
    "   initial_value = tf.constant(2.0)\n",
    "   my_variable = tf.Variable(initial_value)\n",
    "\n",
    "   # Operations to modify the variable\n",
    "   new_value = tf.add(my_variable, tf.constant(1.0))\n",
    "   update_operation = tf.assign(my_variable, new_value)\n",
    "\n",
    "   # Running the computation\n",
    "   with tf.Session() as sess:\n",
    "       sess.run(tf.global_variables_initializer())  # Initialize variables\n",
    "       print(sess.run(my_variable))  # Output: 2.0\n",
    "\n",
    "       # Update the variable\n",
    "       sess.run(update_operation)\n",
    "       print(sess.run(my_variable))  # Output: 3.0\n",
    "   ```\n",
    "\n",
    "In summary, constants are used for fixed values, while variables are used for values that can change during computation, making them suitable for model training where parameters are updated iteratively."
   ]
  },
  {
   "cell_type": "code",
   "execution_count": null,
   "id": "e458c995-c842-426e-b60a-3b93863dca01",
   "metadata": {},
   "outputs": [],
   "source": []
  },
  {
   "cell_type": "code",
   "execution_count": null,
   "id": "75e5504b-d370-4bf0-bd51-5d8a2aa1e841",
   "metadata": {},
   "outputs": [],
   "source": []
  },
  {
   "cell_type": "markdown",
   "id": "77a0a5a7-cef5-4d30-a546-de628a2efb9f",
   "metadata": {},
   "source": [
    "#### 3. Describe the process of matrix addition, multiplication, and element-wise operations in TensorFlow."
   ]
  },
  {
   "cell_type": "markdown",
   "id": "b9da8674-8937-4070-80a0-b4bdf6b7336d",
   "metadata": {},
   "source": [
    "TensorFlow provides operations for performing various matrix operations, including addition, multiplication, and element-wise operations. Here's an overview of these operations in TensorFlow:\n",
    "\n",
    "1. **Matrix Addition:**\n",
    "   - Matrix addition is performed using the `tf.add()` function. It adds two tensors of the same shape element-wise.\n",
    "   - Both tensors must have the same shape (i.e., the same number of rows and columns).\n",
    "   - The result is a new tensor of the same shape as the input tensors, where each element is the sum of the corresponding elements in the input tensors.\n",
    "\n",
    "   Example:\n",
    "   ```python\n",
    "   import tensorflow as tf\n",
    "\n",
    "   # Define two matrices\n",
    "   matrix1 = tf.constant([[1, 2], [3, 4]])\n",
    "   matrix2 = tf.constant([[5, 6], [7, 8]])\n",
    "\n",
    "   # Perform matrix addition\n",
    "   result = tf.add(matrix1, matrix2)\n",
    "\n",
    "   with tf.Session() as sess:\n",
    "       print(sess.run(result))\n",
    "       # Output:\n",
    "       # [[ 6  8]\n",
    "       #  [10 12]]\n",
    "   ```\n",
    "\n",
    "2. **Matrix Multiplication:**\n",
    "   - Matrix multiplication is performed using the `tf.matmul()` function. It computes the matrix product of two tensors.\n",
    "   - The matrices must be compatible for multiplication, meaning the number of columns in the first matrix must match the number of rows in the second matrix.\n",
    "   - The result is a new tensor with dimensions determined by the matrix multiplication.\n",
    "\n",
    "   Example:\n",
    "   ```python\n",
    "   import tensorflow as tf\n",
    "\n",
    "   # Define two matrices\n",
    "   matrix1 = tf.constant([[1, 2], [3, 4]])\n",
    "   matrix2 = tf.constant([[5, 6], [7, 8]])\n",
    "\n",
    "   # Perform matrix multiplication\n",
    "   result = tf.matmul(matrix1, matrix2)\n",
    "\n",
    "   with tf.Session() as sess:\n",
    "       print(sess.run(result))\n",
    "       # Output:\n",
    "       # [[19 22]\n",
    "       #  [43 50]]\n",
    "   ```\n",
    "\n",
    "3. **Element-Wise Operations:**\n",
    "   - Element-wise operations are performed on corresponding elements of tensors without any regard for their shapes, as long as they have compatible shapes or can be broadcasted.\n",
    "   - Common element-wise operations include addition, subtraction, multiplication, and division, and they use operators like `+`, `-`, `*`, and `/`.\n",
    "\n",
    "   Example (element-wise multiplication):\n",
    "   ```python\n",
    "   import tensorflow as tf\n",
    "\n",
    "   # Define two tensors\n",
    "   tensor1 = tf.constant([1, 2, 3])\n",
    "   tensor2 = tf.constant([4, 5, 6])\n",
    "\n",
    "   # Perform element-wise multiplication\n",
    "   result = tf.multiply(tensor1, tensor2)\n",
    "\n",
    "   with tf.Session() as sess:\n",
    "       print(sess.run(result))\n",
    "       # Output: [ 4 10 18]\n",
    "   ```\n",
    "\n",
    "TensorFlow's ability to perform these matrix operations efficiently is crucial for implementing neural networks and other machine learning models where large-scale matrix computations are common."
   ]
  },
  {
   "cell_type": "code",
   "execution_count": null,
   "id": "be855019-3864-4eec-9482-6134f24b747b",
   "metadata": {},
   "outputs": [],
   "source": []
  },
  {
   "cell_type": "code",
   "execution_count": null,
   "id": "f915004a-6600-4dc6-853a-82a1919b4902",
   "metadata": {},
   "outputs": [],
   "source": []
  },
  {
   "cell_type": "markdown",
   "id": "435be709-bddc-41db-a0c3-9ced66a19bb3",
   "metadata": {},
   "source": [
    "### Part 2: Practical Implementation:\n",
    "### Task 1: Creating and Manipulating Matrices"
   ]
  },
  {
   "cell_type": "markdown",
   "id": "25a08ff3-b154-4fb8-a2cb-974c57db8bfb",
   "metadata": {},
   "source": [
    "#### 1. Create a normal matrix A with dimensions 2x2, using TensorFlow's random_normal function. Display the values of matrix A."
   ]
  },
  {
   "cell_type": "code",
   "execution_count": 19,
   "id": "2eb0a56e-ba7b-4ae5-8f35-ccdff4201537",
   "metadata": {},
   "outputs": [
    {
     "name": "stdout",
     "output_type": "stream",
     "text": [
      "Matrix A:\n",
      "[[-1.3927959  -0.69048923]\n",
      " [-0.25704437 -0.45764235]]\n"
     ]
    }
   ],
   "source": [
    "import tensorflow as tf\n",
    "\n",
    "# Create a 2x2 matrix with random values from a normal distribution\n",
    "matrix_A = tf.random.normal(shape=(2, 2), mean=0.0, stddev=1.0, dtype=tf.float32)\n",
    "\n",
    "# Display the values of matrix A\n",
    "print(\"Matrix A:\")\n",
    "print(matrix_A.numpy())"
   ]
  },
  {
   "cell_type": "code",
   "execution_count": null,
   "id": "e51f1ee5-d306-4404-b103-d569cf1a28b0",
   "metadata": {},
   "outputs": [],
   "source": []
  },
  {
   "cell_type": "code",
   "execution_count": null,
   "id": "c38946ce-4874-4a3a-92ff-81c802eb8e00",
   "metadata": {},
   "outputs": [],
   "source": []
  },
  {
   "cell_type": "markdown",
   "id": "3b3e6f9d-4564-4682-9323-dd7d4121618f",
   "metadata": {},
   "source": [
    "#### 2. Create a Gaussian matrix B with dimensions 4x4, using TensorFlow's truncated_normal function. Display the values of matrix B."
   ]
  },
  {
   "cell_type": "code",
   "execution_count": 20,
   "id": "f2e6bf11-717e-4468-ad21-7d6469a04765",
   "metadata": {},
   "outputs": [
    {
     "name": "stdout",
     "output_type": "stream",
     "text": [
      "Matrix B:\n",
      "[[ 0.28433803 -0.3378609   0.297738    0.86040425]\n",
      " [-1.7358208   0.5555191   1.6036378  -0.27442893]\n",
      " [-0.9305784  -1.3455914   1.021067   -0.89564586]\n",
      " [-0.20929965  0.86583906 -1.2110511   1.2210139 ]]\n"
     ]
    }
   ],
   "source": [
    "import tensorflow as tf\n",
    "\n",
    "# Create a 4x4 matrix with random values from a truncated normal distribution\n",
    "matrix_B = tf.random.truncated_normal(shape=(4, 4), mean=0.0, stddev=1.0, dtype=tf.float32)\n",
    "\n",
    "# Display the values of matrix B\n",
    "print(\"Matrix B:\")\n",
    "print(matrix_B.numpy())"
   ]
  },
  {
   "cell_type": "code",
   "execution_count": null,
   "id": "f4ed1529-d47d-4664-9344-f563ff7b7a8d",
   "metadata": {},
   "outputs": [],
   "source": []
  },
  {
   "cell_type": "code",
   "execution_count": null,
   "id": "ea7cc75b-90c9-40e1-bd53-e14c08800ec8",
   "metadata": {},
   "outputs": [],
   "source": []
  },
  {
   "cell_type": "markdown",
   "id": "5153d111-0c3d-4672-bdca-0da6f69e3ef8",
   "metadata": {},
   "source": [
    "#### 3. Create a matrix C with dimensions 2x2, where the values are drawn from a normal distribution with a mean of 2 and a standard deviation of 0.5, using TensorFlow's random.normal function. Display the values of matrix C."
   ]
  },
  {
   "cell_type": "code",
   "execution_count": 21,
   "id": "17609f79-0ebf-4b7f-9eb5-f10d811db87b",
   "metadata": {},
   "outputs": [
    {
     "name": "stdout",
     "output_type": "stream",
     "text": [
      "Matrix C:\n",
      "[[1.6529593 1.3991985]\n",
      " [2.434399  1.9666162]]\n"
     ]
    }
   ],
   "source": [
    "import tensorflow as tf\n",
    "\n",
    "# Create a 2x2 matrix with random values from a normal distribution\n",
    "mean = 2.0\n",
    "stddev = 0.5\n",
    "matrix_C = tf.random.normal(shape=(2, 2), mean=mean, stddev=stddev, dtype=tf.float32)\n",
    "\n",
    "# Display the values of matrix C\n",
    "print(\"Matrix C:\")\n",
    "print(matrix_C.numpy())\n"
   ]
  },
  {
   "cell_type": "code",
   "execution_count": null,
   "id": "8b54d6d7-b03e-4f9d-9dab-6bbe8c51fa22",
   "metadata": {},
   "outputs": [],
   "source": []
  },
  {
   "cell_type": "code",
   "execution_count": null,
   "id": "6c7178b1-508b-4af9-9e8c-77794943cf99",
   "metadata": {},
   "outputs": [],
   "source": []
  },
  {
   "cell_type": "markdown",
   "id": "f728b74d-b3a1-4d88-ba61-aceeff5ec0c2",
   "metadata": {},
   "source": [
    "#### 4. Perform matrix addition between matrix A and matrix B, and store the result in matrix D."
   ]
  },
  {
   "cell_type": "code",
   "execution_count": 28,
   "id": "9266e20f-9cbd-44a5-b654-db4ac4876b4d",
   "metadata": {},
   "outputs": [
    {
     "name": "stdout",
     "output_type": "stream",
     "text": [
      "Matrix D (Result of Addition):\n",
      "[[1.5 3. ]\n",
      " [4.5 6. ]]\n"
     ]
    }
   ],
   "source": [
    "\n",
    "\n",
    "# Create matrix A\n",
    "matrix_A = tf.constant([[1.0, 2.0], [3.0, 4.0]], dtype=tf.float32)\n",
    "\n",
    "# Create matrix B\n",
    "matrix_B = tf.constant([[0.5, 1.0], [1.5, 2.0]], dtype=tf.float32)\n",
    "\n",
    "# Perform matrix addition\n",
    "matrix_D = tf.add(matrix_A, matrix_B)\n",
    "\n",
    "# Display the result (matrix D)\n",
    "print(\"Matrix D (Result of Addition):\")\n",
    "print(matrix_D.numpy())\n"
   ]
  },
  {
   "cell_type": "code",
   "execution_count": null,
   "id": "a906126e-d34a-4d60-9690-e680df631d28",
   "metadata": {},
   "outputs": [],
   "source": []
  },
  {
   "cell_type": "code",
   "execution_count": null,
   "id": "d5ef3677-5f3a-47b7-bf13-0a2b679c51f0",
   "metadata": {},
   "outputs": [],
   "source": []
  },
  {
   "cell_type": "markdown",
   "id": "6c2f55fb-d705-40ef-aa6d-e1a49c3653ab",
   "metadata": {},
   "source": [
    "#### 5. Perform matrix multiplication between matrix C and matrix D, and store the result in matrix E."
   ]
  },
  {
   "cell_type": "code",
   "execution_count": 29,
   "id": "1cec74c3-d21b-4974-b744-ff95b46573a0",
   "metadata": {},
   "outputs": [
    {
     "name": "stdout",
     "output_type": "stream",
     "text": [
      "Matrix E (Result of Multiplication):\n",
      "[[ 8.775832 13.354069]\n",
      " [12.501371 19.102894]]\n"
     ]
    }
   ],
   "source": [
    "# Perform matrix multiplication\n",
    "matrix_E = tf.matmul(matrix_C, matrix_D)\n",
    "\n",
    "# Display the result (matrix E)\n",
    "print(\"Matrix E (Result of Multiplication):\")\n",
    "print(matrix_E.numpy())"
   ]
  },
  {
   "cell_type": "code",
   "execution_count": null,
   "id": "4727d6ae-08c3-4b17-a1bc-3f236d0b12b5",
   "metadata": {},
   "outputs": [],
   "source": []
  },
  {
   "cell_type": "code",
   "execution_count": null,
   "id": "ecb58477-3b4a-4ff1-a3c1-0c917961c63d",
   "metadata": {},
   "outputs": [],
   "source": []
  },
  {
   "cell_type": "markdown",
   "id": "2a85d52e-4d59-4d4c-a2ab-7ee20522bdc1",
   "metadata": {},
   "source": [
    "### Talk 2: Performing Additional Matrix Operations"
   ]
  },
  {
   "cell_type": "markdown",
   "id": "c479a99f-0034-42bb-8e44-a48e64118fbd",
   "metadata": {},
   "source": [
    "#### 1. Create a matrix F with dimensions 2x2, initialized with random values using TensorFlow's random_uniform function."
   ]
  },
  {
   "cell_type": "code",
   "execution_count": 36,
   "id": "db4eb7a3-4e12-4e8a-9140-422b09b82899",
   "metadata": {},
   "outputs": [
    {
     "name": "stdout",
     "output_type": "stream",
     "text": [
      "Matrix F:\n",
      "[[0.6375506  0.2738427 ]\n",
      " [0.02895403 0.98305047]]\n"
     ]
    }
   ],
   "source": [
    "import tensorflow as tf\n",
    "\n",
    "# Create a 2x2 matrix with random values from a uniform distribution\n",
    "matrix_F = tf.random.uniform(shape=(2, 2), minval=0.0, maxval=1.0, dtype=tf.float32)\n",
    "\n",
    "# Display the values of matrix F\n",
    "print(\"Matrix F:\")\n",
    "print(matrix_F.numpy())\n"
   ]
  },
  {
   "cell_type": "code",
   "execution_count": null,
   "id": "c2a39e9f-8f8c-4f6d-803a-51734a981ad5",
   "metadata": {},
   "outputs": [],
   "source": []
  },
  {
   "cell_type": "code",
   "execution_count": null,
   "id": "6c4acc0f-8c41-4c4b-a558-99fe1bc71a1b",
   "metadata": {},
   "outputs": [],
   "source": []
  },
  {
   "cell_type": "markdown",
   "id": "0cad52b7-97d8-4337-9dce-68d699c51475",
   "metadata": {},
   "source": [
    "#### 2. Calculate the transpose of matrix F and store the result in matrix G."
   ]
  },
  {
   "cell_type": "code",
   "execution_count": 37,
   "id": "a539b97d-cff5-4d70-b13f-b07825f3af1e",
   "metadata": {},
   "outputs": [
    {
     "name": "stdout",
     "output_type": "stream",
     "text": [
      "Matrix F:\n",
      "[[0.6375506  0.2738427 ]\n",
      " [0.02895403 0.98305047]]\n",
      "\n",
      "Matrix G (Transpose of F):\n",
      "[[0.6375506  0.02895403]\n",
      " [0.2738427  0.98305047]]\n"
     ]
    }
   ],
   "source": [
    "# Calculate the transpose of matrix F\n",
    "matrix_G = tf.transpose(matrix_F)\n",
    "\n",
    "# Display the values of matrix F and matrix G\n",
    "print(\"Matrix F:\")\n",
    "print(matrix_F.numpy())\n",
    "\n",
    "print(\"\\nMatrix G (Transpose of F):\")\n",
    "print(matrix_G.numpy())"
   ]
  },
  {
   "cell_type": "code",
   "execution_count": null,
   "id": "c6ddb5c9-ba04-4e2a-9891-9ef465cc8419",
   "metadata": {},
   "outputs": [],
   "source": []
  },
  {
   "cell_type": "code",
   "execution_count": null,
   "id": "fb6a5fa0-8b0a-4255-b15f-ce866f4e0bb7",
   "metadata": {},
   "outputs": [],
   "source": []
  },
  {
   "cell_type": "markdown",
   "id": "ef3a1d2d-75be-4123-bb60-a7c1df9bf2f1",
   "metadata": {},
   "source": [
    "#### 3. Calculate the element-wise exponential of matrix F and store the result in matrix H."
   ]
  },
  {
   "cell_type": "code",
   "execution_count": 38,
   "id": "1434b755-60c1-4963-9e66-60a105e35cd8",
   "metadata": {},
   "outputs": [
    {
     "name": "stdout",
     "output_type": "stream",
     "text": [
      "Matrix F:\n",
      "[[0.6375506  0.2738427 ]\n",
      " [0.02895403 0.98305047]]\n",
      "\n",
      "Matrix H (Element-wise Exponential of F):\n",
      "[[1.8918413 1.3150079]\n",
      " [1.0293772 2.6725965]]\n"
     ]
    }
   ],
   "source": [
    "import tensorflow as tf\n",
    "\n",
    "# Calculate element-wise exponential of matrix F\n",
    "matrix_H = tf.exp(matrix_F)\n",
    "\n",
    "# Display the values of matrix F and matrix H\n",
    "print(\"Matrix F:\")\n",
    "print(matrix_F.numpy())\n",
    "\n",
    "print(\"\\nMatrix H (Element-wise Exponential of F):\")\n",
    "print(matrix_H.numpy())\n"
   ]
  },
  {
   "cell_type": "code",
   "execution_count": null,
   "id": "c1eaf537-d8e5-41f7-83ae-da23842b7d45",
   "metadata": {},
   "outputs": [],
   "source": []
  },
  {
   "cell_type": "code",
   "execution_count": null,
   "id": "7ed3aec9-e51b-47c0-97e7-0c4a5e683f9b",
   "metadata": {},
   "outputs": [],
   "source": []
  },
  {
   "cell_type": "markdown",
   "id": "28bd5053-b8b4-473f-a581-4e69d8d4c83b",
   "metadata": {},
   "source": [
    "#### 4. Create a matrix I by concatenating matrix F and matrix G horizontally."
   ]
  },
  {
   "cell_type": "code",
   "execution_count": 39,
   "id": "6ae932ba-0091-4aeb-807f-81e501d40b4f",
   "metadata": {},
   "outputs": [
    {
     "name": "stdout",
     "output_type": "stream",
     "text": [
      "Matrix F:\n",
      "[[0.6375506  0.2738427 ]\n",
      " [0.02895403 0.98305047]]\n",
      "\n",
      "Matrix G (Transpose of F):\n",
      "[[0.6375506  0.02895403]\n",
      " [0.2738427  0.98305047]]\n",
      "\n",
      "Matrix I (Concatenation of F and G Horizontally):\n",
      "[[0.6375506  0.2738427  0.6375506  0.02895403]\n",
      " [0.02895403 0.98305047 0.2738427  0.98305047]]\n"
     ]
    }
   ],
   "source": [
    "# Concatenate matrix F and matrix G horizontally\n",
    "matrix_I = tf.concat([matrix_F, matrix_G], axis=1)\n",
    "\n",
    "# Display the values of matrix F, matrix G, and matrix I\n",
    "print(\"Matrix F:\")\n",
    "print(matrix_F.numpy())\n",
    "\n",
    "print(\"\\nMatrix G (Transpose of F):\")\n",
    "print(matrix_G.numpy())\n",
    "\n",
    "print(\"\\nMatrix I (Concatenation of F and G Horizontally):\")\n",
    "print(matrix_I.numpy())"
   ]
  },
  {
   "cell_type": "code",
   "execution_count": null,
   "id": "bb7e9328-348d-411b-9738-e06b65f2b3b2",
   "metadata": {},
   "outputs": [],
   "source": []
  },
  {
   "cell_type": "code",
   "execution_count": null,
   "id": "205e46d3-f7aa-4963-a93e-18d7fbc6058f",
   "metadata": {},
   "outputs": [],
   "source": []
  },
  {
   "cell_type": "markdown",
   "id": "49931e89-63df-4399-9066-a6069983581b",
   "metadata": {},
   "source": [
    "#### 5. Create a matrix J by concatenating matrix F and matrix H vertically."
   ]
  },
  {
   "cell_type": "code",
   "execution_count": 40,
   "id": "130c84f3-1808-44ac-86b2-aa7f2ca3124f",
   "metadata": {},
   "outputs": [
    {
     "name": "stdout",
     "output_type": "stream",
     "text": [
      "Matrix F:\n",
      "[[0.6375506  0.2738427 ]\n",
      " [0.02895403 0.98305047]]\n",
      "\n",
      "Matrix H (Element-wise Exponential of F):\n",
      "[[1.8918413 1.3150079]\n",
      " [1.0293772 2.6725965]]\n",
      "\n",
      "Matrix J (Concatenation of F and H Vertically):\n",
      "[[0.6375506  0.2738427 ]\n",
      " [0.02895403 0.98305047]\n",
      " [1.8918413  1.3150079 ]\n",
      " [1.0293772  2.6725965 ]]\n"
     ]
    }
   ],
   "source": [
    "# Concatenate matrix F and matrix H vertically\n",
    "matrix_J = tf.concat([matrix_F, matrix_H], axis=0)\n",
    "\n",
    "# Display the values of matrix F, matrix H, and matrix J\n",
    "print(\"Matrix F:\")\n",
    "print(matrix_F.numpy())\n",
    "\n",
    "print(\"\\nMatrix H (Element-wise Exponential of F):\")\n",
    "print(matrix_H.numpy())\n",
    "\n",
    "print(\"\\nMatrix J (Concatenation of F and H Vertically):\")\n",
    "print(matrix_J.numpy())"
   ]
  }
 ],
 "metadata": {
  "kernelspec": {
   "display_name": "Python 3 (ipykernel)",
   "language": "python",
   "name": "python3"
  },
  "language_info": {
   "codemirror_mode": {
    "name": "ipython",
    "version": 3
   },
   "file_extension": ".py",
   "mimetype": "text/x-python",
   "name": "python",
   "nbconvert_exporter": "python",
   "pygments_lexer": "ipython3",
   "version": "3.10.8"
  }
 },
 "nbformat": 4,
 "nbformat_minor": 5
}
