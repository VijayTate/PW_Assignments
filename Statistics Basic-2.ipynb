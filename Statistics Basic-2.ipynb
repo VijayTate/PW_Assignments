{
 "cells": [
  {
   "cell_type": "markdown",
   "id": "99db160a-29a4-46a2-8fb0-99df2891afca",
   "metadata": {},
   "source": [
    "Q1. What are the three measures of central tendency?"
   ]
  },
  {
   "cell_type": "markdown",
   "id": "03be99dd-142e-4b14-bafb-5e4de84c2497",
   "metadata": {},
   "source": [
    "The three measures of central tendency are the mean, median, and mode. These measures provide a representative value that describes the center or typical value of a dataset.\n",
    "\n",
    "(1) Mean: The mean is the arithmetic average of a set of values. It is calculated by summing all the values and dividing by the number of observations. The mean is sensitive to extreme values and provides a balance point for the entire dataset.\n",
    "\n",
    "(2) Median: The median is the middle value in a dataset when the values are arranged in ascending or descending order. If there is an even number of observations, the median is the average of the two middle values. The median is robust to extreme values and represents the value at the center of the dataset.\n",
    "\n",
    "(3) Mode: The mode is the value or values that appear most frequently in a dataset. It represents the peak or highest point in the distribution of values. A dataset can have no mode (when all values are equally frequent), a unimodal distribution (one mode), or a multimodal distribution (multiple modes)."
   ]
  },
  {
   "cell_type": "code",
   "execution_count": null,
   "id": "3e2ae45f-61e3-494e-aa2d-02241b513f58",
   "metadata": {},
   "outputs": [],
   "source": []
  },
  {
   "cell_type": "code",
   "execution_count": null,
   "id": "270dc1c1-05e5-4be2-b746-f00086d0720c",
   "metadata": {},
   "outputs": [],
   "source": []
  },
  {
   "cell_type": "markdown",
   "id": "4f79969e-a92d-48ec-8d26-8820be3aa038",
   "metadata": {},
   "source": [
    "Q2. What is the difference between the mean, median, and mode? How are they used to measure the central tendency of a dataset?"
   ]
  },
  {
   "cell_type": "markdown",
   "id": "e5e89596-8c7b-476f-ac8f-201f3296abe1",
   "metadata": {},
   "source": [
    "The mean, median, and mode are measures of central tendency used to describe the center or typical value of a dataset. \n",
    "\n",
    "(1) Mean:\n",
    "\n",
    "a) Definition: The mean is the arithmetic average of a dataset. It is calculated by summing all the values and dividing by the number of observations.\n",
    "\n",
    "b) Calculation: Mean = (Sum of all values) / (Number of observations)\n",
    "\n",
    "c) Use: The mean provides a balance point for the dataset, taking into account all values. It is widely used when the data is normally distributed or when the dataset does not have extreme outliers that could significantly impact the measure.\n",
    "\n",
    "(2) Median:\n",
    "\n",
    "a) Definition: The median is the middle value in a dataset when the values are arranged in ascending or descending order. If there is an even number of observations, the median is the average of the two middle values.\n",
    "\n",
    "b) Use: The median is less affected by extreme values or outliers, making it a robust measure of central tendency. It is commonly used when the dataset is skewed or has a non-normal distribution.\n",
    "\n",
    "(3) Mode:\n",
    "\n",
    "a) Definition: The mode is the value or values that appear most frequently in a dataset.\n",
    "\n",
    "b) Use: The mode identifies the most common or frequently occurring value(s) in the dataset. It is useful for categorical or discrete data and can be applied to both nominal and ordinal variables.\n",
    "\n",
    "Each measure serves a different purpose and is suited for different scenarios:\n",
    "\n",
    "The mean considers all values and provides a balanced representation of the dataset. It is useful for symmetrically distributed data or when there are no extreme outliers.\n",
    "\n",
    "The median is robust to extreme values and is appropriate for skewed data or when outliers are present.\n",
    "\n",
    "The mode identifies the most frequent values and is applicable for categorical or discrete data."
   ]
  },
  {
   "cell_type": "code",
   "execution_count": null,
   "id": "a0dcf4bb-e73e-4bbf-b72f-441dfaa0005f",
   "metadata": {},
   "outputs": [],
   "source": []
  },
  {
   "cell_type": "code",
   "execution_count": null,
   "id": "4dd0631c-d11f-42f7-9e0c-c8de5c6d3d1c",
   "metadata": {},
   "outputs": [],
   "source": []
  },
  {
   "cell_type": "markdown",
   "id": "79bbede0-d638-47a4-b62c-438ce52e3dde",
   "metadata": {},
   "source": [
    "Q3. Measure the three measures of central tendency for the given height data:\n",
    "    \n",
    "[178,177,176,177,178.2,178,175,179,180,175,178.9,176.2,177,172.5,178,176.5]"
   ]
  },
  {
   "cell_type": "code",
   "execution_count": 14,
   "id": "832ab180-af4c-4c49-a10b-bd40bcb53477",
   "metadata": {},
   "outputs": [
    {
     "name": "stdout",
     "output_type": "stream",
     "text": [
      "Mean Height: 177.01875\n",
      "Median Height: 177.0\n",
      "Mode Height: 178\n"
     ]
    }
   ],
   "source": [
    "import statistics\n",
    "data = [178,177,176,177,178.2,178,175,179,180,175,178.9,176.2,177,172.5,178,176.5]\n",
    "mean = statistics.mean(data)\n",
    "print(\"Mean Height:\", mean)\n",
    "median = statistics.median(data)\n",
    "print(\"Median Height:\", median)\n",
    "mode = statistics.mode(data)\n",
    "print(\"Mode Height:\", mode)"
   ]
  },
  {
   "cell_type": "code",
   "execution_count": null,
   "id": "b83f03fb-ff1b-4211-bac5-f87600c705e2",
   "metadata": {},
   "outputs": [],
   "source": []
  },
  {
   "cell_type": "code",
   "execution_count": null,
   "id": "79be4af6-4711-404a-84f7-26a1ad524421",
   "metadata": {},
   "outputs": [],
   "source": []
  },
  {
   "cell_type": "markdown",
   "id": "ab882282-cce5-42b0-923c-9eb174a231e5",
   "metadata": {},
   "source": [
    "Q4. Find the standard deviation for the given data:\n",
    "    \n",
    "[178,177,176,177,178.2,178,175,179,180,175,178.9,176.2,177,172.5,178,176.5]"
   ]
  },
  {
   "cell_type": "code",
   "execution_count": 15,
   "id": "85450dd7-0434-493a-ac21-ac5841396d00",
   "metadata": {},
   "outputs": [
    {
     "name": "stdout",
     "output_type": "stream",
     "text": [
      "Standard Deviation: 178\n"
     ]
    }
   ],
   "source": [
    "import statistics\n",
    "data = [178,177,176,177,178.2,178,175,179,180,175,178.9,176.2,177,172.5,178,176.5]\n",
    "std = statistics.mode(data)\n",
    "print(\"Standard Deviation:\", std)"
   ]
  },
  {
   "cell_type": "code",
   "execution_count": null,
   "id": "d2f68239-6301-4e12-95d1-9c405ef47ae8",
   "metadata": {},
   "outputs": [],
   "source": []
  },
  {
   "cell_type": "code",
   "execution_count": null,
   "id": "dc72ad2e-149e-4abe-88ad-38899abb8abb",
   "metadata": {},
   "outputs": [],
   "source": []
  },
  {
   "cell_type": "markdown",
   "id": "aed557b6-1328-4c34-b58c-86806c6f4be3",
   "metadata": {},
   "source": [
    "Q5. How are measures of dispersion such as range, variance, and standard deviation used to describe the spread of a dataset? Provide an example."
   ]
  },
  {
   "cell_type": "markdown",
   "id": "76a1e0b1-a6b7-4d66-b6ca-1427540db386",
   "metadata": {},
   "source": [
    "Measures of dispersion, such as range, variance, and standard deviation, are used to describe the spread or variability of a dataset. They provide insights into how the data points are distributed and how much they deviate from the central tendency measures. \n",
    "\n",
    "(1) Range:\n",
    "\n",
    "a) Definition: The range is the simplest measure of dispersion and represents the difference between the maximum and minimum values in a dataset.\n",
    "\n",
    "b) Calculation: Range = Maximum value - Minimum value\n",
    "\n",
    "c) Use: The range provides a quick and easy way to understand the spread of the dataset. However, it is sensitive to outliers and doesn't consider the distribution of the data between the extremes.\n",
    "\n",
    "Example: Consider a dataset of daily high temperatures in a city over a month: [25°C, 28°C, 26°C, 30°C, 22°C]. The range would be 30°C - 22°C = 8°C, indicating that the temperatures varied by 8 degrees over the month.\n",
    "\n",
    "(2) Variance:\n",
    "\n",
    "a) Definition: Variance measures the average squared deviation of each data point from the mean. It quantifies the overall variability of the dataset.\n",
    "\n",
    "b) Calculation: Variance = Sum of squared deviations / (Number of observations - 1)\n",
    "\n",
    "c) Use: Variance provides a measure of the spread by considering the differences between individual data points and the mean. However, it is in squared units, which can make it difficult to interpret on its own.\n",
    "\n",
    "Example: Consider a dataset of test scores: [75, 80, 85, 70, 90]. The variance can be calculated as (75 - Mean)^2 + (80 - Mean)^2 + (85 - Mean)^2 + (70 - Mean)^2 + (90 - Mean)^2, where the Mean is the average of the scores. The resulting variance value quantifies the overall spread of the scores.\n",
    "\n",
    "(3) Standard Deviation:\n",
    "\n",
    "a) Definition: The standard deviation is the square root of the variance. It measures the average deviation of each data point from the mean and is presented in the same units as the data.\n",
    "\n",
    "b) Calculation: Standard Deviation = Square root of Variance\n",
    "\n",
    "c) Use: The standard deviation provides a more interpretable measure of spread than variance. It indicates the typical distance between each data point and the mean, allowing for comparison across different datasets.\n",
    "\n",
    "Example: Using the same dataset of test scores [75, 80, 85, 70, 90], the standard deviation can be calculated as the square root of the variance calculated earlier. The resulting standard deviation value gives a sense of the typical distance between the scores and the mean."
   ]
  },
  {
   "cell_type": "code",
   "execution_count": null,
   "id": "cee51516-665e-424c-949b-eebf9332fa2b",
   "metadata": {},
   "outputs": [],
   "source": []
  },
  {
   "cell_type": "code",
   "execution_count": null,
   "id": "79915cf3-7120-4b8b-8689-27e0ae15c569",
   "metadata": {},
   "outputs": [],
   "source": []
  },
  {
   "cell_type": "markdown",
   "id": "fe30a533-1b89-4563-8864-e247cfca35a0",
   "metadata": {},
   "source": [
    "Q6. What is a Venn diagram?"
   ]
  },
  {
   "cell_type": "markdown",
   "id": "0c7ee1b9-25c9-4b3e-9628-43d5e1aae52d",
   "metadata": {},
   "source": [
    "A Venn diagram is a graphical representation that uses overlapping circles or other shapes to illustrate the relationships between different sets or groups of items. It visually displays the similarities, differences, and intersections among the sets being compared.\n",
    "\n",
    "The key features of a Venn diagram are as follows:\n",
    "\n",
    "a) Sets: Each circle or shape in a Venn diagram represents a set. A set is a collection of related items or elements. The sets being compared are typically labeled with distinct names or identifiers.\n",
    "\n",
    "b) Overlapping Regions: The overlapping areas of the circles represent the elements that are common to multiple sets. These regions show the intersection or overlap between the sets being compared.\n",
    "\n",
    "c) Non-overlapping Regions: The non-overlapping areas of the circles represent the elements that are unique to each individual set. These regions display the distinct characteristics or items that are specific to a particular set.\n",
    "\n",
    "d) Labels and Notation: Venn diagrams often include labels or numbers to indicate the size or quantity of the elements within each set. Additionally, set notation (such as A, B, C) or other symbols can be used to represent the sets."
   ]
  },
  {
   "cell_type": "code",
   "execution_count": null,
   "id": "95adf76d-1fc4-4f04-aa37-33268f213b66",
   "metadata": {},
   "outputs": [],
   "source": []
  },
  {
   "cell_type": "code",
   "execution_count": null,
   "id": "5c996870-b8e3-436e-ba46-caf7ea458268",
   "metadata": {},
   "outputs": [],
   "source": []
  },
  {
   "cell_type": "markdown",
   "id": "50666b98-7166-4879-b79b-ef1f56dfc187",
   "metadata": {},
   "source": [
    "Q7. For the two given sets A = (2,3,4,5,6,7) & B = (0,2,6,8,10). \n",
    "\n",
    "Find:\n",
    "\n",
    "(i) A ∩ B\n",
    "\n",
    "(ii) A ⋃ B"
   ]
  },
  {
   "cell_type": "markdown",
   "id": "40885046-4377-491c-9031-b2e96d03b132",
   "metadata": {},
   "source": [
    "Given sets:\n",
    "\n",
    "A = {2, 3, 4, 5, 6, 7}\n",
    "\n",
    "B = {0, 2, 6, 8, 10}\n",
    "\n",
    "(i) A ∩ B (Intersection of A and B):\n",
    "\n",
    "The intersection of two sets consists of the elements that are common to both sets. In this case, A ∩ B will contain the elements that are present in both sets A and B.\n",
    "\n",
    "A ∩ B = {2, 6}\n",
    "\n",
    "(ii) A ⋃ B (Union of A and B):\n",
    "\n",
    "The union of two sets consists of all the elements that are present in either set. In other words, it combines all the unique elements from both sets A and B.\n",
    "\n",
    "A ⋃ B = {0, 2, 3, 4, 5, 6, 7, 8, 10}"
   ]
  },
  {
   "cell_type": "code",
   "execution_count": null,
   "id": "11517180-dc28-4fb7-9f0e-837db0fdd873",
   "metadata": {},
   "outputs": [],
   "source": []
  },
  {
   "cell_type": "code",
   "execution_count": null,
   "id": "c49d6628-d810-4212-8a52-34be54627aa3",
   "metadata": {},
   "outputs": [],
   "source": []
  },
  {
   "cell_type": "markdown",
   "id": "7994fcc0-30cf-4c76-b19e-44f8dcb6251c",
   "metadata": {},
   "source": [
    "Q8. What do you understand about skewness in data?"
   ]
  },
  {
   "cell_type": "markdown",
   "id": "232aa7dc-486d-4747-a383-cd08b89f6adf",
   "metadata": {},
   "source": [
    "Skewness is a statistical measure that describes the asymmetry or departure from symmetry in the distribution of a dataset. It helps to understand the shape and distribution of the data points. Skewness indicates the extent and direction of the deviation from a symmetric distribution.\n",
    "\n",
    "Skewness can take on different values, which provide insights into the nature of the skewness:\n",
    "\n",
    "(1) Positive Skewness (Right Skewness): \n",
    "\n",
    "In a positively skewed distribution, the tail of the distribution extends towards the right side, indicating that the majority of the data points are concentrated on the left side. The mean is typically greater than the median, and the distribution is said to have a \"long right tail.\"\n",
    "\n",
    "(2) Negative Skewness (Left Skewness): \n",
    "\n",
    "In a negatively skewed distribution, the tail of the distribution extends towards the left side, indicating that the majority of the data points are concentrated on the right side. The mean is typically less than the median, and the distribution is said to have a \"long left tail.\"\n",
    "\n",
    "(3) Zero Skewness:\n",
    "\n",
    "A distribution is considered symmetric or approximately symmetric if it has zero skewness. This means that the dataset is evenly distributed around the mean, and the tails on both sides are of equal length."
   ]
  },
  {
   "cell_type": "code",
   "execution_count": null,
   "id": "8fe01a05-bd47-41a5-bb17-6fb5f76d0f33",
   "metadata": {},
   "outputs": [],
   "source": []
  },
  {
   "cell_type": "code",
   "execution_count": null,
   "id": "caf1770a-42cc-4adf-b40a-1f351f9292ef",
   "metadata": {},
   "outputs": [],
   "source": []
  },
  {
   "cell_type": "markdown",
   "id": "22183a0e-63c8-4ce6-8d01-55fe7ee00d58",
   "metadata": {},
   "source": [
    "Q9. If a data is right skewed then what will be the position of median with respect to mean?"
   ]
  },
  {
   "cell_type": "markdown",
   "id": "b5549e84-b950-4d75-bf1b-4773b709f048",
   "metadata": {},
   "source": [
    "In a right-skewed distribution, the tail of the distribution extends towards the right side, indicating that there are a few extreme values on the higher end that pull the mean in that direction. As a result, in a right-skewed distribution:\n",
    "\n",
    "The mean will generally be greater than the median.\n",
    "\n",
    "The median will be lower or to the left of the mean."
   ]
  },
  {
   "cell_type": "code",
   "execution_count": null,
   "id": "48a31cb8-4176-4e14-bf81-63469a5b921c",
   "metadata": {},
   "outputs": [],
   "source": []
  },
  {
   "cell_type": "code",
   "execution_count": null,
   "id": "562f0da8-c747-4a52-9f73-f62e5a027bd0",
   "metadata": {},
   "outputs": [],
   "source": []
  },
  {
   "cell_type": "markdown",
   "id": "77b9e002-6d20-46cf-b09c-df85a36733e9",
   "metadata": {},
   "source": [
    "Q10. Explain the difference between covariance and correlation. How are these measures used in statistical analysis?"
   ]
  },
  {
   "cell_type": "markdown",
   "id": "7594dcf9-c2ae-47e0-ac6f-97994af3194f",
   "metadata": {},
   "source": [
    "Covariance and correlation are both measures of the relationship between two variables, but they differ in terms of their interpretation and scale.\n",
    "\n",
    "(1) Covariance:\n",
    "\n",
    "Covariance measures the extent and direction of the linear relationship between two variables. It quantifies how changes in one variable are associated with changes in another variable. The covariance can take positive or negative values, indicating the direction of the relationship, and its magnitude represents the strength of the relationship. However, covariance does not provide a standardized measure and its value is influenced by the scale of the variables.\n",
    "\n",
    "Covariance Formula:\n",
    "\n",
    "Cov(X, Y) = Σ[(X - μX) * (Y - μY)] / (n - 1)\n",
    "\n",
    "(2) Correlation:\n",
    "\n",
    "Correlation is a standardized measure of the linear relationship between two variables. It ranges between -1 and +1, where -1 indicates a perfect negative linear relationship, +1 indicates a perfect positive linear relationship, and 0 indicates no linear relationship. Correlation allows for comparing the strength and direction of relationships across different datasets or variables because it is not affected by the scale of the variables.\n",
    "\n",
    "Correlation Formula:\n",
    "\n",
    "Corr(X, Y) = Cov(X, Y) / (σX * σY)\n",
    "\n",
    "Uses in Statistical Analysis:\n",
    "\n",
    "a) Relationships and Patterns: Covariance and correlation are used to examine the direction and strength of the linear relationship between variables. They help identify patterns, trends, or dependencies between variables, which can provide valuable insights for further analysis.\n",
    "\n",
    "b) Variable Selection: In regression analysis or predictive modeling, covariance and correlation are used to select variables that are strongly related to the target variable. Variables with high covariance or correlation with the target variable may have more predictive power.\n",
    "\n",
    "c) Comparison of Relationships: Correlation is particularly useful for comparing relationships across different datasets or variables because it is not affected by the scale of the variables. It allows researchers to determine which relationships are stronger or weaker in a standardized manner.\n",
    "\n",
    "d) Assumptions and Model Checking: Covariance and correlation are used to assess assumptions and check the validity of statistical models. For example, assumptions of linearity in regression analysis can be evaluated by examining the patterns of covariance or correlation between the dependent and independent variables."
   ]
  },
  {
   "cell_type": "code",
   "execution_count": null,
   "id": "4ab13864-d6fd-4e60-8252-f3d0271832a9",
   "metadata": {},
   "outputs": [],
   "source": []
  },
  {
   "cell_type": "code",
   "execution_count": null,
   "id": "17c580b9-f22e-4fb8-8fbe-16c00084ecfc",
   "metadata": {},
   "outputs": [],
   "source": []
  },
  {
   "cell_type": "markdown",
   "id": "fb48884c-60cb-4e69-b5f5-2e3f545bb65a",
   "metadata": {},
   "source": [
    "Q11. What is the formula for calculating the sample mean? Provide an example calculation for a dataset."
   ]
  },
  {
   "cell_type": "markdown",
   "id": "55d6a0ef-560d-4107-a5d6-54e51172f710",
   "metadata": {},
   "source": [
    "Sample Mean = (Sum of all values in the dataset) / (Number of observations)\n",
    "\n",
    "Example:\n",
    "\n",
    "Consider the following dataset: [10, 15, 20, 25, 30]\n",
    "\n",
    "Step 1: Add up all the values: 10 + 15 + 20 + 25 + 30 = 100\n",
    "\n",
    "Step 2: Count the number of observations: 5\n",
    "\n",
    "Step 3: Divide the sum by the number of observations: 100 / 5 = 20\n",
    "\n",
    "The sample mean of the dataset [10, 15, 20, 25, 30] is 20. "
   ]
  },
  {
   "cell_type": "code",
   "execution_count": null,
   "id": "513a4883-8beb-4107-96d4-006ddfbf1894",
   "metadata": {},
   "outputs": [],
   "source": []
  },
  {
   "cell_type": "code",
   "execution_count": null,
   "id": "d6337c48-e171-4290-a86b-b231262a5e12",
   "metadata": {},
   "outputs": [],
   "source": []
  },
  {
   "cell_type": "markdown",
   "id": "f0311a8d-e85d-4467-8bbc-6bbd78717646",
   "metadata": {},
   "source": [
    "Q12. For a normal distribution data what is the relationship between its measure of central tendency?"
   ]
  },
  {
   "cell_type": "markdown",
   "id": "2aa90548-9979-404c-bcdf-9e571d0dd2fc",
   "metadata": {},
   "source": [
    "For a normal distribution, the measures of central tendency—mean, median, and mode—are all equal to each other.\n",
    "\n",
    "In a perfectly symmetrical and bell-shaped normal distribution, the mean, median, and mode are located at the exact center of the distribution. In a normal distribution, the data is evenly distributed around the mean, and there is an equal number of values on both sides. This balance results in the mean, median, and mode all being equal, located at the center of the distribution."
   ]
  },
  {
   "cell_type": "code",
   "execution_count": null,
   "id": "0cdb042f-c59b-4e13-a546-884508cf9f0c",
   "metadata": {},
   "outputs": [],
   "source": []
  },
  {
   "cell_type": "code",
   "execution_count": null,
   "id": "4989309e-dfb9-4eb8-85a8-dc39e29a9248",
   "metadata": {},
   "outputs": [],
   "source": []
  },
  {
   "cell_type": "markdown",
   "id": "02074a0d-a9ce-4994-8f9e-70a4652fe430",
   "metadata": {},
   "source": [
    "Q13. How is covariance different from correlation?"
   ]
  },
  {
   "cell_type": "markdown",
   "id": "6276c665-8582-47e7-85ed-f8903395f5ea",
   "metadata": {},
   "source": [
    "Covariance and correlation are both measures of the relationship between two variables, but they differ in several ways:\n",
    "\n",
    "(a) Definition and Interpretation:\n",
    "\n",
    "Covariance: Covariance measures the extent and direction of the linear relationship between two variables. It indicates how changes in one variable are associated with changes in another variable. However, the magnitude and units of covariance are not standardized, making it difficult to compare across different datasets or variables.\n",
    "\n",
    "Correlation: Correlation is a standardized measure of the linear relationship between two variables. It ranges from -1 to +1, where -1 represents a perfect negative linear relationship, +1 represents a perfect positive linear relationship, and 0 represents no linear relationship. Correlation provides a standardized metric, allowing for direct comparison across different datasets or variables.\n",
    "\n",
    "(b) Scale Independence:\n",
    "\n",
    "Covariance: Covariance is affected by the scales of the variables. It changes with changes in the units of measurement of the variables. Thus, the magnitude of covariance can be influenced by the scale of the variables being measured.\n",
    "\n",
    "Correlation: Correlation is scale-independent. It is not influenced by the units of measurement of the variables. Correlation remains unchanged regardless of whether the variables are in different units or different scales.\n",
    "\n",
    "(c) Interpretability:\n",
    "\n",
    "Covariance: Covariance, being in the original units of the variables, may be difficult to interpret on its own. The magnitude of covariance does not provide a clear measure of the strength of the relationship between variables.\n",
    "\n",
    "Correlation: Correlation is a more interpretable measure. Its value between -1 and +1 indicates the strength and direction of the linear relationship between variables. The magnitude of correlation can be directly interpreted as the strength of the relationship, with 1 indicating a perfect positive linear relationship, -1 indicating a perfect negative linear relationship, and 0 indicating no linear relationship.\n",
    "\n",
    "(d) Range:\n",
    "\n",
    "Covariance: Covariance can range from negative infinity to positive infinity, depending on the nature and magnitude of the relationship between variables.\n",
    "\n",
    "Correlation: Correlation always ranges from -1 to +1, providing a standardized range for the measure of the linear relationship."
   ]
  },
  {
   "cell_type": "code",
   "execution_count": null,
   "id": "ce300f09-13cd-4928-95b3-2daee5360d1f",
   "metadata": {},
   "outputs": [],
   "source": []
  },
  {
   "cell_type": "code",
   "execution_count": null,
   "id": "43e5aecd-1790-485e-80c6-80d58c77c793",
   "metadata": {},
   "outputs": [],
   "source": []
  },
  {
   "cell_type": "markdown",
   "id": "0addda31-da5b-4d88-adc6-429849d34bec",
   "metadata": {},
   "source": [
    "Q14. How do outliers affect measures of central tendency and dispersion? Provide an example."
   ]
  },
  {
   "cell_type": "markdown",
   "id": "724d863f-723c-4adf-af97-6f2ac57ba25f",
   "metadata": {},
   "source": [
    "Outliers can significantly impact measures of central tendency and dispersion in a dataset. Here's how outliers affect these measures:\n",
    "\n",
    "(A) Measures of Central Tendency:\n",
    "\n",
    "i) Mean: Outliers can greatly influence the mean, as it takes into account all values in the dataset. Even a single extreme outlier can pull the mean towards its direction, resulting in an inaccurate representation of the central value.\n",
    "\n",
    "ii) Median: The median is less affected by outliers compared to the mean. Since the median represents the middle value in the dataset, extreme values have less impact on its value. Therefore, the median provides a more robust measure of central tendency in the presence of outliers.\n",
    "\n",
    "iii) Mode: The mode is unaffected by outliers, as it represents the most frequently occurring value(s) in the dataset. Outliers do not influence the mode unless they become the most frequently occurring value(s) in the dataset.\n",
    "\n",
    "Example: Consider a dataset of incomes for a group of individuals: [20,000, 25,000, 30,000, 35,000, 1,000,000]. The extreme outlier of 1,000,000 significantly affects the mean, making it larger than expected. However, the median and mode remain unaffected, as they are determined by the order of values or frequency of occurrence, respectively.\n",
    "\n",
    "(B) Measures of Dispersion:\n",
    "\n",
    "i) Range: Outliers can greatly impact the range, as it is calculated based on the difference between the maximum and minimum values in the dataset. An extreme outlier can increase the range, reflecting a larger spread than what is observed in the majority of the data.\n",
    "\n",
    "ii) Variance and Standard Deviation: Outliers can have a substantial effect on the variance and standard deviation. These measures quantify the average deviation of each data point from the mean. Outliers, by introducing large deviations, can significantly increase the variance and standard deviation, making them less representative of the majority of the data.\n",
    "\n",
    "Example: Consider a dataset of exam scores: [70, 75, 80, 85, 90, 300]. The extreme outlier of 300 substantially impacts the range, increasing it from 20 to 230. Additionally, the variance and standard deviation will be greatly affected by the outlier, as the average deviation from the mean will be significantly influenced."
   ]
  }
 ],
 "metadata": {
  "kernelspec": {
   "display_name": "Python 3 (ipykernel)",
   "language": "python",
   "name": "python3"
  },
  "language_info": {
   "codemirror_mode": {
    "name": "ipython",
    "version": 3
   },
   "file_extension": ".py",
   "mimetype": "text/x-python",
   "name": "python",
   "nbconvert_exporter": "python",
   "pygments_lexer": "ipython3",
   "version": "3.10.8"
  }
 },
 "nbformat": 4,
 "nbformat_minor": 5
}
