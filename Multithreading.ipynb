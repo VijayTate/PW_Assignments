{
 "cells": [
  {
   "cell_type": "markdown",
   "id": "46d49fae-5b71-46c0-8d5a-660e8fce508e",
   "metadata": {},
   "source": [
    "Q1. What is multithreading in python? Why is it used? Name the module used to handle threads in python."
   ]
  },
  {
   "cell_type": "markdown",
   "id": "0f0475b3-5150-45dc-a0bf-b3a922a9c057",
   "metadata": {},
   "source": [
    "Multithreading in Python refers to the ability to execute multiple threads (smaller units of a program) concurrently within a single program. Each thread runs independently and performs its designated task simultaneously with other threads.\n",
    "\n",
    "Multithreading is used to achieve parallelism, where multiple tasks can be executed concurrently, improving the overall efficiency and responsiveness of the program. It is particularly beneficial for tasks that involve I/O operations, such as network communication or file handling, as well as CPU-intensive tasks that can be divided into smaller units of work.\n",
    "\n",
    "The threading module is used to handle threads in Python. It provides a high-level interface and functionality for creating, managing, and synchronizing threads. It includes classes and functions to create threads, control their execution, and handle synchronization between threads to avoid race conditions and other concurrency issues.\n",
    "\n",
    "Using the threading module, you can create multiple threads, assign tasks to them, and coordinate their execution. It provides features like thread creation, start, join, synchronization primitives (such as locks, events, and semaphores), and thread-safe data structures to facilitate multithreaded programming in Python."
   ]
  },
  {
   "cell_type": "code",
   "execution_count": null,
   "id": "a1a6ad89-bd96-4d2c-aed1-c4c98a0eb1bc",
   "metadata": {},
   "outputs": [],
   "source": []
  },
  {
   "cell_type": "code",
   "execution_count": null,
   "id": "104f8678-805e-426d-9de1-e4281b29c7c5",
   "metadata": {},
   "outputs": [],
   "source": []
  },
  {
   "cell_type": "markdown",
   "id": "fb3187f3-08f6-4df5-b4b6-a67ffe2920e3",
   "metadata": {},
   "source": [
    "Q2. Why threading module used? Write the use of the following functions:\n",
    "1. activeCount()\n",
    "2. currentThread()\n",
    "3. enumerate()"
   ]
  },
  {
   "cell_type": "markdown",
   "id": "a606c88b-eda5-4e03-8d24-989e00bf4df3",
   "metadata": {},
   "source": [
    "The threading module in Python is used to handle threads and facilitate multithreaded programming. \n",
    "\n",
    "(1) activeCount(): This function is used to retrieve the number of currently active threads in the program.\n",
    "\n",
    "(2) currentThread(): This function is used to retrieve the current Thread object that represents the currently executing thread.\n",
    "\n",
    "(3) enumerate(): This function is used to retrieve a list of all currently active Thread objects."
   ]
  },
  {
   "cell_type": "code",
   "execution_count": null,
   "id": "29019ec4-a2ce-4574-a3a9-b1231ca1f3f3",
   "metadata": {},
   "outputs": [],
   "source": []
  },
  {
   "cell_type": "code",
   "execution_count": null,
   "id": "cbc62a72-a2fc-489f-85a5-44d966ea94c2",
   "metadata": {},
   "outputs": [],
   "source": []
  },
  {
   "cell_type": "markdown",
   "id": "1d02aaea-2c98-4f27-968f-38aa8bc0aa23",
   "metadata": {},
   "source": [
    "Q3. Explain the following functions:\n",
    "1. run()\n",
    "2. start()\n",
    "3. join()\n",
    "4. isAlive()"
   ]
  },
  {
   "cell_type": "markdown",
   "id": "89adacc5-702c-4a61-aa86-fcf41ef6d843",
   "metadata": {},
   "source": [
    "(1) run(): The run() method is the entry point for the thread's execution logic. It contains the code that will be executed when the thread starts running. By default, the run() method of the Thread class does nothing, so it needs to be overridden in a subclass to define the specific behavior of the thread.\n",
    "\n",
    "(2) start(): The start() method is used to start the execution of a thread. It initializes the thread, assigns it a new operating system thread, and calls the run() method.\n",
    "\n",
    "(3) join(): The join() method is used to wait for a thread to complete its execution. When the join() method is called on a thread, the calling thread (usually the main thread) will block until the target thread completes. This is useful when you want to synchronize the execution of multiple threads and ensure that certain tasks are completed before proceeding further.\n",
    "\n",
    "(4) isAlive(): The isAlive() method is used to check if a thread is currently running. It returns True if the thread is still active and running, and False otherwise. "
   ]
  },
  {
   "cell_type": "code",
   "execution_count": null,
   "id": "0c172a35-5b33-4709-b304-3cf3e5e39a39",
   "metadata": {},
   "outputs": [],
   "source": []
  },
  {
   "cell_type": "code",
   "execution_count": null,
   "id": "162ae994-a7bb-4a49-a38c-b718219429e3",
   "metadata": {},
   "outputs": [],
   "source": []
  },
  {
   "cell_type": "markdown",
   "id": "0a213553-f47f-4f7a-8701-ab4e9db74847",
   "metadata": {},
   "source": [
    "Q4. Write a python program to create two threads. Thread one must print the list of squares and thread\n",
    "two must print the list of cubes."
   ]
  },
  {
   "cell_type": "code",
   "execution_count": 5,
   "id": "4f1f367e-b8b6-43c9-bee2-d3f10b17c311",
   "metadata": {},
   "outputs": [
    {
     "name": "stdout",
     "output_type": "stream",
     "text": [
      "0\n",
      "1\n",
      "4\n",
      "0\n",
      "1\n",
      "8\n",
      "Program completed.\n"
     ]
    }
   ],
   "source": [
    "import threading\n",
    "\n",
    "def print_squares():\n",
    "    squares = [i**2 for i in range(3)]\n",
    "    for square in squares:\n",
    "        print(square)\n",
    "\n",
    "def print_cubes():\n",
    "    cubes = [i**3 for i in range(3)]\n",
    "    for cube in cubes:\n",
    "        print(cube)\n",
    "\n",
    "if __name__ == \"__main__\":\n",
    "    # Create the first thread for printing squares\n",
    "    thread1 = threading.Thread(target=print_squares)\n",
    "\n",
    "    # Create the second thread for printing cubes\n",
    "    thread2 = threading.Thread(target=print_cubes)\n",
    "\n",
    "    # Start both threads\n",
    "    thread1.start()\n",
    "    thread2.start()\n",
    "\n",
    "    # Wait for both threads to finish\n",
    "    thread1.join()\n",
    "    thread2.join()\n",
    "\n",
    "    print(\"Program completed.\")"
   ]
  },
  {
   "cell_type": "code",
   "execution_count": null,
   "id": "3266eb84-a02e-4bb9-8b7a-a83a9e2577fb",
   "metadata": {},
   "outputs": [],
   "source": []
  },
  {
   "cell_type": "code",
   "execution_count": null,
   "id": "7e39d66d-eb25-45b5-8e06-71b037c1abd9",
   "metadata": {},
   "outputs": [],
   "source": []
  },
  {
   "cell_type": "markdown",
   "id": "8e9a0227-8f2b-40fa-ad7d-7fef62bda3dc",
   "metadata": {},
   "source": [
    "Q5. State advantages and disadvantages of multithreading"
   ]
  },
  {
   "cell_type": "markdown",
   "id": "5ab63b32-3024-42de-839f-fb889bdbe296",
   "metadata": {},
   "source": [
    "(A) Advantages of Multithreading:\n",
    "\n",
    "(1) Improved performance: Multithreading allows concurrent execution of multiple threads, enabling parallel processing and potentially improving the overall performance of the program.\n",
    "(2) Responsiveness: Multithreading keeps the application responsive even when performing time-consuming tasks, as other threads can continue executing in the background.\n",
    "(3) Resource sharing: Threads within the same process can share resources such as memory, files, and network connections, making it easier to communicate and exchange data between threads.\n",
    "(4) Simplified program structure: Multithreading can simplify the program structure by breaking down complex tasks into smaller, more manageable threads.\n",
    "\n",
    "\n",
    "(B) Disadvantages of Multithreading:\n",
    "\n",
    "(1) Increased complexity: Multithreaded programs can be more challenging to design, implement, and debug compared to single-threaded programs. Thread synchronization and resource sharing need careful handling to prevent issues like race conditions and deadlocks.\n",
    "(2) Reduced determinism: Multithreading introduces non-deterministic behavior as thread scheduling is controlled by the underlying operating system. This can make the program's behavior less predictable and harder to reproduce.\n",
    "(3) Potential for resource contention: When multiple threads access shared resources simultaneously, conflicts can arise, leading to performance degradation or incorrect results. Proper synchronization mechanisms must be implemented to avoid these issues.\n",
    "(4) Global interpreter lock (GIL): In CPython, the default implementation of Python, the Global Interpreter Lock (GIL) ensures that only one thread executes Python bytecode at a time. This limitation restricts the true parallel execution of Python threads on multi-core systems, limiting the potential performance gains from multithreading."
   ]
  },
  {
   "cell_type": "code",
   "execution_count": null,
   "id": "74cd0a34-26b2-4533-bb5c-680e1ed7ac71",
   "metadata": {},
   "outputs": [],
   "source": []
  },
  {
   "cell_type": "code",
   "execution_count": null,
   "id": "220f2d5c-c25a-4c3b-84db-bf9b807a435b",
   "metadata": {},
   "outputs": [],
   "source": []
  },
  {
   "cell_type": "markdown",
   "id": "2a840d07-213e-4b9f-903f-a5e686e7e8fe",
   "metadata": {},
   "source": [
    "Q6. Explain deadlocks and race conditions."
   ]
  },
  {
   "cell_type": "markdown",
   "id": "ed16faec-7f23-40e6-8dc8-574c8d087f98",
   "metadata": {},
   "source": [
    "Deadlock and race condition are two common concurrency-related issues that can occur in multithreaded programs:\n",
    "\n",
    "(A) Deadlock:\n",
    "Deadlock refers to a situation where two or more threads are unable to proceed because each is waiting for a resource held by another thread, resulting in a stalemate. It occurs when threads acquire resources and hold them while waiting for other resources to become available, leading to a circular dependency.\n",
    "\n",
    "Characteristics of Deadlock:\n",
    "\n",
    "(1) Mutual Exclusion: Resources involved in the deadlock can only be accessed by one thread at a time.\n",
    "(2) Hold and Wait: Threads hold resources while waiting for other resources to be released.\n",
    "(3) No Preemption: Resources cannot be forcibly taken from threads.\n",
    "(4) Circular Wait: There exists a circular chain of threads, where each thread is waiting for a resource held by another thread in the chain.\n",
    "\n",
    "Example of Deadlock:\n",
    "Consider two threads, T1 and T2, and two resources, R1 and R2. T1 acquires R1 and waits for R2, while T2 acquires R2 and waits for R1. Both threads are unable to proceed as they are waiting for the resources held by each other, resulting in a deadlock.\n",
    "\n",
    "(B) Race Condition:\n",
    "A race condition occurs when multiple threads access and manipulate shared data concurrently, leading to unpredictable and undesired behavior. It arises when the outcome of the program depends on the relative timing of thread execution and the interleaving of their operations.\n",
    "\n",
    "Characteristics of Race Condition:\n",
    "\n",
    "(1) Shared Data: Multiple threads access and modify shared data.\n",
    "(2) Non-Atomic Operations: Operations on shared data are not performed atomically, i.e., they consist of multiple steps.\n",
    "(3) Unpredictable Results: The final value or state of shared data becomes dependent on the order of thread execution.\n",
    "\n",
    "Example of Race Condition:\n",
    "Consider two threads, T1 and T2, incrementing a shared variable count by 1. If both threads simultaneously read the initial value of count (let's say 0), increment it independently, and then write back the result, a race condition can occur. The final value of count may not be what was expected due to the interleaving of thread operations.\n",
    "\n",
    "Preventing Deadlocks and Race Conditions:\n",
    "To prevent deadlocks, strategies such as resource ordering, avoiding circular waits, and using timeouts or deadlock detection algorithms can be employed. Proper synchronization mechanisms like locks, mutexes, or semaphores can be used to prevent race conditions by ensuring mutually exclusive access to shared resources. Careful design and analysis of the program's concurrency requirements and synchronization mechanisms are necessary to mitigate these issues."
   ]
  }
 ],
 "metadata": {
  "kernelspec": {
   "display_name": "Python 3 (ipykernel)",
   "language": "python",
   "name": "python3"
  },
  "language_info": {
   "codemirror_mode": {
    "name": "ipython",
    "version": 3
   },
   "file_extension": ".py",
   "mimetype": "text/x-python",
   "name": "python",
   "nbconvert_exporter": "python",
   "pygments_lexer": "ipython3",
   "version": "3.10.8"
  }
 },
 "nbformat": 4,
 "nbformat_minor": 5
}
