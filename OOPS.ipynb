{
 "cells": [
  {
   "cell_type": "markdown",
   "id": "8c6fed36-737d-4dec-a00a-584a24e9e97c",
   "metadata": {},
   "source": [
    "Q1. Explain Class and Object with respect to Object-Oriented Programming. Give a suitable example."
   ]
  },
  {
   "cell_type": "markdown",
   "id": "d565d25b-f2ba-4aac-8b22-df0887462025",
   "metadata": {},
   "source": [
    "In object-oriented programming (OOP), a class is a template that defines the structure, behavior, and properties of objects. It acts as a blueprint for creating individual instances, known as objects, which are specific instances of that class. A class encapsulates data (attributes) and methods (functions) that operate on that data.\n",
    "\n",
    "An object, on the other hand, is a specific instance of a class. It represents a real-world entity or concept that can be manipulated and interacted with. Objects have their own unique state (attribute values) and behavior (methods) based on the class they belong to.\n",
    "\n",
    "Example:"
   ]
  },
  {
   "cell_type": "code",
   "execution_count": 2,
   "id": "abd374ff-653a-4652-ae4e-1b34db171a18",
   "metadata": {},
   "outputs": [
    {
     "data": {
      "text/plain": [
       "'Toyota'"
      ]
     },
     "execution_count": 2,
     "metadata": {},
     "output_type": "execute_result"
    }
   ],
   "source": [
    "class car:\n",
    "    def __init__(self, brand, model, color):\n",
    "        self.brand = brand\n",
    "        self.model = model\n",
    "        self.color = color\n",
    "\n",
    "        \n",
    "# Object instantiation\n",
    "car1 = car(\"Toyota\", \"Corolla\", \"Blue\")\n",
    "\n",
    "# Accessing object attributes\n",
    "car1.brand\n"
   ]
  },
  {
   "cell_type": "code",
   "execution_count": null,
   "id": "cf0b10dc-233e-4729-b175-30a3d0d2b486",
   "metadata": {},
   "outputs": [],
   "source": []
  },
  {
   "cell_type": "code",
   "execution_count": null,
   "id": "961774ee-375a-43da-9c2d-d82c74271706",
   "metadata": {},
   "outputs": [],
   "source": []
  },
  {
   "cell_type": "markdown",
   "id": "b8b9eaeb-4f74-455e-bd7e-aef616105fd8",
   "metadata": {},
   "source": [
    "Q2. Name the four pillars of OOPs."
   ]
  },
  {
   "cell_type": "markdown",
   "id": "dd068cad-171c-4728-b2a0-096c4a01ec92",
   "metadata": {},
   "source": [
    "The four pillars of object-oriented programming (OOP) in Python are:\n",
    "\n",
    "(1) Encapsulation: Encapsulation is the concept of bundling data and the methods that operate on that data within a single unit, known as a class. It allows for the hiding of implementation details and provides access to the data through well-defined interfaces. \n",
    "\n",
    "(2) Inheritance: Inheritance is the mechanism that allows a class to inherit the properties (attributes and methods) of another class. It enables code reuse and promotes the creation of hierarchical relationships among classes. \n",
    "\n",
    "(3) Polymorphism: Polymorphism is the ability of objects of different classes to respond differently to the same method call. It allows for the use of a single interface to represent multiple forms or behaviors. Polymorphism can be achieved through method overriding (where a derived class provides its own implementation of a method inherited from a base class) and method overloading (where multiple methods with the same name but different parameters are defined in a class).\n",
    "\n",
    "(4) Abstraction: Abstraction is the process of representing essential features and behaviors while hiding unnecessary implementation details. It involves creating abstract classes and interfaces to define common attributes and methods that can be shared by multiple classes. Abstraction helps in achieving code modularity, reusability, and maintainability by focusing on the essential aspects of objects and providing a higher level of conceptualization.\n"
   ]
  },
  {
   "cell_type": "code",
   "execution_count": null,
   "id": "2641acca-8c9c-456f-a4eb-2fbb49b0d242",
   "metadata": {},
   "outputs": [],
   "source": []
  },
  {
   "cell_type": "code",
   "execution_count": null,
   "id": "69e8ff0a-2ce7-4a31-b8cc-c159a9e73652",
   "metadata": {},
   "outputs": [],
   "source": []
  },
  {
   "cell_type": "markdown",
   "id": "f5b7ec90-396f-4b0b-98ba-3e170e338d52",
   "metadata": {},
   "source": [
    "Q3. Explain why the __init__() function is used. Give a suitable example."
   ]
  },
  {
   "cell_type": "markdown",
   "id": "093d3fce-3515-4174-917a-4a53e6d22dff",
   "metadata": {},
   "source": [
    "The __init__() function is a special method in Python classes that is automatically called when an object is created from the class.\n",
    "It allows you to specify the initial state of an object by assigning values to its attributes. \n",
    "Example:"
   ]
  },
  {
   "cell_type": "code",
   "execution_count": 3,
   "id": "4467dd6d-3b5d-44fb-8e18-b9c3acb97b90",
   "metadata": {},
   "outputs": [],
   "source": [
    "class Person:\n",
    "    def __init__(self, name, age):\n",
    "        self.name = name\n",
    "        self.age = age\n",
    "\n",
    "# Creating objects of the Person class\n",
    "person1 = Person(\"Sachin\", 25)\n",
    "person2 = Person(\"Virat\", 30)\n"
   ]
  },
  {
   "cell_type": "markdown",
   "id": "ea1f7fd6-0928-4dc2-8d96-20616972e974",
   "metadata": {},
   "source": []
  },
  {
   "cell_type": "code",
   "execution_count": null,
   "id": "916c8e01-9432-443a-bea9-7d0d7c336f12",
   "metadata": {},
   "outputs": [],
   "source": []
  },
  {
   "cell_type": "markdown",
   "id": "36343716-ab55-4bfb-8bae-bd980aeac9db",
   "metadata": {},
   "source": [
    "Q4. Why self is used in OOPs?"
   ]
  },
  {
   "cell_type": "markdown",
   "id": "5526c5e7-1682-4847-b984-ff4d34daa5d9",
   "metadata": {},
   "source": [
    "In object-oriented programming (OOP), the self keyword is used as a reference to the instance of a class.\n",
    "It acts as a placeholder that refers to the instance itself, allowing you to work with the specific attributes and behaviors of that instance.\n",
    "When a method is called on an instance of a class, the self parameter is automatically passed as an argument. This allows the method to operate on the specific instance and access its attributes and methods.\n",
    "Example:"
   ]
  },
  {
   "cell_type": "code",
   "execution_count": null,
   "id": "0c2ad485-a065-443c-8c66-64928ae91034",
   "metadata": {},
   "outputs": [
    {
     "data": {
      "text/plain": [
       "'Sachin'"
      ]
     },
     "execution_count": 4,
     "metadata": {},
     "output_type": "execute_result"
    }
   ],
   "source": [
    "class Person:\n",
    "    def __init__(self, name, age):\n",
    "        self.name = name\n",
    "        self.age = age\n",
    "\n",
    "# Creating objects of the Person class\n",
    "person1 = Person(\"Sachin\", 25)\n",
    "\n",
    "## Calling the object\n",
    "person1.name"
   ]
  },
  {
   "cell_type": "markdown",
   "id": "6c866e43-25ae-4e42-8db4-6244585125ab",
   "metadata": {},
   "source": [
    "Q5. What is inheritance? Give an example for each type of inheritance."
   ]
  },
  {
   "cell_type": "markdown",
   "id": "fa009d5e-bd0d-4359-99de-bd37b4589006",
   "metadata": {},
   "source": [
    "Inheritance is a fundamental concept in object-oriented programming (OOP) that allows a class to inherit attributes and methods from another class. It enables code reusability and promotes the creation of a hierarchical relationship between classes. There are different types of inheritance in Python:\n",
    "(1) Single Inheritance: In single inheritance, a class inherits attributes and methods from a single base class.\n",
    "\n",
    "Example:"
   ]
  },
  {
   "cell_type": "code",
   "execution_count": 6,
   "id": "46dd277a-526a-4f65-9dcf-d90ce67058b4",
   "metadata": {},
   "outputs": [
    {
     "name": "stdout",
     "output_type": "stream",
     "text": [
      "Animal is eating...\n"
     ]
    }
   ],
   "source": [
    "class Animal:\n",
    "    def eat(self):\n",
    "        print(\"Animal is eating...\")\n",
    "\n",
    "class Dog(Animal):\n",
    "    def bark(self):\n",
    "        print(\"Dog is barking...\")\n",
    "\n",
    "# Dog class inherits from Animal class\n",
    "my_dog = Dog()\n",
    "my_dog.eat()"
   ]
  },
  {
   "cell_type": "markdown",
   "id": "05781ad3-dd38-4ad5-8b49-38c559a615f8",
   "metadata": {},
   "source": [
    "(2) Multiple Inheritance: In multiple inheritance, a class can inherit attributes and methods from multiple base classes.\n",
    "\n",
    "Example:"
   ]
  },
  {
   "cell_type": "code",
   "execution_count": 7,
   "id": "4fa26ed9-52dd-48c3-822b-17bbd9c91927",
   "metadata": {},
   "outputs": [
    {
     "name": "stdout",
     "output_type": "stream",
     "text": [
      "Hello from Parent1!\n"
     ]
    }
   ],
   "source": [
    "class Parent1:\n",
    "    def greet(self):\n",
    "        print(\"Hello from Parent1!\")\n",
    "\n",
    "class Parent2:\n",
    "    def greet(self):\n",
    "        print(\"Hello from Parent2!\")\n",
    "\n",
    "class Child(Parent1, Parent2):\n",
    "    pass\n",
    "\n",
    "# Child class inherits from Parent1 and Parent2 classes\n",
    "my_child = Child()\n",
    "my_child.greet() "
   ]
  },
  {
   "cell_type": "markdown",
   "id": "3f308e4e-f317-4ffe-a130-3f02530b14b7",
   "metadata": {},
   "source": [
    "(3) Multilevel Inheritance: In multilevel inheritance, a derived class inherits from a base class, and that derived class becomes the base class for another class.\n",
    "\n",
    "Example:"
   ]
  },
  {
   "cell_type": "code",
   "execution_count": null,
   "id": "7b892a08-9918-4edb-a0c3-3ed3cca91ed2",
   "metadata": {},
   "outputs": [],
   "source": []
  },
  {
   "cell_type": "code",
   "execution_count": 8,
   "id": "b5d19e43-20be-4a41-9399-fa1932b4bc07",
   "metadata": {},
   "outputs": [
    {
     "name": "stdout",
     "output_type": "stream",
     "text": [
      "Animal is eating...\n",
      "Dog is barking...\n",
      "Labrador is running...\n"
     ]
    }
   ],
   "source": [
    "class Animal:\n",
    "    def eat(self):\n",
    "        print(\"Animal is eating...\")\n",
    "\n",
    "class Dog(Animal):\n",
    "    def bark(self):\n",
    "        print(\"Dog is barking...\")\n",
    "\n",
    "class Labrador(Dog):\n",
    "    def run(self):\n",
    "        print(\"Labrador is running...\")\n",
    "\n",
    "# Labrador class inherits from Dog class, which in turn inherits from Animal class\n",
    "my_labrador = Labrador()\n",
    "my_labrador.eat()  \n",
    "my_labrador.bark() \n",
    "my_labrador.run() "
   ]
  },
  {
   "cell_type": "markdown",
   "id": "74c4d8b6-af77-4a37-b832-05c0cf383151",
   "metadata": {},
   "source": [
    "(4) Hierarchical Inheritance: In hierarchical inheritance, multiple derived classes inherit from a single base class.\n",
    "\n",
    "Example:"
   ]
  },
  {
   "cell_type": "code",
   "execution_count": 9,
   "id": "4a22ce5e-5633-4623-bf11-605c206b71e4",
   "metadata": {},
   "outputs": [
    {
     "name": "stdout",
     "output_type": "stream",
     "text": [
      "Animal is eating...\n",
      "Dog is barking...\n",
      "Animal is eating...\n",
      "Cat is meowing...\n"
     ]
    }
   ],
   "source": [
    "class Animal:\n",
    "    def eat(self):\n",
    "        print(\"Animal is eating...\")\n",
    "\n",
    "class Dog(Animal):\n",
    "    def bark(self):\n",
    "        print(\"Dog is barking...\")\n",
    "\n",
    "class Cat(Animal):\n",
    "    def meow(self):\n",
    "        print(\"Cat is meowing...\")\n",
    "\n",
    "# Dog and Cat classes inherit from the Animal class\n",
    "my_dog = Dog()\n",
    "my_dog.eat()  # Accessing the eat() method from the Animal class\n",
    "my_dog.bark()  # Accessing the bark() method from the Dog class\n",
    "\n",
    "my_cat = Cat()\n",
    "my_cat.eat()  \n",
    "my_cat.meow()"
   ]
  },
  {
   "cell_type": "code",
   "execution_count": null,
   "id": "f26817c5-a814-488c-ac67-cc45796d3fd0",
   "metadata": {},
   "outputs": [],
   "source": []
  }
 ],
 "metadata": {
  "kernelspec": {
   "display_name": "Python 3 (ipykernel)",
   "language": "python",
   "name": "python3"
  },
  "language_info": {
   "codemirror_mode": {
    "name": "ipython",
    "version": 3
   },
   "file_extension": ".py",
   "mimetype": "text/x-python",
   "name": "python",
   "nbconvert_exporter": "python",
   "pygments_lexer": "ipython3",
   "version": "3.10.8"
  }
 },
 "nbformat": 4,
 "nbformat_minor": 5
}
