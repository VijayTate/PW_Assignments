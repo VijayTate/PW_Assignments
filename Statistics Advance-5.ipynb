{
 "cells": [
  {
   "cell_type": "markdown",
   "id": "f4b75020-28e7-4e29-a668-010050732f1d",
   "metadata": {},
   "source": [
    "Q1. Calculate the 95% confidence interval for a sample of data with a mean of 50 and a standard deviation of 5 using Python. Interpret the results."
   ]
  },
  {
   "cell_type": "code",
   "execution_count": 5,
   "id": "f4cef954-fdb2-4503-bc4f-ccd34c51ad1a",
   "metadata": {},
   "outputs": [
    {
     "name": "stdout",
     "output_type": "stream",
     "text": [
      "95% Confidence Interval: (48.13, 51.87)\n"
     ]
    }
   ],
   "source": [
    "import scipy.stats as stats\n",
    "\n",
    "\n",
    "sample_mean = 50\n",
    "sample_std_dev = 5\n",
    "sample_size = 30  # Assuming sample size \n",
    "\n",
    "\n",
    "confidence_level = 0.95\n",
    "\n",
    "\n",
    "degrees_of_freedom = sample_size - 1\n",
    "\n",
    "\n",
    "standard_error = sample_std_dev / (sample_size ** 0.5)\n",
    "\n",
    "\n",
    "lower_bound, upper_bound = stats.t.interval(confidence_level, degrees_of_freedom, loc=sample_mean, scale=standard_error)\n",
    "\n",
    "print(f\"95% Confidence Interval: ({lower_bound:.2f}, {upper_bound:.2f})\")"
   ]
  },
  {
   "cell_type": "markdown",
   "id": "71ee08d3-bb91-4653-b6c7-21e81cf15a0a",
   "metadata": {},
   "source": [
    "Interpretation:\n",
    "The 95% confidence interval indicates that we can be 95% confident that the true population mean lies within this range. \n",
    "In this case, the confidence interval is (48.13, 51.87). \n",
    "It means that we can be 95% confident that the true population mean lies between 48.13 and 51.87 based on the sample data with a mean of 50 and a standard deviation of 5. \n",
    "This interval provides a range of values within which the true population mean is likely to fall, considering the variability introduced by sampling."
   ]
  },
  {
   "cell_type": "code",
   "execution_count": null,
   "id": "54ce0ef4-149b-4c73-a1ba-f0b42838a536",
   "metadata": {},
   "outputs": [],
   "source": []
  },
  {
   "cell_type": "code",
   "execution_count": null,
   "id": "a526d34d-38c9-49b8-8769-a06d593d8bf9",
   "metadata": {},
   "outputs": [],
   "source": []
  },
  {
   "cell_type": "markdown",
   "id": "3ff9c267-c06c-4445-8c0a-2ace9530c093",
   "metadata": {},
   "source": [
    "Q2. Conduct a chi-square goodness of fit test to determine if the distribution of colors of M&Ms in a bag matches the expected  distribution of 20% blue, 20% orange, 20% green, 10% yellow, 10% red, and 20% brown. Use Python to perform the test with a significance level of 0.05."
   ]
  },
  {
   "cell_type": "code",
   "execution_count": 10,
   "id": "c82a0114-7f3c-47a0-9753-b50d9e35a029",
   "metadata": {},
   "outputs": [
    {
     "name": "stdout",
     "output_type": "stream",
     "text": [
      "Fail to reject the null hypothesis: The distribution of colors of M&Ms in the bag matches the expected distribution.\n"
     ]
    }
   ],
   "source": [
    "import numpy as np\n",
    "import scipy.stats as stat\n",
    "\n",
    "\n",
    "observed_frequencies = np.array([40, 35, 30, 15, 10, 20])  # Assumed observed frequencies\n",
    "\n",
    "\n",
    "expected_frequencies = np.array([0.2, 0.2, 0.2, 0.1, 0.1, 0.2]) * observed_frequencies.sum()\n",
    "\n",
    "\n",
    "chi_square, p_value = stat.chisquare(observed_frequencies, f_exp=expected_frequencies)\n",
    "\n",
    "\n",
    "alpha = 0.05\n",
    "\n",
    "p_value\n",
    "\n",
    "if p_value < alpha:\n",
    "    print(\"Reject the null hypothesis: The distribution of colors of M&Ms in the bag does not match the expected distribution.\")\n",
    "else:\n",
    "    print(\"Fail to reject the null hypothesis: The distribution of colors of M&Ms in the bag matches the expected distribution.\")\n"
   ]
  },
  {
   "cell_type": "code",
   "execution_count": null,
   "id": "2677d6f9-304a-4864-92dc-c14f0baa6eb5",
   "metadata": {},
   "outputs": [],
   "source": []
  },
  {
   "cell_type": "code",
   "execution_count": null,
   "id": "671ccfc8-2505-4a17-bff2-635611f1dc58",
   "metadata": {},
   "outputs": [],
   "source": []
  },
  {
   "cell_type": "raw",
   "id": "07486ed2-de18-4128-bcda-d3f354934a93",
   "metadata": {},
   "source": [
    "Q3. Use Python to calculate the chi-square statistic and p-value for a contingency table with the following data:\n",
    "\n",
    "\n",
    "            Group A        Group B\n",
    "\n",
    "Outcome 1     20             15\n",
    "\n",
    "Outcome 2     10             25\n",
    "\n",
    "Outcome 3     15             20\n",
    "\n",
    "Interpret the results of the test.\n"
   ]
  },
  {
   "cell_type": "code",
   "execution_count": 11,
   "id": "66708292-dc5b-4597-a5ee-7ae3512aa552",
   "metadata": {},
   "outputs": [
    {
     "name": "stdout",
     "output_type": "stream",
     "text": [
      "Chi-square Statistic: 5.833333333333334\n",
      "P-value: 0.05411376622282158\n",
      "There is no significant association between the two groups and outcomes.\n"
     ]
    }
   ],
   "source": [
    "import numpy as np\n",
    "import scipy.stats as stat\n",
    "\n",
    "\n",
    "observed_data = np.array([[20, 15], [10, 25], [15, 20]])\n",
    "\n",
    "\n",
    "chi2_stat, p_value, dof, expected = stat.chi2_contingency(observed_data)\n",
    "\n",
    "\n",
    "alpha = 0.05\n",
    "\n",
    "\n",
    "print(\"Chi-square Statistic:\", chi2_stat)\n",
    "print(\"P-value:\", p_value)\n",
    "\n",
    "\n",
    "if p_value < alpha:\n",
    "    print(\"There is a significant association between the two groups and outcomes.\")\n",
    "else:\n",
    "    print(\"There is no significant association between the two groups and outcomes.\")\n"
   ]
  },
  {
   "cell_type": "code",
   "execution_count": null,
   "id": "555783d4-b575-4919-9ca0-7dd9b1e9e1e9",
   "metadata": {},
   "outputs": [],
   "source": []
  },
  {
   "cell_type": "code",
   "execution_count": null,
   "id": "6f0ed2f5-e742-4a90-858c-e07116187847",
   "metadata": {},
   "outputs": [],
   "source": []
  },
  {
   "cell_type": "markdown",
   "id": "933cb2ad-57c0-45e7-858a-197161dee4cb",
   "metadata": {},
   "source": [
    "Q4. A study of the prevalence of smoking in a population of 500 individuals found that 60 individuals smoked. Use Python to calculate the 95% confidence interval for the true proportion of individuals in the population who smoke."
   ]
  },
  {
   "cell_type": "code",
   "execution_count": 13,
   "id": "f08b873e-cd68-4630-83b0-62d3f3a98cae",
   "metadata": {},
   "outputs": [
    {
     "name": "stdout",
     "output_type": "stream",
     "text": [
      "95% Confidence Interval: (0.0915, 0.1485)\n"
     ]
    }
   ],
   "source": [
    "import scipy.stats as stats\n",
    "\n",
    "# Sample data\n",
    "total_population = 500\n",
    "sample_size = 60\n",
    "\n",
    "# Sample proportion (proportion of individuals who smoke in the sample)\n",
    "sample_proportion = sample_size / total_population\n",
    "\n",
    "# Confidence level (95%)\n",
    "confidence_level = 0.95\n",
    "\n",
    "# Calculate the standard error (SE)\n",
    "standard_error = (sample_proportion * (1 - sample_proportion) / total_population) ** 0.5\n",
    "\n",
    "# Calculate the 95% confidence interval\n",
    "margin_of_error = stats.norm.ppf(1 - (1 - confidence_level) / 2) * standard_error\n",
    "lower_bound = sample_proportion - margin_of_error\n",
    "upper_bound = sample_proportion + margin_of_error\n",
    "\n",
    "print(f\"95% Confidence Interval: ({lower_bound:.4f}, {upper_bound:.4f})\")"
   ]
  },
  {
   "cell_type": "code",
   "execution_count": null,
   "id": "e3bfcec7-4337-4bf6-b18d-b5d2d32bed69",
   "metadata": {},
   "outputs": [],
   "source": []
  },
  {
   "cell_type": "code",
   "execution_count": null,
   "id": "ddc19589-5941-4691-a6ab-0d7fe51f3d58",
   "metadata": {},
   "outputs": [],
   "source": []
  },
  {
   "cell_type": "markdown",
   "id": "bb60632e-8148-4d81-b439-a2e2f49a7239",
   "metadata": {},
   "source": [
    "Q5. Calculate the 90% confidence interval for a sample of data with a mean of 75 and a standard deviation of 12 using Python. Interpret the results."
   ]
  },
  {
   "cell_type": "code",
   "execution_count": 14,
   "id": "edb0c4ed-8a7f-42ef-8c4a-1d41407c288e",
   "metadata": {},
   "outputs": [
    {
     "name": "stdout",
     "output_type": "stream",
     "text": [
      "90% Confidence Interval: (72.15, 77.85)\n"
     ]
    }
   ],
   "source": [
    "import scipy.stats as stats\n",
    "\n",
    "# Sample data\n",
    "sample_mean = 75\n",
    "sample_std_dev = 12\n",
    "sample_size = 50  # Assuming sample size \n",
    "\n",
    "# Confidence level (90%)\n",
    "confidence_level = 0.90\n",
    "\n",
    "# Degrees of freedom (n - 1)\n",
    "degrees_of_freedom = sample_size - 1\n",
    "\n",
    "# Calculate the standard error (SE)\n",
    "standard_error = sample_std_dev / (sample_size ** 0.5)\n",
    "\n",
    "# Calculate the 90% confidence interval\n",
    "lower_bound, upper_bound = stats.t.interval(confidence_level, degrees_of_freedom, loc=sample_mean, scale=standard_error)\n",
    "\n",
    "print(f\"90% Confidence Interval: ({lower_bound:.2f}, {upper_bound:.2f})\")\n"
   ]
  },
  {
   "cell_type": "markdown",
   "id": "0d40466d-ca06-4852-9a3b-ad4a1267cf67",
   "metadata": {},
   "source": [
    "Interpretation:\n",
    "The 90% confidence interval indicates that we can be 90% confident that the true population mean lies within this range. In this case, the confidence interval is (72.15, 77.85). It means that we can be 90% confident that the true population mean lies between 72.15 and 77.85 based on the sample data with a mean of 75 and a standard deviation of 12. This interval provides a range of values within which the true population mean is likely to fall, considering the variability introduced by sampling."
   ]
  },
  {
   "cell_type": "code",
   "execution_count": null,
   "id": "d69fa9bb-09cd-4a15-a4ed-92a66c4ec983",
   "metadata": {},
   "outputs": [],
   "source": []
  },
  {
   "cell_type": "code",
   "execution_count": null,
   "id": "255226dd-e972-445a-8062-7501de68b0f7",
   "metadata": {},
   "outputs": [],
   "source": []
  },
  {
   "cell_type": "markdown",
   "id": "fc9bfa2b-4728-4274-a56c-9790116a5a02",
   "metadata": {},
   "source": [
    "Q6. Use Python to plot the chi-square distribution with 10 degrees of freedom. Label the axes and shade the area corresponding to a chi-square statistic of 15."
   ]
  },
  {
   "cell_type": "code",
   "execution_count": 15,
   "id": "886ab3da-bd26-42ba-97b3-bc20f0a6f133",
   "metadata": {},
   "outputs": [
    {
     "data": {
      "image/png": "[encoded data removed]",
      "text/plain": [
       "<Figure size 640x480 with 1 Axes>"
      ]
     },
     "metadata": {},
     "output_type": "display_data"
    }
   ],
   "source": [
    "import numpy as np\n",
    "import matplotlib.pyplot as plt\n",
    "import scipy.stats as stats\n",
    "\n",
    "# Degrees of freedom for the chi-square distribution\n",
    "degrees_of_freedom = 10\n",
    "\n",
    "# Generate data points for the chi-square distribution\n",
    "x = np.linspace(0, 30, 1000)\n",
    "chi2_dist = stats.chi2.pdf(x, degrees_of_freedom)\n",
    "\n",
    "# Create the plot\n",
    "plt.plot(x, chi2_dist, label='Chi-square Distribution (df=10)')\n",
    "plt.xlabel('Chi-square Statistic')\n",
    "plt.ylabel('Probability Density Function (PDF)')\n",
    "plt.title('Chi-square Distribution')\n",
    "plt.axvline(x=15, color='r', linestyle='--', label='Chi-square Statistic = 15')\n",
    "plt.fill_between(x, chi2_dist, where=(x >= 15), color='gray', alpha=0.5)\n",
    "plt.legend()\n",
    "plt.grid(True)\n",
    "plt.show()\n"
   ]
  },
  {
   "cell_type": "code",
   "execution_count": null,
   "id": "c2c069a2-9d7f-4c20-afa1-6a25c7e79f8b",
   "metadata": {},
   "outputs": [],
   "source": []
  },
  {
   "cell_type": "code",
   "execution_count": null,
   "id": "31c3cd09-eaa3-46ca-bc7b-f0e67c4463b4",
   "metadata": {},
   "outputs": [],
   "source": []
  },
  {
   "cell_type": "markdown",
   "id": "ed4c1cf6-f553-409c-8eb3-c21a202dd5eb",
   "metadata": {},
   "source": [
    "Q7. A random sample of 1000 people was asked if they preferred Coke or Pepsi. Of the sample, 520 preferred Coke. Calculate a 99% confidence interval for the true proportion of people in the population who prefer Coke."
   ]
  },
  {
   "cell_type": "code",
   "execution_count": 16,
   "id": "e7724797-465e-4817-ad95-5b1a44576d7d",
   "metadata": {},
   "outputs": [
    {
     "name": "stdout",
     "output_type": "stream",
     "text": [
      "99% Confidence Interval: (0.4793, 0.5607)\n"
     ]
    }
   ],
   "source": [
    "import scipy.stats as stats\n",
    "\n",
    "# Sample data\n",
    "total_sample_size = 1000\n",
    "preferred_coke_count = 520\n",
    "\n",
    "# Sample proportion (proportion of people who prefer Coke in the sample)\n",
    "sample_proportion = preferred_coke_count / total_sample_size\n",
    "\n",
    "# Confidence level (99%)\n",
    "confidence_level = 0.99\n",
    "\n",
    "# Calculate the standard error (SE)\n",
    "standard_error = (sample_proportion * (1 - sample_proportion) / total_sample_size) ** 0.5\n",
    "\n",
    "# Calculate the 99% confidence interval\n",
    "margin_of_error = stats.norm.ppf(1 - (1 - confidence_level) / 2) * standard_error\n",
    "lower_bound = sample_proportion - margin_of_error\n",
    "upper_bound = sample_proportion + margin_of_error\n",
    "\n",
    "print(f\"99% Confidence Interval: ({lower_bound:.4f}, {upper_bound:.4f})\")\n"
   ]
  },
  {
   "cell_type": "markdown",
   "id": "97686b45-844d-4ffd-b59d-5139b392d9f2",
   "metadata": {},
   "source": [
    "Interpretation:\n",
    "The 99% confidence interval indicates that we can be 99% confident that the true proportion of people in the population who prefer Coke lies within this range. For example, if the output is (0.4895, 0.5505), it means that we can be 99% confident that the true proportion of people in the population who prefer Coke lies between approximately 48.95% and 55.05% based on the sample data of 520 people out of a total sample size of 1000. "
   ]
  },
  {
   "cell_type": "code",
   "execution_count": null,
   "id": "46e403fa-2b62-43d5-ac91-38cc3b31c92e",
   "metadata": {},
   "outputs": [],
   "source": []
  },
  {
   "cell_type": "code",
   "execution_count": null,
   "id": "0fa4c394-4c11-4e3e-a51e-f9e0e87af47b",
   "metadata": {},
   "outputs": [],
   "source": []
  },
  {
   "cell_type": "markdown",
   "id": "5136238c-a74d-44a1-824d-91660fcdb2ed",
   "metadata": {},
   "source": [
    "Q8. A researcher hypothesizes that a coin is biased towards tails. They flip the coin 100 times and observe 45 tails. Conduct a chi-square goodness of fit test to determine if the observed frequencies match the expected frequencies of a fair coin. Use a significance level of 0.05."
   ]
  },
  {
   "cell_type": "code",
   "execution_count": 17,
   "id": "f81d8645-3e01-447c-978c-6f336645cac4",
   "metadata": {},
   "outputs": [
    {
     "name": "stdout",
     "output_type": "stream",
     "text": [
      "Chi-square Statistic: 1.0\n",
      "P-value: 0.31731050786291115\n",
      "The coin is fair. Fail to reject the null hypothesis.\n"
     ]
    }
   ],
   "source": [
    "import scipy.stats as stats\n",
    "\n",
    "# Sample data\n",
    "total_flips = 100\n",
    "observed_tails = 45\n",
    "\n",
    "# Expected frequencies for a fair coin (50% heads, 50% tails)\n",
    "expected_heads = total_flips * 0.5\n",
    "expected_tails = total_flips * 0.5\n",
    "\n",
    "# Observed frequencies\n",
    "observed_frequencies = [total_flips - observed_tails, observed_tails]\n",
    "\n",
    "# Expected frequencies\n",
    "expected_frequencies = [expected_heads, expected_tails]\n",
    "\n",
    "# Perform the chi-square test\n",
    "chi2_stat, p_value = stats.chisquare(observed_frequencies, f_exp=expected_frequencies)\n",
    "\n",
    "# Define the significance level\n",
    "alpha = 0.05\n",
    "\n",
    "# Print the results\n",
    "print(\"Chi-square Statistic:\", chi2_stat)\n",
    "print(\"P-value:\", p_value)\n",
    "\n",
    "# Check if the p-value is less than the significance level\n",
    "if p_value < alpha:\n",
    "    print(\"The coin is biased towards tails. Reject the null hypothesis.\")\n",
    "else:\n",
    "    print(\"The coin is fair. Fail to reject the null hypothesis.\")\n"
   ]
  },
  {
   "cell_type": "code",
   "execution_count": null,
   "id": "a3c9c674-508c-44b1-876a-be1ae657b544",
   "metadata": {},
   "outputs": [],
   "source": []
  },
  {
   "cell_type": "code",
   "execution_count": null,
   "id": "3f154060-9a60-4d6c-9094-98bc50b72505",
   "metadata": {},
   "outputs": [],
   "source": []
  },
  {
   "cell_type": "raw",
   "id": "6590e154-e87c-4f7e-a013-61c2d16f83c0",
   "metadata": {},
   "source": [
    "Q9. A study was conducted to determine if there is an association between smoking status (smoker or non-smoker) and lung cancer diagnosis (yes or no). The results are shown in the contingency table below.\n",
    "Conduct a chi-square test for independence to determine if there is a significant association between smoking status and lung cancer diagnosis.\n",
    "\n",
    "                    Lung Cancer: Yes            Lung Cancer: No\n",
    "\n",
    "Smoker                     60                         140\n",
    "Non-smoker                 30                         170\n",
    "\n",
    "Use a significance level of 0.05."
   ]
  },
  {
   "cell_type": "code",
   "execution_count": 18,
   "id": "f4cd0fcf-d423-423c-9fd4-18f271e7a814",
   "metadata": {},
   "outputs": [
    {
     "name": "stdout",
     "output_type": "stream",
     "text": [
      "Chi-square Statistic: 12.057347670250895\n",
      "P-value: 0.0005158863863703744\n",
      "There is a significant association between smoking status and lung cancer diagnosis. Reject the null hypothesis.\n"
     ]
    }
   ],
   "source": [
    "import numpy as np\n",
    "import scipy.stats as stats\n",
    "\n",
    "# Contingency table data\n",
    "observed_data = np.array([[60, 140], [30, 170]])\n",
    "\n",
    "# Perform the chi-square test for independence\n",
    "chi2_stat, p_value, dof, expected = stats.chi2_contingency(observed_data)\n",
    "\n",
    "# Define the significance level\n",
    "alpha = 0.05\n",
    "\n",
    "# Print the results\n",
    "print(\"Chi-square Statistic:\", chi2_stat)\n",
    "print(\"P-value:\", p_value)\n",
    "\n",
    "# Check if the p-value is less than the significance level\n",
    "if p_value < alpha:\n",
    "    print(\"There is a significant association between smoking status and lung cancer diagnosis. Reject the null hypothesis.\")\n",
    "else:\n",
    "    print(\"There is no significant association between smoking status and lung cancer diagnosis. Fail to reject the null hypothesis.\")\n"
   ]
  },
  {
   "cell_type": "code",
   "execution_count": null,
   "id": "f9e79c2d-ef37-4db5-bf9a-52276cc2fa3c",
   "metadata": {},
   "outputs": [],
   "source": []
  },
  {
   "cell_type": "code",
   "execution_count": null,
   "id": "af39de8d-7520-435c-a513-9195d38c4989",
   "metadata": {},
   "outputs": [],
   "source": []
  },
  {
   "cell_type": "raw",
   "id": "17d0b316-4e31-47ca-b611-6927d6594919",
   "metadata": {},
   "source": [
    "Q10. A study was conducted to determine if the proportion of people who prefer milk chocolate, dark chocolate, or white chocolate is different in the U.S. versus the U.K. A random sample of 500 people from the U.S. and a random sample of 500 people from the U.K. were surveyed. The results are shown in the contingency table below. Conduct a chi-square test for independence to determine if there is a significant association between chocolate preference and country of origin.\n",
    "\n",
    "                Milk Chocolate       Dark Chocolate        White Chocolate\n",
    "\n",
    "U.S. (n=500)         200                  150                   150\n",
    "U.K. (n=500)         225                  175                   100\n",
    "\n",
    "Use a significance level of 0.01."
   ]
  },
  {
   "cell_type": "code",
   "execution_count": 19,
   "id": "a9362195-bb31-4a62-aeee-ef9f2ee6bbf2",
   "metadata": {},
   "outputs": [
    {
     "name": "stdout",
     "output_type": "stream",
     "text": [
      "Chi-square Statistic: 13.393665158371041\n",
      "P-value: 0.0012348168997745918\n",
      "There is a significant association between chocolate preference and country of origin. Reject the null hypothesis.\n"
     ]
    }
   ],
   "source": [
    "import numpy as np\n",
    "import scipy.stats as stats\n",
    "\n",
    "# Contingency table data\n",
    "observed_data = np.array([[200, 150, 150], [225, 175, 100]])\n",
    "\n",
    "# Perform the chi-square test for independence\n",
    "chi2_stat, p_value, dof, expected = stats.chi2_contingency(observed_data)\n",
    "\n",
    "# Define the significance level\n",
    "alpha = 0.01\n",
    "\n",
    "# Print the results\n",
    "print(\"Chi-square Statistic:\", chi2_stat)\n",
    "print(\"P-value:\", p_value)\n",
    "\n",
    "# Check if the p-value is less than the significance level\n",
    "if p_value < alpha:\n",
    "    print(\"There is a significant association between chocolate preference and country of origin. Reject the null hypothesis.\")\n",
    "else:\n",
    "    print(\"There is no significant association between chocolate preference and country of origin. Fail to reject the null hypothesis.\")\n"
   ]
  },
  {
   "cell_type": "code",
   "execution_count": null,
   "id": "ddd5940f-266c-4c79-9c2a-0a233f737a7d",
   "metadata": {},
   "outputs": [],
   "source": []
  },
  {
   "cell_type": "code",
   "execution_count": null,
   "id": "d61f472b-d51d-4b52-ad8e-efc746dde747",
   "metadata": {},
   "outputs": [],
   "source": []
  },
  {
   "cell_type": "markdown",
   "id": "f0dd38e2-00ec-47ac-99e7-133daf585235",
   "metadata": {},
   "source": [
    "Q11. A random sample of 30 people was selected from a population with an unknown mean and standard deviation. The sample mean was found to be 72 and the sample standard deviation was found to be 10.\n",
    "Conduct a hypothesis test to determine if the population mean is significantly different from 70. Use a significance level of 0.05."
   ]
  },
  {
   "cell_type": "code",
   "execution_count": 24,
   "id": "cd075ef2-4663-4683-8896-9ff6944c0744",
   "metadata": {},
   "outputs": [
    {
     "name": "stdout",
     "output_type": "stream",
     "text": [
      "t-statistic: inf\n",
      "P-value: 0.0\n",
      "The population mean is significantly different from 70. Reject the null hypothesis.\n"
     ]
    },
    {
     "name": "stderr",
     "output_type": "stream",
     "text": [
      "/tmp/ipykernel_882/1617665373.py:16: RuntimeWarning: Precision loss occurred in moment calculation due to catastrophic cancellation. This occurs when the data are nearly identical. Results may be unreliable.\n",
      "  t_stat, p_value = stats.ttest_1samp([sample_mean] * sample_size, population_mean)\n"
     ]
    }
   ],
   "source": [
    "import scipy.stats as stats\n",
    "\n",
    "# Sample data\n",
    "sample_mean = 72\n",
    "sample_std_dev = 10\n",
    "sample_size = 30\n",
    "population_mean = 70\n",
    "\n",
    "# Define the significance level\n",
    "alpha = 0.05\n",
    "\n",
    "# Calculate the standard error (SE)\n",
    "standard_error = sample_std_dev / (sample_size ** 0.5)\n",
    "\n",
    "# Perform the one-sample t-test\n",
    "t_stat, p_value = stats.ttest_1samp([sample_mean] * sample_size, population_mean)\n",
    "\n",
    "# Print the results\n",
    "print(\"t-statistic:\", t_stat)\n",
    "print(\"P-value:\", p_value)\n",
    "\n",
    "# Check if the p-value is less than the significance level\n",
    "if p_value < alpha:\n",
    "    print(\"The population mean is significantly different from 70. Reject the null hypothesis.\")\n",
    "else:\n",
    "    print(\"There is no significant difference between the population mean and 70. Fail to reject the null hypothesis.\")"
   ]
  }
 ],
 "metadata": {
  "kernelspec": {
   "display_name": "Python 3 (ipykernel)",
   "language": "python",
   "name": "python3"
  },
  "language_info": {
   "codemirror_mode": {
    "name": "ipython",
    "version": 3
   },
   "file_extension": ".py",
   "mimetype": "text/x-python",
   "name": "python",
   "nbconvert_exporter": "python",
   "pygments_lexer": "ipython3",
   "version": "3.10.8"
  }
 },
 "nbformat": 4,
 "nbformat_minor": 5
}
