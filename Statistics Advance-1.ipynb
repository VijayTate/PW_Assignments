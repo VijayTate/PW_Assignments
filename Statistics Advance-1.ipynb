{
 "cells": [
  {
   "cell_type": "markdown",
   "id": "0ac4bc7a-8a84-4b9b-a524-a15cc2722550",
   "metadata": {},
   "source": [
    "Q1. What is the Probability density function?"
   ]
  },
  {
   "cell_type": "markdown",
   "id": "e8ee283f-d22b-4bac-9453-47001ba0ffe5",
   "metadata": {},
   "source": [
    "The Probability Density Function (PDF) is a fundamental concept in probability theory and statistics. It is used to describe the probability distribution of a continuous random variable. In simple terms, the PDF represents the likelihood of a random variable taking on a particular value within a given range.\n",
    "\n",
    "Mathematically, the PDF is denoted by f(x) and satisfies the following properties:\n",
    "\n",
    "1. Non-negative: The PDF is always non-negative, meaning that f(x) ≥ 0 for all x.\n",
    "\n",
    "2. Total area under the curve: The total area under the PDF curve over its entire domain is equal to 1. This ensures that the probability of the random variable taking any value within its domain is 1 (or 100%).\n",
    "\n",
    "The probability of a continuous random variable falling within a specific interval [a, b] is given by the integral of the PDF over that interval:\n",
    "\n",
    "P(a ≤ X ≤ b) = ∫[a, b] f(x) dx\n",
    "\n",
    "Here, P(a ≤ X ≤ b) represents the probability that the random variable X takes a value between a and b.\n",
    "\n",
    "In summary, the Probability Density Function provides a way to characterize the likelihood of different values occurring for a continuous random variable, helping us understand the underlying distribution of the data."
   ]
  },
  {
   "cell_type": "code",
   "execution_count": null,
   "id": "a18eaa42-0567-4ca4-abde-fd27b68adca8",
   "metadata": {},
   "outputs": [],
   "source": []
  },
  {
   "cell_type": "code",
   "execution_count": null,
   "id": "94fa5f70-d080-4940-ab44-4fca5de8265e",
   "metadata": {},
   "outputs": [],
   "source": []
  },
  {
   "cell_type": "markdown",
   "id": "0cc2cf52-57e5-4960-b44a-41297ff17fcc",
   "metadata": {},
   "source": [
    "Q2. What are the types of Probability distribution?"
   ]
  },
  {
   "cell_type": "markdown",
   "id": "994c74b2-f2e8-4be7-8c00-0e6e1b022810",
   "metadata": {},
   "source": [
    "There are several types of probability distributions in statistics, and they can be broadly categorized into two main groups: discrete probability distributions and continuous probability distributions.\n",
    "\n",
    "(A) Discrete Probability Distributions:\n",
    "\n",
    "1) Bernoulli Distribution: Represents the probability distribution of a binary random variable (e.g., success/failure, yes/no) with a single trial.\n",
    "2) Binomial Distribution: Describes the probability distribution of the number of successes in a fixed number of independent Bernoulli trials.\n",
    "3) Poisson Distribution: Models the number of events occurring in a fixed interval of time or space, where events occur independently with a constant rate.\n",
    "4) Geometric Distribution: Represents the number of Bernoulli trials required to get the first success.\n",
    "5) Hypergeometric Distribution: Describes the probability of successes in a fixed number of draws without replacement from a finite population.\n",
    "\n",
    "(B) Continuous Probability Distributions:\n",
    "\n",
    "1) Uniform Distribution: Represents a constant probability over a specified interval, where all outcomes have the same likelihood.\n",
    "2) Normal Distribution (Gaussian Distribution): One of the most common probability distributions, characterized by a bell-shaped curve, and widely used in statistical modeling.\n",
    "3) Exponential Distribution: Describes the time between events in a Poisson process, where events occur at a constant rate independently of the time since the last event.\n",
    "4) Gamma Distribution: Extends the exponential distribution and is used to model continuous positive random variables with skewed distributions.\n",
    "5) Beta Distribution: Used to model random variables that have values between 0 and 1, often used in Bayesian statistics.\n",
    "6) Chi-Square Distribution: Used to test the independence of variables in a contingency table and in various statistical tests."
   ]
  },
  {
   "cell_type": "code",
   "execution_count": null,
   "id": "10200175-e9d4-4358-8b32-a6306d94a145",
   "metadata": {},
   "outputs": [],
   "source": []
  },
  {
   "cell_type": "code",
   "execution_count": null,
   "id": "dc34348e-b616-47f7-b66b-863db8e34eb8",
   "metadata": {},
   "outputs": [],
   "source": []
  },
  {
   "cell_type": "markdown",
   "id": "dbaf4a12-58fc-47d0-9e4c-a1ca824cce5b",
   "metadata": {},
   "source": [
    "Q3. Write a Python function to calculate the probability density function of a normal distribution with given mean and standard deviation at a given point."
   ]
  },
  {
   "cell_type": "code",
   "execution_count": 2,
   "id": "8dd5775b-1e8d-43b3-9959-ce60ec2941f2",
   "metadata": {},
   "outputs": [
    {
     "name": "stdout",
     "output_type": "stream",
     "text": [
      "The PDF value at x = 1.5 is 0.12951759566589174\n"
     ]
    }
   ],
   "source": [
    "import math\n",
    "\n",
    "def normal_pdf(x, mean, std):\n",
    "    \"\"\"\n",
    "    Calculate the Probability Density Function (PDF) of a normal distribution at a given point.\n",
    "\n",
    "    Parameters:\n",
    "    x (float): The point at which to calculate the PDF.\n",
    "    mean (float): The mean of the normal distribution.\n",
    "    std (float): The standard deviation of the normal distribution.\n",
    "\n",
    "    Returns:\n",
    "    float: The PDF value at the given point.\n",
    "    \"\"\"\n",
    "    coefficient = 1 / (std * math.sqrt(2 * math.pi))\n",
    "    exponent = -(x - mean) ** 2 / (2 * std ** 2)\n",
    "    pdf_value = coefficient * math.exp(exponent)\n",
    "    return pdf_value\n",
    "\n",
    "# Example usage:\n",
    "mean = 0\n",
    "std = 1\n",
    "x = 1.5\n",
    "pdf_value = normal_pdf(x, mean, std)\n",
    "print(f\"The PDF value at x = {x} is {pdf_value}\")\n"
   ]
  },
  {
   "cell_type": "code",
   "execution_count": null,
   "id": "6c390e75-c47e-4008-8264-679d4c095f6e",
   "metadata": {},
   "outputs": [],
   "source": []
  },
  {
   "cell_type": "code",
   "execution_count": null,
   "id": "cb93112d-52ad-4be8-b36d-cf32b9ec6c96",
   "metadata": {},
   "outputs": [],
   "source": []
  },
  {
   "cell_type": "markdown",
   "id": "f7f3a4a9-c580-4fcd-81b0-d09cd14e23da",
   "metadata": {},
   "source": [
    "Q4. What are the properties of Binomial distribution? Give two examples of events where binomial distribution can be applied."
   ]
  },
  {
   "cell_type": "markdown",
   "id": "a9045891-b196-416e-a51d-979db60edaeb",
   "metadata": {},
   "source": [
    "The Binomial distribution is a probability distribution that models the number of successes in a fixed number of independent Bernoulli trials, where each trial has two possible outcomes: success (usually denoted as \"S\") with probability p, and failure (usually denoted as \"F\") with probability q = 1 - p.\n",
    "\n",
    "Properties of the Binomial distribution:\n",
    "\n",
    "1) Fixed Number of Trials: The number of trials, denoted as n, is fixed and known in advance.\n",
    "\n",
    "2) Independent Trials: Each trial is independent of the others. The outcome of one trial does not influence the outcome of other trials.\n",
    "\n",
    "3) Two Outcomes: Each trial has only two possible outcomes: success (S) or failure (F).\n",
    "\n",
    "4) Constant Probability: The probability of success (p) remains the same for each trial.\n",
    "\n",
    "5) Discrete Distribution: The Binomial distribution is a discrete probability distribution, as it deals with a finite number of discrete outcomes.\n",
    "\n",
    "Examples of events where the Binomial distribution can be applied:\n",
    "\n",
    "(1) Coin Tossing: Consider flipping a fair coin multiple times. The outcome of each flip is either heads (success) or tails (failure). The probability of getting heads is p = 0.5, and the probability of getting tails is q = 1 - 0.5 = 0.5. The number of heads in n flips of the coin follows a Binomial distribution.\n",
    "\n",
    "(2) Quality Control: In a manufacturing process, products are often tested for quality, and each product is either accepted (success) or rejected (failure) based on specific criteria. The probability of a product being accepted is p, and the probability of it being rejected is q = 1 - p. The number of accepted products out of a fixed number of products tested follows a Binomial distribution."
   ]
  },
  {
   "cell_type": "code",
   "execution_count": null,
   "id": "7ad41694-f3f9-4117-94c3-dc3fc596e8cb",
   "metadata": {},
   "outputs": [],
   "source": []
  },
  {
   "cell_type": "code",
   "execution_count": null,
   "id": "f1498f08-3772-44cf-9b52-cbffa8d111d3",
   "metadata": {},
   "outputs": [],
   "source": []
  },
  {
   "cell_type": "markdown",
   "id": "8df12752-a7cc-4455-90fa-8ac9c4234aad",
   "metadata": {},
   "source": [
    "Q5. Generate a random sample of size 1000 from a binomial distribution with probability of success 0.4 and plot a histogram of the results using matplotlib."
   ]
  },
  {
   "cell_type": "code",
   "execution_count": 3,
   "id": "ace13fec-c5fe-4002-b7fa-f2acdceedfb6",
   "metadata": {},
   "outputs": [
    {
     "data": {
      "image/png": "[encoded data removed]",
      "text/plain": [
       "<Figure size 640x480 with 1 Axes>"
      ]
     },
     "metadata": {},
     "output_type": "display_data"
    }
   ],
   "source": [
    "import numpy as np\n",
    "import matplotlib.pyplot as plt\n",
    "\n",
    "# Generate a random sample of size 1000 from a binomial distribution with p=0.4 and n=1 (single trial)\n",
    "sample_size = 1000\n",
    "probability_of_success = 0.4\n",
    "random_sample = np.random.binomial(n=1, p=probability_of_success, size=sample_size)\n",
    "\n",
    "# Plot the histogram\n",
    "plt.hist(random_sample, bins=2, edgecolor='black')\n",
    "plt.xlabel('Success (1) or Failure (0)')\n",
    "plt.ylabel('Frequency')\n",
    "plt.title('Histogram of Random Sample from Binomial Distribution')\n",
    "plt.xticks([0, 1], ['Failure', 'Success'])\n",
    "plt.show()\n"
   ]
  },
  {
   "cell_type": "code",
   "execution_count": null,
   "id": "984853c6-6ac6-4263-a700-d2bc32dff6e9",
   "metadata": {},
   "outputs": [],
   "source": []
  },
  {
   "cell_type": "code",
   "execution_count": null,
   "id": "ef9c522c-c5e9-4d1d-ba9e-e30e91d1b98f",
   "metadata": {},
   "outputs": [],
   "source": []
  },
  {
   "cell_type": "markdown",
   "id": "e4d52225-db51-4f3e-a6f0-c888d527fe0f",
   "metadata": {},
   "source": [
    "Q6. Write a Python function to calculate the cumulative distribution function of a Poisson distribution with given mean at a given point."
   ]
  },
  {
   "cell_type": "code",
   "execution_count": 4,
   "id": "af93ab00-2c3c-4dbb-91ee-c0be689f71a1",
   "metadata": {},
   "outputs": [
    {
     "name": "stdout",
     "output_type": "stream",
     "text": [
      "CDF at point 3 for Poisson distribution with mean 2.5: 0.7576\n"
     ]
    }
   ],
   "source": [
    "from scipy.stats import poisson\n",
    "\n",
    "def poisson_cdf(mean, point):\n",
    "    \"\"\"\n",
    "    Calculate the cumulative distribution function (CDF) of a Poisson distribution\n",
    "    with the given mean at the given point.\n",
    "\n",
    "    Parameters:\n",
    "        mean (float): The mean of the Poisson distribution.\n",
    "        point (int): The point at which to calculate the CDF.\n",
    "\n",
    "    Returns:\n",
    "        float: The CDF value at the given point.\n",
    "    \"\"\"\n",
    "    return poisson.cdf(point, mu=mean)\n",
    "\n",
    "# Example usage:\n",
    "mean = 2.5\n",
    "point = 3\n",
    "cdf_value = poisson_cdf(mean, point)\n",
    "print(f\"CDF at point {point} for Poisson distribution with mean {mean}: {cdf_value:.4f}\")\n"
   ]
  },
  {
   "cell_type": "code",
   "execution_count": null,
   "id": "1d1525fd-204a-40e2-8d1b-cd713c66bc3b",
   "metadata": {},
   "outputs": [],
   "source": []
  },
  {
   "cell_type": "code",
   "execution_count": null,
   "id": "983d0ef2-b63c-48d8-add0-9159f6772064",
   "metadata": {},
   "outputs": [],
   "source": []
  },
  {
   "cell_type": "markdown",
   "id": "d00719af-a8ef-492f-afe8-0c70f1b5d756",
   "metadata": {},
   "source": [
    "Q7. How Binomial distribution different from Poisson distribution?"
   ]
  },
  {
   "cell_type": "markdown",
   "id": "934b858a-8253-4b65-8624-a522a38421e9",
   "metadata": {},
   "source": [
    "The Binomial distribution and the Poisson distribution are two different probability distributions used in statistics and probability theory. Here are the key differences between the two:\n",
    "\n",
    "(A) Definition and Assumptions:\n",
    "\n",
    "Binomial Distribution: The binomial distribution represents the number of successes in a fixed number of independent Bernoulli trials, where each trial has only two possible outcomes (success or failure) and the probability of success remains constant for all trials.\n",
    "\n",
    "Poisson Distribution: The Poisson distribution represents the number of events that occur in a fixed interval of time or space, assuming that the events occur with a constant mean rate and are independent of each other.\n",
    "\n",
    "(B) Number of Trials:\n",
    "\n",
    "Binomial Distribution: The binomial distribution requires a fixed number of trials (n) to be specified in advance.\n",
    "\n",
    "Poisson Distribution: The Poisson distribution does not have a fixed number of trials but represents events occurring in a continuous or infinite range.\n",
    "\n",
    "(C) Probability Function:\n",
    "\n",
    "Binomial Distribution: The probability function for the binomial distribution is given by the binomial probability formula: P(X=k) = (n choose k) * p^k * (1-p)^(n-k), where n is the number of trials, k is the number of successes, and p is the probability of success in a single trial.\n",
    "\n",
    "Poisson Distribution: The probability function for the Poisson distribution is given by the Poisson probability mass function: P(X=k) = (λ^k * e^(-λ)) / k!, where λ is the average rate of events.\n",
    "\n",
    "(D) Range of Values:\n",
    "\n",
    "Binomial Distribution: The binomial distribution is used for discrete random variables with a finite range of values (0, 1, 2, ..., n).\n",
    "\n",
    "Poisson Distribution: The Poisson distribution is used for discrete random variables with an infinite range of values (0, 1, 2, ...).\n",
    "\n",
    "(E) Application:\n",
    "\n",
    "Binomial Distribution: The binomial distribution is commonly used when dealing with binary outcomes, such as success/failure, yes/no, or heads/tails.\n",
    "\n",
    "Poisson Distribution: The Poisson distribution is often used to model rare events, such as the number of accidents in a day, the number of customer arrivals at a store, or the number of defects in a product."
   ]
  },
  {
   "cell_type": "code",
   "execution_count": null,
   "id": "2478011e-856b-4997-9140-0052a02cc957",
   "metadata": {},
   "outputs": [],
   "source": []
  },
  {
   "cell_type": "code",
   "execution_count": null,
   "id": "2f34a8f4-73b0-4ce0-b610-7cf394a20d9b",
   "metadata": {},
   "outputs": [],
   "source": []
  },
  {
   "cell_type": "markdown",
   "id": "9c8a5019-808f-439b-9be7-aabfb4b7edee",
   "metadata": {},
   "source": [
    "Q8. Generate a random sample of size 1000 from a Poisson distribution with mean 5 and calculate the sample mean and variance."
   ]
  },
  {
   "cell_type": "code",
   "execution_count": 5,
   "id": "4714e753-1f60-4fd4-af5c-d472e11da900",
   "metadata": {},
   "outputs": [
    {
     "name": "stdout",
     "output_type": "stream",
     "text": [
      "Sample Mean: 5.075\n",
      "Sample Variance: 5.099375\n"
     ]
    }
   ],
   "source": [
    "import numpy as np\n",
    "\n",
    "# Parameters\n",
    "sample_size = 1000\n",
    "mean = 5\n",
    "\n",
    "# Generate the random sample from Poisson distribution\n",
    "random_sample = np.random.poisson(mean, sample_size)\n",
    "\n",
    "# Calculate the sample mean and variance\n",
    "sample_mean = np.mean(random_sample)\n",
    "sample_variance = np.var(random_sample)\n",
    "\n",
    "print(\"Sample Mean:\", sample_mean)\n",
    "print(\"Sample Variance:\", sample_variance)\n"
   ]
  },
  {
   "cell_type": "code",
   "execution_count": null,
   "id": "568b5c29-8d2c-4b76-b326-7463d773cd52",
   "metadata": {},
   "outputs": [],
   "source": []
  },
  {
   "cell_type": "code",
   "execution_count": null,
   "id": "1e66904a-e3b6-4990-bbd8-d889efd8eff2",
   "metadata": {},
   "outputs": [],
   "source": []
  },
  {
   "cell_type": "markdown",
   "id": "c52cab8c-b6dd-46e0-b460-69b33642c225",
   "metadata": {},
   "source": [
    "Q9. How mean and variance are related in Binomial distribution and Poisson distribution?"
   ]
  },
  {
   "cell_type": "markdown",
   "id": "9cd6d171-c819-4a04-a524-e584b5e0b81a",
   "metadata": {},
   "source": [
    "In both Binomial and Poisson distributions, the mean and variance are related, but the way they are related is different.\n",
    "\n",
    "(A) Binomial Distribution:\n",
    "\n",
    "For a Binomial distribution with parameters n (number of trials) and p (probability of success in each trial), the mean (μ) and variance (σ^2) are related as follows:\n",
    "μ = n * p\n",
    "σ^2 = n * p * (1 - p)\n",
    "\n",
    "Here, the mean is directly proportional to both the number of trials (n) and the probability of success in each trial (p). The variance is also influenced by the number of trials and the probability of success, but it also depends on the probability of failure (1 - p).\n",
    "\n",
    "(B) Poisson Distribution:\n",
    "\n",
    "For a Poisson distribution with parameter λ (lambda), which represents the average rate of an event occurring in a fixed interval, the mean (μ) and variance (σ^2) are related as follows:\n",
    "μ = λ\n",
    "σ^2 = λ\n",
    "\n",
    "In the Poisson distribution, the mean and variance are equal and are both determined by the value of λ. The larger the value of λ, the larger the mean and variance."
   ]
  },
  {
   "cell_type": "code",
   "execution_count": null,
   "id": "b03cb1cb-67cc-4eeb-b803-51d173515cbb",
   "metadata": {},
   "outputs": [],
   "source": []
  },
  {
   "cell_type": "code",
   "execution_count": null,
   "id": "ede7c10b-98f4-4f28-9b5a-1a5b430ad3b9",
   "metadata": {},
   "outputs": [],
   "source": []
  },
  {
   "cell_type": "markdown",
   "id": "4ac7db24-e5f5-4b82-bf9d-73bd93cd2c26",
   "metadata": {},
   "source": [
    "Q10. In normal distribution with respect to mean position, where does the least frequent data appear?"
   ]
  },
  {
   "cell_type": "markdown",
   "id": "7eebba75-901d-4f34-8c0a-d2e3d5475d17",
   "metadata": {},
   "source": [
    "In a normal distribution, the least frequent data points appear in the tails of the distribution, farthest away from the mean. The normal distribution is symmetric around its mean, and the data points become less frequent as they move away from the mean in both directions towards the tails of the distribution.\n",
    "\n",
    "The probability density is highest at the mean of the normal distribution, and it gradually decreases as the data points move away from the mean towards the tails. The data points in the tails have lower probabilities of occurrence compared to those closer to the mean.\n",
    "\n",
    "In a standard normal distribution (a specific type of normal distribution with mean = 0 and standard deviation = 1), approximately 68% of the data falls within one standard deviation of the mean, about 95% within two standard deviations, and approximately 99.7% within three standard deviations.\n",
    "\n",
    "Therefore, the least frequent data points in a normal distribution appear in the tails, which are the extreme values further away from the mean."
   ]
  }
 ],
 "metadata": {
  "kernelspec": {
   "display_name": "Python 3 (ipykernel)",
   "language": "python",
   "name": "python3"
  },
  "language_info": {
   "codemirror_mode": {
    "name": "ipython",
    "version": 3
   },
   "file_extension": ".py",
   "mimetype": "text/x-python",
   "name": "python",
   "nbconvert_exporter": "python",
   "pygments_lexer": "ipython3",
   "version": "3.10.8"
  }
 },
 "nbformat": 4,
 "nbformat_minor": 5
}
