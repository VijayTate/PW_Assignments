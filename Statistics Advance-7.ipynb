{
 "cells": [
  {
   "cell_type": "markdown",
   "id": "1dd14661-57fd-426b-855b-3f1f2d42309f",
   "metadata": {},
   "source": [
    "Q1. Write a Python function that takes in two arrays of data and calculates the F-value for a variance ratio test. The function should return the F-value and the corresponding p-value for the test."
   ]
  },
  {
   "cell_type": "code",
   "execution_count": 3,
   "id": "5de1d624-39b6-408c-9e9b-bd117ff2ca47",
   "metadata": {},
   "outputs": [
    {
     "name": "stdout",
     "output_type": "stream",
     "text": [
      "F-value: 1.6153846153846152\n",
      "p-value: 0.3057586171532465\n"
     ]
    }
   ],
   "source": [
    "import numpy as np\n",
    "import scipy.stats as stats\n",
    "\n",
    "def variance_ratio_test(data1, data2):\n",
    "    # Calculate the sample variances\n",
    "    variance1 = np.var(data1, ddof=1)\n",
    "    variance2 = np.var(data2, ddof=1)\n",
    "    \n",
    "    # Calculate the F-value and p-value for the variance ratio test\n",
    "    F_value = variance1 / variance2\n",
    "    df1 = len(data1) - 1\n",
    "    df2 = len(data2) - 1\n",
    "    p_value = 1 - stats.f.cdf(F_value, df1, df2)\n",
    "    \n",
    "    return F_value, p_value\n",
    "\n",
    "# Example usage:\n",
    "data_array1 = [10, 12, 14, 11, 15, 13]\n",
    "data_array2 = [8, 9, 11, 10, 12, 11]\n",
    "\n",
    "F_value, p_value = variance_ratio_test(data_array1, data_array2)\n",
    "print(\"F-value:\", F_value)\n",
    "print(\"p-value:\", p_value)\n"
   ]
  },
  {
   "cell_type": "code",
   "execution_count": null,
   "id": "774859c3-7ad5-4772-987d-93489cbac70c",
   "metadata": {},
   "outputs": [],
   "source": []
  },
  {
   "cell_type": "code",
   "execution_count": null,
   "id": "95cdbf46-06c6-493e-b2f2-00bd99af843b",
   "metadata": {},
   "outputs": [],
   "source": []
  },
  {
   "cell_type": "markdown",
   "id": "2e7de99b-ea98-4737-afef-0fab0e70a3be",
   "metadata": {},
   "source": [
    "Q2. Given a significance level of 0.05 and the degrees of freedom for the numerator and denominator of an F-distribution, write a Python function that returns the critical F-value for a two-tailed test."
   ]
  },
  {
   "cell_type": "code",
   "execution_count": 5,
   "id": "c0e1f4cd-7388-4e32-98a9-319e243dc59f",
   "metadata": {},
   "outputs": [
    {
     "name": "stdout",
     "output_type": "stream",
     "text": [
      "Critical F-value: 4.474184809637748\n"
     ]
    }
   ],
   "source": [
    "import scipy.stats as stats\n",
    "\n",
    "def critical_f_value(alpha, df1, df2):\n",
    "    # Calculate the critical F-value for a two-tailed test\n",
    "    critical_f = stats.f.ppf(1 - alpha / 2, df1, df2)\n",
    "    \n",
    "    return critical_f\n",
    "\n",
    "# Example usage:\n",
    "significance_level = 0.05\n",
    "degrees_of_freedom_num = 3\n",
    "degrees_of_freedom_den = 12\n",
    "\n",
    "critical_f = critical_f_value(significance_level, degrees_of_freedom_num, degrees_of_freedom_den)\n",
    "print(\"Critical F-value:\", critical_f)"
   ]
  },
  {
   "cell_type": "code",
   "execution_count": null,
   "id": "dc414fd6-02e6-43e7-ae43-4ab6e5b8d8fe",
   "metadata": {},
   "outputs": [],
   "source": []
  },
  {
   "cell_type": "code",
   "execution_count": null,
   "id": "ad793d8f-f910-440b-bb2c-4a65d7277caf",
   "metadata": {},
   "outputs": [],
   "source": []
  },
  {
   "cell_type": "markdown",
   "id": "c4daf466-bae1-44ba-a38f-ee7125fb547a",
   "metadata": {},
   "source": [
    "Q3. Write a Python program that generates random samples from two normal distributions with known variances and uses an F-test to determine if the variances are equal. The program should output the F-value, degrees of freedom, and p-value for the test."
   ]
  },
  {
   "cell_type": "code",
   "execution_count": 9,
   "id": "df6712ed-7dca-47df-8720-b1db54375c69",
   "metadata": {},
   "outputs": [
    {
     "name": "stdout",
     "output_type": "stream",
     "text": [
      "F-value: 0.622881251999419\n",
      "Degrees of freedom (numerator): 29\n",
      "Degrees of freedom (denominator): 29\n",
      "p-value: 0.20840920129661278\n"
     ]
    }
   ],
   "source": [
    "import numpy as np\n",
    "import scipy.stats as stats\n",
    "\n",
    "def f_test_for_equal_variances(sample1, sample2):\n",
    "    # Calculate the sample variances\n",
    "    variance1 = np.var(sample1, ddof=1)\n",
    "    variance2 = np.var(sample2, ddof=1)\n",
    "    \n",
    "    # Calculate the F-value and p-value for the F-test\n",
    "    F_value = variance1 / variance2\n",
    "    df1 = len(sample1) - 1\n",
    "    df2 = len(sample2) - 1\n",
    "    p_value = 2 * min(stats.f.cdf(F_value, df1, df2), 1 - stats.f.cdf(F_value, df1, df2))\n",
    "    \n",
    "    return F_value, df1, df2, p_value\n",
    "\n",
    "# Generate random samples from two normal distributions with known variances\n",
    "np.random.seed(42)  # Setting a seed for reproducibility\n",
    "sample_size = 30\n",
    "variance1 = 4.0\n",
    "variance2 = 6.0\n",
    "sample1 = np.random.normal(loc=10, scale=np.sqrt(variance1), size=sample_size)\n",
    "sample2 = np.random.normal(loc=12, scale=np.sqrt(variance2), size=sample_size)\n",
    "\n",
    "# Perform the F-test for equal variances\n",
    "F_value, df1, df2, p_value = f_test_for_equal_variances(sample1, sample2)\n",
    "\n",
    "print(\"F-value:\", F_value)\n",
    "print(\"Degrees of freedom (numerator):\", df1)\n",
    "print(\"Degrees of freedom (denominator):\", df2)\n",
    "print(\"p-value:\", p_value)"
   ]
  },
  {
   "cell_type": "code",
   "execution_count": null,
   "id": "1767ae0e-2947-4af2-8b4b-0cc8571a3e32",
   "metadata": {},
   "outputs": [],
   "source": []
  },
  {
   "cell_type": "code",
   "execution_count": null,
   "id": "949e18d1-54c4-4d1d-a7cf-6d900637b8ab",
   "metadata": {},
   "outputs": [],
   "source": []
  },
  {
   "cell_type": "markdown",
   "id": "4082231e-bf58-4f8c-b686-674219d916c2",
   "metadata": {},
   "source": [
    "Q4.The variances of two populations are known to be 10 and 15. A sample of 12 observations is taken from each population. Conduct an F-test at the 5% significance level to determine if the variances are significantly different."
   ]
  },
  {
   "cell_type": "code",
   "execution_count": 10,
   "id": "ad195265-0805-4706-b2cb-6ebcc12c3021",
   "metadata": {},
   "outputs": [
    {
     "name": "stdout",
     "output_type": "stream",
     "text": [
      "The variances are not significantly different.\n"
     ]
    }
   ],
   "source": [
    "import scipy.stats as stats\n",
    "\n",
    "# Given data\n",
    "variance1 = 10\n",
    "variance2 = 15\n",
    "sample_size = 12\n",
    "\n",
    "# Calculate the F-value and p-value for the F-test\n",
    "F_value = variance1 / variance2\n",
    "df1 = sample_size - 1\n",
    "df2 = sample_size - 1\n",
    "p_value = 2 * min(stats.f.cdf(F_value, df1, df2), 1 - stats.f.cdf(F_value, df1, df2))\n",
    "\n",
    "# Set the significance level (alpha)\n",
    "alpha = 0.05\n",
    "\n",
    "# Determine if the variances are significantly different\n",
    "if p_value < alpha:\n",
    "    print(\"The variances are significantly different.\")\n",
    "else:\n",
    "    print(\"The variances are not significantly different.\")\n"
   ]
  },
  {
   "cell_type": "code",
   "execution_count": null,
   "id": "8c99ec59-ae4e-4572-89ff-2b80ca3845b6",
   "metadata": {},
   "outputs": [],
   "source": []
  },
  {
   "cell_type": "code",
   "execution_count": null,
   "id": "f820486c-204c-4778-b932-2b81280391a8",
   "metadata": {},
   "outputs": [],
   "source": []
  },
  {
   "cell_type": "markdown",
   "id": "a07702b8-2878-401b-bdab-ca338ef08e31",
   "metadata": {},
   "source": [
    "Q5. A manufacturer claims that the variance of the diameter of a certain product is 0.005. A sample of 25 products is taken, and the sample variance is found to be 0.006. Conduct an F-test at the 1% significance level to determine if the claim is justified."
   ]
  },
  {
   "cell_type": "code",
   "execution_count": 11,
   "id": "8e362224-ba54-4237-b98c-1bd23b313e1b",
   "metadata": {},
   "outputs": [
    {
     "name": "stdout",
     "output_type": "stream",
     "text": [
      "The manufacturer's claim is justified. The variance is not significantly different.\n"
     ]
    }
   ],
   "source": [
    "import scipy.stats as stats\n",
    "\n",
    "# Given data\n",
    "claimed_variance = 0.005\n",
    "sample_variance = 0.006\n",
    "sample_size = 25\n",
    "\n",
    "# Calculate the F-value and p-value for the F-test\n",
    "F_value = sample_variance / claimed_variance\n",
    "df1 = sample_size - 1\n",
    "df2 = sample_size - 1\n",
    "p_value = 2 * min(stats.f.cdf(F_value, df1, df2), 1 - stats.f.cdf(F_value, df1, df2))\n",
    "\n",
    "# Set the significance level (alpha)\n",
    "alpha = 0.01\n",
    "\n",
    "# Determine if the claim is justified\n",
    "if p_value < alpha:\n",
    "    print(\"The manufacturer's claim is not justified. There is significant difference in variance.\")\n",
    "else:\n",
    "    print(\"The manufacturer's claim is justified. The variance is not significantly different.\")\n"
   ]
  },
  {
   "cell_type": "code",
   "execution_count": null,
   "id": "80f44a4d-20cc-4f62-a5b6-4de162a1973c",
   "metadata": {},
   "outputs": [],
   "source": []
  },
  {
   "cell_type": "code",
   "execution_count": null,
   "id": "d3df1874-68a9-469b-84d0-388c6f14fb4c",
   "metadata": {},
   "outputs": [],
   "source": []
  },
  {
   "cell_type": "markdown",
   "id": "dbd85649-fb94-41f1-91ac-1eb400df6d71",
   "metadata": {},
   "source": [
    "Q6. Write a Python function that takes in the degrees of freedom for the numerator and denominator of an F-distribution and calculates the mean and variance of the distribution. The function should return the mean and variance as a tuple."
   ]
  },
  {
   "cell_type": "code",
   "execution_count": 12,
   "id": "77b34690-a08c-45c3-8f98-04cf506b553f",
   "metadata": {},
   "outputs": [
    {
     "name": "stdout",
     "output_type": "stream",
     "text": [
      "Mean of the F-distribution: 1.2\n",
      "Variance of the F-distribution: 1.56\n"
     ]
    }
   ],
   "source": [
    "def f_distribution_mean_variance(df1, df2):\n",
    "    # Calculate the mean of the F-distribution\n",
    "    mean = df2 / (df2 - 2)\n",
    "    \n",
    "    # Calculate the variance of the F-distribution\n",
    "    variance = (2 * (df2**2) * (df1 + df2 - 2)) / ((df1 * (df2 - 2)**2 * (df2 - 4)))\n",
    "    \n",
    "    return mean, variance\n",
    "\n",
    "# Example usage:\n",
    "degrees_of_freedom_num = 3\n",
    "degrees_of_freedom_den = 12\n",
    "\n",
    "mean, variance = f_distribution_mean_variance(degrees_of_freedom_num, degrees_of_freedom_den)\n",
    "print(\"Mean of the F-distribution:\", mean)\n",
    "print(\"Variance of the F-distribution:\", variance)\n"
   ]
  },
  {
   "cell_type": "code",
   "execution_count": null,
   "id": "cd53c21d-7390-4a41-86ea-783642c70d86",
   "metadata": {},
   "outputs": [],
   "source": []
  },
  {
   "cell_type": "code",
   "execution_count": null,
   "id": "688c98d9-2139-49db-ac0d-3754ac6232d9",
   "metadata": {},
   "outputs": [],
   "source": []
  },
  {
   "cell_type": "markdown",
   "id": "c427e48c-ca7b-440a-b5b8-db3222b0ed33",
   "metadata": {},
   "source": [
    "Q7. A random sample of 10 measurements is taken from a normal population with unknown variance. The sample variance is found to be 25. Another random sample of 15 measurements is taken from another normal population with unknown variance, and the sample variance is found to be 20. Conduct an F-test at the 10% significance level to determine if the variances are significantly different."
   ]
  },
  {
   "cell_type": "code",
   "execution_count": 13,
   "id": "b4d9880a-75ab-4e97-94e7-d601ee73a1d6",
   "metadata": {},
   "outputs": [
    {
     "name": "stdout",
     "output_type": "stream",
     "text": [
      "The variances are not significantly different.\n"
     ]
    }
   ],
   "source": [
    "import scipy.stats as stats\n",
    "\n",
    "# Given data\n",
    "sample_variance1 = 25\n",
    "sample_size1 = 10\n",
    "\n",
    "sample_variance2 = 20\n",
    "sample_size2 = 15\n",
    "\n",
    "# Calculate the F-value and p-value for the F-test\n",
    "F_value = sample_variance1 / sample_variance2\n",
    "df1 = sample_size1 - 1\n",
    "df2 = sample_size2 - 1\n",
    "p_value = 2 * min(stats.f.cdf(F_value, df1, df2), 1 - stats.f.cdf(F_value, df1, df2))\n",
    "\n",
    "# Set the significance level (alpha)\n",
    "alpha = 0.10\n",
    "\n",
    "# Determine if the variances are significantly different\n",
    "if p_value < alpha:\n",
    "    print(\"The variances are significantly different.\")\n",
    "else:\n",
    "    print(\"The variances are not significantly different.\")\n"
   ]
  },
  {
   "cell_type": "code",
   "execution_count": null,
   "id": "6e08f74d-af2d-40d7-ba7a-5d993f93f2b4",
   "metadata": {},
   "outputs": [],
   "source": []
  },
  {
   "cell_type": "code",
   "execution_count": null,
   "id": "e3122884-c115-4879-9248-4f19dcb646b1",
   "metadata": {},
   "outputs": [],
   "source": []
  },
  {
   "cell_type": "markdown",
   "id": "6735aad2-1fa7-4638-96e0-70295ad857c7",
   "metadata": {},
   "source": [
    "Q8. The following data represent the waiting times in minutes at two different restaurants on a Saturday night: Restaurant A: 24, 25, 28, 23, 22, 20, 27; Restaurant B: 31, 33, 35, 30, 32, 36. Conduct an F-test at the 5% significance level to determine if the variances are significantly different."
   ]
  },
  {
   "cell_type": "code",
   "execution_count": 14,
   "id": "b37c0de1-73a9-4d79-bca2-dec3793ee320",
   "metadata": {},
   "outputs": [
    {
     "name": "stdout",
     "output_type": "stream",
     "text": [
      "The variances are not significantly different.\n"
     ]
    }
   ],
   "source": [
    "import numpy as np\n",
    "import scipy.stats as stats\n",
    "\n",
    "# Given data\n",
    "waiting_times_restaurant_A = np.array([24, 25, 28, 23, 22, 20, 27])\n",
    "waiting_times_restaurant_B = np.array([31, 33, 35, 30, 32, 36])\n",
    "\n",
    "# Calculate the sample variances\n",
    "sample_variance_A = np.var(waiting_times_restaurant_A, ddof=1)\n",
    "sample_variance_B = np.var(waiting_times_restaurant_B, ddof=1)\n",
    "\n",
    "# Calculate the F-value and p-value for the F-test\n",
    "F_value = sample_variance_A / sample_variance_B\n",
    "df1 = len(waiting_times_restaurant_A) - 1\n",
    "df2 = len(waiting_times_restaurant_B) - 1\n",
    "p_value = 2 * min(stats.f.cdf(F_value, df1, df2), 1 - stats.f.cdf(F_value, df1, df2))\n",
    "\n",
    "# Set the significance level (alpha)\n",
    "alpha = 0.05\n",
    "\n",
    "# Determine if the variances are significantly different\n",
    "if p_value < alpha:\n",
    "    print(\"The variances are significantly different.\")\n",
    "else:\n",
    "    print(\"The variances are not significantly different.\")"
   ]
  },
  {
   "cell_type": "code",
   "execution_count": null,
   "id": "5a3a728a-0e25-4463-b947-1d3b64cbf090",
   "metadata": {},
   "outputs": [],
   "source": []
  },
  {
   "cell_type": "code",
   "execution_count": null,
   "id": "6510b275-2a61-410b-8f61-659c2ad31a49",
   "metadata": {},
   "outputs": [],
   "source": []
  },
  {
   "cell_type": "markdown",
   "id": "06e133b9-b66d-471e-ac03-6e3b9a24819e",
   "metadata": {},
   "source": [
    "Q9. The following data represent the test scores of two groups of students: Group A: 80, 85, 90, 92, 87, 83; Group B: 75, 78, 82, 79, 81, 84. Conduct an F-test at the 1% significance level to determine if the variances are significantly different."
   ]
  },
  {
   "cell_type": "code",
   "execution_count": 15,
   "id": "db59270e-d724-4e1d-9f7d-f7175ef0e5f7",
   "metadata": {},
   "outputs": [
    {
     "name": "stdout",
     "output_type": "stream",
     "text": [
      "The variances are not significantly different.\n"
     ]
    }
   ],
   "source": [
    "import numpy as np\n",
    "import scipy.stats as stats\n",
    "\n",
    "# Given data\n",
    "test_scores_group_A = np.array([80, 85, 90, 92, 87, 83])\n",
    "test_scores_group_B = np.array([75, 78, 82, 79, 81, 84])\n",
    "\n",
    "# Calculate the sample variances\n",
    "sample_variance_A = np.var(test_scores_group_A, ddof=1)\n",
    "sample_variance_B = np.var(test_scores_group_B, ddof=1)\n",
    "\n",
    "# Calculate the F-value and p-value for the F-test\n",
    "F_value = sample_variance_A / sample_variance_B\n",
    "df1 = len(test_scores_group_A) - 1\n",
    "df2 = len(test_scores_group_B) - 1\n",
    "p_value = 2 * min(stats.f.cdf(F_value, df1, df2), 1 - stats.f.cdf(F_value, df1, df2))\n",
    "\n",
    "# Set the significance level (alpha)\n",
    "alpha = 0.01\n",
    "\n",
    "# Determine if the variances are significantly different\n",
    "if p_value < alpha:\n",
    "    print(\"The variances are significantly different.\")\n",
    "else:\n",
    "    print(\"The variances are not significantly different.\")"
   ]
  }
 ],
 "metadata": {
  "kernelspec": {
   "display_name": "Python 3 (ipykernel)",
   "language": "python",
   "name": "python3"
  },
  "language_info": {
   "codemirror_mode": {
    "name": "ipython",
    "version": 3
   },
   "file_extension": ".py",
   "mimetype": "text/x-python",
   "name": "python",
   "nbconvert_exporter": "python",
   "pygments_lexer": "ipython3",
   "version": "3.10.8"
  }
 },
 "nbformat": 4,
 "nbformat_minor": 5
}
