{
 "cells": [
  {
   "cell_type": "markdown",
   "id": "44c2b482-b261-4047-a556-fc2254531179",
   "metadata": {},
   "source": [
    "Q1: What is Estimation Statistics? Explain point estimate and interval estimate."
   ]
  },
  {
   "cell_type": "markdown",
   "id": "52e4344c-d999-40ab-bd6c-ebeedf77db3b",
   "metadata": {},
   "source": [
    "Estimation statistics is a branch of inferential statistics that deals with estimating unknown population parameters based on sample data. When we don't have access to the entire population data, we use estimation techniques to make inferences about population parameters from sample statistics.\n",
    "\n",
    "(1) Point Estimate:\n",
    "\n",
    "A point estimate is a single value that is used to estimate an unknown population parameter. It is calculated from the sample data and serves as the \"best guess\" of the true value of the parameter. For example, if we want to estimate the population mean based on a sample mean, the sample mean itself would be the point estimate for the population mean.\n",
    "\n",
    "(2) Interval Estimate:\n",
    "\n",
    "An interval estimate is a range of values within which the true population parameter is likely to lie, along with a level of confidence. It takes into account the uncertainty associated with the point estimate. The interval estimate is represented as a confidence interval, and it provides a range of values that we are reasonably confident contains the true parameter value. The level of confidence represents the probability that the true parameter falls within the interval. For example, a 95% confidence interval for the population mean would mean that we are 95% confident that the true mean lies within the interval.\n",
    "\n",
    "In summary, point estimates provide a single value as an estimate for the population parameter, while interval estimates provide a range of values with a level of confidence. Both point and interval estimates are essential in statistical inference to understand the uncertainty associated with the estimates and make more informed decisions based on the sample data."
   ]
  },
  {
   "cell_type": "code",
   "execution_count": null,
   "id": "3cee1f14-8b27-4b17-a289-31fe954f5712",
   "metadata": {},
   "outputs": [],
   "source": []
  },
  {
   "cell_type": "code",
   "execution_count": null,
   "id": "809ecdc7-56ad-43e8-9810-18582811bb26",
   "metadata": {},
   "outputs": [],
   "source": []
  },
  {
   "cell_type": "markdown",
   "id": "f5eee16a-5241-41ee-875f-b8de8481bf5f",
   "metadata": {},
   "source": [
    "Q2. Write a Python function to estimate the population mean using a sample mean and standard deviation."
   ]
  },
  {
   "cell_type": "code",
   "execution_count": 1,
   "id": "29f0c240-20b7-4ce2-82f7-82bd9781f3a4",
   "metadata": {},
   "outputs": [
    {
     "name": "stdout",
     "output_type": "stream",
     "text": [
      "Estimated population mean: 51.505050505050505\n"
     ]
    }
   ],
   "source": [
    "import math\n",
    "def estimate_population_mean(sample_mean, sample_std_dev, sample_size):\n",
    "\n",
    "    # Calculate the standard error of the mean (SEM)\n",
    "    sem = sample_std_dev / math.sqrt(sample_size)\n",
    "\n",
    "    # Calculate the estimated population mean\n",
    "    population_mean = sample_mean * (sample_size / (sample_size - 1)) + sem\n",
    "\n",
    "    return population_mean\n",
    "\n",
    "# Example usage:\n",
    "sample_mean = 50.0\n",
    "sample_std_dev = 10.0\n",
    "sample_size = 100\n",
    "estimated_mean = estimate_population_mean(sample_mean, sample_std_dev, sample_size)\n",
    "print(f\"Estimated population mean: {estimated_mean}\")\n"
   ]
  },
  {
   "cell_type": "code",
   "execution_count": null,
   "id": "1d57df5d-a405-49af-96f1-c0e096708a01",
   "metadata": {},
   "outputs": [],
   "source": []
  },
  {
   "cell_type": "code",
   "execution_count": null,
   "id": "9680e345-365d-4cbf-a6af-367e81d8bf25",
   "metadata": {},
   "outputs": [],
   "source": []
  },
  {
   "cell_type": "markdown",
   "id": "88afab30-37d4-4954-90cb-52f04cd7a087",
   "metadata": {},
   "source": [
    "Q3: What is Hypothesis testing? Why is it used? State the importance of Hypothesis testing."
   ]
  },
  {
   "cell_type": "markdown",
   "id": "5625a562-ba13-46f2-b8cf-6fb09fa7151d",
   "metadata": {},
   "source": [
    "Hypothesis testing is a statistical method used to make inferences about a population based on sample data. It involves formulating two competing hypotheses, the null hypothesis (H0) and the alternative hypothesis (H1), and then using sample data to determine which hypothesis is more likely to be true.\n",
    "\n",
    "The null hypothesis (H0) is a statement of no effect or no difference, while the alternative hypothesis (H1) is the statement we want to test, often indicating the presence of some effect or difference in the population.\n",
    "\n",
    "The process of hypothesis testing involves the following steps:\n",
    "\n",
    "1. State the null and alternative hypotheses.\n",
    "2. Choose a significance level (alpha), which represents the probability of rejecting the null hypothesis when it is true. Commonly used values for alpha are 0.05 (5%) and 0.01 (1%).\n",
    "3. Collect sample data and calculate a test statistic, which measures the difference between the sample results and what we would expect under the null hypothesis.\n",
    "4. Compare the test statistic to a critical value or calculate the p-value. The critical value is a threshold beyond which we reject the null hypothesis, while the p-value represents the probability of obtaining results as extreme as the observed data, assuming the null hypothesis is true.\n",
    "5. Make a decision based on the comparison: if the test statistic is beyond the critical value or the p-value is less than the chosen significance level, we reject the null hypothesis in favor of the alternative hypothesis. Otherwise, we fail to reject the null hypothesis.\n",
    "\n",
    "Importance of Hypothesis Testing:\n",
    "1. Inference Making: Hypothesis testing allows us to draw conclusions about population parameters based on sample data. It helps in making inferences about the population when it is not feasible or practical to measure the entire population.\n",
    "\n",
    "2. Decision-Making: Hypothesis testing is widely used in various fields, such as medicine, psychology, economics, and engineering, to make decisions and determine the effectiveness of interventions or treatments.\n",
    "\n",
    "3. Scientific Research: Hypothesis testing is a fundamental tool in scientific research to evaluate the validity of research findings and to support or refute theories and hypotheses.\n",
    "\n",
    "4. Risk Management: In business and industry, hypothesis testing helps in assessing risks and making decisions based on statistical evidence rather than intuition or guesswork.\n",
    "\n",
    "5. Establishing Causality: Hypothesis testing is essential for establishing causal relationships between variables, which is crucial in many fields of study.\n",
    "\n",
    "6. Null Hypothesis Verification: By testing the null hypothesis, researchers can challenge existing beliefs and theories, leading to advancements in knowledge and understanding.\n",
    "\n",
    "Overall, hypothesis testing provides a structured and objective approach to draw conclusions from data and helps to ensure the reliability and validity of statistical analyses in various domains of research and decision-making."
   ]
  },
  {
   "cell_type": "code",
   "execution_count": null,
   "id": "35a69ad3-7b12-4627-90d8-54af69d56a5f",
   "metadata": {},
   "outputs": [],
   "source": []
  },
  {
   "cell_type": "code",
   "execution_count": null,
   "id": "965feca2-aa21-4740-9f47-ceea6b902b3b",
   "metadata": {},
   "outputs": [],
   "source": []
  },
  {
   "cell_type": "markdown",
   "id": "21920fa9-4760-40dc-a81d-1c9d49b0c2f4",
   "metadata": {},
   "source": [
    "Q4. Create a hypothesis that states whether the average weight of male college students is greater than the average weight of female college students."
   ]
  },
  {
   "cell_type": "markdown",
   "id": "7109da15-3643-4734-9f6f-14c0c0a6da8c",
   "metadata": {},
   "source": [
    "Hypothesis:\n",
    "The average weight of male college students is greater than the average weight of female college students.\n",
    "\n",
    "Symbolically, we can represent this hypothesis as:\n",
    "\n",
    "- Null Hypothesis (H0): μ_male <= μ_female\n",
    "- Alternative Hypothesis (H1): μ_male > μ_female\n",
    "\n",
    "Where:\n",
    "\n",
    "H0 represents the null hypothesis, which states that the average weight of male college students (μ_male) is less than or equal to the average weight of female college students (μ_female).\n",
    "\n",
    "H1 represents the alternative hypothesis, which states that the average weight of male college students (μ_male) is greater than the average weight of female college students (μ_female)."
   ]
  },
  {
   "cell_type": "code",
   "execution_count": null,
   "id": "da439c9f-03e3-4da1-ae07-510d2376c929",
   "metadata": {},
   "outputs": [],
   "source": []
  },
  {
   "cell_type": "code",
   "execution_count": null,
   "id": "e13f9595-5dfd-4c5a-bd02-edbc258e73f8",
   "metadata": {},
   "outputs": [],
   "source": []
  },
  {
   "cell_type": "markdown",
   "id": "ad6131cc-088a-4dce-b590-a679677afa19",
   "metadata": {},
   "source": [
    "Q5. Write a Python script to conduct a hypothesis test on the difference between two population means, given a sample from each population."
   ]
  },
  {
   "cell_type": "code",
   "execution_count": 2,
   "id": "48386c3f-a1f3-49de-b3bc-6be44a6c67c6",
   "metadata": {},
   "outputs": [
    {
     "name": "stdout",
     "output_type": "stream",
     "text": [
      "Reject the null hypothesis. There is a significant difference between the population means.\n",
      "T-statistic: 2.776840538002493\n",
      "P-value: 0.02404149298703273\n"
     ]
    }
   ],
   "source": [
    "import numpy as np\n",
    "from scipy import stats\n",
    "\n",
    "def hypothesis_test_two_means(sample1, sample2, alpha=0.05):\n",
    "    # Calculate the sample statistics\n",
    "    mean1 = np.mean(sample1)\n",
    "    mean2 = np.mean(sample2)\n",
    "    std1 = np.std(sample1, ddof=1)  # Using Bessel's correction for unbiased estimation\n",
    "    std2 = np.std(sample2, ddof=1)\n",
    "    n1 = len(sample1)\n",
    "    n2 = len(sample2)\n",
    "\n",
    "    # Calculate the t-statistic\n",
    "    t_statistic = (mean1 - mean2) / np.sqrt((std1**2 / n1) + (std2**2 / n2))\n",
    "\n",
    "    # Calculate the degrees of freedom\n",
    "    dof = n1 + n2 - 2\n",
    "\n",
    "    # Calculate the critical value from t-distribution\n",
    "    critical_value = stats.t.ppf(1 - alpha, dof)\n",
    "\n",
    "    # Calculate the p-value\n",
    "    p_value = 2 * (1 - stats.t.cdf(abs(t_statistic), dof))\n",
    "\n",
    "    # Perform hypothesis testing\n",
    "    if p_value < alpha:\n",
    "        print(\"Reject the null hypothesis. There is a significant difference between the population means.\")\n",
    "    else:\n",
    "        print(\"Fail to reject the null hypothesis. There is no significant difference between the population means.\")\n",
    "\n",
    "    return t_statistic, p_value\n",
    "\n",
    "# Example usage:\n",
    "sample1 = np.array([62, 56, 67, 71, 64])\n",
    "sample2 = np.array([54, 60, 58, 52, 56])\n",
    "alpha = 0.05\n",
    "t_stat, p_val = hypothesis_test_two_means(sample1, sample2, alpha)\n",
    "print(\"T-statistic:\", t_stat)\n",
    "print(\"P-value:\", p_val)\n"
   ]
  },
  {
   "cell_type": "code",
   "execution_count": null,
   "id": "ca7ac7ae-82d9-41af-99ed-e28a2af3cbdb",
   "metadata": {},
   "outputs": [],
   "source": []
  },
  {
   "cell_type": "code",
   "execution_count": null,
   "id": "cfe90a15-f322-4e79-ac29-86fdf6c6e043",
   "metadata": {},
   "outputs": [],
   "source": []
  },
  {
   "cell_type": "markdown",
   "id": "af0dba0e-dd9f-4e3b-810a-f2c351a39ca2",
   "metadata": {},
   "source": [
    "Q6: What is a null and alternative hypothesis? Give some examples."
   ]
  },
  {
   "cell_type": "markdown",
   "id": "4beb7293-2a73-4a4e-acff-2f0a8b0f391b",
   "metadata": {},
   "source": [
    "In statistical hypothesis testing, the null hypothesis (H0) and alternative hypothesis (H1) are two competing statements used to make inferences about population parameters based on sample data. The null hypothesis is a statement of no effect or no difference, while the alternative hypothesis is the statement we want to test, often indicating the presence of some effect or difference in the population.\n",
    "\n",
    "1. Example 1 - Mean Comparison:\n",
    "- Null Hypothesis (H0): The average test score of students in class A is equal to the average test score of students in class B.\n",
    "- Alternative Hypothesis (H1): The average test score of students in class A is different from the average test score of students in class B.\n",
    "\n",
    "Here, we are testing if there is evidence to suggest that the average test scores of students in two classes are different from each other.\n",
    "\n",
    "2. Example 2 - Proportion Comparison:\n",
    "- Null Hypothesis (H0): The proportion of people who prefer tea over coffee is 50%.\n",
    "- Alternative Hypothesis (H1): The proportion of people who prefer tea over coffee is greater than 50%.\n",
    "\n",
    "In this example, we are testing whether the proportion of people who prefer tea is significantly different from 50%, which is a commonly used value in the null hypothesis.\n",
    "\n",
    "3. Example 3 - Correlation Test:\n",
    "- Null Hypothesis (H0): There is no correlation between the amount of study time and exam scores.\n",
    "- Alternative Hypothesis (H1): There is a significant correlation between the amount of study time and exam scores.\n",
    "\n",
    "In this case, we are testing whether there is a significant relationship (positive or negative) between study time and exam scores.\n",
    "\n",
    "4. Example 4 - Independence Test:\n",
    "- Null Hypothesis (H0): The type of exercise and weight loss are independent of each other.\n",
    "- Alternative Hypothesis (H1): The type of exercise and weight loss are dependent on each other.\n",
    "\n",
    "Here, we are testing if there is evidence to suggest that the type of exercise and weight loss are related.\n",
    "\n",
    "In each example, the null hypothesis represents the absence of an effect or difference, while the alternative hypothesis represents the presence of a significant effect or difference. During hypothesis testing, the goal is to collect sample data and perform statistical analyses to determine if there is enough evidence to reject the null hypothesis in favor of the alternative hypothesis. The final decision is based on the calculated p-value or comparison of test statistics to critical values at a chosen significance level."
   ]
  },
  {
   "cell_type": "code",
   "execution_count": null,
   "id": "94573f82-d463-46e2-ad42-3479f7c4721f",
   "metadata": {},
   "outputs": [],
   "source": []
  },
  {
   "cell_type": "code",
   "execution_count": null,
   "id": "313afac8-c8a7-4a5e-80a0-389033af6584",
   "metadata": {},
   "outputs": [],
   "source": []
  },
  {
   "cell_type": "markdown",
   "id": "3797fd42-c474-4eae-afd0-8773a1f50734",
   "metadata": {},
   "source": [
    "Q7: Write down the steps involved in hypothesis testing."
   ]
  },
  {
   "cell_type": "markdown",
   "id": "a1b30f01-51dd-4c1f-998e-77a047550aa4",
   "metadata": {},
   "source": [
    "The process of hypothesis testing involves the following steps:\n",
    "\n",
    "1. State the null and alternative hypotheses.\n",
    "2. Choose a significance level (alpha), which represents the probability of rejecting the null hypothesis when it is true. Commonly used values for alpha are 0.05 (5%) and 0.01 (1%).\n",
    "3. Collect sample data and calculate a test statistic, which measures the difference between the sample results and what we would expect under the null hypothesis.\n",
    "4. Compare the test statistic to a critical value or calculate the p-value. The critical value is a threshold beyond which we reject the null hypothesis, while the p-value represents the probability of obtaining results as extreme as the observed data, assuming the null hypothesis is true.\n",
    "5. Make a decision based on the comparison: if the test statistic is beyond the critical value or the p-value is less than the chosen significance level, we reject the null hypothesis in favor of the alternative hypothesis. Otherwise, we fail to reject the null hypothesis."
   ]
  },
  {
   "cell_type": "code",
   "execution_count": null,
   "id": "c54f1ea1-da14-4c3d-b896-bff65433320d",
   "metadata": {},
   "outputs": [],
   "source": []
  },
  {
   "cell_type": "code",
   "execution_count": null,
   "id": "dbcf6853-bca4-4964-835b-e1698be1ba64",
   "metadata": {},
   "outputs": [],
   "source": []
  },
  {
   "cell_type": "markdown",
   "id": "840f8f5e-2216-4d3a-9997-c7cca59f77df",
   "metadata": {},
   "source": [
    "Q8. Define p-value and explain its significance in hypothesis testing."
   ]
  },
  {
   "cell_type": "markdown",
   "id": "1c70e0b9-9171-4a80-8b39-7c01307a16eb",
   "metadata": {},
   "source": [
    "In hypothesis testing, the p-value (probability value) is a measure of the strength of the evidence against the null hypothesis (H0). It quantifies the probability of obtaining the observed results or more extreme results, assuming that the null hypothesis is true. In other words, the p-value tells us how likely it is to observe the data we have collected if the null hypothesis is correct.\n",
    "\n",
    "The significance of the p-value in hypothesis testing is as follows:\n",
    "\n",
    "1. Significance Level (Alpha): Before conducting the hypothesis test, researchers or analysts choose a significance level (alpha), typically denoted by α. The significance level is the threshold used to determine whether the p-value is small enough to reject the null hypothesis. Commonly used significance levels are 0.05 (5%) and 0.01 (1%).\n",
    "\n",
    "2. Interpreting the p-value:\n",
    "   - If the p-value is less than the chosen significance level (p-value < α), then the result is considered statistically significant. It means that the evidence against the null hypothesis is strong enough to reject it in favor of the alternative hypothesis.\n",
    "   - If the p-value is greater than or equal to the significance level (p-value ≥ α), then the result is not statistically significant. In this case, there is not enough evidence to reject the null hypothesis, and we fail to reject it.\n",
    "\n",
    "3. Decision-making: The p-value helps researchers make decisions based on the data and the null hypothesis. If the p-value is very small (below the significance level), it suggests that the observed results are highly unlikely to occur under the assumption that the null hypothesis is true. This leads to rejecting the null hypothesis and accepting the alternative hypothesis.\n",
    "\n",
    "4. Effect Size: While the p-value indicates the significance of the result, it does not provide information about the size of the effect. A small p-value only indicates that there is a statistically significant effect, but it does not quantify the magnitude of the effect.\n",
    "\n",
    "5. Caution: It is essential to remember that the p-value does not provide evidence in favor of the null hypothesis; it only indicates the strength of the evidence against it. A nonsignificant result (large p-value) does not prove the null hypothesis to be true; it simply suggests that there is insufficient evidence to reject it.\n",
    "\n",
    "In summary, the p-value plays a crucial role in hypothesis testing by helping researchers assess the significance of their findings and make informed decisions about accepting or rejecting the null hypothesis. It serves as a tool for quantifying the strength of evidence against the null hypothesis based on the observed data."
   ]
  },
  {
   "cell_type": "code",
   "execution_count": null,
   "id": "cf96d30a-d854-4768-b115-ea3dbd3b4e43",
   "metadata": {},
   "outputs": [],
   "source": []
  },
  {
   "cell_type": "code",
   "execution_count": null,
   "id": "08218efc-d1db-4467-b8de-46dab8cf25b5",
   "metadata": {},
   "outputs": [],
   "source": []
  },
  {
   "cell_type": "markdown",
   "id": "636dad2c-d87d-4cf5-8326-ea133a7673ef",
   "metadata": {},
   "source": [
    "Q9. Generate a Student's t-distribution plot using Python's matplotlib library, with the degrees of freedom parameter set to 10."
   ]
  },
  {
   "cell_type": "code",
   "execution_count": 3,
   "id": "cbd5228e-a125-4492-8d24-0bd05b6f90b6",
   "metadata": {},
   "outputs": [
    {
     "data": {
      "image/png": "[encoded data removed]",
      "text/plain": [
       "<Figure size 640x480 with 1 Axes>"
      ]
     },
     "metadata": {},
     "output_type": "display_data"
    }
   ],
   "source": [
    "import numpy as np\n",
    "import matplotlib.pyplot as plt\n",
    "from scipy.stats import t\n",
    "\n",
    "# Set the degrees of freedom\n",
    "df = 10\n",
    "\n",
    "# Create an array of t-values\n",
    "t_values = np.linspace(-4, 4, 1000)\n",
    "\n",
    "# Calculate the probability density function (pdf) for each t-value\n",
    "pdf_values = t.pdf(t_values, df)\n",
    "\n",
    "# Plot the t-distribution\n",
    "plt.plot(t_values, pdf_values, label=f't-distribution (df={df})')\n",
    "plt.title(\"Student's t-distribution\")\n",
    "plt.xlabel('t-values')\n",
    "plt.ylabel('Probability Density')\n",
    "plt.legend()\n",
    "plt.grid(True)\n",
    "plt.show()\n"
   ]
  },
  {
   "cell_type": "code",
   "execution_count": null,
   "id": "7e24c4a8-7344-4ee8-b752-b06fefbad32c",
   "metadata": {},
   "outputs": [],
   "source": []
  },
  {
   "cell_type": "code",
   "execution_count": null,
   "id": "3b66df0e-fe07-4788-9c94-306a650e420a",
   "metadata": {},
   "outputs": [],
   "source": []
  },
  {
   "cell_type": "markdown",
   "id": "d1cb39f2-fe26-4e7d-a5ae-ea8d515fb4dd",
   "metadata": {},
   "source": [
    "Q10. Write a Python program to calculate the two-sample t-test for independent samples, given two random samples of equal size and a null hypothesis that the population means are equal."
   ]
  },
  {
   "cell_type": "code",
   "execution_count": 4,
   "id": "067fbaab-f8b7-46f7-92a7-cff64583d965",
   "metadata": {},
   "outputs": [
    {
     "name": "stdout",
     "output_type": "stream",
     "text": [
      "Two-Sample T-Test Results:\n",
      "----------------------------\n",
      "T-statistic: 0.5741692517632145\n",
      "P-value: 0.5816333668955778\n",
      "Fail to reject the null hypothesis. There is not enough evidence to suggest a significant difference.\n"
     ]
    }
   ],
   "source": [
    "import numpy as np\n",
    "from scipy.stats import ttest_ind\n",
    "\n",
    "def two_sample_t_test(sample1, sample2):\n",
    "    # Perform two-sample t-test\n",
    "    t_statistic, p_value = ttest_ind(sample1, sample2)\n",
    "\n",
    "    return t_statistic, p_value\n",
    "\n",
    "# Example usage:\n",
    "sample1 = np.array([25, 30, 35, 40, 45])\n",
    "sample2 = np.array([20, 28, 32, 38, 42])\n",
    "\n",
    "t_stat, p_val = two_sample_t_test(sample1, sample2)\n",
    "\n",
    "print(\"Two-Sample T-Test Results:\")\n",
    "print(\"----------------------------\")\n",
    "print(f\"T-statistic: {t_stat}\")\n",
    "print(f\"P-value: {p_val}\")\n",
    "\n",
    "alpha = 0.05\n",
    "if p_val < alpha:\n",
    "    print(\"Reject the null hypothesis. There is enough evidence to suggest a significant difference.\")\n",
    "else:\n",
    "    print(\"Fail to reject the null hypothesis. There is not enough evidence to suggest a significant difference.\")\n"
   ]
  },
  {
   "cell_type": "code",
   "execution_count": null,
   "id": "bb5f0725-7efd-4f58-b869-7dc527f74b64",
   "metadata": {},
   "outputs": [],
   "source": []
  },
  {
   "cell_type": "code",
   "execution_count": null,
   "id": "8b7ce82b-2546-4a7f-b9b9-959a7a653b76",
   "metadata": {},
   "outputs": [],
   "source": []
  },
  {
   "cell_type": "markdown",
   "id": "32d36618-787b-4337-a5bc-0432605a9adb",
   "metadata": {},
   "source": [
    "Q11: What is Student’s t distribution? When to use the t-Distribution."
   ]
  },
  {
   "cell_type": "markdown",
   "id": "99ad37fd-eebe-4830-a759-588a56ee96f6",
   "metadata": {},
   "source": [
    "Student's t-distribution, often simply referred to as the t-distribution, is a probability distribution that arises in statistical inference when dealing with small sample sizes and the population standard deviation is unknown. It is used to make inferences about the population mean when the sample size is small or when the underlying data is not normally distributed.\n",
    "\n",
    "The t-distribution is similar to the standard normal distribution (Z-distribution), but it has fatter tails, which means it has more probability in the tails and less probability in the center compared to the standard normal distribution. As the sample size increases, the t-distribution approaches the standard normal distribution.\n",
    "\n",
    "When to use the t-Distribution:\n",
    "\n",
    "1. Small Sample Sizes: The t-distribution is particularly useful when dealing with small sample sizes (typically n < 30). When the sample size is small, the sample standard deviation may not provide a reliable estimate of the population standard deviation. In such cases, the t-distribution accounts for the increased uncertainty associated with estimating the population parameters from limited data.\n",
    "\n",
    "2. Unknown Population Standard Deviation: When the population standard deviation is unknown, the t-distribution is used in place of the standard normal distribution. This often occurs when dealing with real-world data, where the population standard deviation is not readily available.\n",
    "\n",
    "3. Normally Distributed Data (Approximation): If the sample size is large (typically n ≥ 30) and the underlying data is approximately normally distributed, both the t-distribution and the standard normal distribution can be used interchangeably. In this scenario, the t-distribution converges to the standard normal distribution as the sample size increases.\n",
    "\n",
    "The choice between using the t-distribution or the standard normal distribution depends on the sample size and the availability of information about the population standard deviation. For large sample sizes (n ≥ 30) and known population standard deviation, using the standard normal distribution is appropriate. However, for small sample sizes or when the population standard deviation is unknown, using the t-distribution is more appropriate to make valid statistical inferences."
   ]
  },
  {
   "cell_type": "code",
   "execution_count": null,
   "id": "903b4cfd-4ae9-4eb6-aa34-733b19116e08",
   "metadata": {},
   "outputs": [],
   "source": []
  },
  {
   "cell_type": "code",
   "execution_count": null,
   "id": "a396cc85-9a7c-4937-9106-894abacf3010",
   "metadata": {},
   "outputs": [],
   "source": []
  },
  {
   "cell_type": "markdown",
   "id": "942bdd61-686d-4357-91cc-14b6537d1cfd",
   "metadata": {},
   "source": [
    "Q12: What is t-statistic? State the formula for t-statistic."
   ]
  },
  {
   "cell_type": "markdown",
   "id": "03ca12b4-ddb8-4f30-8874-02475f23e3c2",
   "metadata": {},
   "source": [
    "The t-statistic is a measure used in hypothesis testing to quantify how far the sample mean deviates from the hypothesized population mean, taking into account the sample size and the variability of the data. It is used specifically when dealing with small sample sizes or when the population standard deviation is unknown.\n",
    "\n",
    "The formula for the t-statistic depends on whether you are conducting a one-sample t-test or a two-sample t-test. Here are the formulas for both scenarios:\n",
    "\n",
    "1. One-sample t-test:\n",
    "\n",
    "For a one-sample t-test, where you are comparing the sample mean (x̄) to a hypothesized population mean (μ0), and the population standard deviation (σ) is unknown, the t-statistic formula is:\n",
    "\n",
    "t = (x̄ - μ0) / (s / √n)\n",
    "\n",
    "where:\n",
    "- t is the t-statistic,\n",
    "- x̄ is the sample mean,\n",
    "- μ0 is the hypothesized population mean,\n",
    "- s is the sample standard deviation,\n",
    "- n is the sample size.\n",
    "\n",
    "2. Two-sample t-test:\n",
    "\n",
    "For a two-sample t-test, where you are comparing the means of two independent samples (x̄1 and x̄2), and the population standard deviations (σ1 and σ2) are unknown and assumed to be equal, the pooled t-statistic formula is:\n",
    "\n",
    "t = (x̄1 - x̄2) / √((s1^2 / n1) + (s2^2 / n2))\n",
    "\n",
    "where:\n",
    "- t is the t-statistic,\n",
    "- x̄1 and x̄2 are the sample means of the two groups,\n",
    "- s1 and s2 are the sample standard deviations of the two groups,\n",
    "- n1 and n2 are the sample sizes of the two groups.\n",
    "\n",
    "In both cases, the t-statistic measures how many standard errors the sample mean is away from the hypothesized population mean (one-sample t-test) or the difference in means between the two groups (two-sample t-test). A larger absolute value of the t-statistic indicates a greater difference between the sample data and the hypothesized or compared population parameter, potentially leading to a rejection of the null hypothesis in favor of the alternative hypothesis."
   ]
  },
  {
   "cell_type": "code",
   "execution_count": null,
   "id": "a9a9c752-2c09-4b29-8db2-08af03dc8c20",
   "metadata": {},
   "outputs": [],
   "source": []
  },
  {
   "cell_type": "code",
   "execution_count": null,
   "id": "3a1b3c6a-329d-4d77-972b-150342207d38",
   "metadata": {},
   "outputs": [],
   "source": []
  },
  {
   "cell_type": "raw",
   "id": "c56c38c7-b2a2-4034-87db-1b34f1d416c5",
   "metadata": {},
   "source": [
    "Q13. A coffee shop owner wants to estimate the average daily revenue for their shop. They take a random sample of 50 days and find the sample mean revenue to be $500 with a standard deviation of $50. Estimate the population mean revenue with a 95% confidence interval."
   ]
  },
  {
   "cell_type": "code",
   "execution_count": 6,
   "id": "8927c151-1183-4cc1-914e-e7fd7641a7ef",
   "metadata": {},
   "outputs": [
    {
     "name": "stdout",
     "output_type": "stream",
     "text": [
      "95% Confidence Interval: $485.79 to $514.21\n"
     ]
    }
   ],
   "source": [
    "import math\n",
    "\n",
    "# Given data\n",
    "sample_mean = 500\n",
    "sample_std_dev = 50\n",
    "sample_size = 50\n",
    "\n",
    "# Calculate the standard error\n",
    "standard_error = sample_std_dev / math.sqrt(sample_size)\n",
    "\n",
    "# Calculate the lower and upper bounds of the confidence interval\n",
    "confidence_interval_lower = sample_mean - (2.009 * standard_error)\n",
    "confidence_interval_upper = sample_mean + (2.009 * standard_error)\n",
    "\n",
    "print(f\"95% Confidence Interval: ${confidence_interval_lower:.2f} to ${confidence_interval_upper:.2f}\")\n"
   ]
  },
  {
   "cell_type": "code",
   "execution_count": null,
   "id": "6b54ab72-fbdf-4b0f-aa3b-d5831c2e12a2",
   "metadata": {},
   "outputs": [],
   "source": []
  },
  {
   "cell_type": "code",
   "execution_count": null,
   "id": "9eeca9ad-54ef-4003-b4e3-d698622dc2bc",
   "metadata": {},
   "outputs": [],
   "source": []
  },
  {
   "cell_type": "markdown",
   "id": "2a51c648-bbe7-4491-8abe-cc6140100129",
   "metadata": {},
   "source": [
    "Q14. A researcher hypothesizes that a new drug will decrease blood pressure by 10 mmHg. They conduct a clinical trial with 100 patients and find that the sample mean decrease in blood pressure is 8 mmHg with a standard deviation of 3 mmHg. Test the hypothesis with a significance level of 0.05."
   ]
  },
  {
   "cell_type": "markdown",
   "id": "5cbc113f-4b1a-4ecb-bdb7-8c7bceb45798",
   "metadata": {},
   "source": [
    "To test the hypothesis that the new drug will decrease blood pressure by 10 mmHg with a significance level of 0.05, we can perform a one-sample t-test. We'll compare the sample mean decrease in blood pressure to the hypothesized value of 10 mmHg.\n",
    "\n",
    "- Null Hypothesis (H0): The new drug does not decrease blood pressure by 10 mmHg.\n",
    "- Alternative Hypothesis (H1): The new drug decreases blood pressure by 10 mmHg."
   ]
  },
  {
   "cell_type": "code",
   "execution_count": 9,
   "id": "36e7aa76-7693-435c-9a9c-2a789bacce83",
   "metadata": {},
   "outputs": [
    {
     "name": "stdout",
     "output_type": "stream",
     "text": [
      "Reject the null hypothesis.\n",
      "The new drug has a significant effect on decreasing blood pressure.\n",
      "T-statistic: -6.490707538679757\n",
      "P-value: 3.418619584033066e-09\n"
     ]
    }
   ],
   "source": [
    "import numpy as np\n",
    "from scipy.stats import ttest_1samp\n",
    "\n",
    "# Given data\n",
    "sample_mean = 8\n",
    "population_mean = 10\n",
    "sample_std_dev = 3\n",
    "sample_size = 100\n",
    "alpha = 0.05\n",
    "\n",
    "# Calculate the t-statistic and p-value for the one-sample t-test\n",
    "t_statistic, p_value = ttest_1samp(np.random.normal(sample_mean, sample_std_dev, sample_size), population_mean)\n",
    "\n",
    "# Determine if the null hypothesis should be rejected\n",
    "if p_value < alpha:\n",
    "    print(\"Reject the null hypothesis.\")\n",
    "    print(\"The new drug has a significant effect on decreasing blood pressure.\")\n",
    "else:\n",
    "    print(\"Fail to reject the null hypothesis.\")\n",
    "    print(\"There is no significant evidence that the new drug decreases blood pressure.\")\n",
    "\n",
    "# Print the t-statistic and p-value\n",
    "print(\"T-statistic:\", t_statistic)\n",
    "print(\"P-value:\", p_value)\n"
   ]
  },
  {
   "cell_type": "code",
   "execution_count": null,
   "id": "38b0b6d8-f26e-4156-86aa-276919f8065f",
   "metadata": {},
   "outputs": [],
   "source": []
  },
  {
   "cell_type": "code",
   "execution_count": null,
   "id": "f8c19ff2-dac1-4f8e-816a-faf349385a76",
   "metadata": {},
   "outputs": [],
   "source": []
  },
  {
   "cell_type": "markdown",
   "id": "ada72895-2b98-43e0-88fb-4155c6b8626a",
   "metadata": {},
   "source": [
    "Q15. An electronics company produces a certain type of product with a mean weight of 5 pounds and a standard deviation of 0.5 pounds. A random sample of 25 products is taken, and the sample mean weight is found to be 4.8 pounds. Test the hypothesis that the true mean weight of the products is less than 5 pounds with a significance level of 0.01."
   ]
  },
  {
   "cell_type": "markdown",
   "id": "cb6e9ef3-d087-4c66-a949-5e116aabb3cf",
   "metadata": {},
   "source": [
    "To test the hypothesis that the true mean weight of the products is less than 5 pounds, we can perform a one-sample t-test for a left-tailed test. The null hypothesis (H0) assumes that the true mean weight is equal to or greater than 5 pounds, while the alternative hypothesis (H1) assumes that the true mean weight is less than 5 pounds. The significance level (alpha) is set to 0.01."
   ]
  },
  {
   "cell_type": "code",
   "execution_count": 10,
   "id": "3d453c10-4cd1-4e90-8557-7bc35a98c038",
   "metadata": {},
   "outputs": [
    {
     "name": "stdout",
     "output_type": "stream",
     "text": [
      "Fail to reject the null hypothesis.\n",
      "There is no significant evidence that the true mean weight is less than 5 pounds.\n",
      "T-statistic: -1.659861388526366\n",
      "P-value: 0.10995423189802403\n"
     ]
    }
   ],
   "source": [
    "import numpy as np\n",
    "from scipy.stats import ttest_1samp\n",
    "\n",
    "# Given data\n",
    "population_mean = 5\n",
    "sample_mean = 4.8\n",
    "sample_std_dev = 0.5\n",
    "sample_size = 25\n",
    "alpha = 0.01\n",
    "\n",
    "# Calculate the t-statistic and p-value for the one-sample t-test\n",
    "t_statistic, p_value = ttest_1samp(np.random.normal(sample_mean, sample_std_dev, sample_size), population_mean)\n",
    "\n",
    "# Determine if the null hypothesis should be rejected\n",
    "if p_value < alpha:\n",
    "    print(\"Reject the null hypothesis.\")\n",
    "    print(\"The true mean weight of the products is less than 5 pounds.\")\n",
    "else:\n",
    "    print(\"Fail to reject the null hypothesis.\")\n",
    "    print(\"There is no significant evidence that the true mean weight is less than 5 pounds.\")\n",
    "\n",
    "# Print the t-statistic and p-value\n",
    "print(\"T-statistic:\", t_statistic)\n",
    "print(\"P-value:\", p_value)\n"
   ]
  },
  {
   "cell_type": "code",
   "execution_count": null,
   "id": "3e428fda-b60c-4204-a0e0-b4ba823b3a7a",
   "metadata": {},
   "outputs": [],
   "source": []
  },
  {
   "cell_type": "code",
   "execution_count": null,
   "id": "88a48800-c5cb-4307-8ad7-5390de37b5a0",
   "metadata": {},
   "outputs": [],
   "source": []
  },
  {
   "cell_type": "markdown",
   "id": "9271e6e1-3563-45e5-bea5-ed3b23006625",
   "metadata": {},
   "source": [
    "Q16. Two groups of students are given different study materials to prepare for a test. The first group (n1 = 30) has a mean score of 80 with a standard deviation of 10, and the second group (n2 = 40) has a mean score of 75 with a standard deviation of 8. Test the hypothesis that the population means for the two groups are equal with a significance level of 0.01."
   ]
  },
  {
   "cell_type": "markdown",
   "id": "c8714108-a65b-4911-8f83-e729c6dd56c9",
   "metadata": {},
   "source": [
    "To test the hypothesis that the population means for the two groups are equal, we can perform a two-sample t-test for independent samples. The null hypothesis (H0) assumes that the population means for both groups are equal, while the alternative hypothesis (H1) assumes that the population means are different. The significance level (alpha) is set to 0.01."
   ]
  },
  {
   "cell_type": "code",
   "execution_count": 11,
   "id": "00aff5f1-8729-40a1-b479-f722335bee09",
   "metadata": {},
   "outputs": [
    {
     "name": "stdout",
     "output_type": "stream",
     "text": [
      "Fail to reject the null hypothesis.\n",
      "There is no significant evidence that the population means are different for the two groups.\n",
      "T-statistic: 2.467025365092685\n",
      "P-value: 0.017626883387662613\n"
     ]
    }
   ],
   "source": [
    "import numpy as np\n",
    "from scipy.stats import ttest_ind\n",
    "\n",
    "# Given data for Group 1\n",
    "mean_group1 = 80\n",
    "std_dev_group1 = 10\n",
    "sample_size_group1 = 30\n",
    "\n",
    "# Given data for Group 2\n",
    "mean_group2 = 75\n",
    "std_dev_group2 = 8\n",
    "sample_size_group2 = 40\n",
    "\n",
    "# Significance level\n",
    "alpha = 0.01\n",
    "\n",
    "# Generate random samples for each group based on the given mean and standard deviation\n",
    "sample_group1 = np.random.normal(mean_group1, std_dev_group1, sample_size_group1)\n",
    "sample_group2 = np.random.normal(mean_group2, std_dev_group2, sample_size_group2)\n",
    "\n",
    "# Calculate the two-sample t-test\n",
    "t_statistic, p_value = ttest_ind(sample_group1, sample_group2, equal_var=False)\n",
    "\n",
    "# Determine if the null hypothesis should be rejected\n",
    "if p_value < alpha:\n",
    "    print(\"Reject the null hypothesis.\")\n",
    "    print(\"The population means for the two groups are different.\")\n",
    "else:\n",
    "    print(\"Fail to reject the null hypothesis.\")\n",
    "    print(\"There is no significant evidence that the population means are different for the two groups.\")\n",
    "\n",
    "# Print the t-statistic and p-value\n",
    "print(\"T-statistic:\", t_statistic)\n",
    "print(\"P-value:\", p_value)\n"
   ]
  },
  {
   "cell_type": "code",
   "execution_count": null,
   "id": "08deaa13-c6c3-4fc3-8dc0-ceb393e3b5da",
   "metadata": {},
   "outputs": [],
   "source": []
  },
  {
   "cell_type": "code",
   "execution_count": null,
   "id": "06df23d6-7161-49ed-8218-c599521e2403",
   "metadata": {},
   "outputs": [],
   "source": []
  },
  {
   "cell_type": "markdown",
   "id": "f8df76e2-bc9e-4421-a6a5-af1afb5c9330",
   "metadata": {},
   "source": [
    "Q17. A marketing company wants to estimate the average number of ads watched by viewers during a TV program. They take a random sample of 50 viewers and find that the sample mean is 4 with a standard deviation of 1.5. Estimate the population mean with a 99% confidence interval."
   ]
  },
  {
   "cell_type": "markdown",
   "id": "816a25ec-fb88-4e14-bc53-c286ab357ef2",
   "metadata": {},
   "source": [
    "To estimate the population mean with a 99% confidence interval, we can use the formula for the confidence interval for the population mean when the population standard deviation is unknown. The formula for a 99% confidence interval is:\n",
    "\n",
    "Confidence Interval = sample_mean ± (critical_value * standard_error)\n",
    "\n",
    "Where:\n",
    "\n",
    "- sample_mean is the sample mean number of ads watched by viewers (4 in this case).\n",
    "- critical_value is the value obtained from the t-distribution table for a 99% confidence level with (n-1) degrees of freedom, where n is the sample size (50 in this case).\n",
    "- standard_error is the standard error of the mean, which is the sample standard deviation (1.5) divided by the square root of the sample size (sqrt(50))."
   ]
  },
  {
   "cell_type": "code",
   "execution_count": 12,
   "id": "f8353274-db88-4b34-b950-5296dbf33495",
   "metadata": {},
   "outputs": [
    {
     "name": "stdout",
     "output_type": "stream",
     "text": [
      "99% Confidence Interval for Population Mean Number of Ads Watched: 3.43 to 4.57\n"
     ]
    }
   ],
   "source": [
    "import scipy.stats as stats\n",
    "\n",
    "# Given data\n",
    "sample_mean = 4\n",
    "sample_std_dev = 1.5\n",
    "sample_size = 50\n",
    "confidence_level = 0.99\n",
    "\n",
    "# Calculate critical value from t-distribution\n",
    "critical_value = stats.t.ppf((1 + confidence_level) / 2, df=sample_size-1)\n",
    "\n",
    "# Calculate standard error of the mean\n",
    "standard_error = sample_std_dev / (sample_size ** 0.5)\n",
    "\n",
    "# Calculate the confidence interval\n",
    "lower_bound = sample_mean - critical_value * standard_error\n",
    "upper_bound = sample_mean + critical_value * standard_error\n",
    "\n",
    "# Print the result\n",
    "print(f\"99% Confidence Interval for Population Mean Number of Ads Watched: {lower_bound:.2f} to {upper_bound:.2f}\")\n"
   ]
  },
  {
   "cell_type": "code",
   "execution_count": null,
   "id": "1b2cab93-97ef-4156-b869-216f0ce914e4",
   "metadata": {},
   "outputs": [],
   "source": []
  }
 ],
 "metadata": {
  "kernelspec": {
   "display_name": "Python 3 (ipykernel)",
   "language": "python",
   "name": "python3"
  },
  "language_info": {
   "codemirror_mode": {
    "name": "ipython",
    "version": 3
   },
   "file_extension": ".py",
   "mimetype": "text/x-python",
   "name": "python",
   "nbconvert_exporter": "python",
   "pygments_lexer": "ipython3",
   "version": "3.10.8"
  }
 },
 "nbformat": 4,
 "nbformat_minor": 5
}
